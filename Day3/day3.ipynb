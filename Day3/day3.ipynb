{
 "cells": [
  {
   "cell_type": "code",
   "execution_count": 6,
   "source": [
    "# order\n",
    "# relatively small\n",
    "# change --> mutability\n",
    "# import random\n",
    "\n",
    "some_list = ['rice', 'burger', 'chicken']\n",
    "\n",
    "#tuple\n",
    "\n",
    "some_tuple = ('rice', 'burger', 'chicken')\n",
    "\n",
    "some_tuple[1] = ''   #return burger\n"
   ],
   "outputs": [],
   "metadata": {}
  },
  {
   "cell_type": "code",
   "execution_count": 8,
   "source": [
    "import sys\n",
    "\n",
    "print(sys.getsizeof(some_list))\n",
    "print(sys.getsizeof(some_tuple))"
   ],
   "outputs": [
    {
     "output_type": "stream",
     "name": "stdout",
     "text": [
      "120\n",
      "64\n"
     ]
    }
   ],
   "metadata": {}
  },
  {
   "cell_type": "code",
   "execution_count": 9,
   "source": [
    "print(dir(some_tuple))"
   ],
   "outputs": [
    {
     "output_type": "stream",
     "name": "stdout",
     "text": [
      "['__add__', '__class__', '__class_getitem__', '__contains__', '__delattr__', '__dir__', '__doc__', '__eq__', '__format__', '__ge__', '__getattribute__', '__getitem__', '__getnewargs__', '__gt__', '__hash__', '__init__', '__init_subclass__', '__iter__', '__le__', '__len__', '__lt__', '__mul__', '__ne__', '__new__', '__reduce__', '__reduce_ex__', '__repr__', '__rmul__', '__setattr__', '__sizeof__', '__str__', '__subclasshook__', 'count', 'index']\n"
     ]
    }
   ],
   "metadata": {}
  },
  {
   "cell_type": "code",
   "execution_count": 33,
   "source": [
    "lis1 = []\n",
    "lis2 = list()\n",
    "\n",
    "# tup1= (1,2,3,4,5,6,7,8)\n",
    "tup2 = tuple([1,2,3,4,5,6,7,8])\n",
    "# print(tup2)\n",
    "\n",
    "val = 1,2,3,3,4,5,6,\n",
    "\n",
    "some_list = ['rice', 'burger', 'chicken']\n",
    "print(type(val))\n",
    "\n",
    "import random\n",
    "\n",
    "\n",
    "\n",
    "random.shuffle(some_list)  #random order\n",
    "print(some_list)\n",
    "\n",
    "some_list[0]=='rice'\n",
    "\n"
   ],
   "outputs": [
    {
     "output_type": "stream",
     "name": "stdout",
     "text": [
      "<class 'tuple'>\n",
      "['rice', 'chicken', 'burger']\n"
     ]
    },
    {
     "output_type": "execute_result",
     "data": {
      "text/plain": [
       "True"
      ]
     },
     "metadata": {},
     "execution_count": 33
    }
   ],
   "metadata": {}
  },
  {
   "cell_type": "code",
   "execution_count": 35,
   "source": [
    "diction1 = {}\n",
    "diction = dict()\n",
    "\n",
    "sample_dict = {\n",
    "    3:'rice',\n",
    "    2: 'chicken',\n",
    "    1: 'burger',\n",
    "}\n",
    "\n"
   ],
   "outputs": [],
   "metadata": {}
  },
  {
   "cell_type": "code",
   "execution_count": 42,
   "source": [
    "# sample_dict[5]\n",
    "sample_dict.get(2) != None"
   ],
   "outputs": [
    {
     "output_type": "execute_result",
     "data": {
      "text/plain": [
       "True"
      ]
     },
     "metadata": {},
     "execution_count": 42
    }
   ],
   "metadata": {}
  },
  {
   "cell_type": "code",
   "execution_count": 2,
   "source": [
    "from collections import   OrderedDict, defaultdict\n",
    "\n",
    "new_dict= {}\n",
    "\n",
    "default= defaultdict(list)\n",
    "\n",
    "\n",
    "# new= {\n",
    "#     'empl1': 'something',\n",
    "#     'empl1': 'anything'\n",
    "# }\n",
    "\n",
    "\n",
    "# new1 = {\n",
    "#     'empl1': ['something','anything']\n",
    "# }\n",
    "\n",
    "val ='sample nothing anything no-way location'.split(' ')\n",
    "key = 'samuel jonah moses aaron aaron'.split(' ')\n",
    "\n",
    "new_dict = dict(zip(key,val))\n",
    "\n",
    "for x,y in zip(key,val):\n",
    "    if x in default:\n",
    "        default[x].append(y)\n",
    "    else:\n",
    "        default[x]= [y]\n",
    "\n",
    "print(default)"
   ],
   "outputs": [
    {
     "output_type": "stream",
     "name": "stdout",
     "text": [
      "defaultdict(<class 'list'>, {'samuel': ['sample'], 'jonah': ['nothing'], 'moses': ['anything'], 'aaron': ['no-way', 'location']})\n"
     ]
    }
   ],
   "metadata": {}
  },
  {
   "cell_type": "code",
   "execution_count": 6,
   "source": [
    "# default.values()\n",
    "default.keys()\n",
    "\n",
    "new_list = [*default]\n",
    "print(new_list)\n"
   ],
   "outputs": [
    {
     "output_type": "stream",
     "name": "stdout",
     "text": [
      "['samuel', 'jonah', 'moses', 'aaron']\n"
     ]
    }
   ],
   "metadata": {}
  },
  {
   "cell_type": "code",
   "execution_count": 8,
   "source": [
    "colours = ['white', 'blue', 'yellow', 'red', 'red']  #-- duplicate\n",
    "colour_set = set(colours)\n",
    "print(colour_set)\n",
    "print(dir(set))\n"
   ],
   "outputs": [
    {
     "output_type": "stream",
     "name": "stdout",
     "text": [
      "{'red', 'yellow', 'white', 'blue'}\n",
      "['__and__', '__class__', '__class_getitem__', '__contains__', '__delattr__', '__dir__', '__doc__', '__eq__', '__format__', '__ge__', '__getattribute__', '__gt__', '__hash__', '__iand__', '__init__', '__init_subclass__', '__ior__', '__isub__', '__iter__', '__ixor__', '__le__', '__len__', '__lt__', '__ne__', '__new__', '__or__', '__rand__', '__reduce__', '__reduce_ex__', '__repr__', '__ror__', '__rsub__', '__rxor__', '__setattr__', '__sizeof__', '__str__', '__sub__', '__subclasshook__', '__xor__', 'add', 'clear', 'copy', 'difference', 'difference_update', 'discard', 'intersection', 'intersection_update', 'isdisjoint', 'issubset', 'issuperset', 'pop', 'remove', 'symmetric_difference', 'symmetric_difference_update', 'union', 'update']\n"
     ]
    }
   ],
   "metadata": {}
  },
  {
   "cell_type": "code",
   "execution_count": 9,
   "source": [
    "# deque\n",
    "\n",
    "\n",
    "# namedtuple\n",
    "\n",
    "from typing import NamedTuple\n",
    "\n",
    "\n",
    "class Car(NamedTuple):  #<----\n",
    "    name: str\n",
    "    colour: str\n",
    "    price: int\n"
   ],
   "outputs": [],
   "metadata": {}
  },
  {
   "cell_type": "code",
   "execution_count": 10,
   "source": [
    "car = Car('Toyota', 'red', 30_000)"
   ],
   "outputs": [],
   "metadata": {}
  },
  {
   "cell_type": "code",
   "execution_count": 15,
   "source": [
    "car.name\n",
    "car.colour\n",
    "car.price"
   ],
   "outputs": [
    {
     "output_type": "execute_result",
     "data": {
      "text/plain": [
       "30000"
      ]
     },
     "metadata": {},
     "execution_count": 15
    }
   ],
   "metadata": {}
  },
  {
   "cell_type": "code",
   "execution_count": 12,
   "source": [
    "name = ('toyota', 'red', 30_000)\n",
    "name[0]"
   ],
   "outputs": [
    {
     "output_type": "execute_result",
     "data": {
      "text/plain": [
       "'toyota'"
      ]
     },
     "metadata": {},
     "execution_count": 12
    }
   ],
   "metadata": {}
  },
  {
   "cell_type": "code",
   "execution_count": null,
   "source": [],
   "outputs": [],
   "metadata": {}
  }
 ],
 "metadata": {
  "orig_nbformat": 4,
  "language_info": {
   "name": "python",
   "version": "3.9.1",
   "mimetype": "text/x-python",
   "codemirror_mode": {
    "name": "ipython",
    "version": 3
   },
   "pygments_lexer": "ipython3",
   "nbconvert_exporter": "python",
   "file_extension": ".py"
  },
  "kernelspec": {
   "name": "python3",
   "display_name": "Python 3.9.1 64-bit"
  },
  "interpreter": {
   "hash": "397704579725e15f5c7cb49fe5f0341eb7531c82d19f2c29d197e8b64ab5776b"
  }
 },
 "nbformat": 4,
 "nbformat_minor": 2
}