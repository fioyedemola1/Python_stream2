{
 "cells": [
  {
   "cell_type": "code",
   "execution_count": null,
   "source": [
    "\n",
    "'\"AA\",9.22,\"AXP\",24.85,\"BA\",44.85,\"BAC\",11.27,\"C\",3.72,\"CAT\",35.46,\"CVX\",66.67,\"DD\",28.47,\"DIS\",24.22,\"GE\",13.48,\"GM\",0.75,\"HD\",23.16,\"HPQ\",34.35,\"IBM\",\\\n",
    "    106.28,\"INTC\",15.72,\"JNJ\",55.16,\"JPM\",36.90,\"KFT\",26.11,\"KO\",49.16,\"MCD\",58.99,\"MMM\",57.10,\"MRK\",\\\n",
    "    27.58,\"MSFT\",20.89,\"PFE\",15.19,\"PG\",51.94,\"T\",24.79,\"UTX\",52.61,\"VZ\",29.26,\"WMT\",49.74,\"XOM\",69.35'\n",
    "\n",
    "    \n",
    "# the amount in the equal or above 50\n",
    "# for loop\n",
    "# conditional\n",
    "# storage\n"
   ],
   "outputs": [],
   "metadata": {}
  },
  {
   "cell_type": "code",
   "execution_count": null,
   "source": [
    "\n",
    "numbers = [1,2,3,4,5,6,7,8,9,10] #<---\n",
    "num_group = {}\n",
    "\n",
    "{\n",
    "    'even': 5,\n",
    "    'odd': 5\n",
    "}"
   ],
   "outputs": [],
   "metadata": {}
  },
  {
   "cell_type": "code",
   "execution_count": null,
   "source": [
    "url_data = ['google','amazon','microsoft','apple']\n",
    "\n",
    "# www.google.com, www.amazon.com.....\n",
    "\n",
    "{\n",
    "    'google': 'www.google.com'\n",
    "}\n"
   ],
   "outputs": [],
   "metadata": {}
  }
 ],
 "metadata": {
  "orig_nbformat": 4,
  "language_info": {
   "name": "python",
   "version": "3.9.1"
  },
  "kernelspec": {
   "name": "python3",
   "display_name": "Python 3.9.1 64-bit"
  },
  "interpreter": {
   "hash": "397704579725e15f5c7cb49fe5f0341eb7531c82d19f2c29d197e8b64ab5776b"
  }
 },
 "nbformat": 4,
 "nbformat_minor": 2
}