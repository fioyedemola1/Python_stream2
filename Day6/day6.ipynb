{
 "cells": [
  {
   "cell_type": "code",
   "execution_count": null,
   "source": [
    "\n",
    "\"AA\",9.22,\"AXP\",24.85,\"BA\",44.85,\"BAC\",11.27,\"C\",3.72,\"CAT\",35.46,\"CVX\",66.67,\"DD\",28.47,\"DIS\",24.22,\"GE\",13.48,\"GM\",0.75,\"HD\",23.16,\"HPQ\",34.35,\"IBM\",\\\n",
    "    106.28,\"INTC\",15.72,\"JNJ\",55.16,\"JPM\",36.90,\"KFT\",26.11,\"KO\",49.16,\"MCD\",58.99,\"MMM\",57.10,\"MRK\",\\\n",
    "    27.58,\"MSFT\",20.89,\"PFE\",15.19,\"PG\",51.94,\"T\",24.79,\"UTX\",52.61,\"VZ\",29.26,\"WMT\",49.74,\"XOM\",69.35\n",
    "\n",
    "\n",
    "# the amount in the equal or above 50\n",
    "# for loop\n",
    "# conditional\n",
    "# storage\n"
   ],
   "outputs": [],
   "metadata": {}
  },
  {
   "cell_type": "code",
   "execution_count": 14,
   "source": [
    "# portfolio = list([\"AA\",9.22,\"AXP\",24.85,\"BA\",44.85,\"BAC\",11.27,\"C\",3.72,\"CAT\",35.46,\"CVX\",66.67,\"DD\",28.47,\"DIS\",24.22,\"GE\",13.48,\"GM\",0.75,\"HD\",23.16,\"HPQ\",34.35,\"IBM\",\\\n",
    "#     106.28,\"INTC\",15.72,\"JNJ\",55.16,\"JPM\",36.90,\"KFT\",26.11,\"KO\",49.16,\"MCD\",58.99,\"MMM\",57.10,\"MRK\",\\\n",
    "# #     27.58,\"MSFT\",20.89,\"PFE\",15.19,\"PG\",51.94,\"T\",24.79,\"UTX\",52.61,\"VZ\",29.26,\"WMT\",49.74,\"XOM\",69.35\n",
    "# # ])\n",
    "\n",
    "# stock, price=portfolio[::2], portfolio[1::2]\n",
    "# port_dict = dict(zip(stock,price))\n",
    "# counter = 0\n",
    "\n",
    "# for i in price:\n",
    "#     # print(i, end=' ')\n",
    "#     if i >= 50:\n",
    "#         print('found it', i,counter)\n",
    "#         counter -= 1  #counter = counter + 1 increment\n",
    "\n",
    "# # print(port_dict)\n",
    "\n",
    "# for k,i in port_dict.items():\n",
    "#     print(k,i)\n",
    "#     if i >= 50:\n",
    "        \n",
    "#         counter += 1  #counter = counter + 1 increment\n",
    "\n",
    "\n",
    "# for i in port_dict.values():\n",
    "\n",
    "#     if i >= 50:\n",
    "#         # print('found it', i,counter)\n",
    "#         counter += 1  #counter = counter + 1 increment\n",
    "\n",
    "# for key in port_dict:\n",
    "#     if port_dict[key] >= 50:\n",
    "#         counter += 1 \n",
    "    \n",
    "\n",
    "\n",
    "\n",
    "# print(counter)"
   ],
   "outputs": [],
   "metadata": {}
  },
  {
   "cell_type": "code",
   "execution_count": null,
   "source": [],
   "outputs": [],
   "metadata": {}
  },
  {
   "cell_type": "code",
   "execution_count": 21,
   "source": [
    "# count and group the total numbers of odd and even number in the list below\n",
    "numbers = [1,2,3,4,5,6,7,8,9,10] #<---\n",
    "num_group = {}\n",
    "counter_even = 0\n",
    "counter_odd = 0\n",
    "\n",
    "for i in numbers:\n",
    "    if i % 2 == 0:\n",
    "        counter_even += 1\n",
    "    else:\n",
    "        counter_odd += 1\n",
    "\n",
    "print(counter_even)\n",
    "print(counter_odd)\n",
    "\n",
    "num_group['even']= counter_even\n",
    "num_group['odd']= counter_odd\n",
    "\n",
    "\n",
    "print(num_group)\n",
    "dict(zip('5','5'))\n"
   ],
   "outputs": [
    {
     "output_type": "stream",
     "name": "stdout",
     "text": [
      "5\n",
      "5\n",
      "{'even': 5, 'odd': 5}\n"
     ]
    }
   ],
   "metadata": {}
  },
  {
   "cell_type": "code",
   "execution_count": null,
   "source": [
    "# use the items in the list to create a url and store the data  as a key value relationship\n",
    "url_data = ['google','amazon','microsoft','apple']\n",
    "\n",
    "# www.google.com, www.amazon.com.....\n",
    "\n",
    "{\n",
    "    'google': 'www.google.com'\n",
    "}\n"
   ],
   "outputs": [],
   "metadata": {}
  },
  {
   "cell_type": "code",
   "execution_count": 28,
   "source": [
    "url_data = ['google','amazon','microsoft','apple']\n",
    " # {}\n",
    "new_url = []\n",
    "\n",
    "\n",
    "for i in url_data:\n",
    "    name= f'www.{i}.com'  #<----\n",
    "    new_url.append(name)\n",
    "else:\n",
    "    url_dict= dict(zip(url_data,new_url))\n",
    "\n",
    "# print(new_url)\n",
    "print(url_dict)"
   ],
   "outputs": [
    {
     "output_type": "stream",
     "name": "stdout",
     "text": [
      "{'google': 'www.google.com', 'amazon': 'www.amazon.com', 'microsoft': 'www.microsoft.com', 'apple': 'www.apple.com'}\n"
     ]
    }
   ],
   "metadata": {}
  },
  {
   "cell_type": "code",
   "execution_count": 38,
   "source": [
    "\n",
    "# break, continue and pass\n",
    "\n",
    "condition = True\n",
    "counter= 8\n",
    "\n",
    "# while condition:  \n",
    "#     print('runs this code')\n",
    "#     counter -= 1 \n",
    "#     if counter == 0:\n",
    "#         condition = False\n",
    "\n",
    "\n",
    "\n",
    "# while counter:  \n",
    "#     print('runs this code')\n",
    "#     counter -= 1 \n",
    "   \n",
    "     \n",
    "# while (counter > 0) :\n",
    "#     print('runs this code')\n",
    "#     counter -= 1 \n",
    "\n",
    "\n",
    "\n",
    "# while True :\n",
    "#     print('runs this code')\n",
    "#     counter -= 1 \n",
    "#     if counter == 0:\n",
    "#         print('i am about to break')\n",
    "#         break\n",
    "    \n",
    "while True :\n",
    "    print('runs this code')\n",
    "    counter -= 1 \n",
    "    if not counter:\n",
    "        print('i am about to break')\n",
    "        break\n",
    "\n"
   ],
   "outputs": [
    {
     "output_type": "stream",
     "name": "stdout",
     "text": [
      "runs this code\n",
      "runs this code\n",
      "runs this code\n",
      "runs this code\n",
      "runs this code\n",
      "runs this code\n",
      "runs this code\n",
      "runs this code\n",
      "i am about to break\n"
     ]
    }
   ],
   "metadata": {}
  },
  {
   "cell_type": "code",
   "execution_count": 44,
   "source": [
    "count_down = 10\n",
    "\n",
    "# while count_down:\n",
    "#     count_down -= 1\n",
    "#     if count_down == 5:\n",
    "#         print('before continue')\n",
    "#         continue\n",
    "#         print('after continue')\n",
    "#     else:\n",
    "#         print(count_down)\n",
    "\n",
    "\n",
    "# while count_down:\n",
    "#     count_down -= 1\n",
    "#     if count_down == 5:\n",
    "#         print('before continue')\n",
    "#         break\n",
    "#         print('after continue')\n",
    "#     else:\n",
    "#         print(count_down)\n",
    "\n",
    "\n",
    "while count_down:\n",
    "    count_down -= 1\n",
    "    if count_down == 5:\n",
    "        print('before continue')\n",
    "        break\n",
    "        print('after continue')\n",
    "    else:\n",
    "        pass"
   ],
   "outputs": [
    {
     "output_type": "stream",
     "name": "stdout",
     "text": [
      "before continue\n"
     ]
    }
   ],
   "metadata": {}
  },
  {
   "cell_type": "code",
   "execution_count": 47,
   "source": [
    "counter = 10\n",
    "while counter:\n",
    "    if counter:\n",
    "        print('true')\n",
    "        counter -= 1\n",
    "else:\n",
    "    print('done!!')\n"
   ],
   "outputs": [
    {
     "output_type": "stream",
     "name": "stdout",
     "text": [
      "true\n",
      "true\n",
      "true\n",
      "true\n",
      "true\n",
      "true\n",
      "true\n",
      "true\n",
      "true\n",
      "true\n",
      "done!!\n"
     ]
    }
   ],
   "metadata": {}
  },
  {
   "cell_type": "code",
   "execution_count": 56,
   "source": [
    "# eager vs lazy\n",
    "\n",
    "new_list = [x for x in range(20000)]\n",
    "\n",
    "\n",
    "# print(new_list[0])\n",
    "# print('doing code')\n",
    "# print('doing code')\n",
    "# print('doing code')\n",
    "# print('doing code')\n",
    "# print('doing code')\n",
    "# print('doing code')\n",
    "# print(new_list[1])\n",
    "\n",
    "\n",
    "iter_list = iter(new_list)\n",
    "\n",
    "# for i in iter_list:\n",
    "#     print(i)\n",
    "\n",
    "# for i in new_list:\n",
    "#     print(i)\n",
    "\n",
    "import sys\n",
    "\n",
    "print( sys.getsizeof(iter_list))\n",
    "print( sys.getsizeof(new_list))\n",
    "\n"
   ],
   "outputs": [
    {
     "output_type": "stream",
     "name": "stdout",
     "text": [
      "48\n",
      "173016\n"
     ]
    }
   ],
   "metadata": {}
  },
  {
   "cell_type": "code",
   "execution_count": 63,
   "source": [
    "print(next(iter_list))\n",
    "print('doing code')\n",
    "print('doing code')\n",
    "print('doing code')\n",
    "print('doing code')\n",
    "print('doing code')\n",
    "print('doing code')\n",
    "print(next(iter_list))"
   ],
   "outputs": [
    {
     "output_type": "stream",
     "name": "stdout",
     "text": [
      "19\n",
      "doing code\n",
      "doing code\n",
      "doing code\n",
      "doing code\n",
      "doing code\n",
      "doing code\n",
      "20\n"
     ]
    }
   ],
   "metadata": {}
  },
  {
   "cell_type": "code",
   "execution_count": 61,
   "source": [
    "next(iter_list)\n",
    "next(iter_list)\n",
    "next(iter_list)\n",
    "next(iter_list)"
   ],
   "outputs": [
    {
     "output_type": "execute_result",
     "data": {
      "text/plain": [
       "17"
      ]
     },
     "metadata": {},
     "execution_count": 61
    }
   ],
   "metadata": {}
  },
  {
   "cell_type": "code",
   "execution_count": 62,
   "source": [
    "for i in iter_list:\n",
    "    print(i)\n",
    "    if i > 10:\n",
    "        break"
   ],
   "outputs": [
    {
     "output_type": "stream",
     "name": "stdout",
     "text": [
      "18\n"
     ]
    }
   ],
   "metadata": {}
  },
  {
   "cell_type": "code",
   "execution_count": 72,
   "source": [
    "import os\n",
    "\n",
    "\n",
    "current_dir = os.getcwd()\n",
    "print(current_dir)\n",
    "print(os.path.abspath(current_dir))\n",
    "print(os.path.basename(current_dir))\n",
    "BASE_DIR = os.path.dirname(current_dir)\n",
    "\n"
   ],
   "outputs": [
    {
     "output_type": "stream",
     "name": "stdout",
     "text": [
      "/Users/de_tai/Desktop/python_main/Day6\n",
      "/Users/de_tai/Desktop/python_main/Day6\n",
      "Day6\n"
     ]
    }
   ],
   "metadata": {}
  },
  {
   "cell_type": "code",
   "execution_count": 77,
   "source": [
    "bool([])"
   ],
   "outputs": [
    {
     "output_type": "execute_result",
     "data": {
      "text/plain": [
       "False"
      ]
     },
     "metadata": {},
     "execution_count": 77
    }
   ],
   "metadata": {}
  },
  {
   "cell_type": "code",
   "execution_count": 87,
   "source": [
    "new = []\n",
    "item = None\n",
    "\n",
    "\n",
    "# for path, directory, filename in os.walk(BASE_DIR):\n",
    "#     if directory:\n",
    "#         new.append(directory)\n",
    "\n",
    "# else:\n",
    "#     new_iter = iter(new)\n",
    "\n",
    "\n",
    "for path, directory, filename in os.walk(BASE_DIR):\n",
    "    if directory:\n",
    "        item = directory\n",
    "        break\n",
    "\n",
    "\n",
    "\n",
    "\n",
    "print(item)\n",
    "\n",
    "\n"
   ],
   "outputs": [
    {
     "output_type": "stream",
     "name": "stdout",
     "text": [
      "['Day4', 'Day3', 'day2', 'Day5', 'Resources', 'Day6', 'Day1', '.git']\n",
      "['Day4', 'Day3', 'day2', 'Day5', 'Resources', 'Day6', 'Day1', '.git']\n"
     ]
    }
   ],
   "metadata": {}
  },
  {
   "cell_type": "code",
   "execution_count": 83,
   "source": [
    "next(new_iter)"
   ],
   "outputs": [
    {
     "output_type": "execute_result",
     "data": {
      "text/plain": [
       "['Day4', 'Day3', 'day2', 'Day5', 'Resources', 'Day6', 'Day1', '.git']"
      ]
     },
     "metadata": {},
     "execution_count": 83
    }
   ],
   "metadata": {}
  },
  {
   "cell_type": "code",
   "execution_count": 93,
   "source": [
    "curr = os.getcwd()\n",
    "Base_dir = os.path.dirname('/Users/de_tai/Desktop/python_main/Day6')\n",
    "file = f'{Base_dir}/resources/data'\n",
    "file_doc = []\n",
    "\n",
    "for i in os.listdir(file):\n",
    "    file_doc.append(i)\n",
    "print(file_doc)\n",
    "\n",
    "\n",
    "open('dowstocks.csv')"
   ],
   "outputs": [
    {
     "output_type": "stream",
     "name": "stdout",
     "text": [
      "['dowstocks.csv', 'missing.csv', 'portfoliodate.csv', 'additional.csv', 'portfolio.csv', 'prices.csv', 'portfolioblank.csv', 'portfolio2.csv']\n"
     ]
    }
   ],
   "metadata": {}
  },
  {
   "cell_type": "code",
   "execution_count": 98,
   "source": [
    "sample = ['dowstocks.csv', 'missing.csv', 'portfoliodate.csv', 'additional.csv', 'portfolio.csv', 'prices.csv', 'portfolioblank.csv', 'portfolio2.msv']\n",
    "\n",
    "new_list2 = []\n",
    "\n",
    "#  val to returned  for value to be returned  in the iterable\n",
    "\n",
    "# for value to be returned in iter:\n",
    "    # print(value i wan to be retnd)\n",
    "\n",
    "\n",
    "\n",
    "# normal\n",
    "new_container = []\n",
    "for i in sample:\n",
    "    if i.endswith('csv'):\n",
    "        new_container.append(i)\n",
    "    else:\n",
    "        new_container.append('found error')\n",
    "\n",
    "print(new_container)"
   ],
   "outputs": [
    {
     "output_type": "stream",
     "name": "stdout",
     "text": [
      "['dowstocks.csv', 'missing.csv', 'portfoliodate.csv', 'additional.csv', 'portfolio.csv', 'prices.csv', 'portfolioblank.csv', 'found error']\n"
     ]
    }
   ],
   "metadata": {}
  },
  {
   "cell_type": "code",
   "execution_count": 99,
   "source": [
    "new_container2 = [x for x in sample if x.endswith('csv')]\n",
    "\n",
    "\n",
    "new_container2 = [x if x.endswith('csv') else 'found error' for x in sample ]\n",
    "print(new_container2)"
   ],
   "outputs": [
    {
     "output_type": "stream",
     "name": "stdout",
     "text": [
      "['dowstocks.csv', 'missing.csv', 'portfoliodate.csv', 'additional.csv', 'portfolio.csv', 'prices.csv', 'portfolioblank.csv', 'found error']\n"
     ]
    }
   ],
   "metadata": {}
  },
  {
   "cell_type": "code",
   "execution_count": 102,
   "source": [
    "new_dict = {k:v for k,v in enumerate(sample) if v.endswith('csv')}\n",
    "\n",
    "print(new_dict)"
   ],
   "outputs": [
    {
     "output_type": "stream",
     "name": "stdout",
     "text": [
      "{0: 'dowstocks.csv', 1: 'missing.csv', 2: 'portfoliodate.csv', 3: 'additional.csv', 4: 'portfolio.csv', 5: 'prices.csv', 6: 'portfolioblank.csv'}\n"
     ]
    }
   ],
   "metadata": {}
  },
  {
   "cell_type": "code",
   "execution_count": 103,
   "source": [
    "new_set = {x for x in sample}\n",
    "print(new_set)"
   ],
   "outputs": [
    {
     "output_type": "stream",
     "name": "stdout",
     "text": [
      "{'dowstocks.csv', 'missing.csv', 'prices.csv', 'portfoliodate.csv', 'portfolio.csv', 'portfolioblank.csv', 'additional.csv', 'portfolio2.msv'}\n"
     ]
    }
   ],
   "metadata": {}
  },
  {
   "cell_type": "code",
   "execution_count": null,
   "source": [],
   "outputs": [],
   "metadata": {}
  },
  {
   "cell_type": "code",
   "execution_count": 108,
   "source": [
    "words =' the quick brown fox jumps over the lazy dog'.split()\n",
    "for i in iter(words):\n",
    "    print(i)"
   ],
   "outputs": [
    {
     "output_type": "stream",
     "name": "stdout",
     "text": [
      "the\n",
      "quick\n",
      "brown\n",
      "fox\n",
      "jumps\n",
      "over\n",
      "the\n",
      "lazy\n",
      "dog\n"
     ]
    }
   ],
   "metadata": {}
  },
  {
   "cell_type": "code",
   "execution_count": 116,
   "source": [
    "def greeting():\n",
    "    value = input('what is your name: ').capitalize()\n",
    "    print(f'Welcome {value}!')\n",
    "\n"
   ],
   "outputs": [],
   "metadata": {}
  },
  {
   "cell_type": "code",
   "execution_count": 118,
   "source": [
    "# greeting()\n",
    "# greeting()\n",
    "\n",
    "\n",
    "\n",
    "for i in range(0,2):\n",
    "    greeting()\n"
   ],
   "outputs": [
    {
     "output_type": "stream",
     "name": "stdout",
     "text": [
      "Welcome Ade!\n",
      "Welcome Moses!\n"
     ]
    }
   ],
   "metadata": {}
  },
  {
   "cell_type": "code",
   "execution_count": 119,
   "source": [
    "name = (x for x in range(10))\n",
    "sum_total = 0\n",
    "total = [sum_total := sum_total + x for x in name]"
   ],
   "outputs": [],
   "metadata": {}
  },
  {
   "cell_type": "code",
   "execution_count": 120,
   "source": [
    "total\n"
   ],
   "outputs": [
    {
     "output_type": "execute_result",
     "data": {
      "text/plain": [
       "[0, 1, 2, 3, 4, 5, 6, 7, 8, 9]"
      ]
     },
     "metadata": {},
     "execution_count": 120
    }
   ],
   "metadata": {}
  },
  {
   "cell_type": "code",
   "execution_count": null,
   "source": [],
   "outputs": [],
   "metadata": {}
  }
 ],
 "metadata": {
  "orig_nbformat": 4,
  "language_info": {
   "name": "python",
   "version": "3.9.1",
   "mimetype": "text/x-python",
   "codemirror_mode": {
    "name": "ipython",
    "version": 3
   },
   "pygments_lexer": "ipython3",
   "nbconvert_exporter": "python",
   "file_extension": ".py"
  },
  "kernelspec": {
   "name": "python3",
   "display_name": "Python 3.9.1 64-bit"
  },
  "interpreter": {
   "hash": "397704579725e15f5c7cb49fe5f0341eb7531c82d19f2c29d197e8b64ab5776b"
  }
 },
 "nbformat": 4,
 "nbformat_minor": 2
}