{
 "cells": [
  {
   "cell_type": "markdown",
   "source": [
    "## Excercises\n",
    "This is to help you work on topics that has been covered "
   ],
   "metadata": {}
  },
  {
   "cell_type": "markdown",
   "source": [
    "### Question 1"
   ],
   "metadata": {}
  },
  {
   "cell_type": "markdown",
   "source": [
    "#####  A. Assume you have the following list below that contains Employee_id data:\n",
    "        Employee_id = ['id_001','id_002','id_003']\n",
    "\n",
    "#Reassign the values of the above employees id to variables Samuel, John and Sarah. \n",
    "\n",
    "##### B. Also include the following employees id into your Employee_id list\n",
    "    moses = 'id_009'\n",
    "    tim = 'id_008'\n",
    "    demy = 'id_007'\n",
    "\n",
    "##### C create a copy of Employee_id and store the value in Employee_id_backup. Ensure that changes in Employee_id does not affect your backup\n",
    "\n",
    "#### D what is the quickest way to  add another Employee_id2 to your  Employee_id\n",
    "    Employee_id2 = ['id_01','id_02','id_03']"
   ],
   "metadata": {}
  },
  {
   "cell_type": "markdown",
   "source": [
    "### Question 2"
   ],
   "metadata": {}
  },
  {
   "cell_type": "markdown",
   "source": [
    "#### You have a data containing of a list prices \n",
    "    price_list = [2033,3002,3990,2993,3404,2003,3343,203,2930,20303,2002,30402,9909,3902,4939,2883,38483]\n",
    "* A. Find the maximum price in the price list\n",
    "* B. Find the minimum price in the price list\n",
    "* C. Find the total length of items in the price list\n",
    "* A. Find the sum of prices in the price list\n",
    "\n",
    "\n"
   ],
   "metadata": {}
  },
  {
   "cell_type": "markdown",
   "source": [],
   "metadata": {}
  },
  {
   "cell_type": "markdown",
   "source": [
    "### Question 3\n",
    "You have a list containing that has different colours\n",
    "\n",
    "    colours = ['white', 'orange', 'red','red','yellow','red','white', 'blue', 'brown', 'purple','red', white, 'green, 'black']\n",
    "\n",
    "How many times did white appear in the list?"
   ],
   "metadata": {}
  },
  {
   "cell_type": "markdown",
   "source": [],
   "metadata": {}
  },
  {
   "cell_type": "markdown",
   "source": [
    "### Question 4\n",
    "1. Convert the following list to a dictionary with the pair {employee_id: Employee_name}\n",
    "\n",
    "        Employee_id = ['id_001','id_002','id_003']\n",
    "        Employee_name = ['Sam','John','Sarah']\n",
    "2. what name is mapped to 'id_002'\n",
    "\n",
    "3. Include these new employees in your dictionary \n",
    "\n",
    "    new_employees= {moses:'id_009',\n",
    "                  tim : 'id_008',\n",
    "                  demy : 'id_007'}"
   ],
   "metadata": {}
  },
  {
   "cell_type": "markdown",
   "source": [
    "### Question 5\n",
    "Assume you need to get unique values of your the list below, how would you go about it?\n",
    "\n",
    "    colours = ['white', 'orange', 'red','red','yellow','red','white', 'blue', 'brown', 'purple','red', white, 'green, 'black']"
   ],
   "metadata": {}
  },
  {
   "cell_type": "markdown",
   "source": [],
   "metadata": {}
  }
 ],
 "metadata": {
  "orig_nbformat": 4,
  "language_info": {
   "name": "python",
   "version": "3.8.5",
   "mimetype": "text/x-python",
   "codemirror_mode": {
    "name": "ipython",
    "version": 3
   },
   "pygments_lexer": "ipython3",
   "nbconvert_exporter": "python",
   "file_extension": ".py"
  },
  "kernelspec": {
   "name": "python3",
   "display_name": "Python 3.8.5 64-bit ('base': conda)"
  },
  "interpreter": {
   "hash": "57afa3c55199372cc74ce95ef8abe2f2d30a7accba4b0a9ba7456fa3ad07924a"
  }
 },
 "nbformat": 4,
 "nbformat_minor": 2
}