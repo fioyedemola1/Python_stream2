{
 "cells": [
  {
   "cell_type": "markdown",
   "source": [
    "## Excercises\n",
    "This is to help you work on topics that has been covered "
   ],
   "metadata": {}
  },
  {
   "cell_type": "markdown",
   "source": [
    "### Question 1"
   ],
   "metadata": {}
  },
  {
   "cell_type": "markdown",
   "source": [
    "#####  A. Assume you have the following list below that contains Employee_id data:\n",
    "        Employee_id = ['id_001','id_002','id_003']\n",
    "\n",
    "#Reassign the values of the above employees id to variables Samuel, John and Sarah. \n",
    "\n",
    "##### B. Also include the following employees id into your Employee_id list\n",
    "    moses = 'id_009'\n",
    "    tim = 'id_008'\n",
    "    demy = 'id_007'\n",
    "\n",
    "##### C create a copy of Employee_id and store the value in Employee_id_backup. Ensure that changes in Employee_id does not affect your backup\n",
    "\n",
    "#### D what is the quickest way to  add another Employee_id2 to your  Employee_id\n",
    "    Employee_id2 = ['id_01','id_02','id_03']"
   ],
   "metadata": {}
  },
  {
   "cell_type": "code",
   "execution_count": 15,
   "source": [
    "Employee_id = ['id_001','id_002','id_003']\n",
    "# Samuel = Employee_id[0]\n",
    "# John = Employee_id[1] \n",
    "# Sarah = Employee_id[2]\n",
    "# print(Samuel, Sarah,John, sep=' | ',end='\\n')\n",
    "\n",
    "# Samuel1, John1,Sarah1 = Employee_id  #unpacking\n",
    "# print(Samuel1, John1,Sarah1)\n",
    "\n",
    "\n",
    "#\n",
    "moses = 'id_009'\n",
    "tim = 'id_008'\n",
    "demy = 'id_007'\n",
    "\n",
    "# hardways 1\n",
    "# Employee_id.append(moses)\n",
    "# Employee_id.append(tim)\n",
    "# Employee_id.append(demy)\n",
    "\n",
    "# Employee_id.extend([moses,tim,demy])\n",
    "\n",
    "Employee_id = [moses,tim,demy, *Employee_id]\n",
    "\n",
    "print(Employee_id)"
   ],
   "outputs": [
    {
     "output_type": "stream",
     "name": "stdout",
     "text": [
      "['id_009', 'id_008', 'id_007', 'id_001', 'id_002', 'id_003']\n"
     ]
    }
   ],
   "metadata": {}
  },
  {
   "cell_type": "code",
   "execution_count": 29,
   "source": [
    "Employee_id2 = ['id_01','id_02','id_03']\n",
    "Employee_id = ['id_001','id_002','id_003']\n",
    "\n",
    "# \n",
    "# Employee_id= [*Employee_id,*Employee_id2]\n",
    "\n",
    "# Employee_id = Employee_id + Employee_id2\n",
    "Employee_id.extend(Employee_id2)\n",
    "print(Employee_id)"
   ],
   "outputs": [
    {
     "output_type": "stream",
     "name": "stdout",
     "text": [
      "['id_001', 'id_002', 'id_003', 'id_01', 'id_02', 'id_03']\n"
     ]
    }
   ],
   "metadata": {}
  },
  {
   "cell_type": "code",
   "execution_count": null,
   "source": [],
   "outputs": [],
   "metadata": {}
  },
  {
   "cell_type": "code",
   "execution_count": 31,
   "source": [
    "print(help(list.append))\n",
    "print(help(list.extend))\n"
   ],
   "outputs": [
    {
     "output_type": "stream",
     "name": "stdout",
     "text": [
      "Help on method_descriptor:\n",
      "\n",
      "append(self, object, /)\n",
      "    Append object to the end of the list.\n",
      "\n",
      "None\n",
      "Help on method_descriptor:\n",
      "\n",
      "extend(self, iterable, /)\n",
      "    Extend list by appending elements from the iterable.\n",
      "\n",
      "None\n"
     ]
    }
   ],
   "metadata": {}
  },
  {
   "cell_type": "code",
   "execution_count": 22,
   "source": [
    "vari = ['a','b','c','d']\n",
    "first, *others, last = vari\n",
    "print(others)\n",
    "#------------------------------\n",
    "a = [1,2,3,4]\n",
    "b = [*a]  # a.copy()\n",
    "\n",
    "\n",
    "print(id(a))\n",
    "print(id(b))\n",
    "\n",
    "b[2]= 'nothing'\n",
    "\n",
    "print(a)\n",
    "print(b)\n",
    "\n",
    "\n"
   ],
   "outputs": [
    {
     "output_type": "stream",
     "name": "stdout",
     "text": [
      "['b', 'c']\n",
      "140681384349632\n",
      "140681388207680\n",
      "[1, 2, 3, 4]\n",
      "[1, 2, 'nothing', 4]\n"
     ]
    }
   ],
   "metadata": {}
  },
  {
   "cell_type": "code",
   "execution_count": 8,
   "source": [
    "Employee_id = ['id_001','id_002','id_003']\n",
    "Samuel = Employee_id[0]\n",
    "John = Employee_id[1]\n",
    "Sarah = Employee_id[2]\n",
    "\n",
    "print(Sarah,John, Samuel) \n",
    "\n",
    "\n",
    "\n",
    "# Employee_id3 = ['id_009','id_008','id_007']\n",
    "# print(Employee_id3.append(Employee_id))"
   ],
   "outputs": [
    {
     "output_type": "stream",
     "name": "stdout",
     "text": [
      "Sarah id_002 id_001\n"
     ]
    }
   ],
   "metadata": {}
  },
  {
   "cell_type": "markdown",
   "source": [
    "### Question 2"
   ],
   "metadata": {}
  },
  {
   "cell_type": "markdown",
   "source": [
    "#### You have a data containing of a list prices \n",
    "    price_list = [2033,3002,3990,2993,3404,2003,3343,203,2930,20303,2002,30402,9909,3902,4939,2883,38483]\n",
    "* A. Find the maximum price in the price list\n",
    "* B. Find the minimum price in the price list\n",
    "* C. Find the total length of items in the price list\n",
    "* d. Find the sum of prices in the price list\n",
    "\n",
    "2. Suppose you need to map the prices to items. if the first three prices are for \n",
    "    * Hp Laptop\n",
    "    * Refrigerator\n",
    "    * Dish Washer\n",
    "and the last three items are\n",
    "    * Macbook pro\n",
    "    * Iphone\n",
    "    * Amazon Echo\n",
    "    \n",
    "map all the items to the above variable names and the other prices should be placed in a varible called 'OTHERS'"
   ],
   "metadata": {}
  },
  {
   "cell_type": "code",
   "execution_count": 37,
   "source": [
    " \n",
    "price_list = [2033,3002,3990,2993,3404,2003,3343,203,2930,20303,2002,30402,9909,3902,4939,2883,38483]\n",
    "# print(max(price_list))\n",
    "# print(min(price_list))\n",
    "# print(len(price_list))\n",
    "# print(sum(price_list))\n",
    "\n",
    "\n",
    "print(sum(price_list[2::2]))\n",
    "\n",
    "\n",
    "\n"
   ],
   "outputs": [
    {
     "output_type": "stream",
     "name": "stdout",
     "text": [
      "69000\n"
     ]
    }
   ],
   "metadata": {}
  },
  {
   "cell_type": "markdown",
   "source": [],
   "metadata": {}
  },
  {
   "cell_type": "markdown",
   "source": [
    "### Question 3\n",
    "You have a list containing that has different colours\n",
    "\n",
    "    colours = ['white', 'orange', 'red','red','yellow','red','white', 'blue', 'brown', 'purple','red', white, 'green, 'black']\n",
    "\n",
    "How many times did white appear in the list?"
   ],
   "metadata": {}
  },
  {
   "cell_type": "code",
   "execution_count": 44,
   "source": [
    "colours = ['white', 'orange', 'red','red','yellow','red','white', 'blue', 'brown', 'purple','red', 'white', 'green', 'black']\n",
    "colours.count('white') "
   ],
   "outputs": [
    {
     "output_type": "execute_result",
     "data": {
      "text/plain": [
       "3"
      ]
     },
     "metadata": {},
     "execution_count": 44
    }
   ],
   "metadata": {}
  },
  {
   "cell_type": "code",
   "execution_count": 43,
   "source": [
    "\n"
   ],
   "outputs": [
    {
     "output_type": "stream",
     "name": "stdout",
     "text": [
      "['__add__', '__class__', '__contains__', '__delattr__', '__delitem__', '__dir__', '__doc__', '__eq__', '__format__', '__ge__', '__getattribute__', '__getitem__', '__gt__', '__hash__', '__iadd__', '__imul__', '__init__', '__init_subclass__', '__iter__', '__le__', '__len__', '__lt__', '__mul__', '__ne__', '__new__', '__reduce__', '__reduce_ex__', '__repr__', '__reversed__', '__rmul__', '__setattr__', '__setitem__', '__sizeof__', '__str__', '__subclasshook__', 'append', 'clear', 'copy', 'count', 'extend', 'index', 'insert', 'pop', 'remove', 'reverse', 'sort']\n"
     ]
    }
   ],
   "metadata": {}
  },
  {
   "cell_type": "markdown",
   "source": [],
   "metadata": {}
  },
  {
   "cell_type": "markdown",
   "source": [
    "### Question 4\n",
    "1. Convert the following list to a dictionary with the pair {employee_id: Employee_name}\n",
    "\n",
    "        Employee_id = ['id_001','id_002','id_003']\n",
    "        Employee_name = ['Sam','John','Sarah']\n",
    "2. what name is mapped to 'id_002'\n",
    "\n",
    "3. Include these new employees in your dictionary \n",
    "\n",
    "    new_employees= {moses:'id_009',\n",
    "                  tim : 'id_008',\n",
    "                  demy : 'id_007'}"
   ],
   "metadata": {}
  },
  {
   "cell_type": "code",
   "execution_count": 54,
   "source": [
    "new_dict= {\n",
    "    'id_001':'Sam',\n",
    "    'id_002':'John',\n",
    "    'id_003':'Sarah',\n",
    "}\n",
    "\n",
    "Employee_id = ['id_001','id_002','id_003']\n",
    "Employee_name = ['Sam','John','Sarah']\n",
    "\n",
    "\n",
    "second= dict(zip(Employee_id,Employee_name))\n",
    "\n",
    "# print(new_dict['id_007']) #---\n",
    "# print('done')\n",
    "print(second.get('id_007')) #\n",
    "print('done')\n",
    "new_employees= {moses:'id_009',\n",
    "                  tim : 'id_008',\n",
    "                  demy : 'id_007'}\n",
    "second.update(new_employees)\n"
   ],
   "outputs": [
    {
     "output_type": "stream",
     "name": "stdout",
     "text": [
      "None\n",
      "done\n"
     ]
    },
    {
     "output_type": "error",
     "ename": "TypeError",
     "evalue": "unsupported operand type(s) for +: 'dict' and 'dict'",
     "traceback": [
      "\u001b[0;31m---------------------------------------------------------------------------\u001b[0m",
      "\u001b[0;31mTypeError\u001b[0m                                 Traceback (most recent call last)",
      "\u001b[0;32m<ipython-input-54-13ca528a5786>\u001b[0m in \u001b[0;36m<module>\u001b[0;34m\u001b[0m\n\u001b[1;32m     19\u001b[0m                   demy : 'id_007'}\n\u001b[1;32m     20\u001b[0m \u001b[0;31m# second.update(new_employees)\u001b[0m\u001b[0;34m\u001b[0m\u001b[0;34m\u001b[0m\u001b[0;34m\u001b[0m\u001b[0m\n\u001b[0;32m---> 21\u001b[0;31m \u001b[0mprint\u001b[0m\u001b[0;34m(\u001b[0m\u001b[0msecond\u001b[0m \u001b[0;34m+\u001b[0m \u001b[0mnew_employees\u001b[0m\u001b[0;34m)\u001b[0m\u001b[0;34m\u001b[0m\u001b[0;34m\u001b[0m\u001b[0m\n\u001b[0m",
      "\u001b[0;31mTypeError\u001b[0m: unsupported operand type(s) for +: 'dict' and 'dict'"
     ]
    }
   ],
   "metadata": {}
  },
  {
   "cell_type": "markdown",
   "source": [
    "### Question 5\n",
    "Assume you need to get unique values of your the list below, how would you go about it?\n",
    "\n",
    "    colours = ['white', 'orange', 'red','red','yellow','red','white', 'blue', 'brown', 'purple','red', white, 'green, 'black']"
   ],
   "metadata": {}
  },
  {
   "cell_type": "markdown",
   "source": [],
   "metadata": {}
  }
 ],
 "metadata": {
  "orig_nbformat": 4,
  "language_info": {
   "name": "python",
   "version": "3.8.10",
   "mimetype": "text/x-python",
   "codemirror_mode": {
    "name": "ipython",
    "version": 3
   },
   "pygments_lexer": "ipython3",
   "nbconvert_exporter": "python",
   "file_extension": ".py"
  },
  "kernelspec": {
   "name": "python3",
   "display_name": "Python 3.8.5 64-bit ('base': conda)"
  },
  "interpreter": {
   "hash": "57afa3c55199372cc74ce95ef8abe2f2d30a7accba4b0a9ba7456fa3ad07924a"
  }
 },
 "nbformat": 4,
 "nbformat_minor": 2
}