{
 "cells": [
  {
   "cell_type": "code",
   "execution_count": null,
   "source": [
    "# Variables Naming"
   ],
   "outputs": [],
   "metadata": {}
  },
  {
   "cell_type": "markdown",
   "source": [
    "1. Capitalised --> CONSTANT\n",
    "2. alpha-numeric\n",
    "3. You cant use a dash ('-')\n",
    "4. Case Sensitive\n",
    "5. _\n",
    "6. _ it is a private variable"
   ],
   "metadata": {}
  },
  {
   "cell_type": "code",
   "execution_count": 8,
   "source": [
    "COMPANY= 'Saidatech'\n",
    "company = 'saidatech'\n",
    "\n",
    "Company1 = 'saidatech'\n",
    "company_1 ='sadatech'\n",
    "\n",
    "print(COMPANY)\n",
    "print(company)\n",
    "print(Company1)\n",
    "_company = 'saidatech'\n",
    "\n"
   ],
   "outputs": [
    {
     "output_type": "stream",
     "name": "stdout",
     "text": [
      "Saidatech\n",
      "saidatech\n",
      "saidatech\n"
     ]
    }
   ],
   "metadata": {}
  },
  {
   "cell_type": "code",
   "execution_count": 42,
   "source": [
    "number1= '1'\n",
    "number2 = '2'\n",
    "number3 = 2.999394983838398\n",
    "# print(type(number1))\n",
    "# print(type(number2))\n",
    "\n",
    "print('*' * 20)\n",
    "print(f'| {number2:^29}|')\n"
   ],
   "outputs": [
    {
     "output_type": "stream",
     "name": "stdout",
     "text": [
      "********************\n",
      "|               2              |\n"
     ]
    }
   ],
   "metadata": {}
  },
  {
   "cell_type": "code",
   "execution_count": null,
   "source": [
    "table = '''\n",
    "\n",
    "+-----------------------------+ \n",
    "| name     | age  |occupation |\n",
    " =============================\n",
    "| john Doe |   45 |  Carpenter|\n",
    "+-----------------------------+\n",
    " '''\n"
   ],
   "outputs": [],
   "metadata": {}
  },
  {
   "cell_type": "code",
   "execution_count": 49,
   "source": [
    "print(f\"+{'-' * 30}+\" )\n",
    "print('              ')\n",
    "print(f\" {' ' * 30}\" )"
   ],
   "outputs": [
    {
     "output_type": "stream",
     "name": "stdout",
     "text": [
      "+------------------------------+\n"
     ]
    }
   ],
   "metadata": {}
  },
  {
   "cell_type": "code",
   "execution_count": 64,
   "source": [
    "name = 'johndoe'\n",
    "age = 45\n",
    "occupation = 'Carpenter'\n",
    "\n",
    "print(f\"+{'_' * 30}+\")\n",
    "print(f\"|  name   |  age | Occupation  |\")\n",
    "print(f\" {'=' * 30}\")\n",
    "print(f\"|  {name}   |  {age} | {occupation} |\")\n",
    "print(f\"+{'_' * 30}+\")\n",
    "\n",
    "\n",
    "print('%s'%number3)  #python2.7\n",
    "print('{}'.format(number3))  \n",
    "\n",
    "# print(f'| {name}')\n",
    "# print(f \"{'=' * 30}\")\n",
    "# print(f \"+{'_' * 30}+\")"
   ],
   "outputs": [
    {
     "output_type": "stream",
     "name": "stdout",
     "text": [
      "+______________________________+\n",
      "|  name   |  age | Occupation  |\n",
      " ==============================\n",
      "|  johndoe   |  45 | Carpenter |\n",
      "+______________________________+\n",
      "2.999394983838398\n",
      "2.999394983838398\n"
     ]
    }
   ],
   "metadata": {}
  },
  {
   "cell_type": "code",
   "execution_count": 77,
   "source": [
    "\n",
    "# variable   ------ memory location  ----->  'Saidatech'\n",
    "\n",
    "another_variable = COMPANY\n",
    "\n",
    "print(id(COMPANY))\n",
    "print(id(another_variable))\n",
    "\n",
    "COMPANY= 'anything'\n",
    "print(another_variable)"
   ],
   "outputs": [
    {
     "output_type": "stream",
     "name": "stdout",
     "text": [
      "140453405718768\n",
      "140453405718768\n",
      "anything\n"
     ]
    }
   ],
   "metadata": {}
  },
  {
   "cell_type": "code",
   "execution_count": 81,
   "source": [
    "# is and ==  =\n",
    "1 == 1  # face value\n",
    "print(1 is 1) #memory location\n",
    "id(1)"
   ],
   "outputs": [
    {
     "output_type": "stream",
     "name": "stdout",
     "text": [
      "True\n"
     ]
    },
    {
     "output_type": "stream",
     "name": "stderr",
     "text": [
      "<>:3: SyntaxWarning: \"is\" with a literal. Did you mean \"==\"?\n",
      "<>:3: SyntaxWarning: \"is\" with a literal. Did you mean \"==\"?\n",
      "<ipython-input-81-047c1813c097>:3: SyntaxWarning: \"is\" with a literal. Did you mean \"==\"?\n",
      "  print(1 is 1)\n"
     ]
    },
    {
     "output_type": "execute_result",
     "data": {
      "text/plain": [
       "4319009120"
      ]
     },
     "metadata": {},
     "execution_count": 81
    }
   ],
   "metadata": {}
  },
  {
   "cell_type": "code",
   "execution_count": 19,
   "source": [
    "# dry\n",
    "employe1 = ' Sam Daniel'\n",
    "employe2 = ' john  Mitchel'\n",
    "employe3 = ' Moses Daniel'\n",
    "employe4 = ' luke Daniel'\n",
    "employe5 = ' Tim Daniel'\n",
    "\n",
    "employee = [' Sam Daniel',' john  Mitchel',' Moses Daniel','luke Daniel','Tim Daniel']  #list \n",
    "# id = [1,2,3,4,5,6,7,8,9,10]\n",
    "\n",
    "#orderded -->indexed\n",
    "\n",
    "# print(id[0],employee[0]) #starts from 0\n",
    "\n",
    "# name[start:stop:step]\n",
    "# # print(employee[2:4])\n",
    "# print(employee[2:])\n",
    "# print(employee[0::2])\n",
    "\n",
    "# print(id[1::2])\n",
    "# print(id[::-1])\n",
    "\n",
    "# manager = employee[1:3]\n",
    "# officers = employee[-2:]\n",
    "# # print(manager)\n",
    "# print(officers)\n",
    "\n",
    "# #iterable\n",
    "#mutable\n",
    "\n",
    "employee[1] = 'Obi Sancho'\n",
    "print(employee)"
   ],
   "outputs": [
    {
     "output_type": "stream",
     "name": "stdout",
     "text": [
      "[' Sam Daniel', 'Obi Sancho', ' Moses Daniel', 'luke Daniel', 'Tim Daniel']\n"
     ]
    }
   ],
   "metadata": {}
  },
  {
   "cell_type": "code",
   "execution_count": 111,
   "source": [
    "# varibale unpacking\n",
    "assistant_manager,*officer_1 ,manager1   = employee\n",
    "print(assistant_manager)\n",
    "print(officer_1)\n",
    "print(manager1)"
   ],
   "outputs": [
    {
     "output_type": "stream",
     "name": "stdout",
     "text": [
      " Sam Daniel\n",
      "[' john  Mitchel', ' Moses Daniel', 'luke Daniel']\n",
      "Tim Daniel\n"
     ]
    }
   ],
   "metadata": {}
  },
  {
   "cell_type": "code",
   "execution_count": 113,
   "source": [
    "a= 'something'\n",
    "b= 'another thing'\n",
    "\n",
    "a,b = b,a\n",
    "print(a)\n",
    "print(b)"
   ],
   "outputs": [
    {
     "output_type": "stream",
     "name": "stdout",
     "text": [
      "another thing\n",
      "something\n"
     ]
    }
   ],
   "metadata": {}
  },
  {
   "cell_type": "code",
   "execution_count": 115,
   "source": [
    "print(dir(employee))"
   ],
   "outputs": [
    {
     "output_type": "stream",
     "name": "stdout",
     "text": [
      "['__add__', '__class__', '__contains__', '__delattr__', '__delitem__', '__dir__', '__doc__', '__eq__', '__format__', '__ge__', '__getattribute__', '__getitem__', '__gt__', '__hash__', '__iadd__', '__imul__', '__init__', '__init_subclass__', '__iter__', '__le__', '__len__', '__lt__', '__mul__', '__ne__', '__new__', '__reduce__', '__reduce_ex__', '__repr__', '__reversed__', '__rmul__', '__setattr__', '__setitem__', '__sizeof__', '__str__', '__subclasshook__', 'append', 'clear', 'copy', 'count', 'extend', 'index', 'insert', 'pop', 'remove', 'reverse', 'sort']\n"
     ]
    }
   ],
   "metadata": {}
  },
  {
   "cell_type": "code",
   "execution_count": 12,
   "source": [
    "employee_backup = employee\n",
    "print(id(employee_backup))\n",
    "print(id(employee))\n",
    "\n",
    "employee_backup[3]= 'Nothing'\n",
    "\n",
    "# copy \n",
    "employee_backup1 = [*employee]\n",
    "print(employee_backup1)\n",
    "print(id(employee_backup1))\n",
    "\n",
    "\n",
    "employee_backup2 = list(employee)\n",
    "print(employee_backup2)\n",
    "print(id(employee_backup2))\n",
    "\n",
    "employee_backup3 = [x for x in employee]\n",
    "print(employee_backup3)\n",
    "print(id(employee_backup3))\n",
    "\n",
    "employee_backup4 = employee.copy()\n",
    "print(employee_backup4)\n",
    "print(id(employee_backup4))\n",
    "\n"
   ],
   "outputs": [
    {
     "output_type": "stream",
     "name": "stdout",
     "text": [
      "140493952062080\n",
      "140493952062080\n",
      "[' Sam Daniel', 'Obi Sancho', ' Moses Daniel', 'Nothing', 'Tim Daniel']\n",
      "140493972839552\n",
      "[' Sam Daniel', 'Obi Sancho', ' Moses Daniel', 'Nothing', 'Tim Daniel']\n",
      "140493980331376\n",
      "[' Sam Daniel', 'Obi Sancho', ' Moses Daniel', 'Nothing', 'Tim Daniel']\n",
      "140493972798112\n",
      "[' Sam Daniel', 'Obi Sancho', ' Moses Daniel', 'Nothing', 'Tim Daniel']\n",
      "140493972818592\n"
     ]
    }
   ],
   "metadata": {}
  },
  {
   "cell_type": "code",
   "execution_count": 6,
   "source": [
    "employee"
   ],
   "outputs": [
    {
     "output_type": "execute_result",
     "data": {
      "text/plain": [
       "[' Sam Daniel', 'Obi Sancho', ' Moses Daniel', 'Nothing', 'Tim Daniel']"
      ]
     },
     "metadata": {},
     "execution_count": 6
    }
   ],
   "metadata": {}
  },
  {
   "cell_type": "code",
   "execution_count": 22,
   "source": [
    "employee.append('jack robisnon')\n",
    "\n",
    "\n",
    "employee.extend(['sol ghandi',1,2,3,43,4,5, 'moses and Pharoah' ])\n",
    "\n",
    "\n",
    "print(employee)\n",
    "employee.index('sol ghandi')"
   ],
   "outputs": [
    {
     "output_type": "stream",
     "name": "stdout",
     "text": [
      "[' Sam Daniel', 'Obi Sancho', ' Moses Daniel', 'luke Daniel', 'Tim Daniel', 'jack robisnon', 'sol ghandi', 'jack robisnon', 'sol ghandi', 1, 2, 3, 43, 4, 5, 'moses and Pharoah', 'jack robisnon', 'sol ghandi', 1, 2, 3, 43, 4, 5, 'moses and Pharoah']\n"
     ]
    },
    {
     "output_type": "execute_result",
     "data": {
      "text/plain": [
       "6"
      ]
     },
     "metadata": {},
     "execution_count": 22
    }
   ],
   "metadata": {}
  },
  {
   "cell_type": "code",
   "execution_count": 39,
   "source": [
    "new_list = [2,3,3,2,2,3,4,5,6,64,3,3]\n",
    "# new_list.pop()\n",
    "# print(new_list)\n",
    "# new_list.pop()\n",
    "new_list.sort()\n",
    "new= sorted([1,3,2,34,56,4,3,32,])\n",
    "\n"
   ],
   "outputs": [],
   "metadata": {}
  },
  {
   "cell_type": "code",
   "execution_count": 37,
   "source": [
    "print(new_list)"
   ],
   "outputs": [
    {
     "output_type": "stream",
     "name": "stdout",
     "text": [
      "[2, 2, 2, 3, 3, 3, 3, 3, 4, 5, 6, 64]\n"
     ]
    }
   ],
   "metadata": {}
  },
  {
   "cell_type": "code",
   "execution_count": 42,
   "source": [
    "help(employee.insert)\n",
    "employee.insert(3,'my insert function worked')"
   ],
   "outputs": [
    {
     "output_type": "stream",
     "name": "stdout",
     "text": [
      "Help on built-in function insert:\n",
      "\n",
      "insert(index, object, /) method of builtins.list instance\n",
      "    Insert object before index.\n",
      "\n"
     ]
    }
   ],
   "metadata": {}
  },
  {
   "cell_type": "code",
   "execution_count": 48,
   "source": [
    "# help(sum) '__iter__'\n",
    "print(sum(new_list))\n",
    "print(len(new_list))\n",
    "print(min(new_list))\n",
    "print(max(new_list))\n"
   ],
   "outputs": [
    {
     "output_type": "stream",
     "name": "stdout",
     "text": [
      "100\n",
      "12\n",
      "2\n",
      "64\n"
     ]
    }
   ],
   "metadata": {}
  },
  {
   "cell_type": "code",
   "execution_count": 45,
   "source": [
    "hasattr(employee, '__iter__')"
   ],
   "outputs": [
    {
     "output_type": "execute_result",
     "data": {
      "text/plain": [
       "True"
      ]
     },
     "metadata": {},
     "execution_count": 45
    }
   ],
   "metadata": {}
  },
  {
   "cell_type": "code",
   "execution_count": 51,
   "source": [],
   "outputs": [
    {
     "output_type": "stream",
     "name": "stdout",
     "text": [
      "Help on built-in function print in module builtins:\n",
      "\n",
      "print(...)\n",
      "    print(value, ..., sep=' ', end='\\n', file=sys.stdout, flush=False)\n",
      "    \n",
      "    Prints the values to a stream, or to sys.stdout by default.\n",
      "    Optional keyword arguments:\n",
      "    file:  a file-like object (stream); defaults to the current sys.stdout.\n",
      "    sep:   string inserted between values, default a space.\n",
      "    end:   string appended after the last value, default a newline.\n",
      "    flush: whether to forcibly flush the stream.\n",
      "\n",
      "None\n"
     ]
    }
   ],
   "metadata": {}
  },
  {
   "cell_type": "code",
   "execution_count": null,
   "source": [],
   "outputs": [],
   "metadata": {}
  }
 ],
 "metadata": {
  "orig_nbformat": 4,
  "language_info": {
   "name": "python",
   "version": "3.7.9",
   "mimetype": "text/x-python",
   "codemirror_mode": {
    "name": "ipython",
    "version": 3
   },
   "pygments_lexer": "ipython3",
   "nbconvert_exporter": "python",
   "file_extension": ".py"
  },
  "kernelspec": {
   "name": "python3",
   "display_name": "Python 3.7.9 64-bit"
  },
  "interpreter": {
   "hash": "e774977668b7c0ae8309835a5187aa7fbf7669e7d0bb59755bc63e573643edcd"
  }
 },
 "nbformat": 4,
 "nbformat_minor": 2
}