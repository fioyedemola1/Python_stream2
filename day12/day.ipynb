{
 "cells": [
  {
   "cell_type": "code",
   "execution_count": 14,
   "source": [
    "import re\n",
    "\n",
    "\n",
    "email_data = '22232323232ade_ade@gmai.com $$@$@$sam_sam@hotmail.com'\n",
    "email_data1 = 'ade_ade@gmai.com22232323232ade_ade@gmai.com $$@$@$sam_sam@hotmail.com'\n",
    "\n",
    "pattern = re.compile(r'\\w{3}_\\w+@\\w+.com')\n",
    "pattern.findall(email_data)\n",
    "list(pattern.finditer(email_data))[1]  #\n",
    "print(pattern.match(email_data))\n",
    "print(pattern.match(email_data1)) # first occurance at the beginining of the string\n",
    "print(pattern.search(email_data))  # first occurance anywhere within the string\n",
    "\n"
   ],
   "outputs": [
    {
     "output_type": "stream",
     "name": "stdout",
     "text": [
      "None\n",
      "<re.Match object; span=(0, 16), match='ade_ade@gmai.com'>\n",
      "<re.Match object; span=(11, 27), match='ade_ade@gmai.com'>\n"
     ]
    }
   ],
   "metadata": {}
  },
  {
   "cell_type": "code",
   "execution_count": 8,
   "source": [
    "re.findall(pattern,email_data)"
   ],
   "outputs": [
    {
     "output_type": "execute_result",
     "data": {
      "text/plain": [
       "['ade_ade@gmai.com', 'sam_sam@hotmail.com']"
      ]
     },
     "metadata": {},
     "execution_count": 8
    }
   ],
   "metadata": {}
  },
  {
   "cell_type": "code",
   "execution_count": 16,
   "source": [
    "data= 'sam@company1.com sun@company1.com and@company1.com'  #company1.com\n",
    "\n",
    "pattern= re.compile(r'company1')\n",
    "\n",
    "pattern.sub('new_company',data)\n"
   ],
   "outputs": [
    {
     "output_type": "execute_result",
     "data": {
      "text/plain": [
       "'sam@new_company.com sun@new_company.com and@new_company.com'"
      ]
     },
     "metadata": {},
     "execution_count": 16
    }
   ],
   "metadata": {}
  },
  {
   "cell_type": "code",
   "execution_count": 17,
   "source": [
    "pattern= re.compile(r'@')\n",
    "\n",
    "pattern.sub('**',data)"
   ],
   "outputs": [
    {
     "output_type": "execute_result",
     "data": {
      "text/plain": [
       "'sam**company1.com sun**company1.com and**company1.com'"
      ]
     },
     "metadata": {},
     "execution_count": 17
    }
   ],
   "metadata": {}
  },
  {
   "cell_type": "code",
   "execution_count": 2,
   "source": [
    "#OOP tools python\n",
    "\n",
    "#Animal  ---> Dog Bird Lion Elephant\n",
    "\n",
    "#Attributes\n",
    "# eyes\n",
    "# legs\n",
    "# tail\n",
    "# whiskers...\n",
    "\n",
    "# trunk\n",
    "\n",
    "# beak\n",
    "\n",
    "\n",
    "#communicate  ---> barks, roars, \n",
    "\n",
    "com_features ={\n",
    "    'dog': 'barks',\n",
    "    'lion': 'roars',\n",
    "}\n",
    "\n",
    "dog_features = {\n",
    "    'eyes': 2,\n",
    "    'ears': 2,\n",
    "    'legs': 4,\n",
    "}\n",
    "\n",
    "lion_features = {\n",
    "    'eyes': 2,\n",
    "    'ears': 2,\n",
    "    'legs': 4,\n",
    "}\n",
    "\n",
    "\n",
    "food_features ={\n",
    "    ...\n",
    "}\n",
    "\n",
    "def animal(name,feature):\n",
    "    print(f'the name of the animal is {name}')\n",
    "    print(f'the animal has the following attributes {feature}')\n",
    "\n",
    "\n",
    "\n",
    "\n",
    "def communincate(name):\n",
    "    print(f'the {name} {com_features[name]}')\n",
    "\n",
    "\n",
    "def food(name):\n",
    "    print(f'the {name} {food_features[name]}')\n",
    "\n",
    "\n"
   ],
   "outputs": [],
   "metadata": {}
  },
  {
   "cell_type": "code",
   "execution_count": 28,
   "source": [
    "animal('dog',dog_features)\n",
    "animal('lion',lion_features)\n",
    "\n",
    "\n",
    "communincate('lion')"
   ],
   "outputs": [
    {
     "output_type": "stream",
     "name": "stdout",
     "text": [
      "the name of the animal is dog\n",
      "the animal has the following attributes {'eyes': 2, 'ears': 2, 'legs': 4}\n",
      "the name of the animal is lion\n",
      "the animal has the following attributes {'eyes': 2, 'ears': 2, 'legs': 4}\n",
      "the lion roars\n"
     ]
    }
   ],
   "metadata": {}
  },
  {
   "cell_type": "code",
   "execution_count": 37,
   "source": [
    "class Animal:  #<--- class Animal\n",
    "    name = 'dog'   #Attributes of the class\n",
    "    ear = 2\n",
    "    eyes = 2\n",
    "    leg = 4\n",
    "\n",
    "\n",
    "dog = Animal()  #----creating an instace of the class object Animal\n",
    "\n",
    "print(dog.name)\n",
    "print(dog.eyes)\n",
    "print(dog.leg)\n",
    "\n",
    "\n",
    "lion = Animal()\n",
    "\n",
    "print(lion.name)\n",
    "print(lion.eyes)"
   ],
   "outputs": [
    {
     "output_type": "stream",
     "name": "stdout",
     "text": [
      "dog\n",
      "2\n",
      "4\n",
      "dog\n",
      "2\n"
     ]
    }
   ],
   "metadata": {}
  },
  {
   "cell_type": "code",
   "execution_count": null,
   "source": [
    "# str.capitalize()\n",
    "\n",
    "class str:\n",
    "\n",
    "    def capitalize(self):\n",
    "        ...\n",
    "\n",
    "\n",
    "\n",
    "sorted()\n",
    "\n",
    "def sorted(*args,**kwargs):\n",
    "    pass"
   ],
   "outputs": [],
   "metadata": {}
  },
  {
   "cell_type": "code",
   "execution_count": 3,
   "source": [
    "# method vs functions\n",
    "\n",
    "\n",
    "# Encapsulation\n",
    "# inheritance\n",
    "# Polymorphism\n",
    "# Abstraction   \n",
    "\n",
    "from functi import Animal2\n",
    "\n",
    "\n",
    "\n",
    "\n",
    "dog = Animal2('dog', dog_features,'barks')\n",
    "\n",
    "dog.communincate()\n",
    "\n",
    "\n",
    "dog.food('Meat')\n",
    "\n",
    "lion = Animal2('lion', lion_features,'roars')\n",
    "\n",
    "lion.communincate()\n",
    "lion.food('Elephant')\n",
    "lion.birthday()\n"
   ],
   "outputs": [
    {
     "output_type": "stream",
     "name": "stdout",
     "text": [
      "dog {'eyes': 2, 'ears': 2, 'legs': 4}\n",
      "the dog barks\n",
      "dog would like to eat Meat\n",
      "lion {'eyes': 2, 'ears': 2, 'legs': 4}\n",
      "the lion roars\n",
      "lion would like to eat Elephant\n",
      "happy Birthday\n"
     ]
    }
   ],
   "metadata": {}
  },
  {
   "cell_type": "code",
   "execution_count": 55,
   "source": [
    "'the quick brown fox'.split()"
   ],
   "outputs": [
    {
     "output_type": "execute_result",
     "data": {
      "text/plain": [
       "['the', 'quick', 'brown', 'fox']"
      ]
     },
     "metadata": {},
     "execution_count": 55
    }
   ],
   "metadata": {}
  },
  {
   "cell_type": "code",
   "execution_count": null,
   "source": [
    "Animal()  #-----> class object DataFrame\n",
    "animal()  #------> function  print dir help"
   ],
   "outputs": [],
   "metadata": {}
  },
  {
   "cell_type": "code",
   "execution_count": 25,
   "source": [
    "# Applications Hr data  name, age depart  \n",
    "# generates email based on ther first and lastname\n",
    "\n",
    "\n",
    "class Employee:\n",
    "\n",
    "    def __init__(self,firstname,lastname, age ,dept,salary):\n",
    "        self.firstname = firstname\n",
    "        self.lastname = lastname\n",
    "        self.age = age\n",
    "        self.dept = dept\n",
    "        self.salary = salary\n",
    "\n",
    "\n",
    "    def email(self):\n",
    "        return f'{self.firstname}_{self.lastname}@company.com'\n",
    "\n",
    "    def tax(self):\n",
    "        return f'${self.salary *0.25:.2f}'"
   ],
   "outputs": [],
   "metadata": {}
  },
  {
   "cell_type": "code",
   "execution_count": 26,
   "source": [
    "emp1_data = ['ade', 'sam', '10', 'marketing', 10000]\n",
    "emp1 = Employee(*emp1_data)\n",
    "emp1.email()\n",
    "emp1.tax()"
   ],
   "outputs": [
    {
     "output_type": "execute_result",
     "data": {
      "text/plain": [
       "'$2500.00'"
      ]
     },
     "metadata": {},
     "execution_count": 26
    }
   ],
   "metadata": {}
  },
  {
   "cell_type": "code",
   "execution_count": 10,
   "source": [
    "def som(a,b,c):\n",
    "    print(a)\n",
    "    print(b)\n",
    "    print(c)\n",
    "\n",
    "def som1(*args,**kwargs):\n",
    "    pass\n",
    "\n",
    "\n",
    "dat = [1,2,3]\n",
    "\n",
    "som(*dat)\n",
    "som(1,2,3)"
   ],
   "outputs": [
    {
     "output_type": "stream",
     "name": "stdout",
     "text": [
      "1\n",
      "2\n",
      "3\n"
     ]
    }
   ],
   "metadata": {}
  },
  {
   "cell_type": "code",
   "execution_count": 27,
   "source": [
    "\n",
    "class Manager(Employee):\n",
    "    pass\n",
    "  "
   ],
   "outputs": [],
   "metadata": {}
  },
  {
   "cell_type": "code",
   "execution_count": 34,
   "source": [
    "man1_data = ['John', 'Doe',16, 'logistics', 30000]\n",
    "man1= Manager(*man1_data)\n",
    "man1.tax()\n",
    "man1.email()"
   ],
   "outputs": [
    {
     "output_type": "execute_result",
     "data": {
      "text/plain": [
       "'John_Doe@company.com'"
      ]
     },
     "metadata": {},
     "execution_count": 34
    }
   ],
   "metadata": {}
  },
  {
   "cell_type": "code",
   "execution_count": 59,
   "source": [
    "class Mylist(list):\n",
    "\n",
    "    def directory(self):\n",
    "        print(dir(self))\n",
    "\n",
    "    def sample(self):\n",
    "        pass"
   ],
   "outputs": [],
   "metadata": {}
  },
  {
   "cell_type": "code",
   "execution_count": 60,
   "source": [
    "a = Mylist([1,2,3,4,5,6,7])\n",
    "a.directory()"
   ],
   "outputs": [
    {
     "output_type": "stream",
     "name": "stdout",
     "text": [
      "['__add__', '__class__', '__class_getitem__', '__contains__', '__delattr__', '__delitem__', '__dict__', '__dir__', '__doc__', '__eq__', '__format__', '__ge__', '__getattribute__', '__getitem__', '__gt__', '__hash__', '__iadd__', '__imul__', '__init__', '__init_subclass__', '__iter__', '__le__', '__len__', '__lt__', '__module__', '__mul__', '__ne__', '__new__', '__reduce__', '__reduce_ex__', '__repr__', '__reversed__', '__rmul__', '__setattr__', '__setitem__', '__sizeof__', '__str__', '__subclasshook__', '__weakref__', 'append', 'clear', 'copy', 'count', 'directory', 'extend', 'index', 'insert', 'pop', 'remove', 'reverse', 'sample', 'sort']\n"
     ]
    }
   ],
   "metadata": {}
  },
  {
   "cell_type": "code",
   "execution_count": 62,
   "source": [
    "class Dataframe1(pandas):\n",
    "    \n",
    "    def puling(self):\n",
    "        pass\n",
    "    def transformation(self):\n",
    "        pass\n",
    "\n",
    "    def saving(self):\n",
    "        pass"
   ],
   "outputs": [],
   "metadata": {}
  },
  {
   "cell_type": "code",
   "execution_count": 11,
   "source": [
    "class Mathematics:\n",
    "\n",
    "\n",
    "    def __init__(self,val):\n",
    "        self.val= val\n",
    "    \n",
    "    def __add__(self,other):\n",
    "        print('i am adding')\n",
    "        return self.val + other\n",
    "\n",
    "\n",
    "    def __ge__(self, value):\n",
    "        return self.val > value"
   ],
   "outputs": [],
   "metadata": {}
  },
  {
   "cell_type": "code",
   "execution_count": 13,
   "source": [
    "maths = Mathematics(1)\n",
    "maths1 = Mathematics(1)\n",
    "maths >= 2\n",
    "\n"
   ],
   "outputs": [
    {
     "output_type": "execute_result",
     "data": {
      "text/plain": [
       "False"
      ]
     },
     "metadata": {},
     "execution_count": 13
    }
   ],
   "metadata": {}
  },
  {
   "cell_type": "code",
   "execution_count": 20,
   "source": [
    "import time\n",
    "class FileOpener:\n",
    "\n",
    "    def __init__(self):\n",
    "        pass\n",
    "\n",
    "    def __enter__(self):\n",
    "        print('i am entering and logging in')\n",
    "        time.sleep(2)\n",
    "    def __exit__(self, *args, **kwargs):\n",
    "        print('i am out!!!!!')\n",
    "        return 'Done!'\n",
    "\n",
    "with FileOpener() as file:\n",
    "    print(file)"
   ],
   "outputs": [
    {
     "output_type": "stream",
     "name": "stdout",
     "text": [
      "i am entering and logging in\n",
      "None\n",
      "i am out!!!!!\n"
     ]
    }
   ],
   "metadata": {}
  },
  {
   "cell_type": "code",
   "execution_count": 17,
   "source": [
    "# print(dir(list))\n",
    "print(dir(dict))"
   ],
   "outputs": [
    {
     "output_type": "stream",
     "name": "stdout",
     "text": [
      "['__class__', '__class_getitem__', '__contains__', '__delattr__', '__delitem__', '__dir__', '__doc__', '__eq__', '__format__', '__ge__', '__getattribute__', '__getitem__', '__gt__', '__hash__', '__init__', '__init_subclass__', '__ior__', '__iter__', '__le__', '__len__', '__lt__', '__ne__', '__new__', '__or__', '__reduce__', '__reduce_ex__', '__repr__', '__reversed__', '__ror__', '__setattr__', '__setitem__', '__sizeof__', '__str__', '__subclasshook__', 'clear', 'copy', 'fromkeys', 'get', 'items', 'keys', 'pop', 'popitem', 'setdefault', 'update', 'values']\n"
     ]
    }
   ],
   "metadata": {}
  },
  {
   "cell_type": "code",
   "execution_count": 22,
   "source": [
    "\n",
    "class Pipeline:\n",
    "\n",
    "    def __init__(self):\n",
    "        self.StartProcess()\n",
    "\n",
    "    def reader(self):\n",
    "        with FileOpener() as file:\n",
    "            print(file)\n",
    "            time.sleep(2)\n",
    "        return 'done! with reader!!'\n",
    "\n",
    "    def Transformation(self):\n",
    "        resul= self.reader()\n",
    "        print('in trnasformation the file read', resul)\n",
    "        time.sleep(2)\n",
    "        return 'done! with transaformation!!'\n",
    "    \n",
    "\n",
    "    def FeatureExtract(self):\n",
    "        feature = self.Transformation()\n",
    "        print('feature started ', feature)\n",
    "        time.sleep(2)\n",
    "        return 'done with feature '\n",
    "\n",
    "\n",
    "    def StartProcess(self): #trigger\n",
    "        return self.FeatureExtract()\n",
    "        \n",
    "    \n",
    "\n",
    "Pipeline()\n",
    "\n",
    "\n",
    "\n",
    "\n",
    "# getting from source  api--json  csv sql data...\n",
    "\n",
    "# clean data    \n",
    "\n",
    "# Explore data  feature extraction\n",
    "\n",
    "# data anlysis or report  python visiualisation tools power bi or tabluea excel ...\n",
    "\n"
   ],
   "outputs": [
    {
     "output_type": "stream",
     "name": "stdout",
     "text": [
      "i am entering and logging in\n",
      "None\n",
      "i am out!!!!!\n",
      "in trnasformation the file read done! with reader!!\n",
      "fearuew started  done! with transaformation!!\n"
     ]
    },
    {
     "output_type": "execute_result",
     "data": {
      "text/plain": [
       "<__main__.Pipeline at 0x7ffcdf650520>"
      ]
     },
     "metadata": {},
     "execution_count": 22
    }
   ],
   "metadata": {}
  },
  {
   "cell_type": "code",
   "execution_count": null,
   "source": [],
   "outputs": [],
   "metadata": {}
  }
 ],
 "metadata": {
  "orig_nbformat": 4,
  "language_info": {
   "name": "python",
   "version": "3.9.1",
   "mimetype": "text/x-python",
   "codemirror_mode": {
    "name": "ipython",
    "version": 3
   },
   "pygments_lexer": "ipython3",
   "nbconvert_exporter": "python",
   "file_extension": ".py"
  },
  "kernelspec": {
   "name": "python3",
   "display_name": "Python 3.9.1 64-bit"
  },
  "interpreter": {
   "hash": "397704579725e15f5c7cb49fe5f0341eb7531c82d19f2c29d197e8b64ab5776b"
  }
 },
 "nbformat": 4,
 "nbformat_minor": 2
}