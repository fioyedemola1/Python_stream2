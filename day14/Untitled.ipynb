{
 "cells": [
  {
   "cell_type": "code",
   "execution_count": 7,
   "id": "0b377f16-233b-48d0-85b6-944bf85fc213",
   "metadata": {},
   "outputs": [],
   "source": [
    "from collections import namedtuple\n",
    "import requests\n",
    "import json"
   ]
  },
  {
   "cell_type": "code",
   "execution_count": null,
   "id": "6b1a18e0-3363-48ef-9583-2857b04d4f2c",
   "metadata": {},
   "outputs": [],
   "source": [
    "# aplication interface"
   ]
  },
  {
   "cell_type": "code",
   "execution_count": 30,
   "id": "332823da-9bee-40d9-921c-ad3a4c75ec8b",
   "metadata": {},
   "outputs": [
    {
     "name": "stdout",
     "output_type": "stream",
     "text": [
      "CPU times: user 10 µs, sys: 1 µs, total: 11 µs\n",
      "Wall time: 13.8 µs\n",
      "['https://restcountries.eu/rest/v2/name/kenya', 'https://restcountries.eu/rest/v2/name/Nigeria', 'https://restcountries.eu/rest/v2/name/brazil', 'https://restcountries.eu/rest/v2/name/japan', 'https://restcountries.eu/rest/v2/name/china', 'https://restcountries.eu/rest/v2/name/germany', 'https://restcountries.eu/rest/v2/name/finland', 'https://restcountries.eu/rest/v2/name/egypt', 'https://restcountries.eu/rest/v2/name/ghana', 'https://restcountries.eu/rest/v2/name/togo']\n"
     ]
    }
   ],
   "source": [
    "countries= 'kenya Nigeria brazil japan china germany finland egypt ghana togo'.split()\n",
    "\n",
    "url = f'https://restcountries.eu/rest/v2/name/{name}'\n",
    "\n",
    "# print(url)\n",
    "\n",
    "# empty_li= []\n",
    "\n",
    "\n",
    "# def name():\n",
    "#     for i in countries:\n",
    "#         print(i)\n",
    "#         empty_li.append(f'https://restcountries.eu/rest/v2/name/{i}')   # return exit function\n",
    "        \n",
    "\n",
    "        \n",
    "        \n",
    "        \n",
    "        \n",
    "# def name1(name):\n",
    "#     return f'https://restcountries.eu/rest/v2/name/{name}'\n",
    "\n",
    "# for i  in countries:\n",
    "#     empty_li.append(name1(i))\n",
    "    \n",
    "    \n",
    "url_comp = [f'https://restcountries.eu/rest/v2/name/{name}' for name in countries]\n",
    "print(url_comp)"
   ]
  },
  {
   "cell_type": "code",
   "execution_count": 18,
   "id": "7501ba1d-dd86-4b76-92c3-0ba29b5cd17c",
   "metadata": {},
   "outputs": [
    {
     "name": "stdout",
     "output_type": "stream",
     "text": [
      "https://restcountries.eu/rest/v2/name/kenya\n"
     ]
    }
   ],
   "source": [
    "# print(empty_li[0])"
   ]
  },
  {
   "cell_type": "code",
   "execution_count": 50,
   "id": "0bf71d61-1bdb-47f7-8bd1-23d32ce0c9e8",
   "metadata": {},
   "outputs": [
    {
     "data": {
      "text/plain": [
       "{'name': 'Togo', 'population': 7143000, 'region': 'Africa'}"
      ]
     },
     "execution_count": 50,
     "metadata": {},
     "output_type": "execute_result"
    }
   ],
   "source": [
    "def get_country_info(url):\n",
    "    response = requests.get(url)\n",
    "    country = json.loads(response.text)[0]\n",
    "    name, population,region = country['name'], country['population'], country['region']\n",
    "    country_name = namedtuple('country_name', 'name population region')\n",
    "    return country_name(name, population, region)._asdict()\n",
    "\n",
    "\n",
    "get_country_info(url)"
   ]
  },
  {
   "cell_type": "code",
   "execution_count": 39,
   "id": "6ae1b3f3-e38c-4f85-bbd8-4e6f2bfb1e27",
   "metadata": {},
   "outputs": [],
   "source": [
    "country_list = []\n",
    "\n",
    "for url in url_comp: \n",
    "    country_list.append(get_country_info(url))"
   ]
  },
  {
   "cell_type": "code",
   "execution_count": 51,
   "id": "31e3b4be-1f5e-414f-a337-73e9a505f2f6",
   "metadata": {},
   "outputs": [
    {
     "name": "stdout",
     "output_type": "stream",
     "text": [
      "[{'name': 'Kenya', 'population': 47251000, 'region': 'Africa'}, {'name': 'Nigeria', 'population': 186988000, 'region': 'Africa'}, {'name': 'Brazil', 'population': 206135893, 'region': 'Americas'}, {'name': 'Japan', 'population': 126960000, 'region': 'Asia'}, {'name': 'China', 'population': 1377422166, 'region': 'Asia'}, {'name': 'Germany', 'population': 81770900, 'region': 'Europe'}, {'name': 'Finland', 'population': 5491817, 'region': 'Europe'}, {'name': 'Egypt', 'population': 91290000, 'region': 'Africa'}, {'name': 'Ghana', 'population': 27670174, 'region': 'Africa'}, {'name': 'Togo', 'population': 7143000, 'region': 'Africa'}]\n"
     ]
    }
   ],
   "source": [
    "new_country_list = list(map(get_country_info,url_comp))\n",
    "print(new_country_list)"
   ]
  },
  {
   "cell_type": "code",
   "execution_count": 47,
   "id": "08dfd396-4cff-46a3-b5a6-e9d88a4acd71",
   "metadata": {},
   "outputs": [],
   "source": [
    "with open('countries.csv','a') as write:\n",
    "    write.writelines(str(country_list))"
   ]
  },
  {
   "cell_type": "code",
   "execution_count": 48,
   "id": "4501f4b8-5cd1-471d-9409-b57f4532d206",
   "metadata": {},
   "outputs": [
    {
     "name": "stdout",
     "output_type": "stream",
     "text": [
      "[{'name': 'Kenya', 'population': 47251000, 'region': 'Africa'}, {'name': 'Nigeria', 'population': 186988000, 'region': 'Africa'}, {'name': 'Brazil', 'population': 206135893, 'region': 'Americas'}, {'name': 'Japan', 'population': 126960000, 'region': 'Asia'}, {'name': 'China', 'population': 1377422166, 'region': 'Asia'}, {'name': 'Germany', 'population': 81770900, 'region': 'Europe'}, {'name': 'Finland', 'population': 5491817, 'region': 'Europe'}, {'name': 'Egypt', 'population': 91290000, 'region': 'Africa'}, {'name': 'Ghana', 'population': 27670174, 'region': 'Africa'}, {'name': 'Togo', 'population': 7143000, 'region': 'Africa'}]\n"
     ]
    }
   ],
   "source": [
    "with open('countries.csv','r') as file:\n",
    "    print(file.read())"
   ]
  },
  {
   "cell_type": "code",
   "execution_count": 52,
   "id": "f41096bf-5091-4559-a34d-7ee54dae72a4",
   "metadata": {},
   "outputs": [
    {
     "name": "stdout",
     "output_type": "stream",
     "text": [
      "Requirement already satisfied: numpy in /Users/de_tai/opt/anaconda3/lib/python3.8/site-packages (1.20.3)\n"
     ]
    }
   ],
   "source": [
    "!pip install numpy"
   ]
  },
  {
   "cell_type": "code",
   "execution_count": 53,
   "id": "f865da34-71b0-4cb6-bda7-a89cc8808435",
   "metadata": {},
   "outputs": [],
   "source": [
    "import numpy as np"
   ]
  },
  {
   "cell_type": "code",
   "execution_count": 59,
   "id": "1c813328-3ee9-434f-886f-993d2b4f379d",
   "metadata": {},
   "outputs": [
    {
     "data": {
      "text/plain": [
       "array(['yes', '1', '2', '3', '4'], dtype=object)"
      ]
     },
     "execution_count": 59,
     "metadata": {},
     "output_type": "execute_result"
    }
   ],
   "source": [
    "# efficency\n",
    "# mathematical operations\n",
    "\n",
    "# it can only one data type in it. # List\n",
    "\n",
    "np.array(['yes',1,2,3,4]).astype('object')  # represnts strings"
   ]
  },
  {
   "cell_type": "code",
   "execution_count": 67,
   "id": "107ee8af-e532-4865-bae5-1a936409322d",
   "metadata": {},
   "outputs": [],
   "source": [
    "# method function and attribute\n",
    "\n",
    "# name()  #<--- function\n",
    "\n",
    "# Name()  #<-- class object\n",
    "\n",
    "# name.surname() #<--- method\n",
    "\n",
    "# name.surname #<--- attribute\n",
    "\n",
    "\n",
    "class Person:\n",
    "    surname = 'ade'\n",
    "    \n",
    "    @property  #property converts to attibute of a class\n",
    "    def email(self):\n",
    "        print('ade@email.com')\n"
   ]
  },
  {
   "cell_type": "code",
   "execution_count": 66,
   "id": "efec3288-6515-4458-a336-1cb1bd5175ba",
   "metadata": {},
   "outputs": [
    {
     "name": "stdout",
     "output_type": "stream",
     "text": [
      "ade@email.com\n"
     ]
    },
    {
     "data": {
      "text/plain": [
       "'ade'"
      ]
     },
     "execution_count": 66,
     "metadata": {},
     "output_type": "execute_result"
    }
   ],
   "source": [
    "name = Person()  #instace\n",
    "\n",
    "name.email  #method\n",
    "name.surname"
   ]
  },
  {
   "cell_type": "code",
   "execution_count": 71,
   "id": "4b7f3358-c726-4a3a-97e3-aa75da3577db",
   "metadata": {},
   "outputs": [
    {
     "name": "stdout",
     "output_type": "stream",
     "text": [
      "[1 1 1 1 1 1 1 1 1 1]\n"
     ]
    }
   ],
   "source": [
    "array = np.ones(10, dtype='int')\n",
    "print(array)"
   ]
  },
  {
   "cell_type": "code",
   "execution_count": 72,
   "id": "d8a2d755-bf70-4963-9a1e-37772780bda9",
   "metadata": {},
   "outputs": [
    {
     "data": {
      "text/plain": [
       "(10,)"
      ]
     },
     "execution_count": 72,
     "metadata": {},
     "output_type": "execute_result"
    }
   ],
   "source": [
    "array.shape"
   ]
  },
  {
   "cell_type": "code",
   "execution_count": 73,
   "id": "b0c4989a-8fc9-42a9-96b4-d1b4c814a694",
   "metadata": {},
   "outputs": [
    {
     "data": {
      "text/plain": [
       "1"
      ]
     },
     "execution_count": 73,
     "metadata": {},
     "output_type": "execute_result"
    }
   ],
   "source": [
    "array.ndim"
   ]
  },
  {
   "cell_type": "code",
   "execution_count": 90,
   "id": "0cc1bb21-62be-46c8-a27f-31c74cd40794",
   "metadata": {},
   "outputs": [
    {
     "data": {
      "text/plain": [
       "(2, 6)"
      ]
     },
     "execution_count": 90,
     "metadata": {},
     "output_type": "execute_result"
    }
   ],
   "source": [
    "array1 = np.random.rand(2,6)\n",
    "array1.shape"
   ]
  },
  {
   "cell_type": "code",
   "execution_count": 106,
   "id": "ceebe8a4-7cba-4f70-99b4-dc3debeda4d0",
   "metadata": {},
   "outputs": [
    {
     "name": "stdout",
     "output_type": "stream",
     "text": [
      "['THE', 'QUICK', 'BROWN', 'FOX', 'JUMPS', 'OVER', 'THE', 'LAZY', 'DOG']\n"
     ]
    }
   ],
   "source": [
    "# chain operations\n",
    "\n",
    "value = ' th,e q,uick b,rown fox jumps ov,er the lazy dog'\n",
    "\n",
    "# upper\n",
    "# remove commas\n",
    "# list\n",
    "\n",
    "\n",
    "# # Dry\n",
    "# value = value.upper()\n",
    "# value = value.replace(',','')\n",
    "# value = value.split()\n",
    "# print(value)\n",
    "\n",
    "# def string_convert(string):\n",
    "#     return string.upper().replace(',','').split()\n",
    "\n",
    "\n",
    "#chaining or piping\n",
    "value = (value.upper()\n",
    "        .replace(',','')\n",
    "          .split()\n",
    "            )\n",
    "\n",
    "\n",
    "print(value)"
   ]
  },
  {
   "cell_type": "code",
   "execution_count": 88,
   "id": "e9c49e64-edd0-4f17-a469-3cc3b4cf3589",
   "metadata": {},
   "outputs": [],
   "source": [
    "from pprint import pprint\n",
    "# pprint(array1, width=30,depth=1)\n",
    "\n",
    "trans_array = array1.T"
   ]
  },
  {
   "cell_type": "code",
   "execution_count": 89,
   "id": "03533f04-1711-459e-93c6-00ae3eb53236",
   "metadata": {},
   "outputs": [
    {
     "data": {
      "text/plain": [
       "(6, 2)"
      ]
     },
     "execution_count": 89,
     "metadata": {},
     "output_type": "execute_result"
    }
   ],
   "source": [
    "trans_array.shape"
   ]
  },
  {
   "cell_type": "code",
   "execution_count": 95,
   "id": "5f88bc4c-a67f-4b2b-8b3e-a19e993aa5a5",
   "metadata": {},
   "outputs": [
    {
     "name": "stdout",
     "output_type": "stream",
     "text": [
      "array([[0.53769499, 0.35865619],\n",
      "       [0.80416203, 0.62673156],\n",
      "       [0.06881327, 0.50830097],\n",
      "       [0.90935584, 0.13104672],\n",
      "       [0.44391791, 0.52630848],\n",
      "       [0.90651259, 0.76575921]])\n"
     ]
    }
   ],
   "source": [
    "another_tran= array1.reshape((6, 2))\n",
    "pprint(trans_array)"
   ]
  },
  {
   "cell_type": "code",
   "execution_count": 97,
   "id": "94084921-2fae-414a-8a06-5f0ed7af8627",
   "metadata": {},
   "outputs": [
    {
     "data": {
      "text/plain": [
       "array([0.35865619, 0.62673156, 0.50830097, 0.13104672, 0.52630848,\n",
       "       0.76575921])"
      ]
     },
     "execution_count": 97,
     "metadata": {},
     "output_type": "execute_result"
    }
   ],
   "source": [
    "trans_array[:,1]  #what value or type are returned "
   ]
  },
  {
   "cell_type": "code",
   "execution_count": 112,
   "id": "3c09022c-adb9-421e-93de-2800064b8ee6",
   "metadata": {},
   "outputs": [
    {
     "name": "stdout",
     "output_type": "stream",
     "text": [
      "[40, 60, 48, 4, 96, 136, 105, 132]\n"
     ]
    }
   ],
   "source": [
    "qty_sold = [2,3,4,2,3,4,5,6,3]\n",
    "price = [20,20,12,2,32,34,21,22]\n",
    "sales = []\n",
    "for qty,pri in zip(qty_sold,price):\n",
    "    sales.append(qty *pri)\n",
    "\n",
    "print(sales)"
   ]
  },
  {
   "cell_type": "code",
   "execution_count": 118,
   "id": "7e71365c-29fd-41d9-835f-1a7ceeeba463",
   "metadata": {},
   "outputs": [
    {
     "name": "stdout",
     "output_type": "stream",
     "text": [
      "[list([2, 3, 4, 2, 3, 4, 5, 6, 3]) list([20, 20, 12, 2, 32, 34, 21, 22])]\n"
     ]
    },
    {
     "name": "stderr",
     "output_type": "stream",
     "text": [
      "/Users/de_tai/opt/anaconda3/lib/python3.8/site-packages/numpy/core/_asarray.py:102: VisibleDeprecationWarning: Creating an ndarray from ragged nested sequences (which is a list-or-tuple of lists-or-tuples-or ndarrays with different lengths or shapes) is deprecated. If you meant to do this, you must specify 'dtype=object' when creating the ndarray.\n",
      "  return array(a, dtype, copy=False, order=order)\n"
     ]
    }
   ],
   "source": [
    "arr = np.array([qty_sold,price)\n",
    "print(arr)"
   ]
  },
  {
   "cell_type": "code",
   "execution_count": 157,
   "id": "a3586db0-6080-4855-9c7e-91c93787b718",
   "metadata": {},
   "outputs": [],
   "source": [
    "qty_sold = np.array([2,3,4,2,3,4,5,6])\n",
    "price = np.array([20,20,12,2,32,34,21,22])\n",
    "\n",
    "arr1 = np.array(qty_sold)\n",
    "arr2= np.array(price)"
   ]
  },
  {
   "cell_type": "code",
   "execution_count": 158,
   "id": "dc38be24-0125-435b-bb16-cc35a9ea3a73",
   "metadata": {},
   "outputs": [
    {
     "name": "stdout",
     "output_type": "stream",
     "text": [
      "[ 40  60  48   4  96 136 105 132]\n"
     ]
    }
   ],
   "source": [
    "new_arr = qty_sold* price\n",
    "print(new_arr)\n",
    "\n",
    "\n",
    "total_sale = new_arr.sum()"
   ]
  },
  {
   "cell_type": "code",
   "execution_count": 138,
   "id": "af1e8075-8daa-4704-a820-60a5b39c551e",
   "metadata": {},
   "outputs": [
    {
     "data": {
      "text/plain": [
       "array([ 40, 100, 148, 152, 248, 384, 489, 621])"
      ]
     },
     "execution_count": 138,
     "metadata": {},
     "output_type": "execute_result"
    }
   ],
   "source": [
    "new_arr.cumsum()"
   ]
  },
  {
   "cell_type": "code",
   "execution_count": 139,
   "id": "0729bbaa-768e-46ce-a26e-04fd9fa97434",
   "metadata": {},
   "outputs": [
    {
     "data": {
      "text/plain": [
       "array([  4,  40,  48,  60,  96, 105, 132, 136])"
      ]
     },
     "execution_count": 139,
     "metadata": {},
     "output_type": "execute_result"
    }
   ],
   "source": [
    "np.unique(new_arr)  #"
   ]
  },
  {
   "cell_type": "code",
   "execution_count": 160,
   "id": "078daac4-edd8-460b-b4ec-bc7d7ff2c602",
   "metadata": {},
   "outputs": [
    {
     "name": "stdout",
     "output_type": "stream",
     "text": [
      "True\n",
      "True\n"
     ]
    }
   ],
   "source": [
    "print(np.any(new_arr))\n",
    "print(np.all(new_arr))"
   ]
  },
  {
   "cell_type": "code",
   "execution_count": 163,
   "id": "8242e094-85b7-4c73-9f2b-b670c2384140",
   "metadata": {},
   "outputs": [
    {
     "name": "stdout",
     "output_type": "stream",
     "text": [
      "True\n",
      "False\n"
     ]
    }
   ],
   "source": [
    "new_arr[4]= 0\n",
    "\n",
    "print(np.any(new_arr))\n",
    "print(np.all(new_arr))"
   ]
  },
  {
   "cell_type": "code",
   "execution_count": 155,
   "id": "b891e542-cda1-457a-9819-6f160d41659b",
   "metadata": {},
   "outputs": [
    {
     "data": {
      "text/plain": [
       "array([2, 3, 4, 2, 3, 4, 5, 6])"
      ]
     },
     "execution_count": 155,
     "metadata": {},
     "output_type": "execute_result"
    }
   ],
   "source": [
    "sub_set[3:] = [1,25,6,7,90]\n",
    "qty_sold"
   ]
  },
  {
   "cell_type": "code",
   "execution_count": 151,
   "id": "fa21fee1-b254-4c38-ac43-dac10169e882",
   "metadata": {},
   "outputs": [
    {
     "data": {
      "text/plain": [
       "array([2, 3, 4, 2, 3, 4, 5, 6])"
      ]
     },
     "execution_count": 151,
     "metadata": {},
     "output_type": "execute_result"
    }
   ],
   "source": []
  },
  {
   "cell_type": "code",
   "execution_count": 168,
   "id": "768968ce-09dc-48c4-8bc3-cd30ab9c6cb9",
   "metadata": {},
   "outputs": [
    {
     "data": {
      "text/plain": [
       "False"
      ]
     },
     "execution_count": 168,
     "metadata": {},
     "output_type": "execute_result"
    }
   ],
   "source": [
    "all([False, False,False])"
   ]
  },
  {
   "cell_type": "code",
   "execution_count": 171,
   "id": "75c15faa-bcf0-44d6-897b-1476946dc11d",
   "metadata": {},
   "outputs": [
    {
     "data": {
      "text/plain": [
       "False"
      ]
     },
     "execution_count": 171,
     "metadata": {},
     "output_type": "execute_result"
    }
   ],
   "source": [
    "bool(0)\n"
   ]
  },
  {
   "cell_type": "code",
   "execution_count": 179,
   "id": "506e9d07-e413-4cbd-ad46-d363ec6ee69d",
   "metadata": {},
   "outputs": [
    {
     "name": "stdout",
     "output_type": "stream",
     "text": [
      "[ 8  0  8  3 15]\n"
     ]
    }
   ],
   "source": [
    "#  Indexing \n",
    "# list method [::]\n",
    "# bool indexing\n",
    "\n",
    "random_num = np.random.randint(17,size= 5)\n",
    "print(random_num)"
   ]
  },
  {
   "cell_type": "code",
   "execution_count": 190,
   "id": "ddd532dc-0765-49ab-990e-46b892225369",
   "metadata": {},
   "outputs": [
    {
     "name": "stdout",
     "output_type": "stream",
     "text": [
      "['sam' 'bob' 'philip' 'andy' 'samuel']\n"
     ]
    },
    {
     "data": {
      "text/plain": [
       "array(['andy'], dtype='<U6')"
      ]
     },
     "execution_count": 190,
     "metadata": {},
     "output_type": "execute_result"
    }
   ],
   "source": [
    "names = ['sam','bob','philip','andy','samuel']\n",
    "list_names= np.array(names)\n",
    "print(list_names)\n",
    "list_names == 'andy'\n",
    "list_names[list_names == 'andy']"
   ]
  },
  {
   "cell_type": "code",
   "execution_count": 191,
   "id": "eed2a618-31f2-4ae3-871e-0fbfa33bfc3e",
   "metadata": {},
   "outputs": [
    {
     "data": {
      "text/plain": [
       "array(['sam', 'bob', 'philip', 'samuel'], dtype='<U6')"
      ]
     },
     "execution_count": 191,
     "metadata": {},
     "output_type": "execute_result"
    }
   ],
   "source": [
    "list_names[list_names != 'andy']"
   ]
  },
  {
   "cell_type": "code",
   "execution_count": 192,
   "id": "3d1f1544-a986-47f9-995b-00ec27db137a",
   "metadata": {},
   "outputs": [
    {
     "data": {
      "text/plain": [
       "array([ 8,  0,  8, 15])"
      ]
     },
     "execution_count": 192,
     "metadata": {},
     "output_type": "execute_result"
    }
   ],
   "source": [
    "random_num[list_names != 'andy']"
   ]
  },
  {
   "cell_type": "code",
   "execution_count": 193,
   "id": "a723d19d-92ce-4692-a1eb-f931c28b6064",
   "metadata": {},
   "outputs": [
    {
     "name": "stdout",
     "output_type": "stream",
     "text": [
      "array([30, 51, 59, 32, 14, 57, 72, 85, 43, 46, 91, 51, 88, 36, 40, 43, 25,\n",
      "       80, 25, 24])\n"
     ]
    }
   ],
   "source": [
    "# np select and where\n",
    "\n",
    "\n",
    "large = np.random.randint(100,size= 20)\n",
    "pprint(large)\n",
    "\n"
   ]
  },
  {
   "cell_type": "code",
   "execution_count": 195,
   "id": "48ee91cb-615d-4a08-ac0d-de3b2be8cc4a",
   "metadata": {},
   "outputs": [],
   "source": [
    "new = []\n",
    "for val in large:\n",
    "    if val %2 == 0:\n",
    "        new.append(0)\n",
    "    else:\n",
    "        new.append(val)\n",
    "print(new)"
   ]
  },
  {
   "cell_type": "code",
   "execution_count": 201,
   "id": "e40e9de1-dda5-418a-9910-010eb74450c6",
   "metadata": {},
   "outputs": [
    {
     "data": {
      "text/plain": [
       "array([ 0, 51, 59,  0,  0, 57,  0, 85, 43,  0, 91, 51,  0,  0,  0, 43, 25,\n",
       "        0, 25,  0])"
      ]
     },
     "execution_count": 201,
     "metadata": {},
     "output_type": "execute_result"
    }
   ],
   "source": [
    "np.where((large % 2 ==0),0,large)"
   ]
  },
  {
   "cell_type": "code",
   "execution_count": 205,
   "id": "748b355c-2169-45af-a194-185d85ae3903",
   "metadata": {},
   "outputs": [
    {
     "data": {
      "text/plain": [
       "array([          0, 11111111111,      999999,           0,           0,\n",
       "            999999,           0, 85555555555,      999999,           0,\n",
       "            999999, 11111111111,           0,           0,           0,\n",
       "            999999,      999999,           0,      999999,           0])"
      ]
     },
     "execution_count": 205,
     "metadata": {},
     "output_type": "execute_result"
    }
   ],
   "source": [
    "condition= [large ==51, (large % 2== 0),large==85 ]\n",
    "choice = [11111111111,0,85555555555]\n",
    "\n",
    "np.select(condition,choicelist=choice, default=999999)"
   ]
  },
  {
   "cell_type": "code",
   "execution_count": 206,
   "id": "693a4964-02eb-4b52-a5e3-5a05283cfd1d",
   "metadata": {},
   "outputs": [
    {
     "data": {
      "text/plain": [
       "array([30, 51, 59, 32, 14, 57, 72, 85, 43, 46, 91, 51, 88, 36, 40, 43, 25,\n",
       "       80, 25, 24])"
      ]
     },
     "execution_count": 206,
     "metadata": {},
     "output_type": "execute_result"
    }
   ],
   "source": [
    "large"
   ]
  },
  {
   "cell_type": "code",
   "execution_count": 207,
   "id": "665361b6-4c0a-427e-b3aa-a38130668334",
   "metadata": {},
   "outputs": [
    {
     "name": "stdout",
     "output_type": "stream",
     "text": [
      "Requirement already satisfied: pandas in /Users/de_tai/opt/anaconda3/lib/python3.8/site-packages (1.3.0)\n",
      "Requirement already satisfied: numpy>=1.17.3 in /Users/de_tai/opt/anaconda3/lib/python3.8/site-packages (from pandas) (1.20.3)\n",
      "Requirement already satisfied: python-dateutil>=2.7.3 in /Users/de_tai/opt/anaconda3/lib/python3.8/site-packages (from pandas) (2.8.2)\n",
      "Requirement already satisfied: pytz>=2017.3 in /Users/de_tai/opt/anaconda3/lib/python3.8/site-packages (from pandas) (2021.1)\n",
      "Requirement already satisfied: six>=1.5 in /Users/de_tai/opt/anaconda3/lib/python3.8/site-packages (from python-dateutil>=2.7.3->pandas) (1.16.0)\n"
     ]
    }
   ],
   "source": [
    "!pip install pandas\n"
   ]
  },
  {
   "cell_type": "code",
   "execution_count": 208,
   "id": "388d1632-55f7-44f5-af49-c4b6b3a49997",
   "metadata": {},
   "outputs": [],
   "source": [
    "import pandas as pd"
   ]
  },
  {
   "cell_type": "code",
   "execution_count": 209,
   "id": "e2593140-30a7-4a23-bc66-b2f06d1574a1",
   "metadata": {},
   "outputs": [],
   "source": [
    "# types Series and DataFrame"
   ]
  },
  {
   "cell_type": "code",
   "execution_count": 216,
   "id": "95b8fe3d-e056-418b-8a80-66590735a032",
   "metadata": {},
   "outputs": [],
   "source": [
    "#  dict list, array, tuple\n",
    "\n",
    "dict_item ={\n",
    "    'a': 222,\n",
    "    'b':200,\n",
    "    'c':1000\n",
    "}"
   ]
  },
  {
   "cell_type": "code",
   "execution_count": 218,
   "id": "4bfc9032-3e08-4216-9a1e-efbd04f0d50e",
   "metadata": {},
   "outputs": [],
   "source": [
    "dict_ser= pd.Series(dict_item)"
   ]
  },
  {
   "cell_type": "code",
   "execution_count": 224,
   "id": "95b807fb-6f50-4472-93b1-f40d3dcfc14d",
   "metadata": {},
   "outputs": [],
   "source": [
    "lis_item=  [222,200,1000]\n",
    "list_index= 'a b c'.split()\n",
    "pd.Series(lis_item, index=list_index)\n",
    "list_ser = pd.Series(lis_item, index= [2,1,0], dtype='float')"
   ]
  },
  {
   "cell_type": "code",
   "execution_count": 225,
   "id": "eb8e8ac9-2273-42e3-9fbd-2dce1698f47e",
   "metadata": {},
   "outputs": [],
   "source": [
    "list_ser.index.name= 'sample name'"
   ]
  },
  {
   "cell_type": "code",
   "execution_count": 228,
   "id": "dafc608c-8a4e-4612-8779-76d3dbffc4b7",
   "metadata": {},
   "outputs": [
    {
     "data": {
      "text/html": [
       "<div>\n",
       "<style scoped>\n",
       "    .dataframe tbody tr th:only-of-type {\n",
       "        vertical-align: middle;\n",
       "    }\n",
       "\n",
       "    .dataframe tbody tr th {\n",
       "        vertical-align: top;\n",
       "    }\n",
       "\n",
       "    .dataframe thead th {\n",
       "        text-align: right;\n",
       "    }\n",
       "</style>\n",
       "<table border=\"1\" class=\"dataframe\">\n",
       "  <thead>\n",
       "    <tr style=\"text-align: right;\">\n",
       "      <th></th>\n",
       "      <th>name</th>\n",
       "    </tr>\n",
       "    <tr>\n",
       "      <th>sample name</th>\n",
       "      <th></th>\n",
       "    </tr>\n",
       "  </thead>\n",
       "  <tbody>\n",
       "    <tr>\n",
       "      <th>2</th>\n",
       "      <td>222.0</td>\n",
       "    </tr>\n",
       "    <tr>\n",
       "      <th>1</th>\n",
       "      <td>200.0</td>\n",
       "    </tr>\n",
       "    <tr>\n",
       "      <th>0</th>\n",
       "      <td>1000.0</td>\n",
       "    </tr>\n",
       "  </tbody>\n",
       "</table>\n",
       "</div>"
      ],
      "text/plain": [
       "               name\n",
       "sample name        \n",
       "2             222.0\n",
       "1             200.0\n",
       "0            1000.0"
      ]
     },
     "execution_count": 228,
     "metadata": {},
     "output_type": "execute_result"
    }
   ],
   "source": [
    "pd.DataFrame(list_ser, columns=['name'])"
   ]
  },
  {
   "cell_type": "code",
   "execution_count": null,
   "id": "bd011a9d-e557-437c-864a-a2f25b8685a9",
   "metadata": {},
   "outputs": [],
   "source": []
  }
 ],
 "metadata": {
  "kernelspec": {
   "display_name": "Python 3",
   "language": "python",
   "name": "python3"
  },
  "language_info": {
   "codemirror_mode": {
    "name": "ipython",
    "version": 3
   },
   "file_extension": ".py",
   "mimetype": "text/x-python",
   "name": "python",
   "nbconvert_exporter": "python",
   "pygments_lexer": "ipython3",
   "version": "3.8.10"
  }
 },
 "nbformat": 4,
 "nbformat_minor": 5
}
