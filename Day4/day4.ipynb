{
 "cells": [
  {
   "cell_type": "code",
   "execution_count": 166,
   "source": [
    "number = 1,2,3,4,5,6,7,8,9,0  #<--\n",
    "\n",
    "number2 = number[::-1]\n",
    "\n",
    "number3 = list(zip(number,number2))  # lazy and eager\n",
    "\n",
    "\n",
    "print(type(number3))"
   ],
   "outputs": [
    {
     "output_type": "stream",
     "name": "stdout",
     "text": [
      "<class 'list'>\n"
     ]
    }
   ],
   "metadata": {}
  },
  {
   "cell_type": "code",
   "execution_count": 167,
   "source": [
    "ex= 1,2,3,4,5,6,6\n",
    "ex2= 9,2,3,43,5,6\n",
    "\n",
    "\n",
    "# for indx, val in enumerate(ex):\n",
    "#     print(ex[indx],'exmaple1')\n",
    "#     print('*'*19)\n",
    "#     print(ex2[indx])\n",
    "\n",
    "\n",
    "for i in zip(ex,ex2):\n",
    "    print(i)\n",
    "\n"
   ],
   "outputs": [
    {
     "output_type": "stream",
     "name": "stdout",
     "text": [
      "(1, 9)\n",
      "(2, 2)\n",
      "(3, 3)\n",
      "(4, 43)\n",
      "(5, 5)\n",
      "(6, 6)\n"
     ]
    }
   ],
   "metadata": {}
  },
  {
   "cell_type": "code",
   "execution_count": 168,
   "source": [
    "my_list = ['apple', 'banana','grape']\n",
    "\n",
    "'apple' in my_list "
   ],
   "outputs": [
    {
     "output_type": "execute_result",
     "data": {
      "text/plain": [
       "True"
      ]
     },
     "metadata": {},
     "execution_count": 168
    }
   ],
   "metadata": {}
  },
  {
   "cell_type": "code",
   "execution_count": 169,
   "source": [
    "my_dict ={\n",
    "    'fruit': ['apple', 'banana','grape'],\n",
    "    'cars': ['toyota', 'mazda','Kia']\n",
    "}\n",
    "\n",
    "print('cars' in my_dict.values())\n",
    "print('key' in my_dict)"
   ],
   "outputs": [
    {
     "output_type": "stream",
     "name": "stdout",
     "text": [
      "False\n",
      "False\n"
     ]
    }
   ],
   "metadata": {}
  },
  {
   "cell_type": "code",
   "execution_count": 170,
   "source": [
    "'toyota' in list(my_dict.values())[1]"
   ],
   "outputs": [
    {
     "output_type": "execute_result",
     "data": {
      "text/plain": [
       "True"
      ]
     },
     "metadata": {},
     "execution_count": 170
    }
   ],
   "metadata": {}
  },
  {
   "cell_type": "code",
   "execution_count": 171,
   "source": [
    "example1 = [1,2,3,4,5,56,6,7]\n",
    "print(example1[::-1])\n",
    "\n",
    "print([1,2,3,4,5,56,6,7][::-1])"
   ],
   "outputs": [
    {
     "output_type": "stream",
     "name": "stdout",
     "text": [
      "[7, 6, 56, 5, 4, 3, 2, 1]\n",
      "[7, 6, 56, 5, 4, 3, 2, 1]\n"
     ]
    }
   ],
   "metadata": {}
  },
  {
   "cell_type": "code",
   "execution_count": 172,
   "source": [
    "' '\n",
    "\" \"\n",
    "str() #<--\n",
    "\n",
    "\n",
    "val: int= 1  # val = 1\n",
    "\n",
    "val2: str = str(val) # val2 =str(val)\n",
    "\n",
    "val3: str ='1'\n"
   ],
   "outputs": [],
   "metadata": {}
  },
  {
   "cell_type": "code",
   "execution_count": 173,
   "source": [
    "print('the boy isn\\'t home')\n",
    "print(\"the boy isn't home\")\n",
    "\n",
    "\n",
    "print(\"the boy isn't\\n home\")\n",
    "print(\"the boy isn't\\thome\")\n",
    "print('this is me', end=' ')\n",
    "print('another line')\n"
   ],
   "outputs": [
    {
     "output_type": "stream",
     "name": "stdout",
     "text": [
      "the boy isn't home\n",
      "the boy isn't home\n",
      "the boy isn't\n",
      " home\n",
      "the boy isn't\thome\n",
      "this is me another line\n"
     ]
    }
   ],
   "metadata": {}
  },
  {
   "cell_type": "code",
   "execution_count": 174,
   "source": [
    "# var =  '''\n",
    "#         a lion\n",
    "#         merily, i betold.....\n",
    "#         another line\n",
    "# '''\n",
    "# print(var)\n",
    "# # eval('print(\"hello world\")')\n",
    "\n",
    "# # val1 = int(input())\n",
    "# # val2 = int(input())\n",
    "\n",
    "# # val3 =  input()\n",
    "# # val4 = input()\n",
    "# # val4 = input()\n",
    "\n",
    "# eval('print(val3 + val4)')\n",
    "# val = eval('int(val3) + int(val4)')\n",
    "# print(val)\n",
    "\n",
    "# # my_dict[val4]\n",
    "\n",
    "# # my_maths= {\n",
    "# #     'add': % ,\n",
    "# #     'sub'\n",
    "# # }\n",
    "\n"
   ],
   "outputs": [],
   "metadata": {}
  },
  {
   "cell_type": "code",
   "execution_count": 175,
   "source": [
    "'the boy is going to school'.capitalize()\n",
    "'the boy is going to school'.upper()\n",
    "'THE BOY IS GOING TO SCHOOL'.lower()\n",
    "\n"
   ],
   "outputs": [
    {
     "output_type": "execute_result",
     "data": {
      "text/plain": [
       "'the boy is going to school'"
      ]
     },
     "metadata": {},
     "execution_count": 175
    }
   ],
   "metadata": {}
  },
  {
   "cell_type": "code",
   "execution_count": 176,
   "source": [
    "# 'apple banana grape orange pinapple'.split(' ')[0]\n",
    "# 'apple|banana|grape|orange|pinapple'.split('|')[2]\n",
    "# 'apple@banana@grape@orange@pinapple'.split('@')\n",
    "my_string = 'apple.banana.grape.orange.pinapple'.split('.')\n",
    "# 'applebananagrapeorangepinapple'.split(' ')"
   ],
   "outputs": [],
   "metadata": {}
  },
  {
   "cell_type": "code",
   "execution_count": 177,
   "source": [
    "'-'.join(my_string)"
   ],
   "outputs": [
    {
     "output_type": "execute_result",
     "data": {
      "text/plain": [
       "'apple-banana-grape-orange-pinapple'"
      ]
     },
     "metadata": {},
     "execution_count": 177
    }
   ],
   "metadata": {}
  },
  {
   "cell_type": "code",
   "execution_count": 178,
   "source": [
    "print(dir(str))"
   ],
   "outputs": [
    {
     "output_type": "stream",
     "name": "stdout",
     "text": [
      "['__add__', '__class__', '__contains__', '__delattr__', '__dir__', '__doc__', '__eq__', '__format__', '__ge__', '__getattribute__', '__getitem__', '__getnewargs__', '__gt__', '__hash__', '__init__', '__init_subclass__', '__iter__', '__le__', '__len__', '__lt__', '__mod__', '__mul__', '__ne__', '__new__', '__reduce__', '__reduce_ex__', '__repr__', '__rmod__', '__rmul__', '__setattr__', '__sizeof__', '__str__', '__subclasshook__', 'capitalize', 'casefold', 'center', 'count', 'encode', 'endswith', 'expandtabs', 'find', 'format', 'format_map', 'index', 'isalnum', 'isalpha', 'isascii', 'isdecimal', 'isdigit', 'isidentifier', 'islower', 'isnumeric', 'isprintable', 'isspace', 'istitle', 'isupper', 'join', 'ljust', 'lower', 'lstrip', 'maketrans', 'partition', 'removeprefix', 'removesuffix', 'replace', 'rfind', 'rindex', 'rjust', 'rpartition', 'rsplit', 'rstrip', 'split', 'splitlines', 'startswith', 'strip', 'swapcase', 'title', 'translate', 'upper', 'zfill']\n"
     ]
    }
   ],
   "metadata": {}
  },
  {
   "cell_type": "code",
   "execution_count": 179,
   "source": [
    "'anti-disestablishment'.startswith('anti')\n",
    "'anti-disestablishment'.endswith()('ment')"
   ],
   "outputs": [
    {
     "output_type": "error",
     "ename": "TypeError",
     "evalue": "endswith() takes at least 1 argument (0 given)",
     "traceback": [
      "\u001b[0;31m---------------------------------------------------------------------------\u001b[0m",
      "\u001b[0;31mTypeError\u001b[0m                                 Traceback (most recent call last)",
      "\u001b[0;32m<ipython-input-179-639b87344a03>\u001b[0m in \u001b[0;36m<module>\u001b[0;34m\u001b[0m\n\u001b[1;32m      1\u001b[0m \u001b[0;34m'anti-disestablishment'\u001b[0m\u001b[0;34m.\u001b[0m\u001b[0mstartswith\u001b[0m\u001b[0;34m(\u001b[0m\u001b[0;34m'anti'\u001b[0m\u001b[0;34m)\u001b[0m\u001b[0;34m\u001b[0m\u001b[0;34m\u001b[0m\u001b[0m\n\u001b[0;32m----> 2\u001b[0;31m \u001b[0;34m'anti-disestablishment'\u001b[0m\u001b[0;34m.\u001b[0m\u001b[0mendswith\u001b[0m\u001b[0;34m(\u001b[0m\u001b[0;34m)\u001b[0m\u001b[0;34m(\u001b[0m\u001b[0;34m'ment'\u001b[0m\u001b[0;34m)\u001b[0m\u001b[0;34m\u001b[0m\u001b[0;34m\u001b[0m\u001b[0m\n\u001b[0m",
      "\u001b[0;31mTypeError\u001b[0m: endswith() takes at least 1 argument (0 given)"
     ]
    }
   ],
   "metadata": {}
  },
  {
   "cell_type": "code",
   "execution_count": null,
   "source": [
    "'1233'.isnumeric()\n",
    "'abcd'.isalpha()"
   ],
   "outputs": [
    {
     "output_type": "execute_result",
     "data": {
      "text/plain": [
       "True"
      ]
     },
     "metadata": {},
     "execution_count": 115
    }
   ],
   "metadata": {}
  },
  {
   "cell_type": "code",
   "execution_count": null,
   "source": [
    "first = 'this is my phone number xxxxxxxxxxxx'\n",
    "second = 'this is my phone number 1234456654333322354354564565645645645332'"
   ],
   "outputs": [],
   "metadata": {}
  },
  {
   "cell_type": "code",
   "execution_count": null,
   "source": [
    "second.split(' ')[::-1][0].isnumeric()"
   ],
   "outputs": [
    {
     "output_type": "execute_result",
     "data": {
      "text/plain": [
       "True"
      ]
     },
     "metadata": {},
     "execution_count": 133
    }
   ],
   "metadata": {}
  },
  {
   "cell_type": "code",
   "execution_count": null,
   "source": [
    "var = 'apple banana grape pineapple'\n",
    "\n",
    "\n",
    "\n",
    "print(var)"
   ],
   "outputs": [
    {
     "output_type": "stream",
     "name": "stdout",
     "text": [
      "apple banana grape pineapple\n"
     ]
    }
   ],
   "metadata": {}
  },
  {
   "cell_type": "code",
   "execution_count": null,
   "source": [
    "# var2 = var.split(' ')\n",
    "\n",
    "\n",
    "# print(*var2,sep='\\n')\n",
    "\n",
    "\n",
    "# var3 = '\\n'.join(var.split(' '))\n",
    "\n",
    "\n",
    "print(var3)"
   ],
   "outputs": [
    {
     "output_type": "stream",
     "name": "stdout",
     "text": [
      "apple\n",
      "banana\n",
      "grape\n",
      "pineapple\n",
      "apple\n",
      "banana\n",
      "grape\n",
      "pineapple\n"
     ]
    }
   ],
   "metadata": {}
  },
  {
   "cell_type": "code",
   "execution_count": null,
   "source": [
    "'apple banana grape pineapple'.split(' ')"
   ],
   "outputs": [
    {
     "output_type": "execute_result",
     "data": {
      "text/plain": [
       "['apple', 'banana', 'grape', 'pineapple']"
      ]
     },
     "metadata": {},
     "execution_count": 149
    }
   ],
   "metadata": {}
  },
  {
   "cell_type": "code",
   "execution_count": null,
   "source": [
    "'\\n'.join(['apple', 'banana', 'grape', 'pineapple'])"
   ],
   "outputs": [
    {
     "output_type": "execute_result",
     "data": {
      "text/plain": [
       "'apple\\nbanana\\ngrape\\npineapple'"
      ]
     },
     "metadata": {},
     "execution_count": 155
    }
   ],
   "metadata": {}
  },
  {
   "cell_type": "code",
   "execution_count": null,
   "source": [
    "print('apple\\nbanana\\ngrape\\npineapple')"
   ],
   "outputs": [
    {
     "output_type": "stream",
     "name": "stdout",
     "text": [
      "apple\n",
      "banana\n",
      "grape\n",
      "pineapple\n"
     ]
    }
   ],
   "metadata": {}
  },
  {
   "cell_type": "code",
   "execution_count": null,
   "source": [
    "'\\n'.join('apple banana grape pineapple')"
   ],
   "outputs": [
    {
     "output_type": "execute_result",
     "data": {
      "text/plain": [
       "'a\\np\\np\\nl\\ne\\n \\nb\\na\\nn\\na\\nn\\na\\n \\ng\\nr\\na\\np\\ne\\n \\np\\ni\\nn\\ne\\na\\np\\np\\nl\\ne'"
      ]
     },
     "metadata": {},
     "execution_count": 161
    }
   ],
   "metadata": {}
  },
  {
   "cell_type": "code",
   "execution_count": 212,
   "source": [
    "var1 = input()\n",
    "var2 = input() #<--\n",
    "maths  = input() #'add'\n",
    "\n",
    "\n",
    "\n",
    "# add\n",
    "\n",
    "if var1 and var2:  #ensures they are not empty\n",
    "    if var1.isdigit() and var2.isdigit():\n",
    "        var1= int(var1)\n",
    "        var2= int(var2)\n",
    "        if maths == 'add':\n",
    "            print(var1 + var2)\n",
    "        elif maths == 'sub' :\n",
    "            print(var1 - var2)\n",
    "        elif maths == 'mul' :\n",
    "            print(var1 * var2)\n",
    "        elif maths == 'div' :\n",
    "            if var2 > 0:\n",
    "                print(var1 / var2)\n",
    "            else:\n",
    "                print('invalid denominator')\n",
    "        else:\n",
    "            print('not true')\n",
    "else:\n",
    "    print('your numbers are invalid')\n",
    "\n",
    "\n",
    "\n",
    "\n",
    "\n",
    "\n"
   ],
   "outputs": [
    {
     "output_type": "stream",
     "name": "stdout",
     "text": [
      "your numbers are invalid\n"
     ]
    }
   ],
   "metadata": {}
  },
  {
   "cell_type": "code",
   "execution_count": 191,
   "source": [
    "var = '''\n",
    "\n",
    "+----------------+\n",
    "| 22 - 33 => ans |\n",
    "+=================\n",
    "\n",
    "'''"
   ],
   "outputs": [
    {
     "output_type": "stream",
     "name": "stdout",
     "text": [
      "yes\n"
     ]
    }
   ],
   "metadata": {}
  },
  {
   "cell_type": "code",
   "execution_count": 202,
   "source": [
    "my_num = input()\n",
    "\n",
    "\n",
    "1. check if the divisible 3  fizz\n",
    "2. if the number is divisble by 5 print buzz\n",
    "3. if the number is divisble by 3 and 5 print fizzbuzz\n",
    "4   print number \n",
    "\n"
   ],
   "outputs": [
    {
     "output_type": "execute_result",
     "data": {
      "text/plain": [
       "True"
      ]
     },
     "metadata": {},
     "execution_count": 202
    }
   ],
   "metadata": {}
  },
  {
   "cell_type": "code",
   "execution_count": 209,
   "source": [
    "print(True and True)\n",
    "print(True and False)\n",
    "print(False and False)\n",
    "print(False and True)\n",
    "\n",
    "print('*'* 18)\n",
    "\n",
    "print(True or True)\n",
    "print(True or False)\n",
    "print(False or False)\n",
    "print(False or True)\n"
   ],
   "outputs": [
    {
     "output_type": "stream",
     "name": "stdout",
     "text": [
      "True\n",
      "False\n",
      "False\n",
      "False\n",
      "******************\n",
      "True\n",
      "True\n",
      "False\n",
      "True\n"
     ]
    }
   ],
   "metadata": {}
  },
  {
   "cell_type": "code",
   "execution_count": null,
   "source": [],
   "outputs": [],
   "metadata": {}
  }
 ],
 "metadata": {
  "orig_nbformat": 4,
  "language_info": {
   "name": "python",
   "version": "3.9.1",
   "mimetype": "text/x-python",
   "codemirror_mode": {
    "name": "ipython",
    "version": 3
   },
   "pygments_lexer": "ipython3",
   "nbconvert_exporter": "python",
   "file_extension": ".py"
  },
  "kernelspec": {
   "name": "python3",
   "display_name": "Python 3.9.1 64-bit"
  },
  "interpreter": {
   "hash": "397704579725e15f5c7cb49fe5f0341eb7531c82d19f2c29d197e8b64ab5776b"
  }
 },
 "nbformat": 4,
 "nbformat_minor": 2
}