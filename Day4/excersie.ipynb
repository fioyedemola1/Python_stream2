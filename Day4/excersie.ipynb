{
 "cells": [
  {
   "cell_type": "markdown",
   "source": [
    "Modify the calculator to to generate a formated print\n",
    "'''\n",
    "\n",
    "+----------------+\n",
    "| 22 - 33 => ans |\n",
    "+=================\n",
    "\n",
    "'''"
   ],
   "metadata": {}
  },
  {
   "cell_type": "code",
   "execution_count": null,
   "source": [
    "#write  a code that takes an input from an individual and print based on the below condiitions\n",
    "my_num = input()\n",
    "\n",
    "check  for the following\n",
    "1. if the divisible 3  print---> fizz\n",
    "2. if the number is divisble by 5 print ----> buzz\n",
    "3. if the number is divisble by 3 and 5 print---> fizzbuzz\n",
    "4  if it doesnt meet any of the above condition  print---> number \n",
    "\n"
   ],
   "outputs": [],
   "metadata": {}
  },
  {
   "cell_type": "markdown",
   "source": [
    "You have the following stocks in your portfolio.\n",
    "\n",
    "Requirement\n",
    "1. store the value in a data structure, where you can easily access price of each stock\n",
    "2. calculate the total price of all stock in the protfolio\n",
    "3. Which stock has the highest price\n",
    "4. which stock has the lowest\n",
    "5. How many stocks do you have? \n",
    "6. what is the average price of all your stock\n",
    "\n",
    "Nb: Try not to use  loops to solve this\n",
    "\n",
    "'\"AA\",9.22,\"AXP\",24.85,\"BA\",44.85,\"BAC\",11.27,\"C\",3.72,\"CAT\",35.46,\"CVX\",66.67,\"DD\",28.47,\"DIS\",24.22,\"GE\",13.48,\"GM\",0.75,\"HD\",23.16,\"HPQ\",34.35,\"IBM\",106.28,\"INTC\",15.72,\"JNJ\",55.16,\"JPM\",36.90,\"KFT\",26.11,\"KO\",49.16,\"MCD\",58.99,\"MMM\",57.10,\"MRK\",27.58,\"MSFT\",20.89,\"PFE\",15.19,\"PG\",51.94,\"T\",24.79,\"UTX\",52.61,\"VZ\",29.26,\"WMT\",49.74,\"XOM\",69.35'\n"
   ],
   "metadata": {}
  },
  {
   "cell_type": "markdown",
   "source": [
    "You have new set of Employees introduced into your company. you are required  create an email address based on the first Alphabet of the first name and the last name\n",
    "e.g first_name = John\n",
    "    last_name = Doe\n",
    "    email = jdoe@email.com\n"
   ],
   "metadata": {}
  },
  {
   "cell_type": "code",
   "execution_count": null,
   "source": [],
   "outputs": [],
   "metadata": {}
  }
 ],
 "metadata": {
  "orig_nbformat": 4,
  "language_info": {
   "name": "python",
   "version": "3.9.1",
   "mimetype": "text/x-python",
   "codemirror_mode": {
    "name": "ipython",
    "version": 3
   },
   "pygments_lexer": "ipython3",
   "nbconvert_exporter": "python",
   "file_extension": ".py"
  },
  "kernelspec": {
   "name": "python3",
   "display_name": "Python 3.9.1 64-bit"
  },
  "interpreter": {
   "hash": "397704579725e15f5c7cb49fe5f0341eb7531c82d19f2c29d197e8b64ab5776b"
  }
 },
 "nbformat": 4,
 "nbformat_minor": 2
}