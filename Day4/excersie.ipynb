{
 "cells": [
  {
   "cell_type": "markdown",
   "source": [
    "Modify the calculator to to generate a formated print\n",
    "'''\n",
    "\n",
    "+----------------+\n",
    "| 22 - 33 => ans |\n",
    "+=================\n",
    "\n",
    "'''"
   ],
   "metadata": {}
  },
  {
   "cell_type": "code",
   "execution_count": 10,
   "source": [
    "var1 = input(\"Enter your first number:\")\n",
    "var2 = input(\"Enter your second number:\") #<--\n",
    "maths = input(\"Enter your maths symbol number:\") #'add'\n",
    "\n",
    "\n",
    "\n",
    "# add\n",
    "\n",
    "if var1 and var2: #ensures they are not empty\n",
    "    if var1.isdigit() and var2.isdigit():\n",
    "        var1= int(var1)\n",
    "        var2= int(var2)\n",
    "        if maths == 'add':\n",
    "            print(var1 + var2)\n",
    "        elif maths == 'sub' :\n",
    "            print (f\"+{'-' * 15}+ \\n| '{var1 + var2}' '=>' 'ans' | \\n+{'=' * 15}+\")\n",
    "        elif maths == 'mul' :\n",
    "            print (f\"+{'-' * 15}+ | '{var1 * var2}' '=>' 'ans' | +{'=' * 15}\")\n",
    "        elif maths == 'div' :\n",
    "            if var2 > 0:\n",
    "                print (f\"+{'-' * 15}+ | '{var1 / var2}' '=>' 'ans' | +{'=' * 15}\")\n",
    "            else:\n",
    "                print('invalid denominator')\n",
    "        else:\n",
    "            print('not true')\n",
    "    else:\n",
    "        print('your numbers are invalid')\n",
    "\n",
    "\n",
    "\n",
    "\n",
    "\n",
    "\n",
    "\n"
   ],
   "outputs": [
    {
     "output_type": "stream",
     "name": "stdout",
     "text": [
      "+---------------+ \n",
      "| '66' '=>' 'ans' | \n",
      "+===============\n"
     ]
    }
   ],
   "metadata": {}
  },
  {
   "cell_type": "code",
   "execution_count": null,
   "source": [
    "#write  a code that takes an input from an individual and print based on the below condiitions\n",
    "my_num = input()\n",
    "\n",
    "check  for the following\n",
    "1. if the divisible 3  print---> fizz\n",
    "2. if the number is divisble by 5 print ----> buzz\n",
    "3. if the number is divisble by 3 and 5 print---> fizzbuzz\n",
    "4  if it doesnt meet any of the above condition  print---> number \n",
    "\n"
   ],
   "outputs": [],
   "metadata": {}
  },
  {
   "cell_type": "code",
   "execution_count": 16,
   "source": [
    "num1=input(\"Enter your number:\")\n",
    "\n",
    "if num1.isdigit():\n",
    "    num1= int(num1)\n",
    "    if num1%3==0:\n",
    "        print(\"fizz\")\n",
    "    elif num1%5==0:\n",
    "        if num1%3==0:\n",
    "            print(\"fizzbuzz\")\n",
    "        else:\n",
    "            print(\"buzz\")\n",
    "    # elif num1%5==0 and num1%3==0:\n",
    "    #     print(\"fizzbuzz\")\n",
    "    else:\n",
    "        print(num1)  #<----\n",
    "else:\n",
    "    print('we only accept integers')\n",
    "\n",
    "\n",
    "# if my_num % 3 == 0:\n",
    "#     print(\"fizz\")\n",
    "# elif my_num % 5 == 0:\n",
    "#     print(\"buzz\")\n",
    "# elif (my_num % 3 == 0) and (my_num % 5 == 0):\n",
    "#     print(\"fizzbuzz\")\n",
    "# else:\n",
    "#     print(my_num)\n"
   ],
   "outputs": [
    {
     "output_type": "stream",
     "name": "stdout",
     "text": [
      "we only accept integers\n"
     ]
    }
   ],
   "metadata": {}
  },
  {
   "cell_type": "markdown",
   "source": [
    "You have the following stocks in your portfolio.\n",
    "\n",
    "Requirement\n",
    "1. store the value in a data structure, where you can easily access price of each stock\n",
    "2. calculate the total price of all stock in the protfolio\n",
    "3. Which stock has the highest price\n",
    "4. which stock has the lowest\n",
    "5. How many stocks do you have? \n",
    "6. what is the average price of all your stock\n",
    "\n",
    "Nb: Try not to use  loops to solve this\n",
    "\n",
    "'\"AA\",9.22,\"AXP\",24.85,\"BA\",44.85,\"BAC\",11.27,\"C\",3.72,\"CAT\",35.46,\"CVX\",66.67,\"DD\",28.47,\"DIS\",24.22,\"GE\",13.48,\"GM\",0.75,\"HD\",23.16,\"HPQ\",34.35,\"IBM\",106.28,\"INTC\",15.72,\"JNJ\",55.16,\"JPM\",36.90,\"KFT\",26.11,\"KO\",49.16,\"MCD\",58.99,\"MMM\",57.10,\"MRK\",27.58,\"MSFT\",20.89,\"PFE\",15.19,\"PG\",51.94,\"T\",24.79,\"UTX\",52.61,\"VZ\",29.26,\"WMT\",49.74,\"XOM\",69.35'\n"
   ],
   "metadata": {}
  },
  {
   "cell_type": "code",
   "execution_count": 19,
   "source": [
    "'\"AA\",9.22,\"AXP\",24.85,\"BA\",44.85,\"BAC\",11.27,\"C\",3.72,\"CAT\",35.46,\"CVX\",66.67,\"DD\",28.47,\"DIS\",24.22,\"GE\",13.48,\"GM\",0.75,\"HD\",23.16,\"HPQ\",34.35,\"IBM\",106.28,\"INTC\",15.72,\"JNJ\",55.16,\"JPM\",36.90,\"KFT\",26.11,\"KO\",49.16,\"MCD\",58.99,\"MMM\",57.10,\"MRK\",27.58,\"MSFT\",20.89,\"PFE\",15.19,\"PG\",51.94,\"T\",24.79,\"UTX\",52.61,\"VZ\",29.26,\"WMT\",49.74,\"XOM\",69.35'.split(',')\n",
    "list(\"AA\",9.22,\"AXP\",24.85,\"BA\",44.85,\"BAC\",11.27,\"C\",3.72,\"CAT\",35.46,\"CVX\",66.67,\"DD\",28.47,\"DIS\",24.22,\"GE\",13.48,\"GM\",0.75,\"HD\",23.16,\"HPQ\",34.35,\"IBM\",106.28,\"INTC\",15.72,\"JNJ\",55.16,\"JPM\",36.90,\"KFT\",26.11,\"KO\",49.16,\"MCD\",58.99,\"MMM\",57.10,\"MRK\",27.58,\"MSFT\",20.89,\"PFE\",15.19,\"PG\",51.94,\"T\",24.79,\"UTX\",52.61,\"VZ\",29.26,\"WMT\",49.74,\"XOM\",69.35)"
   ],
   "outputs": [
    {
     "output_type": "error",
     "ename": "TypeError",
     "evalue": "list expected at most 1 argument, got 60",
     "traceback": [
      "\u001b[0;31m---------------------------------------------------------------------------\u001b[0m",
      "\u001b[0;31mTypeError\u001b[0m                                 Traceback (most recent call last)",
      "\u001b[0;32m<ipython-input-19-dc44175fbec8>\u001b[0m in \u001b[0;36m<module>\u001b[0;34m\u001b[0m\n\u001b[1;32m      1\u001b[0m \u001b[0;34m'\"AA\",9.22,\"AXP\",24.85,\"BA\",44.85,\"BAC\",11.27,\"C\",3.72,\"CAT\",35.46,\"CVX\",66.67,\"DD\",28.47,\"DIS\",24.22,\"GE\",13.48,\"GM\",0.75,\"HD\",23.16,\"HPQ\",34.35,\"IBM\",106.28,\"INTC\",15.72,\"JNJ\",55.16,\"JPM\",36.90,\"KFT\",26.11,\"KO\",49.16,\"MCD\",58.99,\"MMM\",57.10,\"MRK\",27.58,\"MSFT\",20.89,\"PFE\",15.19,\"PG\",51.94,\"T\",24.79,\"UTX\",52.61,\"VZ\",29.26,\"WMT\",49.74,\"XOM\",69.35'\u001b[0m\u001b[0;34m.\u001b[0m\u001b[0msplit\u001b[0m\u001b[0;34m(\u001b[0m\u001b[0;34m','\u001b[0m\u001b[0;34m)\u001b[0m\u001b[0;34m\u001b[0m\u001b[0;34m\u001b[0m\u001b[0m\n\u001b[0;32m----> 2\u001b[0;31m \u001b[0mlist\u001b[0m\u001b[0;34m(\u001b[0m\u001b[0;34m\"AA\"\u001b[0m\u001b[0;34m,\u001b[0m\u001b[0;36m9.22\u001b[0m\u001b[0;34m,\u001b[0m\u001b[0;34m\"AXP\"\u001b[0m\u001b[0;34m,\u001b[0m\u001b[0;36m24.85\u001b[0m\u001b[0;34m,\u001b[0m\u001b[0;34m\"BA\"\u001b[0m\u001b[0;34m,\u001b[0m\u001b[0;36m44.85\u001b[0m\u001b[0;34m,\u001b[0m\u001b[0;34m\"BAC\"\u001b[0m\u001b[0;34m,\u001b[0m\u001b[0;36m11.27\u001b[0m\u001b[0;34m,\u001b[0m\u001b[0;34m\"C\"\u001b[0m\u001b[0;34m,\u001b[0m\u001b[0;36m3.72\u001b[0m\u001b[0;34m,\u001b[0m\u001b[0;34m\"CAT\"\u001b[0m\u001b[0;34m,\u001b[0m\u001b[0;36m35.46\u001b[0m\u001b[0;34m,\u001b[0m\u001b[0;34m\"CVX\"\u001b[0m\u001b[0;34m,\u001b[0m\u001b[0;36m66.67\u001b[0m\u001b[0;34m,\u001b[0m\u001b[0;34m\"DD\"\u001b[0m\u001b[0;34m,\u001b[0m\u001b[0;36m28.47\u001b[0m\u001b[0;34m,\u001b[0m\u001b[0;34m\"DIS\"\u001b[0m\u001b[0;34m,\u001b[0m\u001b[0;36m24.22\u001b[0m\u001b[0;34m,\u001b[0m\u001b[0;34m\"GE\"\u001b[0m\u001b[0;34m,\u001b[0m\u001b[0;36m13.48\u001b[0m\u001b[0;34m,\u001b[0m\u001b[0;34m\"GM\"\u001b[0m\u001b[0;34m,\u001b[0m\u001b[0;36m0.75\u001b[0m\u001b[0;34m,\u001b[0m\u001b[0;34m\"HD\"\u001b[0m\u001b[0;34m,\u001b[0m\u001b[0;36m23.16\u001b[0m\u001b[0;34m,\u001b[0m\u001b[0;34m\"HPQ\"\u001b[0m\u001b[0;34m,\u001b[0m\u001b[0;36m34.35\u001b[0m\u001b[0;34m,\u001b[0m\u001b[0;34m\"IBM\"\u001b[0m\u001b[0;34m,\u001b[0m\u001b[0;36m106.28\u001b[0m\u001b[0;34m,\u001b[0m\u001b[0;34m\"INTC\"\u001b[0m\u001b[0;34m,\u001b[0m\u001b[0;36m15.72\u001b[0m\u001b[0;34m,\u001b[0m\u001b[0;34m\"JNJ\"\u001b[0m\u001b[0;34m,\u001b[0m\u001b[0;36m55.16\u001b[0m\u001b[0;34m,\u001b[0m\u001b[0;34m\"JPM\"\u001b[0m\u001b[0;34m,\u001b[0m\u001b[0;36m36.90\u001b[0m\u001b[0;34m,\u001b[0m\u001b[0;34m\"KFT\"\u001b[0m\u001b[0;34m,\u001b[0m\u001b[0;36m26.11\u001b[0m\u001b[0;34m,\u001b[0m\u001b[0;34m\"KO\"\u001b[0m\u001b[0;34m,\u001b[0m\u001b[0;36m49.16\u001b[0m\u001b[0;34m,\u001b[0m\u001b[0;34m\"MCD\"\u001b[0m\u001b[0;34m,\u001b[0m\u001b[0;36m58.99\u001b[0m\u001b[0;34m,\u001b[0m\u001b[0;34m\"MMM\"\u001b[0m\u001b[0;34m,\u001b[0m\u001b[0;36m57.10\u001b[0m\u001b[0;34m,\u001b[0m\u001b[0;34m\"MRK\"\u001b[0m\u001b[0;34m,\u001b[0m\u001b[0;36m27.58\u001b[0m\u001b[0;34m,\u001b[0m\u001b[0;34m\"MSFT\"\u001b[0m\u001b[0;34m,\u001b[0m\u001b[0;36m20.89\u001b[0m\u001b[0;34m,\u001b[0m\u001b[0;34m\"PFE\"\u001b[0m\u001b[0;34m,\u001b[0m\u001b[0;36m15.19\u001b[0m\u001b[0;34m,\u001b[0m\u001b[0;34m\"PG\"\u001b[0m\u001b[0;34m,\u001b[0m\u001b[0;36m51.94\u001b[0m\u001b[0;34m,\u001b[0m\u001b[0;34m\"T\"\u001b[0m\u001b[0;34m,\u001b[0m\u001b[0;36m24.79\u001b[0m\u001b[0;34m,\u001b[0m\u001b[0;34m\"UTX\"\u001b[0m\u001b[0;34m,\u001b[0m\u001b[0;36m52.61\u001b[0m\u001b[0;34m,\u001b[0m\u001b[0;34m\"VZ\"\u001b[0m\u001b[0;34m,\u001b[0m\u001b[0;36m29.26\u001b[0m\u001b[0;34m,\u001b[0m\u001b[0;34m\"WMT\"\u001b[0m\u001b[0;34m,\u001b[0m\u001b[0;36m49.74\u001b[0m\u001b[0;34m,\u001b[0m\u001b[0;34m\"XOM\"\u001b[0m\u001b[0;34m,\u001b[0m\u001b[0;36m69.35\u001b[0m\u001b[0;34m)\u001b[0m\u001b[0;34m\u001b[0m\u001b[0;34m\u001b[0m\u001b[0m\n\u001b[0m",
      "\u001b[0;31mTypeError\u001b[0m: list expected at most 1 argument, got 60"
     ]
    }
   ],
   "metadata": {}
  },
  {
   "cell_type": "markdown",
   "source": [
    "You have new set of Employees introduced into your company. you are required  create an email address based on the first Alphabet of the first name and the last name\n",
    "e.g first_name = John\n",
    "    last_name = Doe\n",
    "    email = jdoe@email.com\n"
   ],
   "metadata": {}
  }
 ],
 "metadata": {
  "orig_nbformat": 4,
  "language_info": {
   "name": "python",
   "version": "3.9.1",
   "mimetype": "text/x-python",
   "codemirror_mode": {
    "name": "ipython",
    "version": 3
   },
   "pygments_lexer": "ipython3",
   "nbconvert_exporter": "python",
   "file_extension": ".py"
  },
  "kernelspec": {
   "name": "python3",
   "display_name": "Python 3.9.1 64-bit"
  },
  "interpreter": {
   "hash": "397704579725e15f5c7cb49fe5f0341eb7531c82d19f2c29d197e8b64ab5776b"
  }
 },
 "nbformat": 4,
 "nbformat_minor": 2
}