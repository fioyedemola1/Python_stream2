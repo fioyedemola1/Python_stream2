{
 "cells": [
  {
   "cell_type": "markdown",
   "source": [
    "Modify the calculator to to generate a formated print\n",
    "'''\n",
    "\n",
    "+----------------+\n",
    "| 22 - 33 => ans |\n",
    "+=================\n",
    "\n",
    "'''"
   ],
   "metadata": {}
  },
  {
   "cell_type": "code",
   "execution_count": 10,
   "source": [
    "var1 = input(\"Enter your first number:\")\n",
    "var2 = input(\"Enter your second number:\") #<--\n",
    "maths = input(\"Enter your maths symbol number:\") #'add'\n",
    "\n",
    "\n",
    "\n",
    "# add\n",
    "\n",
    "if var1 and var2: #ensures they are not empty\n",
    "    if var1.isdigit() and var2.isdigit():\n",
    "        var1= int(var1)\n",
    "        var2= int(var2)\n",
    "        if maths == 'add':\n",
    "            print(var1 + var2)\n",
    "        elif maths == 'sub' :\n",
    "            print (f\"+{'-' * 15}+ \\n| '{var1 + var2}' '=>' 'ans' | \\n+{'=' * 15}+\")\n",
    "        elif maths == 'mul' :\n",
    "            print (f\"+{'-' * 15}+ | '{var1 * var2}' '=>' 'ans' | +{'=' * 15}\")\n",
    "        elif maths == 'div' :\n",
    "            if var2 > 0:\n",
    "                print (f\"+{'-' * 15}+ | '{var1 / var2}' '=>' 'ans' | +{'=' * 15}\")\n",
    "            else:\n",
    "                print('invalid denominator')\n",
    "        else:\n",
    "            print('not true')\n",
    "    else:\n",
    "        print('your numbers are invalid')\n",
    "\n",
    "\n",
    "\n",
    "\n",
    "\n",
    "\n",
    "\n"
   ],
   "outputs": [
    {
     "output_type": "stream",
     "name": "stdout",
     "text": [
      "+---------------+ \n",
      "| '66' '=>' 'ans' | \n",
      "+===============\n"
     ]
    }
   ],
   "metadata": {}
  },
  {
   "cell_type": "code",
   "execution_count": null,
   "source": [
    "#write  a code that takes an input from an individual and print based on the below condiitions\n",
    "my_num = input()\n",
    "\n",
    "check  for the following\n",
    "1. if the divisible 3  print---> fizz\n",
    "2. if the number is divisble by 5 print ----> buzz\n",
    "3. if the number is divisble by 3 and 5 print---> fizzbuzz\n",
    "4  if it doesnt meet any of the above condition  print---> number \n",
    "\n"
   ],
   "outputs": [],
   "metadata": {}
  },
  {
   "cell_type": "code",
   "execution_count": 70,
   "source": [
    "max(porfolio)"
   ],
   "outputs": [
    {
     "output_type": "execute_result",
     "data": {
      "text/plain": [
       "'XOM'"
      ]
     },
     "metadata": {},
     "execution_count": 70
    }
   ],
   "metadata": {}
  },
  {
   "cell_type": "code",
   "execution_count": 16,
   "source": [
    "num1=input(\"Enter your number:\")\n",
    "\n",
    "if num1.isdigit():\n",
    "    num1= int(num1)\n",
    "    if num1%3==0:\n",
    "        print(\"fizz\")\n",
    "    elif num1%5==0:\n",
    "        if num1%3==0:\n",
    "            print(\"fizzbuzz\")\n",
    "        else:\n",
    "            print(\"buzz\")\n",
    "    # elif num1%5==0 and num1%3==0:\n",
    "    #     print(\"fizzbuzz\")\n",
    "    else:\n",
    "        print(num1)  #<----\n",
    "else:\n",
    "    print('we only accept integers')\n",
    "\n",
    "\n",
    "# if my_num % 3 == 0:\n",
    "#     print(\"fizz\")\n",
    "# elif my_num % 5 == 0:\n",
    "#     print(\"buzz\")\n",
    "# elif (my_num % 3 == 0) and (my_num % 5 == 0):\n",
    "#     print(\"fizzbuzz\")\n",
    "# else:\n",
    "#     print(my_num)\n"
   ],
   "outputs": [
    {
     "output_type": "stream",
     "name": "stdout",
     "text": [
      "we only accept integers\n"
     ]
    }
   ],
   "metadata": {}
  },
  {
   "cell_type": "markdown",
   "source": [
    "You have the following stocks in your portfolio.\n",
    "\n",
    "Requirement\n",
    "1. store the value in a data structure, where you can easily access price of each stock\n",
    "2. calculate the total price of all stock in the protfolio\n",
    "3. Which stock has the highest price\n",
    "4. which stock has the lowest\n",
    "5. How many stocks do you have? \n",
    "6. what is the average price of all your stock\n",
    "\n",
    "Nb: Try not to use  loops to solve this\n",
    "\n",
    "'\"AA\",9.22,\"AXP\",24.85,\"BA\",44.85,\"BAC\",11.27,\"C\",3.72,\"CAT\",35.46,\"CVX\",66.67,\"DD\",28.47,\"DIS\",24.22,\"GE\",13.48,\"GM\",0.75,\"HD\",23.16,\"HPQ\",34.35,\"IBM\",106.28,\"INTC\",15.72,\"JNJ\",55.16,\"JPM\",36.90,\"KFT\",26.11,\"KO\",49.16,\"MCD\",58.99,\"MMM\",57.10,\"MRK\",27.58,\"MSFT\",20.89,\"PFE\",15.19,\"PG\",51.94,\"T\",24.79,\"UTX\",52.61,\"VZ\",29.26,\"WMT\",49.74,\"XOM\",69.35'\n"
   ],
   "metadata": {}
  },
  {
   "cell_type": "code",
   "execution_count": 25,
   "source": [
    "# '\"AA\",9.22,\"AXP\",24.85,\"BA\",44.85,\"BAC\",11.27,\"C\",3.72,\"CAT\",35.46,\"CVX\",66.67,\"DD\",28.47,\"DIS\",24.22,\"GE\",13.48,\"GM\",0.75,\"HD\",23.16,\"HPQ\",34.35,\"IBM\",106.28,\"INTC\",15.72,\"JNJ\",55.16,\"JPM\",36.90,\"KFT\",26.11,\"KO\",49.16,\"MCD\",58.99,\"MMM\",57.10,\"MRK\",27.58,\"MSFT\",20.89,\"PFE\",15.19,\"PG\",51.94,\"T\",24.79,\"UTX\",52.61,\"VZ\",29.26,\"WMT\",49.74,\"XOM\",69.35'.split(',')\n",
    "stock = list([\"AA\",9.22,\"AXP\",24.85,\"BA\",44.85,\"BAC\",11.27,\"C\",3.72,\"CAT\",35.46,\"CVX\",66.67,\"DD\",28.47,\"DIS\",24.22,\"GE\",13.48,\"GM\",0.75,\"HD\",23.16,\"HPQ\",34.35,\"IBM\",106.28,\"INTC\",15.72,\"JNJ\",55.16,\"JPM\",36.90,\"KFT\",26.11,\"KO\",49.16,\"MCD\",58.99,\"MMM\",57.10,\"MRK\",27.58,\"MSFT\",20.89,\"PFE\",15.19,\"PG\",51.94,\"T\",24.79,\"UTX\",52.61,\"VZ\",29.26,\"WMT\",49.74,\"XOM\",69.35])\n"
   ],
   "outputs": [],
   "metadata": {}
  },
  {
   "cell_type": "code",
   "execution_count": 44,
   "source": [
    "# easily access the value\n",
    "stock_name, stock_price = stock[::2], stock[1::2]\n",
    "# stock_name = stock[::2]\n",
    "# stock_price = stock[::2]\n",
    "\n",
    "# key:value relationship\n",
    "\n",
    "porfolio = dict(zip(stock_name,stock_price))\n",
    "# print(porfolio)\n",
    "print(porfolio['AA'])\n",
    "print(porfolio.get('AA'))   # <----\n",
    "\n",
    "lazy_total_price = sum(stock_price)\n",
    "print(f'The lazy total price is {lazy_total_price:.2f}')\n",
    "\n",
    "# functions and methods\n",
    "\n",
    "# ''.isdigit()\n",
    "\n",
    "\n",
    "\n",
    "print(porfolio.keys())\n",
    "print(sum(porfolio.values()))\n",
    "print(porfolio.items())\n",
    "\n",
    "\n",
    "\n",
    "\n",
    "\n",
    "\n"
   ],
   "outputs": [
    {
     "output_type": "stream",
     "name": "stdout",
     "text": [
      "9.22\n",
      "9.22\n",
      "The lazy total price is 1067.24\n",
      "The lazy total price is                                 1067.2400000000002\n"
     ]
    }
   ],
   "metadata": {}
  },
  {
   "cell_type": "code",
   "execution_count": 74,
   "source": [
    "max(porfolio.items(),key= lambda x: x[1])\n",
    "min(porfolio.items(),key= lambda x: x[1])\n",
    "len(porfolio)\n",
    "\n",
    "\n",
    "# for i in porfolio.items():\n",
    "#     print(i[0],i[1])\n",
    "#     break"
   ],
   "outputs": [
    {
     "output_type": "execute_result",
     "data": {
      "text/plain": [
       "30"
      ]
     },
     "metadata": {},
     "execution_count": 74
    }
   ],
   "metadata": {}
  },
  {
   "cell_type": "markdown",
   "source": [],
   "metadata": {}
  },
  {
   "cell_type": "markdown",
   "source": [
    "You have new set of Employees introduced into your company. you are required  create an email address based on the first Alphabet of the first name and the last name\n",
    "e.g first_name = John\n",
    "    last_name = Doe\n",
    "    email = jdoe@email.com\n"
   ],
   "metadata": {}
  },
  {
   "cell_type": "code",
   "execution_count": 76,
   "source": [
    "first_name = 'John'\n",
    "last_name = 'Doe'\n",
    "\n",
    "print(f'{first_name[0].lower()}{last_name.lower()}@email.com')"
   ],
   "outputs": [
    {
     "output_type": "stream",
     "name": "stdout",
     "text": [
      "jdoe@email.com\n"
     ]
    }
   ],
   "metadata": {}
  },
  {
   "cell_type": "code",
   "execution_count": null,
   "source": [],
   "outputs": [],
   "metadata": {}
  }
 ],
 "metadata": {
  "orig_nbformat": 4,
  "language_info": {
   "name": "python",
   "version": "3.9.1",
   "mimetype": "text/x-python",
   "codemirror_mode": {
    "name": "ipython",
    "version": 3
   },
   "pygments_lexer": "ipython3",
   "nbconvert_exporter": "python",
   "file_extension": ".py"
  },
  "kernelspec": {
   "name": "python3",
   "display_name": "Python 3.9.1 64-bit"
  },
  "interpreter": {
   "hash": "397704579725e15f5c7cb49fe5f0341eb7531c82d19f2c29d197e8b64ab5776b"
  }
 },
 "nbformat": 4,
 "nbformat_minor": 2
}