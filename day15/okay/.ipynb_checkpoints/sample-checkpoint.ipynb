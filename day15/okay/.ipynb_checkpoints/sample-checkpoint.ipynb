{
 "cells": [
  {
   "cell_type": "code",
   "execution_count": 19,
   "id": "5958d255-4b71-450c-9d3e-cbf4b36d3343",
   "metadata": {},
   "outputs": [],
   "source": [
    "# numpy and basics. ===> np.select np.where\n",
    "import pandas as pd\n",
    "import numpy as np"
   ]
  },
  {
   "cell_type": "code",
   "execution_count": 2,
   "id": "c7f0c6df-aa71-42af-ae30-ac56906545a5",
   "metadata": {},
   "outputs": [],
   "source": [
    "# Series Object and the Dataframe\n",
    "\n",
    "#  column/ list. and dataframe  one or more series\n"
   ]
  },
  {
   "cell_type": "code",
   "execution_count": 5,
   "id": "4444ec2f-31cf-4e2d-ae7c-719d6a6ee4f9",
   "metadata": {},
   "outputs": [
    {
     "data": {
      "text/plain": [
       "name                  Ade\n",
       "organisation    Saidatech\n",
       "location           turkey\n",
       "dtype: object"
      ]
     },
     "execution_count": 5,
     "metadata": {},
     "output_type": "execute_result"
    }
   ],
   "source": [
    "diction = {\n",
    "    'name': 'Ade',\n",
    "    'organisation': 'Saidatech',\n",
    "    'location': 'turkey'\n",
    "}\n",
    "series = pd.Series(diction)\n",
    "series"
   ]
  },
  {
   "cell_type": "code",
   "execution_count": 11,
   "id": "36bcd0d4-bffe-46a8-902c-049639e76ab0",
   "metadata": {},
   "outputs": [
    {
     "name": "stdout",
     "output_type": "stream",
     "text": [
      "0          Ade\n",
      "1    Saidatech\n",
      "2       turkey\n",
      "dtype: object\n"
     ]
    }
   ],
   "source": [
    "list_items = list(diction.values())\n",
    "\n",
    "# print(list_items)\n",
    "list_series = pd.Series(list_items)\n",
    "print(list_series)"
   ]
  },
  {
   "cell_type": "code",
   "execution_count": 14,
   "id": "96938392-c098-4d07-b527-bb9dad1d8a0d",
   "metadata": {},
   "outputs": [
    {
     "name": "stdout",
     "output_type": "stream",
     "text": [
      "name                  Ade\n",
      "organisation    Saidatech\n",
      "location           turkey\n",
      "dtype: object\n"
     ]
    }
   ],
   "source": [
    "list_index= [*diction] # diction.keys()\n",
    "# print(list_index)\n",
    "list_series1 = pd.Series(list_items, index=list_index)\n",
    "print(list_series1)"
   ]
  },
  {
   "cell_type": "code",
   "execution_count": 18,
   "id": "820c2829-9052-47cf-a2a5-0828de7992ae",
   "metadata": {},
   "outputs": [
    {
     "data": {
      "text/plain": [
       "name                  Ade\n",
       "organisation    Saidatech\n",
       "location           turkey\n",
       "dtype: object"
      ]
     },
     "execution_count": 18,
     "metadata": {},
     "output_type": "execute_result"
    }
   ],
   "source": [
    "tup = tuple(list_items)\n",
    "pd.Series(tup, list_index)"
   ]
  },
  {
   "cell_type": "code",
   "execution_count": 22,
   "id": "603d3f68-a3b2-4e38-979d-2dfdfe000cc2",
   "metadata": {},
   "outputs": [],
   "source": [
    "arr = np.array(list_items, dtype= 'object')\n",
    "\n",
    "num_series = pd.Series(arr, index= list_index)"
   ]
  },
  {
   "cell_type": "code",
   "execution_count": 25,
   "id": "b2101298-4341-43ac-8ec7-23d424a17456",
   "metadata": {},
   "outputs": [
    {
     "data": {
      "text/plain": [
       "Index(['name', 'organisation', 'location'], dtype='object')"
      ]
     },
     "execution_count": 25,
     "metadata": {},
     "output_type": "execute_result"
    }
   ],
   "source": [
    "# series?\n",
    "series.index."
   ]
  },
  {
   "cell_type": "code",
   "execution_count": 42,
   "id": "bb31e67e-a903-4207-b640-b2c7b0bb87b3",
   "metadata": {},
   "outputs": [
    {
     "data": {
      "text/plain": [
       "name                  Ade\n",
       "organisation    Saidatech\n",
       "location           turkey\n",
       "birth              turkey\n",
       "salary               None\n",
       "dtype: object"
      ]
     },
     "execution_count": 42,
     "metadata": {},
     "output_type": "execute_result"
    }
   ],
   "source": [
    "diction = {\n",
    "    'name': 'Ade',\n",
    "    'organisation': 'Saidatech',\n",
    "    'location': 'turkey',\n",
    "    'birth': 'turkey',\n",
    "    'salary': None\n",
    "}\n",
    "series = pd.Series(diction)\n",
    "\n",
    "# series = series.drop_duplicates(keep= 'last')\n",
    "# series.drop_duplicates(keep= 'last', inplace=True)  \n",
    "\n",
    "series"
   ]
  },
  {
   "cell_type": "code",
   "execution_count": 37,
   "id": "926b3c47-30e0-47fd-9c84-a1a5f56bf5cc",
   "metadata": {},
   "outputs": [
    {
     "data": {
      "text/plain": [
       "name            False\n",
       "organisation    False\n",
       "birth           False\n",
       "salary           True\n",
       "dtype: bool"
      ]
     },
     "execution_count": 37,
     "metadata": {},
     "output_type": "execute_result"
    }
   ],
   "source": [
    "series.isnull() # return bool values  1- true and 0- false\n",
    "series.isna()"
   ]
  },
  {
   "cell_type": "code",
   "execution_count": 39,
   "id": "bad6167b-8e89-434a-92f5-393178ca9086",
   "metadata": {},
   "outputs": [
    {
     "data": {
      "text/plain": [
       "1"
      ]
     },
     "execution_count": 39,
     "metadata": {},
     "output_type": "execute_result"
    }
   ],
   "source": [
    "#total number of missing values\n",
    "series.isnull().sum()"
   ]
  },
  {
   "cell_type": "code",
   "execution_count": 43,
   "id": "217405dc-d181-4082-b5a9-756258e81dec",
   "metadata": {},
   "outputs": [
    {
     "data": {
      "text/plain": [
       "turkey       2\n",
       "Ade          1\n",
       "Saidatech    1\n",
       "dtype: int64"
      ]
     },
     "execution_count": 43,
     "metadata": {},
     "output_type": "execute_result"
    }
   ],
   "source": [
    "series.count()\n",
    "series.value_counts()"
   ]
  },
  {
   "cell_type": "code",
   "execution_count": 48,
   "id": "c9c70a11-4bc7-4b1d-95cb-6efb2b5aaf14",
   "metadata": {},
   "outputs": [],
   "source": [
    "age_numbers  = [22,43,44,55,33,22,33,45,55,33,44,43]\n",
    "# pd.Series(age_numbers)\n",
    "# grpup data based on age range or group\n",
    "\n",
    "binz= [18,33,45,62]\n",
    "label= ['teens','young adult', 'senoir citizens']\n",
    "\n",
    "\n",
    "data = pd.cut(age_numbers, bins=binz, labels=label)\n",
    "\n",
    "\n"
   ]
  },
  {
   "cell_type": "code",
   "execution_count": 54,
   "id": "f3eea977-26ec-4c3b-b0e4-0fac65778b7b",
   "metadata": {},
   "outputs": [
    {
     "name": "stdout",
     "output_type": "stream",
     "text": [
      "['teens', 'young adult', 'young adult', 'senoir citizens', 'teens', ..., 'young adult', 'senoir citizens', 'teens', 'young adult', 'young adult']\n",
      "Length: 12\n",
      "Categories (3, object): ['teens' < 'young adult' < 'senoir citizens']\n"
     ]
    },
    {
     "data": {
      "text/plain": [
       "teens              5\n",
       "young adult        5\n",
       "senoir citizens    2\n",
       "dtype: int64"
      ]
     },
     "execution_count": 54,
     "metadata": {},
     "output_type": "execute_result"
    }
   ],
   "source": [
    "from pprint import pprint\n",
    "\n",
    "\n",
    "pprint(data)\n",
    "data.value_counts()"
   ]
  },
  {
   "cell_type": "code",
   "execution_count": 57,
   "id": "6a4a5989-1dc7-48f8-933c-01125b2b6b03",
   "metadata": {},
   "outputs": [
    {
     "data": {
      "text/plain": [
       "0       banana\n",
       "1       orange\n",
       "2    pineapple\n",
       "dtype: object"
      ]
     },
     "execution_count": 57,
     "metadata": {},
     "output_type": "execute_result"
    }
   ],
   "source": [
    "# take\n",
    "\n",
    "fruit = {\n",
    "    0: 'banana',\n",
    "    1: 'orange',\n",
    "    2: 'pineapple',\n",
    "    }\n",
    "fruit_ser = pd.Series(fruit)\n",
    "fruit_ser"
   ]
  },
  {
   "cell_type": "code",
   "execution_count": 108,
   "id": "e2bfe0bb-4e3b-4aa3-a935-054dc8eafdd7",
   "metadata": {},
   "outputs": [
    {
     "data": {
      "text/plain": [
       "0        orange\n",
       "1     pineapple\n",
       "2           NaN\n",
       "3        banana\n",
       "4        orange\n",
       "5     pineapple\n",
       "6        orange\n",
       "7     pineapple\n",
       "8        orange\n",
       "9     pineapple\n",
       "10       orange\n",
       "11       orange\n",
       "12       orange\n",
       "13       banana\n",
       "14       banana\n",
       "15       banana\n",
       "16       banana\n",
       "dtype: object"
      ]
     },
     "execution_count": 108,
     "metadata": {},
     "output_type": "execute_result"
    }
   ],
   "source": [
    "fruit_code = pd.Series([1,2,3,0,1,2,1,2,1,2,1,1,1,0,0,0,0])\n",
    "# map function\n",
    "\n",
    "\n",
    "\n",
    "frt= fruit_code.map(fruit)\n",
    "frt"
   ]
  },
  {
   "cell_type": "code",
   "execution_count": 76,
   "id": "282ea766-d860-45d7-8563-9f13c3d7bc5b",
   "metadata": {},
   "outputs": [
    {
     "name": "stdout",
     "output_type": "stream",
     "text": [
      "<class 'pandas.core.series.Series'>\n"
     ]
    }
   ],
   "source": [
    "# fruit_ser.take(fruit_code)\n",
    "pprint(type(frt))"
   ]
  },
  {
   "cell_type": "code",
   "execution_count": 107,
   "id": "f7f01ec8-e862-46c6-a987-e49fbd03afc3",
   "metadata": {},
   "outputs": [
    {
     "data": {
      "text/plain": [
       "4        orange\n",
       "5        orange\n",
       "6        orange\n",
       "7     pineapple\n",
       "8        orange\n",
       "9     pineapple\n",
       "10       orange\n",
       "11    pineapple\n",
       "12       orange\n",
       "14          NaN\n",
       "15    pineapple\n",
       "16       orange\n",
       "Name: 0, dtype: object"
      ]
     },
     "execution_count": 107,
     "metadata": {},
     "output_type": "execute_result"
    }
   ],
   "source": [
    "#indexing \n",
    "\n",
    "#list indexing\n",
    "# boolean indexing \n",
    "# fancy indexing\n",
    "\n",
    "\n",
    "type(frt[::-1].reset_index().drop('index',axis='columns'))\n",
    "\n",
    "sers= frt[::-1].reset_index().drop('index',axis='columns')[0]\n",
    "\n",
    "\n",
    "\n",
    "sers[sers == 'banana']\n",
    "sers[sers != 'banana']  #bool indexing use for filtering data sets"
   ]
  },
  {
   "cell_type": "code",
   "execution_count": 87,
   "id": "54d73516-7691-4953-b0d4-1fe5256fa2fe",
   "metadata": {},
   "outputs": [
    {
     "data": {
      "text/plain": [
       "name            1\n",
       "organisation    0\n",
       "location        0\n",
       "birth           0\n",
       "salary          0\n",
       "dtype: int64"
      ]
     },
     "execution_count": 87,
     "metadata": {},
     "output_type": "execute_result"
    }
   ],
   "source": [
    "series.map(lambda x:  1 if x == 'Ade' else 0)"
   ]
  },
  {
   "cell_type": "code",
   "execution_count": 94,
   "id": "5e4a998f-2235-4f0a-874e-1099090b5cfc",
   "metadata": {},
   "outputs": [
    {
     "name": "stdout",
     "output_type": "stream",
     "text": [
      "[ True False False False False]\n"
     ]
    }
   ],
   "source": [
    "arr= np.array(series)\n",
    "\n",
    "result = np.where(arr=='Ade',True, False)\n",
    "\n",
    "print(result)"
   ]
  },
  {
   "cell_type": "code",
   "execution_count": 96,
   "id": "edeec0b7-780c-4bfd-9de0-d59f508e8c56",
   "metadata": {},
   "outputs": [
    {
     "data": {
      "text/plain": [
       "name    Ade\n",
       "dtype: object"
      ]
     },
     "execution_count": 96,
     "metadata": {},
     "output_type": "execute_result"
    }
   ],
   "source": [
    "series[result]"
   ]
  },
  {
   "cell_type": "code",
   "execution_count": 100,
   "id": "5e715d50-31b3-46ea-9c10-501969a9d3e2",
   "metadata": {},
   "outputs": [],
   "source": [
    "a= series =='Ade'  #True"
   ]
  },
  {
   "cell_type": "code",
   "execution_count": 103,
   "id": "41c7f09f-c498-42a1-98f8-82a7d31a636f",
   "metadata": {},
   "outputs": [
    {
     "data": {
      "text/plain": [
       "name    Ade\n",
       "dtype: object"
      ]
     },
     "execution_count": 103,
     "metadata": {},
     "output_type": "execute_result"
    }
   ],
   "source": [
    "series[a]"
   ]
  },
  {
   "cell_type": "code",
   "execution_count": 102,
   "id": "14304583-b10b-4ad4-9533-b68457737e7e",
   "metadata": {},
   "outputs": [
    {
     "data": {
      "text/plain": [
       "name             True\n",
       "organisation    False\n",
       "location        False\n",
       "birth           False\n",
       "salary          False\n",
       "dtype: bool"
      ]
     },
     "execution_count": 102,
     "metadata": {},
     "output_type": "execute_result"
    }
   ],
   "source": [
    "a"
   ]
  },
  {
   "cell_type": "code",
   "execution_count": 122,
   "id": "51ab2735-c0c1-40e8-9306-e7add166ca57",
   "metadata": {},
   "outputs": [],
   "source": [
    "\n",
    "\n",
    "fruit = {\n",
    "    0: 'banana',\n",
    "    1: 'orange',\n",
    "    2: 'pineapple',\n",
    "    }\n",
    "\n",
    "\n",
    "\n",
    "\n",
    "def map_data(x):\n",
    "    return fruit.get(x, x)\n",
    "#     return fruit[x]\n",
    "\n",
    "\n",
    "\n",
    "# fruit_code.apply(map_data)  # works on both series and dataframe\n",
    "new_fruit= fruit_code.map(map_data)  #------> Series alone"
   ]
  },
  {
   "cell_type": "code",
   "execution_count": 120,
   "id": "a11f7df7-3722-4889-9a52-46be7dd25345",
   "metadata": {},
   "outputs": [
    {
     "data": {
      "text/plain": [
       "dtype('int64')"
      ]
     },
     "execution_count": 120,
     "metadata": {},
     "output_type": "execute_result"
    }
   ],
   "source": [
    "fruit_code.dtype"
   ]
  },
  {
   "cell_type": "markdown",
   "id": "384cecad-95b4-451c-937a-787d37d221f1",
   "metadata": {},
   "source": [
    "\n",
    "## DataFRAME"
   ]
  },
  {
   "cell_type": "code",
   "execution_count": 128,
   "id": "197f471e-975b-4de3-89f6-afa26fa19a57",
   "metadata": {},
   "outputs": [
    {
     "data": {
      "text/html": [
       "<div>\n",
       "<style scoped>\n",
       "    .dataframe tbody tr th:only-of-type {\n",
       "        vertical-align: middle;\n",
       "    }\n",
       "\n",
       "    .dataframe tbody tr th {\n",
       "        vertical-align: top;\n",
       "    }\n",
       "\n",
       "    .dataframe thead th {\n",
       "        text-align: right;\n",
       "    }\n",
       "</style>\n",
       "<table border=\"1\" class=\"dataframe\">\n",
       "  <thead>\n",
       "    <tr style=\"text-align: right;\">\n",
       "      <th></th>\n",
       "      <th>fruits</th>\n",
       "      <th>fruit_code</th>\n",
       "    </tr>\n",
       "  </thead>\n",
       "  <tbody>\n",
       "    <tr>\n",
       "      <th>15</th>\n",
       "      <td>banana</td>\n",
       "      <td>0</td>\n",
       "    </tr>\n",
       "    <tr>\n",
       "      <th>16</th>\n",
       "      <td>banana</td>\n",
       "      <td>0</td>\n",
       "    </tr>\n",
       "  </tbody>\n",
       "</table>\n",
       "</div>"
      ],
      "text/plain": [
       "    fruits  fruit_code\n",
       "15  banana           0\n",
       "16  banana           0"
      ]
     },
     "execution_count": 128,
     "metadata": {},
     "output_type": "execute_result"
    }
   ],
   "source": [
    "# combined Series \n",
    "\n",
    "df= pd.DataFrame()\n",
    "df['fruits']= new_fruit\n",
    "df['fruit_code']= fruit_code\n",
    "df.head(2)\n",
    "df.tail(2)"
   ]
  },
  {
   "cell_type": "code",
   "execution_count": 143,
   "id": "e9354ca3-38c7-4d36-950e-93339890c212",
   "metadata": {},
   "outputs": [],
   "source": [
    "# dict_= pd.DataFrame(diction, index= range(len(diction)))\n",
    "dict_ = pd.DataFrame(diction,index = diction.keys())"
   ]
  },
  {
   "cell_type": "code",
   "execution_count": 142,
   "id": "777d0062-8395-4f41-96fd-1867adbfa0e9",
   "metadata": {},
   "outputs": [
    {
     "data": {
      "text/plain": [
       "name            Ade\n",
       "organisation    Ade\n",
       "location        Ade\n",
       "birth           Ade\n",
       "salary          Ade\n",
       "Name: name, dtype: object"
      ]
     },
     "execution_count": 142,
     "metadata": {},
     "output_type": "execute_result"
    }
   ],
   "source": [
    "df = dict_[['name']]  # dataframe\n",
    "dict_['name']  # series"
   ]
  },
  {
   "cell_type": "code",
   "execution_count": 155,
   "id": "87259aad-fe07-4cff-b4ca-2482b8e83d0f",
   "metadata": {},
   "outputs": [],
   "source": [
    "df= dict_.loc[['name']].T"
   ]
  },
  {
   "cell_type": "code",
   "execution_count": 157,
   "id": "ed187b90-c0d8-47f7-a1ab-538122a64e8d",
   "metadata": {},
   "outputs": [],
   "source": [
    "df['person']= df"
   ]
  },
  {
   "cell_type": "code",
   "execution_count": 162,
   "id": "05dc7b7d-e474-4bee-b0a1-50e5f1093a5a",
   "metadata": {},
   "outputs": [],
   "source": [
    "# df.drop('name', axis= 'columns')\n",
    "df.drop('name', axis =1, inplace=True)"
   ]
  },
  {
   "cell_type": "code",
   "execution_count": 164,
   "id": "688ca652-edca-44f4-ba8b-bb52b4e65d2b",
   "metadata": {},
   "outputs": [],
   "source": [
    "df.reset_index(inplace=True)"
   ]
  },
  {
   "cell_type": "code",
   "execution_count": 171,
   "id": "f2ca8bd7-5623-453f-9ec5-4b49dcd35ee7",
   "metadata": {},
   "outputs": [],
   "source": [
    "mapper= {\n",
    "    'index': 'keys'\n",
    "}\n",
    "\n",
    "df.rename(columns = mapper,inplace=True)"
   ]
  },
  {
   "cell_type": "code",
   "execution_count": 174,
   "id": "be7129b7-526a-45c6-a86d-2e6e64a0cdf8",
   "metadata": {},
   "outputs": [
    {
     "data": {
      "text/plain": [
       "2"
      ]
     },
     "execution_count": 174,
     "metadata": {},
     "output_type": "execute_result"
    }
   ],
   "source": [
    "len(df.columns)"
   ]
  },
  {
   "cell_type": "code",
   "execution_count": 185,
   "id": "8872e490-ea2c-488a-b7f3-28b41402cfdd",
   "metadata": {},
   "outputs": [],
   "source": [
    "# columns = [x.upper() for x in list(df.columns)]\n",
    "item = []\n",
    "for i in columns:\n",
    "   item.append(i.upper()) \n",
    "    \n",
    "# print(list(columns))"
   ]
  },
  {
   "cell_type": "code",
   "execution_count": 190,
   "id": "0b2f371e-095a-432e-8798-6bfea70e6de8",
   "metadata": {},
   "outputs": [],
   "source": [
    "item = []\n",
    "for i in columns:\n",
    "   item.append(i.upper()) \n",
    "    "
   ]
  },
  {
   "cell_type": "code",
   "execution_count": 191,
   "id": "baac06ff-49c2-43f1-9404-cf9f0e8071c0",
   "metadata": {},
   "outputs": [
    {
     "data": {
      "text/plain": [
       "['KEYS', 'PERSON']"
      ]
     },
     "execution_count": 191,
     "metadata": {},
     "output_type": "execute_result"
    }
   ],
   "source": []
  },
  {
   "cell_type": "code",
   "execution_count": 193,
   "id": "c801b5dc-ff1a-491a-81ce-b547ab2d1818",
   "metadata": {},
   "outputs": [],
   "source": [
    "df.columns = item"
   ]
  },
  {
   "cell_type": "code",
   "execution_count": 198,
   "id": "0910fb92-83c8-46e5-8389-74bc1ad4eb0d",
   "metadata": {},
   "outputs": [],
   "source": [
    "df.set_index(df['KEYS'].values, inplace= True)"
   ]
  },
  {
   "cell_type": "code",
   "execution_count": 210,
   "id": "eb339029-6cee-4050-ad06-540cd44b4533",
   "metadata": {},
   "outputs": [],
   "source": [
    "df.drop('KEYS', axis = 'columns', inplace=True)"
   ]
  },
  {
   "cell_type": "code",
   "execution_count": 211,
   "id": "c43aa5a7-f960-4e69-9203-261dd4e38387",
   "metadata": {},
   "outputs": [
    {
     "data": {
      "text/html": [
       "<div>\n",
       "<style scoped>\n",
       "    .dataframe tbody tr th:only-of-type {\n",
       "        vertical-align: middle;\n",
       "    }\n",
       "\n",
       "    .dataframe tbody tr th {\n",
       "        vertical-align: top;\n",
       "    }\n",
       "\n",
       "    .dataframe thead th {\n",
       "        text-align: right;\n",
       "    }\n",
       "</style>\n",
       "<table border=\"1\" class=\"dataframe\">\n",
       "  <thead>\n",
       "    <tr style=\"text-align: right;\">\n",
       "      <th></th>\n",
       "      <th>PERSON</th>\n",
       "    </tr>\n",
       "  </thead>\n",
       "  <tbody>\n",
       "    <tr>\n",
       "      <th>name</th>\n",
       "      <td>Ade</td>\n",
       "    </tr>\n",
       "    <tr>\n",
       "      <th>organisation</th>\n",
       "      <td>Saidatech</td>\n",
       "    </tr>\n",
       "    <tr>\n",
       "      <th>location</th>\n",
       "      <td>turkey</td>\n",
       "    </tr>\n",
       "    <tr>\n",
       "      <th>birth</th>\n",
       "      <td>turkey</td>\n",
       "    </tr>\n",
       "    <tr>\n",
       "      <th>salary</th>\n",
       "      <td>None</td>\n",
       "    </tr>\n",
       "  </tbody>\n",
       "</table>\n",
       "</div>"
      ],
      "text/plain": [
       "                 PERSON\n",
       "name                Ade\n",
       "organisation  Saidatech\n",
       "location         turkey\n",
       "birth            turkey\n",
       "salary             None"
      ]
     },
     "execution_count": 211,
     "metadata": {},
     "output_type": "execute_result"
    }
   ],
   "source": [
    "df"
   ]
  },
  {
   "cell_type": "code",
   "execution_count": 212,
   "id": "52af2d68-7314-4655-99f5-d20fe0916da3",
   "metadata": {},
   "outputs": [],
   "source": [
    "df['points']= [1,2,4,2,4]"
   ]
  },
  {
   "cell_type": "code",
   "execution_count": 215,
   "id": "3bed532e-5c5a-402d-ae14-7e968fde129b",
   "metadata": {},
   "outputs": [],
   "source": [
    "df['points']= df['points'] * 20"
   ]
  },
  {
   "cell_type": "code",
   "execution_count": 219,
   "id": "c8ece0ad-fda5-407d-a5e0-8f981ed52708",
   "metadata": {},
   "outputs": [],
   "source": [
    "total = df['points'].sum()\n"
   ]
  },
  {
   "cell_type": "code",
   "execution_count": 221,
   "id": "bea34883-0ec1-412d-80a1-5348d8177d77",
   "metadata": {},
   "outputs": [],
   "source": [
    "df['cumulative'] =df['points'].cumsum()"
   ]
  },
  {
   "cell_type": "code",
   "execution_count": 222,
   "id": "3e353205-46f7-4782-8558-b40250d05a5e",
   "metadata": {},
   "outputs": [
    {
     "data": {
      "text/html": [
       "<div>\n",
       "<style scoped>\n",
       "    .dataframe tbody tr th:only-of-type {\n",
       "        vertical-align: middle;\n",
       "    }\n",
       "\n",
       "    .dataframe tbody tr th {\n",
       "        vertical-align: top;\n",
       "    }\n",
       "\n",
       "    .dataframe thead th {\n",
       "        text-align: right;\n",
       "    }\n",
       "</style>\n",
       "<table border=\"1\" class=\"dataframe\">\n",
       "  <thead>\n",
       "    <tr style=\"text-align: right;\">\n",
       "      <th></th>\n",
       "      <th>PERSON</th>\n",
       "      <th>points</th>\n",
       "      <th>cumulative</th>\n",
       "    </tr>\n",
       "  </thead>\n",
       "  <tbody>\n",
       "    <tr>\n",
       "      <th>name</th>\n",
       "      <td>Ade</td>\n",
       "      <td>20</td>\n",
       "      <td>20</td>\n",
       "    </tr>\n",
       "    <tr>\n",
       "      <th>organisation</th>\n",
       "      <td>Saidatech</td>\n",
       "      <td>40</td>\n",
       "      <td>60</td>\n",
       "    </tr>\n",
       "    <tr>\n",
       "      <th>location</th>\n",
       "      <td>turkey</td>\n",
       "      <td>80</td>\n",
       "      <td>140</td>\n",
       "    </tr>\n",
       "    <tr>\n",
       "      <th>birth</th>\n",
       "      <td>turkey</td>\n",
       "      <td>40</td>\n",
       "      <td>180</td>\n",
       "    </tr>\n",
       "    <tr>\n",
       "      <th>salary</th>\n",
       "      <td>None</td>\n",
       "      <td>80</td>\n",
       "      <td>260</td>\n",
       "    </tr>\n",
       "  </tbody>\n",
       "</table>\n",
       "</div>"
      ],
      "text/plain": [
       "                 PERSON  points  cumulative\n",
       "name                Ade      20          20\n",
       "organisation  Saidatech      40          60\n",
       "location         turkey      80         140\n",
       "birth            turkey      40         180\n",
       "salary             None      80         260"
      ]
     },
     "execution_count": 222,
     "metadata": {},
     "output_type": "execute_result"
    }
   ],
   "source": [
    "df"
   ]
  },
  {
   "cell_type": "code",
   "execution_count": 238,
   "id": "b47a2787-0448-4ca0-9b29-20253c57ba34",
   "metadata": {},
   "outputs": [
    {
     "name": "stdout",
     "output_type": "stream",
     "text": [
      "['/Users/de_tai/Desktop/python_main/resources/dowstocks.csv', '/Users/de_tai/Desktop/python_main/resources/missing.csv', '/Users/de_tai/Desktop/python_main/resources/portfoliodate.csv', '/Users/de_tai/Desktop/python_main/resources/portfolio.csv', '/Users/de_tai/Desktop/python_main/resources/prices.csv', '/Users/de_tai/Desktop/python_main/resources/portfolioblank.csv', '/Users/de_tai/Desktop/python_main/resources/portfolio2.csv']\n"
     ]
    }
   ],
   "source": [
    "import os\n",
    "\n",
    "\n",
    "file = os.getcwd()\n",
    "directory = os.path.dirname(file)\n",
    "\n",
    "for i in os.listdir(directory):\n",
    "    if i  == 'Resources':\n",
    "        path = os.path.join(directory, 'resources')\n",
    "        break\n",
    "        \n",
    "data_path= os.path.join(path, 'data')  #/Users/de_tai/Desktop/python_main/resources/data\n",
    "\n",
    "file_name = [os.path.join(path, x) for x in os.listdir(data_path)]\n",
    "print(file_name)\n"
   ]
  },
  {
   "cell_type": "code",
   "execution_count": 239,
   "id": "28f7b969-4a90-4f7a-b519-bd46ba87e8bf",
   "metadata": {},
   "outputs": [],
   "source": [
    "clip = pd.read_clipboard()"
   ]
  },
  {
   "cell_type": "code",
   "execution_count": 240,
   "id": "94839220-2f97-4b8f-8485-c5dd7d4b4dfe",
   "metadata": {},
   "outputs": [
    {
     "data": {
      "text/html": [
       "<div>\n",
       "<style scoped>\n",
       "    .dataframe tbody tr th:only-of-type {\n",
       "        vertical-align: middle;\n",
       "    }\n",
       "\n",
       "    .dataframe tbody tr th {\n",
       "        vertical-align: top;\n",
       "    }\n",
       "\n",
       "    .dataframe thead th {\n",
       "        text-align: right;\n",
       "    }\n",
       "</style>\n",
       "<table border=\"1\" class=\"dataframe\">\n",
       "  <thead>\n",
       "    <tr style=\"text-align: right;\">\n",
       "      <th></th>\n",
       "      <th>Name</th>\n",
       "      <th>Score</th>\n",
       "    </tr>\n",
       "  </thead>\n",
       "  <tbody>\n",
       "    <tr>\n",
       "      <th>0</th>\n",
       "      <td>Sam</td>\n",
       "      <td>30</td>\n",
       "    </tr>\n",
       "    <tr>\n",
       "      <th>1</th>\n",
       "      <td>Ade</td>\n",
       "      <td>20</td>\n",
       "    </tr>\n",
       "    <tr>\n",
       "      <th>2</th>\n",
       "      <td>Moses</td>\n",
       "      <td>40</td>\n",
       "    </tr>\n",
       "  </tbody>\n",
       "</table>\n",
       "</div>"
      ],
      "text/plain": [
       "    Name  Score\n",
       "0    Sam     30\n",
       "1    Ade     20\n",
       "2  Moses     40"
      ]
     },
     "execution_count": 240,
     "metadata": {},
     "output_type": "execute_result"
    }
   ],
   "source": [
    "clip"
   ]
  },
  {
   "cell_type": "code",
   "execution_count": 241,
   "id": "9924676d-ffe2-43a7-9d60-96e3207f18bc",
   "metadata": {},
   "outputs": [
    {
     "ename": "FileNotFoundError",
     "evalue": "[Errno 2] No such file or directory: '/Users/de_tai/Desktop/python_main/resources/dowstocks.csv'",
     "output_type": "error",
     "traceback": [
      "\u001b[0;31m---------------------------------------------------------------------------\u001b[0m",
      "\u001b[0;31mFileNotFoundError\u001b[0m                         Traceback (most recent call last)",
      "\u001b[0;32m<ipython-input-241-1cc8fa720cf2>\u001b[0m in \u001b[0;36m<module>\u001b[0;34m\u001b[0m\n\u001b[0;32m----> 1\u001b[0;31m \u001b[0mpd\u001b[0m\u001b[0;34m.\u001b[0m\u001b[0mread_csv\u001b[0m\u001b[0;34m(\u001b[0m\u001b[0mfile_name\u001b[0m\u001b[0;34m[\u001b[0m\u001b[0;36m0\u001b[0m\u001b[0;34m]\u001b[0m\u001b[0;34m)\u001b[0m\u001b[0;34m\u001b[0m\u001b[0;34m\u001b[0m\u001b[0m\n\u001b[0m",
      "\u001b[0;32m~/opt/anaconda3/lib/python3.8/site-packages/pandas/util/_decorators.py\u001b[0m in \u001b[0;36mwrapper\u001b[0;34m(*args, **kwargs)\u001b[0m\n\u001b[1;32m    309\u001b[0m                     \u001b[0mstacklevel\u001b[0m\u001b[0;34m=\u001b[0m\u001b[0mstacklevel\u001b[0m\u001b[0;34m,\u001b[0m\u001b[0;34m\u001b[0m\u001b[0;34m\u001b[0m\u001b[0m\n\u001b[1;32m    310\u001b[0m                 )\n\u001b[0;32m--> 311\u001b[0;31m             \u001b[0;32mreturn\u001b[0m \u001b[0mfunc\u001b[0m\u001b[0;34m(\u001b[0m\u001b[0;34m*\u001b[0m\u001b[0margs\u001b[0m\u001b[0;34m,\u001b[0m \u001b[0;34m**\u001b[0m\u001b[0mkwargs\u001b[0m\u001b[0;34m)\u001b[0m\u001b[0;34m\u001b[0m\u001b[0;34m\u001b[0m\u001b[0m\n\u001b[0m\u001b[1;32m    312\u001b[0m \u001b[0;34m\u001b[0m\u001b[0m\n\u001b[1;32m    313\u001b[0m         \u001b[0;32mreturn\u001b[0m \u001b[0mwrapper\u001b[0m\u001b[0;34m\u001b[0m\u001b[0;34m\u001b[0m\u001b[0m\n",
      "\u001b[0;32m~/opt/anaconda3/lib/python3.8/site-packages/pandas/io/parsers/readers.py\u001b[0m in \u001b[0;36mread_csv\u001b[0;34m(filepath_or_buffer, sep, delimiter, header, names, index_col, usecols, squeeze, prefix, mangle_dupe_cols, dtype, engine, converters, true_values, false_values, skipinitialspace, skiprows, skipfooter, nrows, na_values, keep_default_na, na_filter, verbose, skip_blank_lines, parse_dates, infer_datetime_format, keep_date_col, date_parser, dayfirst, cache_dates, iterator, chunksize, compression, thousands, decimal, lineterminator, quotechar, quoting, doublequote, escapechar, comment, encoding, encoding_errors, dialect, error_bad_lines, warn_bad_lines, on_bad_lines, delim_whitespace, low_memory, memory_map, float_precision, storage_options)\u001b[0m\n\u001b[1;32m    584\u001b[0m     \u001b[0mkwds\u001b[0m\u001b[0;34m.\u001b[0m\u001b[0mupdate\u001b[0m\u001b[0;34m(\u001b[0m\u001b[0mkwds_defaults\u001b[0m\u001b[0;34m)\u001b[0m\u001b[0;34m\u001b[0m\u001b[0;34m\u001b[0m\u001b[0m\n\u001b[1;32m    585\u001b[0m \u001b[0;34m\u001b[0m\u001b[0m\n\u001b[0;32m--> 586\u001b[0;31m     \u001b[0;32mreturn\u001b[0m \u001b[0m_read\u001b[0m\u001b[0;34m(\u001b[0m\u001b[0mfilepath_or_buffer\u001b[0m\u001b[0;34m,\u001b[0m \u001b[0mkwds\u001b[0m\u001b[0;34m)\u001b[0m\u001b[0;34m\u001b[0m\u001b[0;34m\u001b[0m\u001b[0m\n\u001b[0m\u001b[1;32m    587\u001b[0m \u001b[0;34m\u001b[0m\u001b[0m\n\u001b[1;32m    588\u001b[0m \u001b[0;34m\u001b[0m\u001b[0m\n",
      "\u001b[0;32m~/opt/anaconda3/lib/python3.8/site-packages/pandas/io/parsers/readers.py\u001b[0m in \u001b[0;36m_read\u001b[0;34m(filepath_or_buffer, kwds)\u001b[0m\n\u001b[1;32m    480\u001b[0m \u001b[0;34m\u001b[0m\u001b[0m\n\u001b[1;32m    481\u001b[0m     \u001b[0;31m# Create the parser.\u001b[0m\u001b[0;34m\u001b[0m\u001b[0;34m\u001b[0m\u001b[0;34m\u001b[0m\u001b[0m\n\u001b[0;32m--> 482\u001b[0;31m     \u001b[0mparser\u001b[0m \u001b[0;34m=\u001b[0m \u001b[0mTextFileReader\u001b[0m\u001b[0;34m(\u001b[0m\u001b[0mfilepath_or_buffer\u001b[0m\u001b[0;34m,\u001b[0m \u001b[0;34m**\u001b[0m\u001b[0mkwds\u001b[0m\u001b[0;34m)\u001b[0m\u001b[0;34m\u001b[0m\u001b[0;34m\u001b[0m\u001b[0m\n\u001b[0m\u001b[1;32m    483\u001b[0m \u001b[0;34m\u001b[0m\u001b[0m\n\u001b[1;32m    484\u001b[0m     \u001b[0;32mif\u001b[0m \u001b[0mchunksize\u001b[0m \u001b[0;32mor\u001b[0m \u001b[0miterator\u001b[0m\u001b[0;34m:\u001b[0m\u001b[0;34m\u001b[0m\u001b[0;34m\u001b[0m\u001b[0m\n",
      "\u001b[0;32m~/opt/anaconda3/lib/python3.8/site-packages/pandas/io/parsers/readers.py\u001b[0m in \u001b[0;36m__init__\u001b[0;34m(self, f, engine, **kwds)\u001b[0m\n\u001b[1;32m    809\u001b[0m             \u001b[0mself\u001b[0m\u001b[0;34m.\u001b[0m\u001b[0moptions\u001b[0m\u001b[0;34m[\u001b[0m\u001b[0;34m\"has_index_names\"\u001b[0m\u001b[0;34m]\u001b[0m \u001b[0;34m=\u001b[0m \u001b[0mkwds\u001b[0m\u001b[0;34m[\u001b[0m\u001b[0;34m\"has_index_names\"\u001b[0m\u001b[0;34m]\u001b[0m\u001b[0;34m\u001b[0m\u001b[0;34m\u001b[0m\u001b[0m\n\u001b[1;32m    810\u001b[0m \u001b[0;34m\u001b[0m\u001b[0m\n\u001b[0;32m--> 811\u001b[0;31m         \u001b[0mself\u001b[0m\u001b[0;34m.\u001b[0m\u001b[0m_engine\u001b[0m \u001b[0;34m=\u001b[0m \u001b[0mself\u001b[0m\u001b[0;34m.\u001b[0m\u001b[0m_make_engine\u001b[0m\u001b[0;34m(\u001b[0m\u001b[0mself\u001b[0m\u001b[0;34m.\u001b[0m\u001b[0mengine\u001b[0m\u001b[0;34m)\u001b[0m\u001b[0;34m\u001b[0m\u001b[0;34m\u001b[0m\u001b[0m\n\u001b[0m\u001b[1;32m    812\u001b[0m \u001b[0;34m\u001b[0m\u001b[0m\n\u001b[1;32m    813\u001b[0m     \u001b[0;32mdef\u001b[0m \u001b[0mclose\u001b[0m\u001b[0;34m(\u001b[0m\u001b[0mself\u001b[0m\u001b[0;34m)\u001b[0m\u001b[0;34m:\u001b[0m\u001b[0;34m\u001b[0m\u001b[0;34m\u001b[0m\u001b[0m\n",
      "\u001b[0;32m~/opt/anaconda3/lib/python3.8/site-packages/pandas/io/parsers/readers.py\u001b[0m in \u001b[0;36m_make_engine\u001b[0;34m(self, engine)\u001b[0m\n\u001b[1;32m   1038\u001b[0m             )\n\u001b[1;32m   1039\u001b[0m         \u001b[0;31m# error: Too many arguments for \"ParserBase\"\u001b[0m\u001b[0;34m\u001b[0m\u001b[0;34m\u001b[0m\u001b[0;34m\u001b[0m\u001b[0m\n\u001b[0;32m-> 1040\u001b[0;31m         \u001b[0;32mreturn\u001b[0m \u001b[0mmapping\u001b[0m\u001b[0;34m[\u001b[0m\u001b[0mengine\u001b[0m\u001b[0;34m]\u001b[0m\u001b[0;34m(\u001b[0m\u001b[0mself\u001b[0m\u001b[0;34m.\u001b[0m\u001b[0mf\u001b[0m\u001b[0;34m,\u001b[0m \u001b[0;34m**\u001b[0m\u001b[0mself\u001b[0m\u001b[0;34m.\u001b[0m\u001b[0moptions\u001b[0m\u001b[0;34m)\u001b[0m  \u001b[0;31m# type: ignore[call-arg]\u001b[0m\u001b[0;34m\u001b[0m\u001b[0;34m\u001b[0m\u001b[0m\n\u001b[0m\u001b[1;32m   1041\u001b[0m \u001b[0;34m\u001b[0m\u001b[0m\n\u001b[1;32m   1042\u001b[0m     \u001b[0;32mdef\u001b[0m \u001b[0m_failover_to_python\u001b[0m\u001b[0;34m(\u001b[0m\u001b[0mself\u001b[0m\u001b[0;34m)\u001b[0m\u001b[0;34m:\u001b[0m\u001b[0;34m\u001b[0m\u001b[0;34m\u001b[0m\u001b[0m\n",
      "\u001b[0;32m~/opt/anaconda3/lib/python3.8/site-packages/pandas/io/parsers/c_parser_wrapper.py\u001b[0m in \u001b[0;36m__init__\u001b[0;34m(self, src, **kwds)\u001b[0m\n\u001b[1;32m     49\u001b[0m \u001b[0;34m\u001b[0m\u001b[0m\n\u001b[1;32m     50\u001b[0m         \u001b[0;31m# open handles\u001b[0m\u001b[0;34m\u001b[0m\u001b[0;34m\u001b[0m\u001b[0;34m\u001b[0m\u001b[0m\n\u001b[0;32m---> 51\u001b[0;31m         \u001b[0mself\u001b[0m\u001b[0;34m.\u001b[0m\u001b[0m_open_handles\u001b[0m\u001b[0;34m(\u001b[0m\u001b[0msrc\u001b[0m\u001b[0;34m,\u001b[0m \u001b[0mkwds\u001b[0m\u001b[0;34m)\u001b[0m\u001b[0;34m\u001b[0m\u001b[0;34m\u001b[0m\u001b[0m\n\u001b[0m\u001b[1;32m     52\u001b[0m         \u001b[0;32massert\u001b[0m \u001b[0mself\u001b[0m\u001b[0;34m.\u001b[0m\u001b[0mhandles\u001b[0m \u001b[0;32mis\u001b[0m \u001b[0;32mnot\u001b[0m \u001b[0;32mNone\u001b[0m\u001b[0;34m\u001b[0m\u001b[0;34m\u001b[0m\u001b[0m\n\u001b[1;32m     53\u001b[0m \u001b[0;34m\u001b[0m\u001b[0m\n",
      "\u001b[0;32m~/opt/anaconda3/lib/python3.8/site-packages/pandas/io/parsers/base_parser.py\u001b[0m in \u001b[0;36m_open_handles\u001b[0;34m(self, src, kwds)\u001b[0m\n\u001b[1;32m    220\u001b[0m         \u001b[0mLet\u001b[0m \u001b[0mthe\u001b[0m \u001b[0mreaders\u001b[0m \u001b[0mopen\u001b[0m \u001b[0mIOHandles\u001b[0m \u001b[0mafter\u001b[0m \u001b[0mthey\u001b[0m \u001b[0mare\u001b[0m \u001b[0mdone\u001b[0m \u001b[0;32mwith\u001b[0m \u001b[0mtheir\u001b[0m \u001b[0mpotential\u001b[0m \u001b[0mraises\u001b[0m\u001b[0;34m.\u001b[0m\u001b[0;34m\u001b[0m\u001b[0;34m\u001b[0m\u001b[0m\n\u001b[1;32m    221\u001b[0m         \"\"\"\n\u001b[0;32m--> 222\u001b[0;31m         self.handles = get_handle(\n\u001b[0m\u001b[1;32m    223\u001b[0m             \u001b[0msrc\u001b[0m\u001b[0;34m,\u001b[0m\u001b[0;34m\u001b[0m\u001b[0;34m\u001b[0m\u001b[0m\n\u001b[1;32m    224\u001b[0m             \u001b[0;34m\"r\"\u001b[0m\u001b[0;34m,\u001b[0m\u001b[0;34m\u001b[0m\u001b[0;34m\u001b[0m\u001b[0m\n",
      "\u001b[0;32m~/opt/anaconda3/lib/python3.8/site-packages/pandas/io/common.py\u001b[0m in \u001b[0;36mget_handle\u001b[0;34m(path_or_buf, mode, encoding, compression, memory_map, is_text, errors, storage_options)\u001b[0m\n\u001b[1;32m    699\u001b[0m         \u001b[0;32mif\u001b[0m \u001b[0mioargs\u001b[0m\u001b[0;34m.\u001b[0m\u001b[0mencoding\u001b[0m \u001b[0;32mand\u001b[0m \u001b[0;34m\"b\"\u001b[0m \u001b[0;32mnot\u001b[0m \u001b[0;32min\u001b[0m \u001b[0mioargs\u001b[0m\u001b[0;34m.\u001b[0m\u001b[0mmode\u001b[0m\u001b[0;34m:\u001b[0m\u001b[0;34m\u001b[0m\u001b[0;34m\u001b[0m\u001b[0m\n\u001b[1;32m    700\u001b[0m             \u001b[0;31m# Encoding\u001b[0m\u001b[0;34m\u001b[0m\u001b[0;34m\u001b[0m\u001b[0;34m\u001b[0m\u001b[0m\n\u001b[0;32m--> 701\u001b[0;31m             handle = open(\n\u001b[0m\u001b[1;32m    702\u001b[0m                 \u001b[0mhandle\u001b[0m\u001b[0;34m,\u001b[0m\u001b[0;34m\u001b[0m\u001b[0;34m\u001b[0m\u001b[0m\n\u001b[1;32m    703\u001b[0m                 \u001b[0mioargs\u001b[0m\u001b[0;34m.\u001b[0m\u001b[0mmode\u001b[0m\u001b[0;34m,\u001b[0m\u001b[0;34m\u001b[0m\u001b[0;34m\u001b[0m\u001b[0m\n",
      "\u001b[0;31mFileNotFoundError\u001b[0m: [Errno 2] No such file or directory: '/Users/de_tai/Desktop/python_main/resources/dowstocks.csv'"
     ]
    }
   ],
   "source": [
    "pd.read_csv(file_name[0])"
   ]
  },
  {
   "cell_type": "code",
   "execution_count": 244,
   "id": "4e500c8b-8a82-4144-8612-bc75237c40a7",
   "metadata": {},
   "outputs": [
    {
     "data": {
      "text/plain": [
       "False"
      ]
     },
     "execution_count": 244,
     "metadata": {},
     "output_type": "execute_result"
    }
   ],
   "source": [
    "os.path.exists('Users/de_tai/Desktop/python_main/resources/dowstocks.csv')"
   ]
  },
  {
   "cell_type": "code",
   "execution_count": 246,
   "id": "74a748ed-9636-4b97-b861-38db477d5f35",
   "metadata": {},
   "outputs": [],
   "source": [
    "file= 'resources/data/missing.csv'\n",
    "\n",
    "def file_reader(path):\n",
    "    return pd.read_csv(path)\n",
    "\n"
   ]
  },
  {
   "cell_type": "code",
   "execution_count": 250,
   "id": "8e3997c4-dfc8-4896-9c29-9e4631b3fead",
   "metadata": {},
   "outputs": [],
   "source": [
    "data1 = file_reader(file)"
   ]
  },
  {
   "cell_type": "code",
   "execution_count": 251,
   "id": "515bb970-c30c-4122-babe-5159eb0f2738",
   "metadata": {},
   "outputs": [
    {
     "data": {
      "text/html": [
       "<div>\n",
       "<style scoped>\n",
       "    .dataframe tbody tr th:only-of-type {\n",
       "        vertical-align: middle;\n",
       "    }\n",
       "\n",
       "    .dataframe tbody tr th {\n",
       "        vertical-align: top;\n",
       "    }\n",
       "\n",
       "    .dataframe thead th {\n",
       "        text-align: right;\n",
       "    }\n",
       "</style>\n",
       "<table border=\"1\" class=\"dataframe\">\n",
       "  <thead>\n",
       "    <tr style=\"text-align: right;\">\n",
       "      <th></th>\n",
       "      <th>name</th>\n",
       "      <th>shares</th>\n",
       "      <th>price</th>\n",
       "    </tr>\n",
       "  </thead>\n",
       "  <tbody>\n",
       "    <tr>\n",
       "      <th>0</th>\n",
       "      <td>AA</td>\n",
       "      <td>100.0</td>\n",
       "      <td>32.20</td>\n",
       "    </tr>\n",
       "    <tr>\n",
       "      <th>1</th>\n",
       "      <td>IBM</td>\n",
       "      <td>50.0</td>\n",
       "      <td>91.10</td>\n",
       "    </tr>\n",
       "    <tr>\n",
       "      <th>2</th>\n",
       "      <td>CAT</td>\n",
       "      <td>150.0</td>\n",
       "      <td>83.44</td>\n",
       "    </tr>\n",
       "    <tr>\n",
       "      <th>3</th>\n",
       "      <td>MSFT</td>\n",
       "      <td>NaN</td>\n",
       "      <td>51.23</td>\n",
       "    </tr>\n",
       "    <tr>\n",
       "      <th>4</th>\n",
       "      <td>GE</td>\n",
       "      <td>95.0</td>\n",
       "      <td>40.37</td>\n",
       "    </tr>\n",
       "    <tr>\n",
       "      <th>5</th>\n",
       "      <td>MSFT</td>\n",
       "      <td>50.0</td>\n",
       "      <td>65.10</td>\n",
       "    </tr>\n",
       "    <tr>\n",
       "      <th>6</th>\n",
       "      <td>IBM</td>\n",
       "      <td>NaN</td>\n",
       "      <td>70.44</td>\n",
       "    </tr>\n",
       "  </tbody>\n",
       "</table>\n",
       "</div>"
      ],
      "text/plain": [
       "   name  shares  price\n",
       "0    AA   100.0  32.20\n",
       "1   IBM    50.0  91.10\n",
       "2   CAT   150.0  83.44\n",
       "3  MSFT     NaN  51.23\n",
       "4    GE    95.0  40.37\n",
       "5  MSFT    50.0  65.10\n",
       "6   IBM     NaN  70.44"
      ]
     },
     "execution_count": 251,
     "metadata": {},
     "output_type": "execute_result"
    }
   ],
   "source": [
    "data1"
   ]
  },
  {
   "cell_type": "code",
   "execution_count": 252,
   "id": "a95d70fa-5039-476a-85f0-e1e451882945",
   "metadata": {},
   "outputs": [
    {
     "data": {
      "text/plain": [
       "name       object\n",
       "shares    float64\n",
       "price     float64\n",
       "dtype: object"
      ]
     },
     "execution_count": 252,
     "metadata": {},
     "output_type": "execute_result"
    }
   ],
   "source": [
    "data1.dtypes"
   ]
  },
  {
   "cell_type": "code",
   "execution_count": 254,
   "id": "cb2854d6-bf1d-48c2-ba7b-ff6604d40946",
   "metadata": {},
   "outputs": [
    {
     "data": {
      "text/html": [
       "<div>\n",
       "<style scoped>\n",
       "    .dataframe tbody tr th:only-of-type {\n",
       "        vertical-align: middle;\n",
       "    }\n",
       "\n",
       "    .dataframe tbody tr th {\n",
       "        vertical-align: top;\n",
       "    }\n",
       "\n",
       "    .dataframe thead th {\n",
       "        text-align: right;\n",
       "    }\n",
       "</style>\n",
       "<table border=\"1\" class=\"dataframe\">\n",
       "  <thead>\n",
       "    <tr style=\"text-align: right;\">\n",
       "      <th></th>\n",
       "      <th>shares</th>\n",
       "      <th>price</th>\n",
       "    </tr>\n",
       "  </thead>\n",
       "  <tbody>\n",
       "    <tr>\n",
       "      <th>count</th>\n",
       "      <td>5.000000</td>\n",
       "      <td>7.000000</td>\n",
       "    </tr>\n",
       "    <tr>\n",
       "      <th>mean</th>\n",
       "      <td>89.000000</td>\n",
       "      <td>61.982857</td>\n",
       "    </tr>\n",
       "    <tr>\n",
       "      <th>std</th>\n",
       "      <td>41.593269</td>\n",
       "      <td>21.829700</td>\n",
       "    </tr>\n",
       "    <tr>\n",
       "      <th>min</th>\n",
       "      <td>50.000000</td>\n",
       "      <td>32.200000</td>\n",
       "    </tr>\n",
       "    <tr>\n",
       "      <th>25%</th>\n",
       "      <td>50.000000</td>\n",
       "      <td>45.800000</td>\n",
       "    </tr>\n",
       "    <tr>\n",
       "      <th>50%</th>\n",
       "      <td>95.000000</td>\n",
       "      <td>65.100000</td>\n",
       "    </tr>\n",
       "    <tr>\n",
       "      <th>75%</th>\n",
       "      <td>100.000000</td>\n",
       "      <td>76.940000</td>\n",
       "    </tr>\n",
       "    <tr>\n",
       "      <th>max</th>\n",
       "      <td>150.000000</td>\n",
       "      <td>91.100000</td>\n",
       "    </tr>\n",
       "  </tbody>\n",
       "</table>\n",
       "</div>"
      ],
      "text/plain": [
       "           shares      price\n",
       "count    5.000000   7.000000\n",
       "mean    89.000000  61.982857\n",
       "std     41.593269  21.829700\n",
       "min     50.000000  32.200000\n",
       "25%     50.000000  45.800000\n",
       "50%     95.000000  65.100000\n",
       "75%    100.000000  76.940000\n",
       "max    150.000000  91.100000"
      ]
     },
     "execution_count": 254,
     "metadata": {},
     "output_type": "execute_result"
    }
   ],
   "source": [
    "data1.describe()"
   ]
  },
  {
   "cell_type": "code",
   "execution_count": 256,
   "id": "f39434dc-d132-464f-bcd3-83ae32cdc202",
   "metadata": {},
   "outputs": [
    {
     "name": "stdout",
     "output_type": "stream",
     "text": [
      "<class 'pandas.core.frame.DataFrame'>\n",
      "RangeIndex: 7 entries, 0 to 6\n",
      "Data columns (total 3 columns):\n",
      " #   Column  Non-Null Count  Dtype  \n",
      "---  ------  --------------  -----  \n",
      " 0   name    7 non-null      object \n",
      " 1   shares  5 non-null      float64\n",
      " 2   price   7 non-null      float64\n",
      "dtypes: float64(2), object(1)\n",
      "memory usage: 296.0+ bytes\n"
     ]
    }
   ],
   "source": [
    "data1.info()"
   ]
  },
  {
   "cell_type": "code",
   "execution_count": 262,
   "id": "c133a72e-543d-43b2-951e-7e404d8c727d",
   "metadata": {},
   "outputs": [
    {
     "data": {
      "text/html": [
       "<div>\n",
       "<style scoped>\n",
       "    .dataframe tbody tr th:only-of-type {\n",
       "        vertical-align: middle;\n",
       "    }\n",
       "\n",
       "    .dataframe tbody tr th {\n",
       "        vertical-align: top;\n",
       "    }\n",
       "\n",
       "    .dataframe thead th {\n",
       "        text-align: right;\n",
       "    }\n",
       "</style>\n",
       "<table border=\"1\" class=\"dataframe\">\n",
       "  <thead>\n",
       "    <tr style=\"text-align: right;\">\n",
       "      <th></th>\n",
       "      <th>name</th>\n",
       "      <th>shares</th>\n",
       "      <th>price</th>\n",
       "    </tr>\n",
       "  </thead>\n",
       "  <tbody>\n",
       "    <tr>\n",
       "      <th>3</th>\n",
       "      <td>MSFT</td>\n",
       "      <td>NaN</td>\n",
       "      <td>51.23</td>\n",
       "    </tr>\n",
       "    <tr>\n",
       "      <th>6</th>\n",
       "      <td>IBM</td>\n",
       "      <td>NaN</td>\n",
       "      <td>70.44</td>\n",
       "    </tr>\n",
       "  </tbody>\n",
       "</table>\n",
       "</div>"
      ],
      "text/plain": [
       "   name  shares  price\n",
       "3  MSFT     NaN  51.23\n",
       "6   IBM     NaN  70.44"
      ]
     },
     "execution_count": 262,
     "metadata": {},
     "output_type": "execute_result"
    }
   ],
   "source": [
    "data1[data1['shares'].isnull()]"
   ]
  },
  {
   "cell_type": "code",
   "execution_count": 270,
   "id": "9daff06d-9d6d-45bd-b1f6-ae03180932a5",
   "metadata": {},
   "outputs": [],
   "source": [
    "# we decide tp drop or delete null values\n",
    "# we assume the figures\n",
    "    # mean value \n",
    "    # back fill\n",
    "    # front fill \n",
    "    #     linear regression\n",
    "    \n",
    "\n",
    "a = data1.copy()\n",
    "\n",
    "# a.dropna(axis= 'rows')\n",
    "a.dropna(how= 'any', inplace=True)\n",
    "a"
   ]
  },
  {
   "cell_type": "code",
   "execution_count": 272,
   "id": "0b845bdd-18c1-4323-b5b7-8e5b8025683a",
   "metadata": {},
   "outputs": [],
   "source": [
    "sample = data1.copy()"
   ]
  },
  {
   "cell_type": "code",
   "execution_count": 277,
   "id": "2e764df6-76f9-4c40-bc76-f50b2c6f82d5",
   "metadata": {},
   "outputs": [],
   "source": [
    "# mean\n",
    "mean = sample['shares'].mean()"
   ]
  },
  {
   "cell_type": "code",
   "execution_count": 278,
   "id": "62a754c1-3d6a-4e51-9970-43b6dc08fda1",
   "metadata": {},
   "outputs": [
    {
     "data": {
      "text/html": [
       "<div>\n",
       "<style scoped>\n",
       "    .dataframe tbody tr th:only-of-type {\n",
       "        vertical-align: middle;\n",
       "    }\n",
       "\n",
       "    .dataframe tbody tr th {\n",
       "        vertical-align: top;\n",
       "    }\n",
       "\n",
       "    .dataframe thead th {\n",
       "        text-align: right;\n",
       "    }\n",
       "</style>\n",
       "<table border=\"1\" class=\"dataframe\">\n",
       "  <thead>\n",
       "    <tr style=\"text-align: right;\">\n",
       "      <th></th>\n",
       "      <th>name</th>\n",
       "      <th>shares</th>\n",
       "      <th>price</th>\n",
       "    </tr>\n",
       "  </thead>\n",
       "  <tbody>\n",
       "    <tr>\n",
       "      <th>0</th>\n",
       "      <td>AA</td>\n",
       "      <td>100.0</td>\n",
       "      <td>32.20</td>\n",
       "    </tr>\n",
       "    <tr>\n",
       "      <th>1</th>\n",
       "      <td>IBM</td>\n",
       "      <td>50.0</td>\n",
       "      <td>91.10</td>\n",
       "    </tr>\n",
       "    <tr>\n",
       "      <th>2</th>\n",
       "      <td>CAT</td>\n",
       "      <td>150.0</td>\n",
       "      <td>83.44</td>\n",
       "    </tr>\n",
       "    <tr>\n",
       "      <th>3</th>\n",
       "      <td>MSFT</td>\n",
       "      <td>89.0</td>\n",
       "      <td>51.23</td>\n",
       "    </tr>\n",
       "    <tr>\n",
       "      <th>4</th>\n",
       "      <td>GE</td>\n",
       "      <td>95.0</td>\n",
       "      <td>40.37</td>\n",
       "    </tr>\n",
       "    <tr>\n",
       "      <th>5</th>\n",
       "      <td>MSFT</td>\n",
       "      <td>50.0</td>\n",
       "      <td>65.10</td>\n",
       "    </tr>\n",
       "    <tr>\n",
       "      <th>6</th>\n",
       "      <td>IBM</td>\n",
       "      <td>89.0</td>\n",
       "      <td>70.44</td>\n",
       "    </tr>\n",
       "  </tbody>\n",
       "</table>\n",
       "</div>"
      ],
      "text/plain": [
       "   name  shares  price\n",
       "0    AA   100.0  32.20\n",
       "1   IBM    50.0  91.10\n",
       "2   CAT   150.0  83.44\n",
       "3  MSFT    89.0  51.23\n",
       "4    GE    95.0  40.37\n",
       "5  MSFT    50.0  65.10\n",
       "6   IBM    89.0  70.44"
      ]
     },
     "execution_count": 278,
     "metadata": {},
     "output_type": "execute_result"
    }
   ],
   "source": [
    "sample.fillna(mean)"
   ]
  },
  {
   "cell_type": "code",
   "execution_count": 279,
   "id": "76b6b73c-e711-4c5e-989e-895ea0d3baba",
   "metadata": {},
   "outputs": [
    {
     "data": {
      "text/html": [
       "<div>\n",
       "<style scoped>\n",
       "    .dataframe tbody tr th:only-of-type {\n",
       "        vertical-align: middle;\n",
       "    }\n",
       "\n",
       "    .dataframe tbody tr th {\n",
       "        vertical-align: top;\n",
       "    }\n",
       "\n",
       "    .dataframe thead th {\n",
       "        text-align: right;\n",
       "    }\n",
       "</style>\n",
       "<table border=\"1\" class=\"dataframe\">\n",
       "  <thead>\n",
       "    <tr style=\"text-align: right;\">\n",
       "      <th></th>\n",
       "      <th>name</th>\n",
       "      <th>shares</th>\n",
       "      <th>price</th>\n",
       "    </tr>\n",
       "  </thead>\n",
       "  <tbody>\n",
       "    <tr>\n",
       "      <th>0</th>\n",
       "      <td>AA</td>\n",
       "      <td>100.0</td>\n",
       "      <td>32.20</td>\n",
       "    </tr>\n",
       "    <tr>\n",
       "      <th>1</th>\n",
       "      <td>IBM</td>\n",
       "      <td>50.0</td>\n",
       "      <td>91.10</td>\n",
       "    </tr>\n",
       "    <tr>\n",
       "      <th>2</th>\n",
       "      <td>CAT</td>\n",
       "      <td>150.0</td>\n",
       "      <td>83.44</td>\n",
       "    </tr>\n",
       "    <tr>\n",
       "      <th>3</th>\n",
       "      <td>MSFT</td>\n",
       "      <td>NaN</td>\n",
       "      <td>51.23</td>\n",
       "    </tr>\n",
       "    <tr>\n",
       "      <th>4</th>\n",
       "      <td>GE</td>\n",
       "      <td>95.0</td>\n",
       "      <td>40.37</td>\n",
       "    </tr>\n",
       "    <tr>\n",
       "      <th>5</th>\n",
       "      <td>MSFT</td>\n",
       "      <td>50.0</td>\n",
       "      <td>65.10</td>\n",
       "    </tr>\n",
       "    <tr>\n",
       "      <th>6</th>\n",
       "      <td>IBM</td>\n",
       "      <td>NaN</td>\n",
       "      <td>70.44</td>\n",
       "    </tr>\n",
       "  </tbody>\n",
       "</table>\n",
       "</div>"
      ],
      "text/plain": [
       "   name  shares  price\n",
       "0    AA   100.0  32.20\n",
       "1   IBM    50.0  91.10\n",
       "2   CAT   150.0  83.44\n",
       "3  MSFT     NaN  51.23\n",
       "4    GE    95.0  40.37\n",
       "5  MSFT    50.0  65.10\n",
       "6   IBM     NaN  70.44"
      ]
     },
     "execution_count": 279,
     "metadata": {},
     "output_type": "execute_result"
    }
   ],
   "source": [
    "sample2 = data1.copy()\n",
    "\n",
    "sample2"
   ]
  },
  {
   "cell_type": "code",
   "execution_count": 286,
   "id": "d002277d-abf3-43c7-9853-11360f34d26b",
   "metadata": {},
   "outputs": [
    {
     "data": {
      "text/html": [
       "<div>\n",
       "<style scoped>\n",
       "    .dataframe tbody tr th:only-of-type {\n",
       "        vertical-align: middle;\n",
       "    }\n",
       "\n",
       "    .dataframe tbody tr th {\n",
       "        vertical-align: top;\n",
       "    }\n",
       "\n",
       "    .dataframe thead th {\n",
       "        text-align: right;\n",
       "    }\n",
       "</style>\n",
       "<table border=\"1\" class=\"dataframe\">\n",
       "  <thead>\n",
       "    <tr style=\"text-align: right;\">\n",
       "      <th></th>\n",
       "      <th>name</th>\n",
       "      <th>shares</th>\n",
       "      <th>price</th>\n",
       "    </tr>\n",
       "  </thead>\n",
       "  <tbody>\n",
       "    <tr>\n",
       "      <th>0</th>\n",
       "      <td>AA</td>\n",
       "      <td>100.0</td>\n",
       "      <td>32.20</td>\n",
       "    </tr>\n",
       "    <tr>\n",
       "      <th>1</th>\n",
       "      <td>IBM</td>\n",
       "      <td>50.0</td>\n",
       "      <td>91.10</td>\n",
       "    </tr>\n",
       "    <tr>\n",
       "      <th>2</th>\n",
       "      <td>CAT</td>\n",
       "      <td>150.0</td>\n",
       "      <td>83.44</td>\n",
       "    </tr>\n",
       "    <tr>\n",
       "      <th>3</th>\n",
       "      <td>MSFT</td>\n",
       "      <td>NaN</td>\n",
       "      <td>51.23</td>\n",
       "    </tr>\n",
       "    <tr>\n",
       "      <th>4</th>\n",
       "      <td>GE</td>\n",
       "      <td>95.0</td>\n",
       "      <td>40.37</td>\n",
       "    </tr>\n",
       "    <tr>\n",
       "      <th>5</th>\n",
       "      <td>MSFT</td>\n",
       "      <td>50.0</td>\n",
       "      <td>65.10</td>\n",
       "    </tr>\n",
       "    <tr>\n",
       "      <th>6</th>\n",
       "      <td>IBM</td>\n",
       "      <td>NaN</td>\n",
       "      <td>70.44</td>\n",
       "    </tr>\n",
       "  </tbody>\n",
       "</table>\n",
       "</div>"
      ],
      "text/plain": [
       "   name  shares  price\n",
       "0    AA   100.0  32.20\n",
       "1   IBM    50.0  91.10\n",
       "2   CAT   150.0  83.44\n",
       "3  MSFT     NaN  51.23\n",
       "4    GE    95.0  40.37\n",
       "5  MSFT    50.0  65.10\n",
       "6   IBM     NaN  70.44"
      ]
     },
     "execution_count": 286,
     "metadata": {},
     "output_type": "execute_result"
    }
   ],
   "source": [
    "sample2.fillna(method = 'bfill')\n",
    "sample2"
   ]
  },
  {
   "cell_type": "code",
   "execution_count": 287,
   "id": "db58f8d4-a04d-4787-8fb0-b02c77c75b18",
   "metadata": {},
   "outputs": [],
   "source": [
    "from collections import OrderedDict\n",
    "\n",
    "d = OrdereddDict()\n",
    "d.update(diction)"
   ]
  },
  {
   "cell_type": "code",
   "execution_count": 288,
   "id": "66ca41c8-756a-4f79-b853-6b01ac307e1b",
   "metadata": {},
   "outputs": [],
   "source": [
    "d.update({'l\n",
    "          owkey':'another key'})"
   ]
  },
  {
   "cell_type": "code",
   "execution_count": 299,
   "id": "d1c44ef4-48e2-4daf-980a-e8a07af55343",
   "metadata": {},
   "outputs": [],
   "source": [
    "item = dict(map(lambda x: (x,d[x]),[*d][:4]))"
   ]
  },
  {
   "cell_type": "code",
   "execution_count": 300,
   "id": "a599db78-27dd-40cc-82fb-58e91c26a310",
   "metadata": {},
   "outputs": [
    {
     "data": {
      "text/plain": [
       "{'name': 'Ade',\n",
       " 'organisation': 'Saidatech',\n",
       " 'location': 'turkey',\n",
       " 'birth': 'turkey'}"
      ]
     },
     "execution_count": 300,
     "metadata": {},
     "output_type": "execute_result"
    }
   ],
   "source": [
    "def main():\n",
    "    vowels = 0\n",
    "    consonants = 0\n",
    "    mystr = input(\"Enter your String:\")\n",
    "    mystr = mystr.lower().strip()\n",
    "\n",
    "\n",
    "    for vw in mystr:\n",
    "        if vw in ('a','e','i','o','u'):\n",
    "            vowels += 1\n",
    "    print ('This string consists of ', vowels , 'vowels.')\n",
    "\n",
    "\n",
    "    for cs in mystr:\n",
    "         if cs in ('q', 'w', 'r', 't', 'y', 'p', 's', 'd', 'f', 'g', 'h', 'j',\\\n",
    "         'k', 'l', 'z', 'c', 'v', 'b', 'n', 'm'):\n",
    "             consonants += 1\n",
    "    print ('This string consists of ' , consonants , 'consonants.')\n",
    "\n",
    "main()"
   ]
  },
  {
   "cell_type": "code",
   "execution_count": 316,
   "id": "6b5ae572-fe0d-4695-b524-b595fdae172e",
   "metadata": {},
   "outputs": [
    {
     "data": {
      "text/plain": [
       "odict_items([('name', 'Ade'), ('organisation', 'Saidatech'), ('location', 'turkey'), ('birth', 'turkey'), ('salary', None), ('lowkey', 'another key')])"
      ]
     },
     "execution_count": 316,
     "metadata": {},
     "output_type": "execute_result"
    }
   ],
   "source": [
    "d.items()"
   ]
  },
  {
   "cell_type": "code",
   "execution_count": 323,
   "id": "6e827eae-1e5a-48f4-b3d8-c5d471e2b6b8",
   "metadata": {},
   "outputs": [],
   "source": [
    "sample2['new']= sample2['price'].shift(periods=1, fill_value=0\n",
    "                                      )"
   ]
  },
  {
   "cell_type": "code",
   "execution_count": 324,
   "id": "9399f4b8-141f-44d1-a634-1fc2f62ab485",
   "metadata": {},
   "outputs": [
    {
     "data": {
      "text/html": [
       "<div>\n",
       "<style scoped>\n",
       "    .dataframe tbody tr th:only-of-type {\n",
       "        vertical-align: middle;\n",
       "    }\n",
       "\n",
       "    .dataframe tbody tr th {\n",
       "        vertical-align: top;\n",
       "    }\n",
       "\n",
       "    .dataframe thead th {\n",
       "        text-align: right;\n",
       "    }\n",
       "</style>\n",
       "<table border=\"1\" class=\"dataframe\">\n",
       "  <thead>\n",
       "    <tr style=\"text-align: right;\">\n",
       "      <th></th>\n",
       "      <th>name</th>\n",
       "      <th>shares</th>\n",
       "      <th>price</th>\n",
       "      <th>new</th>\n",
       "    </tr>\n",
       "  </thead>\n",
       "  <tbody>\n",
       "    <tr>\n",
       "      <th>0</th>\n",
       "      <td>AA</td>\n",
       "      <td>100.0</td>\n",
       "      <td>32.20</td>\n",
       "      <td>0.00</td>\n",
       "    </tr>\n",
       "    <tr>\n",
       "      <th>1</th>\n",
       "      <td>IBM</td>\n",
       "      <td>50.0</td>\n",
       "      <td>91.10</td>\n",
       "      <td>32.20</td>\n",
       "    </tr>\n",
       "    <tr>\n",
       "      <th>2</th>\n",
       "      <td>CAT</td>\n",
       "      <td>150.0</td>\n",
       "      <td>83.44</td>\n",
       "      <td>91.10</td>\n",
       "    </tr>\n",
       "    <tr>\n",
       "      <th>3</th>\n",
       "      <td>MSFT</td>\n",
       "      <td>NaN</td>\n",
       "      <td>51.23</td>\n",
       "      <td>83.44</td>\n",
       "    </tr>\n",
       "    <tr>\n",
       "      <th>4</th>\n",
       "      <td>GE</td>\n",
       "      <td>95.0</td>\n",
       "      <td>40.37</td>\n",
       "      <td>51.23</td>\n",
       "    </tr>\n",
       "    <tr>\n",
       "      <th>5</th>\n",
       "      <td>MSFT</td>\n",
       "      <td>50.0</td>\n",
       "      <td>65.10</td>\n",
       "      <td>40.37</td>\n",
       "    </tr>\n",
       "    <tr>\n",
       "      <th>6</th>\n",
       "      <td>IBM</td>\n",
       "      <td>NaN</td>\n",
       "      <td>70.44</td>\n",
       "      <td>65.10</td>\n",
       "    </tr>\n",
       "  </tbody>\n",
       "</table>\n",
       "</div>"
      ],
      "text/plain": [
       "   name  shares  price    new\n",
       "0    AA   100.0  32.20   0.00\n",
       "1   IBM    50.0  91.10  32.20\n",
       "2   CAT   150.0  83.44  91.10\n",
       "3  MSFT     NaN  51.23  83.44\n",
       "4    GE    95.0  40.37  51.23\n",
       "5  MSFT    50.0  65.10  40.37\n",
       "6   IBM     NaN  70.44  65.10"
      ]
     },
     "execution_count": 324,
     "metadata": {},
     "output_type": "execute_result"
    }
   ],
   "source": [
    "sample2"
   ]
  },
  {
   "cell_type": "code",
   "execution_count": 330,
   "id": "f4c67595-5741-442a-905b-50030ad748d0",
   "metadata": {},
   "outputs": [],
   "source": [
    "def add(x):\n",
    "    if x['Order']=='MTP':\n",
    "        return x['price']+ x['new']\n",
    "    else:\n",
    "        return None"
   ]
  },
  {
   "cell_type": "code",
   "execution_count": 331,
   "id": "d767e3a7-17be-4230-8e1a-dce3d6e248ab",
   "metadata": {},
   "outputs": [
    {
     "data": {
      "text/plain": [
       "0       NaN\n",
       "1    123.30\n",
       "2       NaN\n",
       "3       NaN\n",
       "4       NaN\n",
       "5       NaN\n",
       "6    135.54\n",
       "dtype: float64"
      ]
     },
     "execution_count": 331,
     "metadata": {},
     "output_type": "execute_result"
    }
   ],
   "source": [
    "sample2.apply(add,axis=1)"
   ]
  },
  {
   "cell_type": "code",
   "execution_count": 360,
   "id": "78f19383-6f34-4e26-8424-fea1e5634441",
   "metadata": {},
   "outputs": [],
   "source": [
    "my_dict = {'0123': 'apple',\n",
    "           '2314': 'banana',\n",
    "           '5214': 'cherry'}\n",
    "my_list = [['0021', '0123', 10],\n",
    "           ['0025', '0123', 12],\n",
    "           ['0032', '2314', 8],\n",
    "           ['0045', '0123', 13],\n",
    "           ['0060', '5214', 12], \n",
    "           ['0067', '2314', 10],]\n",
    "\n",
    "\n",
    "\n",
    "new_list = map(lambda x: list((x[0],my_dict.get(x[1]),x[2])),my_list)"
   ]
  },
  {
   "cell_type": "code",
   "execution_count": 361,
   "id": "e811504b-8ec8-47ae-8a11-0dd5db362bd5",
   "metadata": {},
   "outputs": [
    {
     "name": "stdout",
     "output_type": "stream",
     "text": [
      "['0021', 'apple', 10]\n",
      "['0025', 'apple', 12]\n",
      "['0032', 'banana', 8]\n",
      "['0045', 'apple', 13]\n",
      "['0060', 'cherry', 12]\n",
      "['0067', 'banana', 10]\n"
     ]
    }
   ],
   "source": [
    "for i in new_list:\n",
    "    print(i)"
   ]
  },
  {
   "cell_type": "code",
   "execution_count": 369,
   "id": "cd5d37d0-0239-4746-9bd6-ec7d19097c6e",
   "metadata": {},
   "outputs": [
    {
     "name": "stdout",
     "output_type": "stream",
     "text": [
      "name,price,date,time,change,open,high,low,volume\n",
      "\"AA\",39.48,\"6/11/2007\",\"9:36am\",-0.18,39.67,39.69,39.45,181800\n",
      "\"AIG\",71.38,\"6/11/2007\",\"9:36am\",-0.15,71.29,71.60,71.15,195500\n"
     ]
    }
   ],
   "source": [
    "!head -n 3 /Users/de_tai/Desktop/python_main/day15/Resources/data/dowstocks.csv"
   ]
  },
  {
   "cell_type": "code",
   "execution_count": 373,
   "id": "315fe5f8-153d-46f1-8988-e6608dfb1aeb",
   "metadata": {},
   "outputs": [],
   "source": [
    "!touch sample.py"
   ]
  },
  {
   "cell_type": "code",
   "execution_count": 376,
   "id": "515fd68d-82fc-4b04-91f3-0d68f4c83e9f",
   "metadata": {},
   "outputs": [
    {
     "name": "stdout",
     "output_type": "stream",
     "text": [
      "mkdir: okay: File exists\n"
     ]
    }
   ],
   "source": [
    "!mkdir okay"
   ]
  },
  {
   "cell_type": "code",
   "execution_count": 388,
   "id": "5b074830-0390-4e0f-87df-a5855eaae5c1",
   "metadata": {},
   "outputs": [
    {
     "name": "stdout",
     "output_type": "stream",
     "text": [
      "mkdir: okay: File exists\n"
     ]
    }
   ],
   "source": [
    "!mkdir okay; cd okay ; touch yes.txt ; cat ../day15.ipynb > sample.ipynb!\n"
   ]
  },
  {
   "cell_type": "code",
   "execution_count": 1,
   "id": "bc322d0e-b87c-41fb-be4e-362d96c3aad7",
   "metadata": {},
   "outputs": [
    {
     "name": "stdout",
     "output_type": "stream",
     "text": [
      "sample.ipynb yes.txt\n"
     ]
    }
   ],
   "source": [
    "!ls"
   ]
  },
  {
   "cell_type": "code",
   "execution_count": null,
   "id": "13a06fd7-6840-454e-90ee-e35592603f88",
   "metadata": {},
   "outputs": [],
   "source": []
  }
 ],
 "metadata": {
  "kernelspec": {
   "display_name": "Python 3",
   "language": "python",
   "name": "python3"
  },
  "language_info": {
   "codemirror_mode": {
    "name": "ipython",
    "version": 3
   },
   "file_extension": ".py",
   "mimetype": "text/x-python",
   "name": "python",
   "nbconvert_exporter": "python",
   "pygments_lexer": "ipython3",
   "version": "3.8.10"
  }
 },
 "nbformat": 4,
 "nbformat_minor": 5
}
