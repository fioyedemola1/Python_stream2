{
 "cells": [
  {
   "cell_type": "code",
   "execution_count": 6,
   "source": [
    "\n",
    "# if (value >= 40):\n",
    "#     print('i am greater than 40')\n",
    "\n",
    "\n",
    "if True:\n",
    "    print('i am greater than 40')\n",
    "elif True:\n",
    "    print('i am true')"
   ],
   "outputs": [
    {
     "output_type": "stream",
     "name": "stdout",
     "text": [
      "i am greater than 40\n"
     ]
    }
   ],
   "metadata": {}
  },
  {
   "cell_type": "code",
   "execution_count": 13,
   "source": [
    "value = 40\n",
    "# data = None\n",
    "\n",
    "# print(data)\n",
    "\n",
    "\n",
    "# if value == 40:  #value becomes true\n",
    "#     data = 'Something'\n",
    "# else:\n",
    "#     data = 'another thing'\n",
    "\n",
    "\n",
    "# print(data)\n",
    "\n",
    "#tenary Operator\n",
    "\n",
    "ten_data ='something' if value == 40 else 'another thing'\n",
    "print(ten_data)"
   ],
   "outputs": [
    {
     "output_type": "stream",
     "name": "stdout",
     "text": [
      "something\n"
     ]
    }
   ],
   "metadata": {}
  },
  {
   "cell_type": "code",
   "execution_count": 18,
   "source": [
    "number = input()\n",
    "check = number if number else 'invalid number'\n",
    "\n",
    "if number:\n",
    "    check= number\n",
    "else:\n",
    "    check = 'invalid number'\n",
    "print(check)\n"
   ],
   "outputs": [
    {
     "output_type": "stream",
     "name": "stdout",
     "text": [
      "22\n"
     ]
    }
   ],
   "metadata": {}
  },
  {
   "cell_type": "code",
   "execution_count": 29,
   "source": [
    "# any all\n",
    "my_list = [False,True,False,True]\n",
    "my_list2 = [True,True,True,True]\n",
    "\n",
    "\n",
    "scraped = ['name', 'location', 'number','']\n",
    "# scraped = [True, True, True,False]\n",
    "\n",
    "\n",
    "check2 = scraped if all(scraped) else 'you have some missing data'\n",
    "print(check2)\n",
    "\n",
    "\n",
    "scraped2 = ['122.232.323.23.2323','','',' ','']\n",
    "any(scraped2)\n",
    "\n"
   ],
   "outputs": [
    {
     "output_type": "stream",
     "name": "stdout",
     "text": [
      "you have some missing data\n"
     ]
    },
    {
     "output_type": "execute_result",
     "data": {
      "text/plain": [
       "True"
      ]
     },
     "metadata": {},
     "execution_count": 29
    }
   ],
   "metadata": {}
  },
  {
   "cell_type": "code",
   "execution_count": 69,
   "source": [
    "# for loops  \n",
    "fruits = ['apple', 'banana', 'grape','oranges']\n",
    "cars = ['Toyota', 'Benz', 'BMW','Mazda']\n",
    "\n",
    "\n",
    "# # range(start,end,step=)\n",
    "# for val in range(0,4):\n",
    "#     print(fruit[val],cars[val])\n",
    "\n",
    "\n",
    "\n",
    "# for a in fruit:\n",
    "#     print(a, end='* ')\n",
    "\n",
    "\n",
    "# # for fruit, car in zip(fruit,cars):\n",
    "# #     print(car)\n",
    "\n",
    "# for index, fruit in enumerate(fruits):\n",
    "#     print(fruit,cars[index])\n",
    "\n",
    "\n",
    "number = [1,2,3,4,5,6,7,8,9,10,11,12,13]\n",
    "odd= []\n",
    "even = []\n",
    "\n",
    "for i in number:\n",
    "    if i % 2 == 0:\n",
    "        even += [i]\n",
    "     \n",
    "    else:\n",
    "        odd += [i]\n",
    "     \n",
    "\n",
    "\n",
    "print(even)\n",
    "print(odd)\n",
    "#while loops\n",
    "\n"
   ],
   "outputs": [
    {
     "output_type": "stream",
     "name": "stdout",
     "text": [
      "[2, 4, 6, 8, 10, 12]\n",
      "[1, 3, 5, 7, 9, 11, 13]\n"
     ]
    }
   ],
   "metadata": {}
  },
  {
   "cell_type": "code",
   "execution_count": 30,
   "source": [
    "new_list = [1,2,3,4,5]\n",
    "\n",
    "1 in new_list"
   ],
   "outputs": [
    {
     "output_type": "execute_result",
     "data": {
      "text/plain": [
       "True"
      ]
     },
     "metadata": {},
     "execution_count": 30
    }
   ],
   "metadata": {}
  },
  {
   "cell_type": "code",
   "execution_count": 61,
   "source": [],
   "outputs": [
    {
     "output_type": "execute_result",
     "data": {
      "text/plain": [
       "[1]"
      ]
     },
     "metadata": {},
     "execution_count": 61
    }
   ],
   "metadata": {}
  },
  {
   "cell_type": "code",
   "execution_count": null,
   "source": [
    "# counter \n",
    "number = [1,2,3,4,5,6,7,8,9,10,11,12,13]\n",
    "count = 0\n",
    "\n",
    "for i in number:\n",
    "    if i % 2 == 0:\n",
    "        count = count + 1\n",
    "\n",
    "\n",
    "\n",
    "for i in number:\n",
    "    if i % 2 == 0:\n",
    "        count += 1\n",
    "\n",
    "\n",
    "\n"
   ],
   "outputs": [],
   "metadata": {}
  },
  {
   "cell_type": "code",
   "execution_count": 67,
   "source": [
    "a = [1]\n",
    "b= [2]\n",
    "a + b"
   ],
   "outputs": [
    {
     "output_type": "execute_result",
     "data": {
      "text/plain": [
       "[1, 2]"
      ]
     },
     "metadata": {},
     "execution_count": 67
    }
   ],
   "metadata": {}
  },
  {
   "cell_type": "code",
   "execution_count": 75,
   "source": [
    "import time\n",
    "\n",
    "\n",
    "start = time.perf_counter()\n",
    "for i in  range(1000000000000000):\n",
    "    ...\n",
    "\n",
    "end = time.perf_counter()\n",
    "\n",
    "fin = end- start\n",
    "\n",
    "print(fin)"
   ],
   "outputs": [
    {
     "output_type": "error",
     "ename": "KeyboardInterrupt",
     "evalue": "",
     "traceback": [
      "\u001b[0;31m---------------------------------------------------------------------------\u001b[0m",
      "\u001b[0;31mKeyboardInterrupt\u001b[0m                         Traceback (most recent call last)",
      "\u001b[0;32m<ipython-input-75-8760765d8d3a>\u001b[0m in \u001b[0;36m<module>\u001b[0;34m\u001b[0m\n\u001b[1;32m      3\u001b[0m \u001b[0;34m\u001b[0m\u001b[0m\n\u001b[1;32m      4\u001b[0m \u001b[0mstart\u001b[0m \u001b[0;34m=\u001b[0m \u001b[0mtime\u001b[0m\u001b[0;34m.\u001b[0m\u001b[0mperf_counter\u001b[0m\u001b[0;34m(\u001b[0m\u001b[0;34m)\u001b[0m\u001b[0;34m\u001b[0m\u001b[0;34m\u001b[0m\u001b[0m\n\u001b[0;32m----> 5\u001b[0;31m \u001b[0;32mfor\u001b[0m \u001b[0mi\u001b[0m \u001b[0;32min\u001b[0m  \u001b[0mrange\u001b[0m\u001b[0;34m(\u001b[0m\u001b[0;36m1000000000000000\u001b[0m\u001b[0;34m)\u001b[0m\u001b[0;34m:\u001b[0m\u001b[0;34m\u001b[0m\u001b[0;34m\u001b[0m\u001b[0m\n\u001b[0m\u001b[1;32m      6\u001b[0m     \u001b[0;34m...\u001b[0m\u001b[0;34m\u001b[0m\u001b[0;34m\u001b[0m\u001b[0m\n\u001b[1;32m      7\u001b[0m \u001b[0;34m\u001b[0m\u001b[0m\n",
      "\u001b[0;31mKeyboardInterrupt\u001b[0m: "
     ]
    }
   ],
   "metadata": {}
  },
  {
   "cell_type": "code",
   "execution_count": 88,
   "source": [
    "# item = [1,2,3,4,5,6]\n",
    "# fruits = ['apple', 'banana', 'grape','oranges']\n",
    "# even = []\n",
    "# for i in item:\n",
    "#     for x in fruits:\n",
    "#        print(i , x)\n",
    "# else:\n",
    "#     item.clear()\n",
    "portfolio= {\n",
    "    'name': 'ade',\n",
    "    'location': 'somewhere',\n",
    "    \n",
    "}\n",
    "for i in portfolio.items():\n",
    "    print(i)\n",
    "for i in portfolio.keys():\n",
    "    print(i)\n",
    "for i in portfolio.values():\n",
    "    print(i)\n",
    "for i in portfolio:\n",
    "    print(i)"
   ],
   "outputs": [
    {
     "output_type": "stream",
     "name": "stdout",
     "text": [
      "ade\n",
      "somewhere\n"
     ]
    }
   ],
   "metadata": {}
  },
  {
   "cell_type": "code",
   "execution_count": 82,
   "source": [
    "item"
   ],
   "outputs": [
    {
     "output_type": "execute_result",
     "data": {
      "text/plain": [
       "[]"
      ]
     },
     "metadata": {},
     "execution_count": 82
    }
   ],
   "metadata": {}
  },
  {
   "cell_type": "code",
   "execution_count": null,
   "source": [],
   "outputs": [],
   "metadata": {}
  }
 ],
 "metadata": {
  "orig_nbformat": 4,
  "language_info": {
   "name": "python",
   "version": "3.9.1",
   "mimetype": "text/x-python",
   "codemirror_mode": {
    "name": "ipython",
    "version": 3
   },
   "pygments_lexer": "ipython3",
   "nbconvert_exporter": "python",
   "file_extension": ".py"
  },
  "kernelspec": {
   "name": "python3",
   "display_name": "Python 3.9.1 64-bit"
  },
  "interpreter": {
   "hash": "397704579725e15f5c7cb49fe5f0341eb7531c82d19f2c29d197e8b64ab5776b"
  }
 },
 "nbformat": 4,
 "nbformat_minor": 2
}