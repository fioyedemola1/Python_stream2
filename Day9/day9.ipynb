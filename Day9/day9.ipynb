{
 "cells": [
  {
   "cell_type": "code",
   "execution_count": 16,
   "id": "7a8697d1-57f6-4460-b67b-ebef65f8947c",
   "metadata": {},
   "outputs": [],
   "source": [
    "# force to become a positional argument\n",
    "def foo(a=2,b=3,/):\n",
    "    return a,b\n",
    "foo(2,2)"
   ]
  },
  {
   "cell_type": "code",
   "execution_count": 25,
   "id": "0247b770-e0ee-4c9d-9b6b-96fc3d6f45da",
   "metadata": {},
   "outputs": [],
   "source": [
    "# forces positional argumenrts to keyword arguemnt\n",
    "def foo1(*,a,b):\n",
    "    return a,b\n",
    "\n",
    "foo1(a=1,b=2)\n",
    "\n",
    "\n",
    "def func_user(values,func):\n",
    "    return func(values)"
   ]
  },
  {
   "cell_type": "code",
   "execution_count": 26,
   "id": "a3adf80b-6942-49a1-83ba-575ea2e0a21d",
   "metadata": {},
   "outputs": [
    {
     "name": "stdout",
     "output_type": "stream",
     "text": [
      "[1, 2, 3, 4, 5, 6, 7]\n"
     ]
    }
   ],
   "source": [
    "func_user([1,2,3,4,5,6,7],print)\n",
    "func_user([1,2,3,4,5,6,7],sum)"
   ]
  },
  {
   "cell_type": "code",
   "execution_count": 30,
   "id": "b8d17ded-3c98-4879-9bbc-4b6de0375651",
   "metadata": {},
   "outputs": [],
   "source": [
    "# func_user(sum, [1,2,3,4,5,6,7])\n",
    "\n",
    "func_user(func=sum, values=[1,2,3,4,5,6,7])\n",
    "\n",
    "def func_user1(*,values,func):\n",
    "    return func(values)\n",
    "\n",
    "func_user1(values= [1,2,3,4,5,6,7],func=sum)"
   ]
  },
  {
   "cell_type": "code",
   "execution_count": 35,
   "id": "eb2374a3-6a81-4234-acaf-370a63d220ec",
   "metadata": {},
   "outputs": [],
   "source": [
    "#  read as file\n",
    "\n",
    "def csv_reader(file_path):\n",
    "    with open(file_path) as file:\n",
    "        data = file.readlines()\n",
    "        return data\n",
    "        "
   ]
  },
  {
   "cell_type": "code",
   "execution_count": 36,
   "id": "2ff903e6-1631-4ebe-8f66-a15c263ba646",
   "metadata": {},
   "outputs": [],
   "source": [
    "import os\n",
    "from pprint import pprint\n",
    "\n",
    "curr_dir = os.getcwd() # current working directoru\n",
    "BASE_DIR = os.path.dirname(curr_dir)  # this gets the root directroy of the projects python_main\n",
    "data_loc = os.path.join(os.path.join(BASE_DIR,'resources'),'data')\n",
    "csvs = ['missing.csv', 'portfolio.csv','prices.csv']\n",
    "# -----------------------------------------------------------------------------\n",
    "file_path = [os.path.join(data_loc,x) for x in os.listdir(data_loc) if x in csvs]\n"
   ]
  },
  {
   "cell_type": "code",
   "execution_count": 38,
   "id": "763d8c1e-058e-4ee6-9647-262a7f127d95",
   "metadata": {},
   "outputs": [
    {
     "data": {
      "text/plain": [
       "'/Users/de_tai/Desktop/python_main/resources/data/missing.csv'"
      ]
     },
     "execution_count": 38,
     "metadata": {},
     "output_type": "execute_result"
    }
   ],
   "source": [
    "file_path[0]"
   ]
  },
  {
   "cell_type": "code",
   "execution_count": 41,
   "id": "4aeec9bf-ce40-4d6a-a7c6-486402c9c405",
   "metadata": {},
   "outputs": [
    {
     "name": "stdout",
     "output_type": "stream",
     "text": [
      "['name,shares,price\\n', '\"AA\",100,32.20\\n', '\"IBM\",50,91.10\\n', '\"CAT\",150,83.44\\n', '\"MSFT\",,51.23\\n', '\"GE\",95,40.37\\n', '\"MSFT\",50,65.10\\n', '\"IBM\",,70.44\\n']\n"
     ]
    }
   ],
   "source": [
    "print(csv_reader(file_path[0]))  # csv_reader('/Users/de_tai/Desktop/python_main/resources/data/missing.csv')\n",
    "\n",
    "data1 = csv_reader(file_path[0])"
   ]
  },
  {
   "cell_type": "code",
   "execution_count": 43,
   "id": "5d4c6072-c4a5-463a-927e-831b6a4c93d3",
   "metadata": {},
   "outputs": [
    {
     "name": "stdout",
     "output_type": "stream",
     "text": [
      "['name,shares,price\\n', '\"AA\",100,32.20\\n', '\"IBM\",50,91.10\\n', '\"CAT\",150,83.44\\n', '\"MSFT\",200,51.23\\n', '\"GE\",95,40.37\\n', '\"MSFT\",50,65.10\\n', '\"IBM\",100,70.44\\n']\n"
     ]
    }
   ],
   "source": [
    "data2= csv_reader(file_path[1])\n",
    "print(data2)"
   ]
  },
  {
   "cell_type": "code",
   "execution_count": 45,
   "id": "39b00a70-495a-40ea-8bbf-82b30e57a722",
   "metadata": {},
   "outputs": [
    {
     "name": "stdout",
     "output_type": "stream",
     "text": [
      "Help on function csv_reader in module __main__:\n",
      "\n",
      "csv_reader(file_path)\n",
      "\n"
     ]
    }
   ],
   "source": [
    "# help(print)\n",
    "help(csv_reader)"
   ]
  },
  {
   "cell_type": "code",
   "execution_count": 46,
   "id": "8d5870ec-e0de-4b57-8a90-7ee1a92301c1",
   "metadata": {},
   "outputs": [],
   "source": [
    "# docstring helps fopr documnetation\n",
    "\n",
    "def csv_reader(file_path):\n",
    "    ''' the function helps read csv data by lines\n",
    "    url =  file_location\n",
    "    csv_reader(url)\n",
    "    '''\n",
    "    with open(file_path) as file:\n",
    "        data = file.readlines()\n",
    "        return data"
   ]
  },
  {
   "cell_type": "code",
   "execution_count": 47,
   "id": "3c35a3ac-8ca2-4b67-9bbe-b50df942d082",
   "metadata": {},
   "outputs": [
    {
     "name": "stdout",
     "output_type": "stream",
     "text": [
      "Help on function csv_reader in module __main__:\n",
      "\n",
      "csv_reader(file_path)\n",
      "    the function helps read csv data by lines\n",
      "    url =  file_location\n",
      "    csv_reader(url)\n",
      "\n"
     ]
    }
   ],
   "source": [
    "help(csv_reader)"
   ]
  },
  {
   "cell_type": "code",
   "execution_count": 50,
   "id": "cf2b39a2-ca4f-4ade-b2cb-d7fb43c5e414",
   "metadata": {},
   "outputs": [],
   "source": [
    "#  High order functions\n",
    "#  functions that takes in a function or returns a function\n",
    "\n",
    "\n",
    "def add(a, b):\n",
    "    return a + b\n",
    "\n",
    "def five(a,b=5):\n",
    "    return add(a,b)"
   ]
  },
  {
   "cell_type": "code",
   "execution_count": 52,
   "id": "cd69075f-491e-4b13-bfb6-91d2e05ed95b",
   "metadata": {},
   "outputs": [
    {
     "data": {
      "text/plain": [
       "20"
      ]
     },
     "execution_count": 52,
     "metadata": {},
     "output_type": "execute_result"
    }
   ],
   "source": [
    "five(10,10)"
   ]
  },
  {
   "cell_type": "code",
   "execution_count": 53,
   "id": "08bb8658-0431-4da5-b902-f582da3647c4",
   "metadata": {},
   "outputs": [],
   "source": [
    "def five1(func):\n",
    "    return func(5,5)"
   ]
  },
  {
   "cell_type": "code",
   "execution_count": 54,
   "id": "a5d71102-d69d-4135-9ad5-f9981df34426",
   "metadata": {},
   "outputs": [
    {
     "data": {
      "text/plain": [
       "10"
      ]
     },
     "execution_count": 54,
     "metadata": {},
     "output_type": "execute_result"
    }
   ],
   "source": [
    "five1(add)"
   ]
  },
  {
   "cell_type": "code",
   "execution_count": 73,
   "id": "22367481-6305-4159-9eb3-026742e01f4f",
   "metadata": {},
   "outputs": [],
   "source": [
    "def overall(func):\n",
    "    def wrapper():\n",
    "        func()\n",
    "    return wrapper"
   ]
  },
  {
   "cell_type": "code",
   "execution_count": 74,
   "id": "1cae3274-05e0-458d-9686-1f9b5e23bee8",
   "metadata": {},
   "outputs": [
    {
     "name": "stdout",
     "output_type": "stream",
     "text": [
      "\n",
      "\n"
     ]
    }
   ],
   "source": [
    "overall(print)()\n",
    "print()"
   ]
  },
  {
   "cell_type": "code",
   "execution_count": 77,
   "id": "2fa75b13-0a4b-4314-9541-2469bf869c7a",
   "metadata": {},
   "outputs": [],
   "source": [
    "def fun():\n",
    "    return 'this is fun'\n",
    "overall(fun)()"
   ]
  },
  {
   "cell_type": "code",
   "execution_count": 90,
   "id": "e29a0046-9302-417e-8413-6a7f187b831f",
   "metadata": {},
   "outputs": [],
   "source": [
    "# decorators come in handy\n",
    "\n",
    "def docorator(func):\n",
    "    def wrapper():\n",
    "        print('before my inner function was called')\n",
    "        func()\n",
    "        print('after my inner function was called')\n",
    "        \n",
    "    return wrapper"
   ]
  },
  {
   "cell_type": "code",
   "execution_count": 91,
   "id": "24c89ac4-5e4c-44f1-acf0-036d60a71194",
   "metadata": {},
   "outputs": [],
   "source": [
    "@docorator\n",
    "def printer():\n",
    "    print('printer has been called')\n",
    "printer()"
   ]
  },
  {
   "cell_type": "code",
   "execution_count": 95,
   "id": "d5ea68a4-313d-490e-867f-499c5f261d33",
   "metadata": {},
   "outputs": [],
   "source": [
    "def timer(func): \n",
    "    def wrapper():\n",
    "        for i in range(5):\n",
    "            print(i)\n",
    "        func()\n",
    "        for i in range(5,11):\n",
    "            print(i)\n",
    "    return wrapper"
   ]
  },
  {
   "cell_type": "code",
   "execution_count": 96,
   "id": "0b3abe47-b2d8-4755-80c5-8e855523e3d2",
   "metadata": {},
   "outputs": [],
   "source": [
    "@timer\n",
    "def defaulter():\n",
    "    print(\n",
    "    '''\n",
    "    this is a default print just to show how decorators work\n",
    "    '''\n",
    "    )\n",
    "defaulter()"
   ]
  },
  {
   "cell_type": "code",
   "execution_count": 100,
   "id": "a374f907-3c2c-4608-bfe8-db5befd91188",
   "metadata": {},
   "outputs": [],
   "source": [
    "\n",
    "def authorization(func): \n",
    "    def wrapper(*args,**kwargs):\n",
    "        print(args,kwargs)\n",
    "        func(*args, **kwargs)\n",
    "      \n",
    "    return wrapper"
   ]
  },
  {
   "cell_type": "code",
   "execution_count": 102,
   "id": "b90b5212-41db-4050-84bd-48cfcff57fa8",
   "metadata": {},
   "outputs": [],
   "source": [
    "@authorization\n",
    "def printer(*args,**kwargs):\n",
    "    return args,kwargs"
   ]
  },
  {
   "cell_type": "code",
   "execution_count": 104,
   "id": "72c7aadf-b1a8-445f-a95e-0cc0f2af2b00",
   "metadata": {},
   "outputs": [
    {
     "name": "stdout",
     "output_type": "stream",
     "text": [
      "(1, 2, 3, 4, 4, 5) {'location': 'US'}\n"
     ]
    }
   ],
   "source": [
    "printer(1,2,3,4,4,5,location= 'US')"
   ]
  },
  {
   "cell_type": "code",
   "execution_count": 126,
   "id": "550f793d-f9a6-4af5-a2ac-7d02bfea1b27",
   "metadata": {},
   "outputs": [],
   "source": [
    "auth_data ={\n",
    "    'ade':9205662766683363405,\n",
    "    'sam': hash('sam123')\n",
    "}\n",
    "\n",
    "\n",
    "\n",
    "def authorization1(func): \n",
    "    def wrapper(*args,**kwargs):\n",
    "        username = args[0]\n",
    "        password = args[1]\n",
    "        \n",
    "        if auth_data.get(username) != hash(password): \n",
    "            return 'Unaunthorised entry'\n",
    "        return func(*args, **kwargs)\n",
    "        \n",
    "    return wrapper\n",
    "\n",
    "\n",
    "@authorization1\n",
    "def login(Username, password):\n",
    "    return 'You have been signed in'"
   ]
  },
  {
   "cell_type": "code",
   "execution_count": 127,
   "id": "6bd952b9-01f1-4e29-9602-d756b2eb9878",
   "metadata": {},
   "outputs": [
    {
     "name": "stdout",
     "output_type": "stream",
     "text": [
      "Unaunthorised entry\n"
     ]
    }
   ],
   "source": [
    "print(login('ade', 'ade12345'))"
   ]
  },
  {
   "cell_type": "code",
   "execution_count": 128,
   "id": "4adc3755-f032-4483-a41d-e7d36ef410ef",
   "metadata": {},
   "outputs": [
    {
     "data": {
      "text/plain": [
       "True"
      ]
     },
     "execution_count": 128,
     "metadata": {},
     "output_type": "execute_result"
    }
   ],
   "source": [
    "hash('ade123') == 9205662766683363405"
   ]
  },
  {
   "cell_type": "code",
   "execution_count": 129,
   "id": "971c63b4-11e4-4861-bba1-b624e95178fe",
   "metadata": {},
   "outputs": [],
   "source": [
    "@authorization1\n",
    "def user_name(username,password):\n",
    "    return 'yes entry'"
   ]
  },
  {
   "cell_type": "code",
   "execution_count": 130,
   "id": "b0ff8a80-e84f-441d-9b94-91f1f2c07049",
   "metadata": {},
   "outputs": [
    {
     "data": {
      "text/plain": [
       "'yes entry'"
      ]
     },
     "execution_count": 130,
     "metadata": {},
     "output_type": "execute_result"
    }
   ],
   "source": [
    "user_name('sam','sam123')"
   ]
  },
  {
   "cell_type": "code",
   "execution_count": 131,
   "id": "f5ba4ed2-9111-4264-8817-21c64db57aa0",
   "metadata": {},
   "outputs": [],
   "source": [
    "# genral apsect function\n",
    "# high order functions\n",
    "# decorators\n",
    "# anonymous function lambda function\n",
    "# generators\n"
   ]
  },
  {
   "cell_type": "code",
   "execution_count": 132,
   "id": "170a9460-7e77-4b00-9239-ed029bf4f6ee",
   "metadata": {},
   "outputs": [],
   "source": [
    "\n",
    "data = {\n",
    "    'ade': 1,\n",
    "    'sam':4,\n",
    "    'juli': 5,\n",
    "    'ricky':2,\n",
    "    'ross':3\n",
    "    \n",
    "}"
   ]
  },
  {
   "cell_type": "code",
   "execution_count": 142,
   "id": "76856ef9-b579-4e43-8978-6b40dae0d0d0",
   "metadata": {},
   "outputs": [],
   "source": [
    "# def func_sorter(x):\n",
    "#     print(x[1])\n",
    "    \n",
    "    \n",
    "\n",
    "# sorted(data, key= lambda x: print())"
   ]
  },
  {
   "cell_type": "code",
   "execution_count": 144,
   "id": "0d5b50ec-db5d-4501-8a02-8bb9bb34ef33",
   "metadata": {},
   "outputs": [],
   "source": [
    "def addition(a,b):\n",
    "    return a + b\n",
    "\n",
    "def five(func):\n",
    "    return func(5,5)"
   ]
  },
  {
   "cell_type": "code",
   "execution_count": 148,
   "id": "5d309a7c-aa2f-40af-b24d-641ea16d91af",
   "metadata": {},
   "outputs": [],
   "source": [
    "def five(a,b):\n",
    "    return (lambda : a + b)()"
   ]
  },
  {
   "cell_type": "code",
   "execution_count": 150,
   "id": "9426ada9-1a59-4071-8c88-2f178cc95bec",
   "metadata": {},
   "outputs": [
    {
     "data": {
      "text/plain": [
       "20"
      ]
     },
     "execution_count": 150,
     "metadata": {},
     "output_type": "execute_result"
    }
   ],
   "source": [
    "five(10,10)"
   ]
  },
  {
   "cell_type": "code",
   "execution_count": 155,
   "id": "c2d6629b-ab97-41e9-adfb-4290e07993a7",
   "metadata": {},
   "outputs": [],
   "source": [
    "ten_lam = lambda : 20 * 10\n",
    "\n",
    "def ten():\n",
    "    return x * 10"
   ]
  },
  {
   "cell_type": "code",
   "execution_count": 166,
   "id": "fc2fa7d2-6fb2-4f8c-9655-01fb83962027",
   "metadata": {},
   "outputs": [
    {
     "name": "stdout",
     "output_type": "stream",
     "text": [
      "10 20\n"
     ]
    }
   ],
   "source": [
    "func =(lambda x,y: f'{y} {x}')(y=10,x=20)\n",
    "\n",
    "print(func)\n",
    "# normal function default of None if not explicitly stated\n",
    "# "
   ]
  },
  {
   "cell_type": "code",
   "execution_count": 180,
   "id": "ec99d9d5-cf8d-40b1-8f95-5fbef8f16446",
   "metadata": {},
   "outputs": [],
   "source": [
    "list_item  = [x for x in range(2000)]\n",
    "new_item = [(lambda x: (x*10, x+2,x*100))(x) for x in list_item]"
   ]
  },
  {
   "cell_type": "code",
   "execution_count": 176,
   "id": "f83d40b8-ef60-4db8-88e8-8aa31bdab58a",
   "metadata": {},
   "outputs": [
    {
     "data": {
      "text/plain": [
       "[(10, 3, 100),\n",
       " (20, 4, 200),\n",
       " (30, 5, 300),\n",
       " (40, 6, 400),\n",
       " (50, 7, 500),\n",
       " (60, 8, 600),\n",
       " (70, 9, 700),\n",
       " (80, 10, 800)]"
      ]
     },
     "execution_count": 176,
     "metadata": {},
     "output_type": "execute_result"
    }
   ],
   "source": [
    "new_item"
   ]
  },
  {
   "cell_type": "code",
   "execution_count": 181,
   "id": "8ea1ae16-aaf8-432e-b34b-b88a85ebf41e",
   "metadata": {},
   "outputs": [
    {
     "name": "stdout",
     "output_type": "stream",
     "text": [
      "16552\n",
      "48\n"
     ]
    }
   ],
   "source": [
    "#  generators\n",
    "gen_items = iter(list_item)\n",
    "\n",
    "\n",
    "import sys\n",
    "\n",
    "print(sys.getsizeof(list_item))\n",
    "\n",
    "print(sys.getsizeof(gen_items))\n"
   ]
  },
  {
   "cell_type": "code",
   "execution_count": 184,
   "id": "a55ec248-f197-4180-9a96-a510b1a508d5",
   "metadata": {},
   "outputs": [],
   "source": [
    "for indx, val in enumerate(gen_items):\n",
    "    print(val, list_item[indx])\n",
    "    break"
   ]
  },
  {
   "cell_type": "code",
   "execution_count": 190,
   "id": "7cfafcc3-ecf7-4d30-8e5e-9a246ee8e3f4",
   "metadata": {},
   "outputs": [],
   "source": [
    "def counter(val):\n",
    "    store = []\n",
    "    for i in range(val):\n",
    "        store.append(i)\n",
    "    return store"
   ]
  },
  {
   "cell_type": "code",
   "execution_count": 202,
   "id": "cfa6d8ae-99e2-462e-abe6-081736a9ec5d",
   "metadata": {},
   "outputs": [
    {
     "name": "stdout",
     "output_type": "stream",
     "text": [
      "256\n"
     ]
    },
    {
     "data": {
      "text/plain": [
       "[0, 1, 2, 3, 4, 5, 6, 7, 8, 9, 10, 11, 12, 13, 14, 15, 16, 17, 18, 19]"
      ]
     },
     "execution_count": 202,
     "metadata": {},
     "output_type": "execute_result"
    }
   ],
   "source": [
    "print(sys.getsizeof(counter(20)))\n",
    "counter(20)"
   ]
  },
  {
   "cell_type": "code",
   "execution_count": 206,
   "id": "421ff564-fead-443f-883b-de8b8171aef3",
   "metadata": {},
   "outputs": [],
   "source": [
    "def counter2(val):\n",
    "    for i in range(val):\n",
    "        yield i"
   ]
  },
  {
   "cell_type": "code",
   "execution_count": 205,
   "id": "9d36be1a-08c7-461a-9cba-5d7c939d878d",
   "metadata": {},
   "outputs": [
    {
     "name": "stdout",
     "output_type": "stream",
     "text": [
      "112\n"
     ]
    }
   ],
   "source": [
    "\n",
    "print(sys.getsizeof(counter2(20)))\n",
    "# for i in counter2(20):\n",
    "#     print(i)\n",
    "\n",
    "# for i in counter2(20):\n",
    "#     print(i)"
   ]
  },
  {
   "cell_type": "code",
   "execution_count": 207,
   "id": "16d28777-f044-42b4-bf5a-710f09dea254",
   "metadata": {},
   "outputs": [
    {
     "data": {
      "text/plain": [
       "0"
      ]
     },
     "execution_count": 207,
     "metadata": {},
     "output_type": "execute_result"
    }
   ],
   "source": [
    "daa"
   ]
  },
  {
   "cell_type": "code",
   "execution_count": 209,
   "id": "6b8eb684-889d-4998-8cb3-751b06d81ecb",
   "metadata": {},
   "outputs": [],
   "source": [
    "data = counter2(20)"
   ]
  },
  {
   "cell_type": "code",
   "execution_count": 210,
   "id": "d7987966-06c9-4f03-bc79-087bb2f01e6c",
   "metadata": {},
   "outputs": [
    {
     "data": {
      "text/plain": [
       "0"
      ]
     },
     "execution_count": 210,
     "metadata": {},
     "output_type": "execute_result"
    }
   ],
   "source": [
    "next(data)"
   ]
  },
  {
   "cell_type": "code",
   "execution_count": 211,
   "id": "05f82d25-21ec-4939-ae58-523cde20963b",
   "metadata": {},
   "outputs": [
    {
     "data": {
      "text/plain": [
       "1"
      ]
     },
     "execution_count": 211,
     "metadata": {},
     "output_type": "execute_result"
    }
   ],
   "source": [
    "# next(data)\n",
    "# next(data)\n",
    "# next(data)\n",
    "# next(data)\n",
    "# next(data)\n",
    "# next(data)\n",
    "# next(data)\n",
    "# next(data)"
   ]
  },
  {
   "cell_type": "markdown",
   "id": "840155cc-de20-464d-b7ed-3618f915a9ca",
   "metadata": {},
   "source": [
    "##     Creating a Simple banking application\n",
    "#### Functionalisties of the application\n",
    "\n",
    "1. Register a customer information\n",
    "2. Make initial deposit\n",
    "3. Make withdrawls and not allow over drawn account\n",
    "4. take into considration that unathorised person should not have access to the account\n"
   ]
  },
  {
   "cell_type": "code",
   "execution_count": 212,
   "id": "03e76044-c703-4896-af38-77283c793407",
   "metadata": {},
   "outputs": [
    {
     "data": {
      "text/plain": [
       "8"
      ]
     },
     "execution_count": 212,
     "metadata": {},
     "output_type": "execute_result"
    }
   ],
   "source": [
    "# deposit money with authorisation\n",
    "# withdraw with authorisation\n",
    "#  create bank summary of transactions\n",
    "# account for errors as well"
   ]
  },
  {
   "cell_type": "markdown",
   "id": "5d0057fc-33bc-411b-a13b-4f587579a610",
   "metadata": {},
   "source": [
    "#### Customer  Data Inputs functions"
   ]
  },
  {
   "cell_type": "code",
   "execution_count": 433,
   "id": "e281a8ef-a8fc-4cfd-ab05-1f810095a038",
   "metadata": {},
   "outputs": [],
   "source": [
    "# All imports \n",
    "from pprint import pprint\n",
    "import random"
   ]
  },
  {
   "cell_type": "code",
   "execution_count": 537,
   "id": "f29af562-fd45-447c-a2ee-4eb766d7e270",
   "metadata": {},
   "outputs": [],
   "source": [
    "# Ensure you load this data data first\n",
    "\n",
    "_name_data={}\n",
    "_bank= {}"
   ]
  },
  {
   "cell_type": "code",
   "execution_count": 552,
   "id": "db33d6c5-1c3e-4e93-aec2-1572c3207450",
   "metadata": {},
   "outputs": [],
   "source": [
    "# functioins to take in information of customer info\n",
    "\n",
    "\n",
    "def customer_info(first_name, lastname,*args, **kwargs):\n",
    "    rand = [ str(x) for x in random.sample(range(1, 30), 5)]\n",
    "\n",
    "    val = ''.join(rand)\n",
    "               \n",
    "    data = {\n",
    "        \n",
    "        'first_name': first_name,\n",
    "        'last_name':lastname,\n",
    "        **kwargs\n",
    "    }\n",
    "    if 'security' not in data:\n",
    "        raise Exception(' You need to  include \"security\": \"your password\"')  # throws an error if you do not include security \n",
    "    data['security'] = hash(data['security'])\n",
    "    data1 = {\n",
    "        val:data\n",
    "    }\n",
    "    _name_data.update(**data1)\n",
    "    return _name_data\n",
    "  \n",
    "\n",
    "    \n",
    "def create_bank_account(person_id,**kwargs):\n",
    "    if _name_data.get(person_id):\n",
    "        _bank[person_id]= {'account_no': f'000{person_id}','balance': 0,}\n",
    "        \n",
    "        return _bank[person_id]\n",
    "    \n",
    "\n",
    "\n",
    "def print_info(person_id):\n",
    "    try:\n",
    "        customer_nf =_name_data[person_id]\n",
    "        bank_info = bank[person_id]\n",
    "        pprint(f\"{customer_nf['first_name']} {customer_nf['last_name']} {bank_info['balance']} \")\n",
    "    except KeyError:\n",
    "        pprint('customer does not exist')\n",
    "    \n",
    " "
   ]
  },
  {
   "cell_type": "markdown",
   "id": "60f1abce-5a25-434b-ae7f-d5d237dd5f08",
   "metadata": {},
   "source": [
    "#### Authorisation function"
   ]
  },
  {
   "cell_type": "code",
   "execution_count": 575,
   "id": "ce70283f-3982-4fd6-8ac9-5817c88f388b",
   "metadata": {},
   "outputs": [],
   "source": [
    "# authorisation that checks and ensures tha password is created\n",
    "\n",
    "def authorise(func):\n",
    "    def wrapper(*args,**kwargs):\n",
    "      \n",
    "        amount =kwargs['amount']\n",
    "        person = kwargs['person']\n",
    "        if kwargs['password']:\n",
    "            if _name_data.get(person).get('security'):\n",
    "                if _name_data.get(person)['security']== hash(kwargs['password']):\n",
    "                    return func(*args,**kwargs)\n",
    "        return 'You cant perform this action'\n",
    "    \n",
    "    return wrapper\n"
   ]
  },
  {
   "cell_type": "markdown",
   "id": "6c6df896-4d9b-4116-b952-da0cac6fbf2c",
   "metadata": {},
   "source": [
    "## Deposit and Withdrawal functions"
   ]
  },
  {
   "cell_type": "code",
   "execution_count": 576,
   "id": "39631674-e483-4f03-9613-223fa1ad6edd",
   "metadata": {},
   "outputs": [],
   "source": [
    "@authorise\n",
    "def deposit(*,amount,person, password): # enforcing keyword arguments\n",
    "    bank_info = _bank.get(person)\n",
    "    if not bank_info:\n",
    "        return \n",
    "    init_bank = bank_info['balance']\n",
    "    bank_info['balance'] = init_bank + amount"
   ]
  },
  {
   "cell_type": "code",
   "execution_count": 577,
   "id": "e0551a1b-6384-48a4-948d-8e607216afcb",
   "metadata": {},
   "outputs": [],
   "source": [
    "@authorise\n",
    "def withdraw(amount,person):\n",
    "    bank_info = _bank.get(person)\n",
    "    if not bank_info:\n",
    "        return\n",
    "    init_bank = bank_info['balance']\n",
    "    if init_bank <= 0:\n",
    "        return \n",
    "    bank_info['balance'] = init_bank - amount"
   ]
  },
  {
   "cell_type": "markdown",
   "id": "cc349479-e9d0-4385-a518-0c4e09c4efcc",
   "metadata": {},
   "source": [
    "# Using our functions\n"
   ]
  },
  {
   "cell_type": "code",
   "execution_count": 578,
   "id": "1817b14f-4fe1-4a99-9037-97d6ce3f9003",
   "metadata": {},
   "outputs": [
    {
     "data": {
      "text/plain": [
       "{'52261928': {'first_name': 'ade',\n",
       "  'last_name': 'jolly',\n",
       "  'phone_no': 'phone',\n",
       "  'address': 'white house',\n",
       "  'security': -3158877532250616695},\n",
       " '251218415': {'first_name': 'sam',\n",
       "  'last_name': 'Doe',\n",
       "  'phone_no': '123232',\n",
       "  'address': 'Aso rock',\n",
       "  'security': 2169440616006425704},\n",
       " '28911724': {'first_name': 'sammm',\n",
       "  'last_name': 'Doell',\n",
       "  'phone_no': '123232ww',\n",
       "  'address': 'Aswwo rock',\n",
       "  'security': -3703850176386458993},\n",
       " '281113223': {'first_name': 'ade',\n",
       "  'last_name': 'jolly',\n",
       "  'phone_no': 'phone',\n",
       "  'address': 'white house',\n",
       "  'security': -3158877532250616695},\n",
       " '62751525': {'first_name': 'sam',\n",
       "  'last_name': 'Doe',\n",
       "  'phone_no': '123232',\n",
       "  'address': 'Aso rock',\n",
       "  'security': 2169440616006425704},\n",
       " '1142659': {'first_name': 'sammm',\n",
       "  'last_name': 'Doell',\n",
       "  'phone_no': '123232ww',\n",
       "  'address': 'Aswwo rock',\n",
       "  'security': -3703850176386458993},\n",
       " '14212238': {'first_name': 'ade',\n",
       "  'last_name': 'jolly',\n",
       "  'phone_no': 'phone',\n",
       "  'address': 'white house',\n",
       "  'security': -3158877532250616695},\n",
       " '29108279': {'first_name': 'sam',\n",
       "  'last_name': 'Doe',\n",
       "  'phone_no': '123232',\n",
       "  'address': 'Aso rock',\n",
       "  'security': 2169440616006425704},\n",
       " '724172311': {'first_name': 'sammm',\n",
       "  'last_name': 'Doell',\n",
       "  'phone_no': '123232ww',\n",
       "  'address': 'Aswwo rock',\n",
       "  'security': -3703850176386458993},\n",
       " '827212023': {'first_name': 'ade',\n",
       "  'last_name': 'jolly',\n",
       "  'phone_no': 'phone',\n",
       "  'address': 'white house',\n",
       "  'security': -3158877532250616695},\n",
       " '227152610': {'first_name': 'sam',\n",
       "  'last_name': 'Doe',\n",
       "  'phone_no': '123232',\n",
       "  'address': 'Aso rock',\n",
       "  'security': 2169440616006425704},\n",
       " '2125111922': {'first_name': 'sammm',\n",
       "  'last_name': 'Doell',\n",
       "  'phone_no': '123232ww',\n",
       "  'address': 'Aswwo rock',\n",
       "  'security': -3703850176386458993}}"
      ]
     },
     "execution_count": 578,
     "metadata": {},
     "output_type": "execute_result"
    }
   ],
   "source": [
    "# Adding customers \n",
    "\n",
    "customer_info('ade', 'jolly',phone_no='phone', address='white house', security='myname')\n",
    "# customer_info('sam', 'Doe',phone_no='123232', address='Aso rock', security='mypass')\n",
    "# customer_info('sammm', 'Doell',phone_no='123232ww', address='Aswwo rock', security='wdwmypass')\n"
   ]
  },
  {
   "cell_type": "code",
   "execution_count": 579,
   "id": "74589ec2-112c-4b87-a060-81376e9d749c",
   "metadata": {},
   "outputs": [
    {
     "data": {
      "text/plain": [
       "{'account_no': '0001142659', 'balance': 0}"
      ]
     },
     "execution_count": 579,
     "metadata": {},
     "output_type": "execute_result"
    }
   ],
   "source": [
    "create_bank_account('724172311')\n",
    "create_bank_account('29108279')\n",
    "create_bank_account('1142659')\n"
   ]
  },
  {
   "cell_type": "code",
   "execution_count": 585,
   "id": "16d7bbc3-5d7e-485f-bab1-0dbf5848a299",
   "metadata": {},
   "outputs": [
    {
     "name": "stdout",
     "output_type": "stream",
     "text": [
      "{'1142659': {'account_no': '0001142659', 'balance': 1030305},\n",
      " '29108279': {'account_no': '00029108279', 'balance': 0},\n",
      " '724172311': {'account_no': '000724172311', 'balance': 0}}\n"
     ]
    }
   ],
   "source": [
    "# deposit(amount= 343435,person='2112192916',password='password')\n",
    "pprint(_bank)"
   ]
  },
  {
   "cell_type": "code",
   "execution_count": 584,
   "id": "70095409-95fb-4cf1-977a-26ad889f0c25",
   "metadata": {},
   "outputs": [],
   "source": [
    "deposit(amount= 343435,person='1142659',password='wdwmypass')\n"
   ]
  },
  {
   "cell_type": "code",
   "execution_count": null,
   "id": "42c839a5-d58c-4c65-abf1-91ea49da2b88",
   "metadata": {},
   "outputs": [],
   "source": []
  }
 ],
 "metadata": {
  "kernelspec": {
   "display_name": "Python 3",
   "language": "python",
   "name": "python3"
  },
  "language_info": {
   "codemirror_mode": {
    "name": "ipython",
    "version": 3
   },
   "file_extension": ".py",
   "mimetype": "text/x-python",
   "name": "python",
   "nbconvert_exporter": "python",
   "pygments_lexer": "ipython3",
   "version": "3.8.10"
  }
 },
 "nbformat": 4,
 "nbformat_minor": 5
}
