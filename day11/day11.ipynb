{
 "cells": [
  {
   "cell_type": "code",
   "execution_count": 109,
   "source": [
    "# import day11\n",
    "import time\n",
    "\n",
    "from day11 import timer,logs_data"
   ],
   "outputs": [
    {
     "output_type": "error",
     "ename": "ImportError",
     "evalue": "cannot import name 'logs_data' from 'day11' (/Users/de_tai/Desktop/python_main/day11/day11.py)",
     "traceback": [
      "\u001b[0;31m---------------------------------------------------------------------------\u001b[0m",
      "\u001b[0;31mImportError\u001b[0m                               Traceback (most recent call last)",
      "\u001b[0;32m<ipython-input-109-7e2a35b869c5>\u001b[0m in \u001b[0;36m<module>\u001b[0;34m\u001b[0m\n\u001b[1;32m      2\u001b[0m \u001b[0;32mimport\u001b[0m \u001b[0mtime\u001b[0m\u001b[0;34m\u001b[0m\u001b[0;34m\u001b[0m\u001b[0m\n\u001b[1;32m      3\u001b[0m \u001b[0;34m\u001b[0m\u001b[0m\n\u001b[0;32m----> 4\u001b[0;31m \u001b[0;32mfrom\u001b[0m \u001b[0mday11\u001b[0m \u001b[0;32mimport\u001b[0m \u001b[0mtimer\u001b[0m\u001b[0;34m,\u001b[0m\u001b[0mlogs_data\u001b[0m\u001b[0;34m\u001b[0m\u001b[0;34m\u001b[0m\u001b[0m\n\u001b[0m",
      "\u001b[0;31mImportError\u001b[0m: cannot import name 'logs_data' from 'day11' (/Users/de_tai/Desktop/python_main/day11/day11.py)"
     ]
    }
   ],
   "metadata": {}
  },
  {
   "cell_type": "code",
   "execution_count": 8,
   "source": [
    "\n",
    "# @day11.timer\n",
    "@timer\n",
    "def func():\n",
    "    for i in range(10000000):\n",
    "#         print('after')\n",
    "        continue\n",
    "#         print('before')\n",
    "    return 'done!'"
   ],
   "outputs": [],
   "metadata": {}
  },
  {
   "cell_type": "code",
   "execution_count": 9,
   "source": [
    "func()"
   ],
   "outputs": [
    {
     "output_type": "execute_result",
     "data": {
      "text/plain": [
       "{'done!': '0.20'}"
      ]
     },
     "metadata": {},
     "execution_count": 9
    }
   ],
   "metadata": {}
  },
  {
   "cell_type": "code",
   "execution_count": 10,
   "source": [
    "@timer\n",
    "def string_transformer(x):\n",
    "    return x.upper()"
   ],
   "outputs": [],
   "metadata": {}
  },
  {
   "cell_type": "code",
   "execution_count": 11,
   "source": [
    "print(string_transformer('the quick fox'))"
   ],
   "outputs": [
    {
     "output_type": "stream",
     "name": "stdout",
     "text": [
      "{'THE QUICK FOX': '0.00'}\n"
     ]
    }
   ],
   "metadata": {}
  },
  {
   "cell_type": "code",
   "execution_count": 23,
   "source": [
    "# map filter, zip\n",
    "\n",
    "def webscraper(url: str):\n",
    "    print(f'getting the {url} data from the web')\n",
    "#     request.get(url\n",
    "    time.sleep(2)\n",
    "    print('done with the data from the web')\n",
    "    return f'data for {url}'"
   ],
   "outputs": [],
   "metadata": {}
  },
  {
   "cell_type": "code",
   "execution_count": 24,
   "source": [
    "webscraper('www.google.com')"
   ],
   "outputs": [
    {
     "output_type": "stream",
     "name": "stdout",
     "text": [
      "getting the www.google.com data from the web\n",
      "done with the data from the web\n"
     ]
    },
    {
     "output_type": "execute_result",
     "data": {
      "text/plain": [
       "'data forwww.google.com'"
      ]
     },
     "metadata": {},
     "execution_count": 24
    }
   ],
   "metadata": {}
  },
  {
   "cell_type": "code",
   "execution_count": 25,
   "source": [
    "list_urls= 'www.amazom.com www.youtube.com www.microsoft.com www.google.com'.split()\n",
    "print(list_urls)"
   ],
   "outputs": [
    {
     "output_type": "stream",
     "name": "stdout",
     "text": [
      "['www.amazom.com', 'www.youtube.com', 'www.microsoft.com', 'www.google.com']\n"
     ]
    }
   ],
   "metadata": {}
  },
  {
   "cell_type": "code",
   "execution_count": 26,
   "source": [
    "for i in list_urls:\n",
    "    webscraper(i)"
   ],
   "outputs": [
    {
     "output_type": "stream",
     "name": "stdout",
     "text": [
      "getting the www.amazom.com data from the web\n",
      "done with the data from the web\n",
      "getting the www.youtube.com data from the web\n",
      "done with the data from the web\n",
      "getting the www.microsoft.com data from the web\n",
      "done with the data from the web\n",
      "getting the www.google.com data from the web\n",
      "done with the data from the web\n"
     ]
    }
   ],
   "metadata": {}
  },
  {
   "cell_type": "code",
   "execution_count": 28,
   "source": [
    "# map(function,iterables)\n",
    "list(map(webscraper,list_urls))\n",
    "\n"
   ],
   "outputs": [
    {
     "output_type": "stream",
     "name": "stdout",
     "text": [
      "getting the www.amazom.com data from the web\n",
      "done with the data from the web\n",
      "getting the www.youtube.com data from the web\n",
      "done with the data from the web\n",
      "getting the www.microsoft.com data from the web\n",
      "done with the data from the web\n",
      "getting the www.google.com data from the web\n",
      "done with the data from the web\n"
     ]
    },
    {
     "output_type": "execute_result",
     "data": {
      "text/plain": [
       "['data forwww.amazom.com',\n",
       " 'data forwww.youtube.com',\n",
       " 'data forwww.microsoft.com',\n",
       " 'data forwww.google.com']"
      ]
     },
     "metadata": {},
     "execution_count": 28
    }
   ],
   "metadata": {}
  },
  {
   "cell_type": "code",
   "execution_count": 31,
   "source": [
    "number= [1,2,3,4,5,6,7,8]\n",
    "\n",
    "def nu(x):\n",
    "    return x * 10\n",
    "\n",
    "lambda x: x * 10\n",
    "\n",
    "\n",
    "list(map(nu, number))"
   ],
   "outputs": [
    {
     "output_type": "execute_result",
     "data": {
      "text/plain": [
       "[10, 20, 30, 40, 50, 60, 70, 80]"
      ]
     },
     "metadata": {},
     "execution_count": 31
    }
   ],
   "metadata": {}
  },
  {
   "cell_type": "code",
   "execution_count": 33,
   "source": [
    "list(map(lambda x: (x * 10,x*20), number))"
   ],
   "outputs": [
    {
     "output_type": "execute_result",
     "data": {
      "text/plain": [
       "[(10, 20),\n",
       " (20, 40),\n",
       " (30, 60),\n",
       " (40, 80),\n",
       " (50, 100),\n",
       " (60, 120),\n",
       " (70, 140),\n",
       " (80, 160)]"
      ]
     },
     "metadata": {},
     "execution_count": 33
    }
   ],
   "metadata": {}
  },
  {
   "cell_type": "code",
   "execution_count": 47,
   "source": [
    "def exclu(x):\n",
    "    if x % 2==0:\n",
    "        return x * 10\n",
    "    else:\n",
    "        return None"
   ],
   "outputs": [],
   "metadata": {}
  },
  {
   "cell_type": "code",
   "execution_count": 48,
   "source": [
    "list(filter(exclu, number))  # true \n",
    "\n",
    "# for i in filter(exclu,number):\n",
    "#     print(i)"
   ],
   "outputs": [
    {
     "output_type": "execute_result",
     "data": {
      "text/plain": [
       "[2, 4, 6, 8]"
      ]
     },
     "metadata": {},
     "execution_count": 48
    }
   ],
   "metadata": {}
  },
  {
   "cell_type": "code",
   "execution_count": 49,
   "source": [
    "list(map(exclu, number))"
   ],
   "outputs": [
    {
     "output_type": "execute_result",
     "data": {
      "text/plain": [
       "[None, 20, None, 40, None, 60, None, 80]"
      ]
     },
     "metadata": {},
     "execution_count": 49
    }
   ],
   "metadata": {}
  },
  {
   "cell_type": "code",
   "execution_count": 60,
   "source": [
    "#default return\n",
    "\n",
    "list(map(lambda x: (x * 10) if x%2==0 else None,number))"
   ],
   "outputs": [
    {
     "output_type": "execute_result",
     "data": {
      "text/plain": [
       "[None, 20, None, 40, None, 60, None, 80]"
      ]
     },
     "metadata": {},
     "execution_count": 60
    }
   ],
   "metadata": {}
  },
  {
   "cell_type": "code",
   "execution_count": 58,
   "source": [
    "a = x * 10 if not True else None\n",
    "print(a)"
   ],
   "outputs": [
    {
     "output_type": "stream",
     "name": "stdout",
     "text": [
      "No\n"
     ]
    }
   ],
   "metadata": {}
  },
  {
   "cell_type": "code",
   "execution_count": 86,
   "source": [
    "word= 'the quick brown fox jumpee over the lazy dog'.split()\n",
    "# 'theing .............'\n",
    "vow = 'a e i o u'.split()\n",
    "\n",
    "def vowel(x):\n",
    "    if x[-1] in vow:\n",
    "        return f'{x}ing'\n",
    "    else:\n",
    "        return x\n",
    "\n",
    "list(map(lambda x: f'{x}ing' if x[-1] in vow else x,word))\n",
    "list(map(vowel,word))"
   ],
   "outputs": [
    {
     "output_type": "execute_result",
     "data": {
      "text/plain": [
       "['theing',\n",
       " 'quick',\n",
       " 'brown',\n",
       " 'fox',\n",
       " 'jumpeeing',\n",
       " 'over',\n",
       " 'theing',\n",
       " 'lazy',\n",
       " 'dog']"
      ]
     },
     "metadata": {},
     "execution_count": 86
    }
   ],
   "metadata": {}
  },
  {
   "cell_type": "markdown",
   "source": [
    "# Regular Expression \n",
    "\n",
    "\n",
    "https://regex101.com/"
   ],
   "metadata": {}
  },
  {
   "cell_type": "code",
   "execution_count": 2,
   "source": [
    "import re"
   ],
   "outputs": [],
   "metadata": {}
  },
  {
   "cell_type": "code",
   "execution_count": 4,
   "source": [
    "# finds the letter with the max character in a sentence\n",
    "\n",
    "word= 'the quick brown fox jumpeee over the lazy dog'\n",
    "max(list(map(len,word.split())))\n",
    "\n",
    "pattern= re.compile(r'(\\w{6})')\n",
    "word_result= pattern.findall(word)\n",
    "print(f'Result: {word_result}')\n",
    "\n",
    "\n",
    "\n",
    "data= 'wording$£$ sample222322 money89374 paper$%@%£^£$%£$^%@'\n",
    "\n",
    "pattern= re.compile(r'(\\d+)')\n",
    "data_result = pattern.findall(data)\n",
    "print(f'Result: {data_result}')\n",
    "\n",
    "\n",
    "phone = 'adsasdsdladsdjdj0939938337029sdsfkf+44893746466353535ddjks839384894930sfjds+448383837464674+4489374646635353'\n",
    "pattern= re.compile(r'(\\+44\\d+)+')\n",
    "phone_result= pattern.findall(phone)\n",
    "print(f'Result: {phone_result}')\n",
    "\n",
    "\n",
    "\n"
   ],
   "outputs": [
    {
     "output_type": "stream",
     "name": "stdout",
     "text": [
      "Result: ['jumpee']\n",
      "Result: ['222322', '89374']\n",
      "Result: ['+44893746466353535', '+4489374646635353']\n"
     ]
    }
   ],
   "metadata": {}
  },
  {
   "cell_type": "code",
   "execution_count": 82,
   "source": [
    "print(r'\\no\\thing')   #\\n raw string"
   ],
   "outputs": [
    {
     "output_type": "stream",
     "name": "stdout",
     "text": [
      "\\no\\thing\n"
     ]
    }
   ],
   "metadata": {}
  },
  {
   "cell_type": "code",
   "execution_count": 81,
   "source": [
    "print('\\no\\thing') "
   ],
   "outputs": [
    {
     "output_type": "stream",
     "name": "stdout",
     "text": [
      "\n",
      "o\thing\n"
     ]
    }
   ],
   "metadata": {}
  },
  {
   "cell_type": "code",
   "execution_count": 95,
   "source": [
    "'12113232'"
   ],
   "outputs": [
    {
     "output_type": "execute_result",
     "data": {
      "text/plain": [
       "'12113232'"
      ]
     },
     "metadata": {},
     "execution_count": 95
    }
   ],
   "metadata": {}
  },
  {
   "cell_type": "code",
   "execution_count": null,
   "source": [],
   "outputs": [],
   "metadata": {}
  }
 ],
 "metadata": {
  "interpreter": {
   "hash": "397704579725e15f5c7cb49fe5f0341eb7531c82d19f2c29d197e8b64ab5776b"
  },
  "kernelspec": {
   "name": "python3",
   "display_name": "Python 3.9.1 64-bit"
  },
  "language_info": {
   "name": "python",
   "version": "3.9.1",
   "mimetype": "text/x-python",
   "codemirror_mode": {
    "name": "ipython",
    "version": 3
   },
   "pygments_lexer": "ipython3",
   "nbconvert_exporter": "python",
   "file_extension": ".py"
  }
 },
 "nbformat": 4,
 "nbformat_minor": 4
}