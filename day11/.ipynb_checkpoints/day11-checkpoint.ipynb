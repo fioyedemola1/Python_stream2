{
 "cells": [
  {
   "cell_type": "code",
   "execution_count": 109,
   "metadata": {},
   "outputs": [
    {
     "ename": "ImportError",
     "evalue": "cannot import name 'logs_data' from 'day11' (/Users/de_tai/Desktop/python_main/day11/day11.py)",
     "output_type": "error",
     "traceback": [
      "\u001b[0;31m---------------------------------------------------------------------------\u001b[0m",
      "\u001b[0;31mImportError\u001b[0m                               Traceback (most recent call last)",
      "\u001b[0;32m<ipython-input-109-7e2a35b869c5>\u001b[0m in \u001b[0;36m<module>\u001b[0;34m\u001b[0m\n\u001b[1;32m      2\u001b[0m \u001b[0;32mimport\u001b[0m \u001b[0mtime\u001b[0m\u001b[0;34m\u001b[0m\u001b[0;34m\u001b[0m\u001b[0m\n\u001b[1;32m      3\u001b[0m \u001b[0;34m\u001b[0m\u001b[0m\n\u001b[0;32m----> 4\u001b[0;31m \u001b[0;32mfrom\u001b[0m \u001b[0mday11\u001b[0m \u001b[0;32mimport\u001b[0m \u001b[0mtimer\u001b[0m\u001b[0;34m,\u001b[0m\u001b[0mlogs_data\u001b[0m\u001b[0;34m\u001b[0m\u001b[0;34m\u001b[0m\u001b[0m\n\u001b[0m",
      "\u001b[0;31mImportError\u001b[0m: cannot import name 'logs_data' from 'day11' (/Users/de_tai/Desktop/python_main/day11/day11.py)"
     ]
    }
   ],
   "source": [
    "# import day11\n",
    "import time\n",
    "\n",
    "from day11 import timer,logs_data"
   ]
  },
  {
   "cell_type": "code",
   "execution_count": 8,
   "metadata": {},
   "outputs": [],
   "source": [
    "\n",
    "# @day11.timer\n",
    "@timer\n",
    "def func():\n",
    "    for i in range(10000000):\n",
    "#         print('after')\n",
    "        continue\n",
    "#         print('before')\n",
    "    return 'done!'"
   ]
  },
  {
   "cell_type": "code",
   "execution_count": 9,
   "metadata": {},
   "outputs": [
    {
     "data": {
      "text/plain": [
       "{'done!': '0.20'}"
      ]
     },
     "execution_count": 9,
     "metadata": {},
     "output_type": "execute_result"
    }
   ],
   "source": [
    "func()"
   ]
  },
  {
   "cell_type": "code",
   "execution_count": 10,
   "metadata": {},
   "outputs": [],
   "source": [
    "@timer\n",
    "def string_transformer(x):\n",
    "    return x.upper()"
   ]
  },
  {
   "cell_type": "code",
   "execution_count": 11,
   "metadata": {},
   "outputs": [
    {
     "name": "stdout",
     "output_type": "stream",
     "text": [
      "{'THE QUICK FOX': '0.00'}\n"
     ]
    }
   ],
   "source": [
    "print(string_transformer('the quick fox'))"
   ]
  },
  {
   "cell_type": "code",
   "execution_count": 23,
   "metadata": {},
   "outputs": [],
   "source": [
    "# map filter, zip\n",
    "\n",
    "def webscraper(url: str):\n",
    "    print(f'getting the {url} data from the web')\n",
    "#     request.get(url\n",
    "    time.sleep(2)\n",
    "    print('done with the data from the web')\n",
    "    return f'data for {url}'"
   ]
  },
  {
   "cell_type": "code",
   "execution_count": 24,
   "metadata": {},
   "outputs": [
    {
     "name": "stdout",
     "output_type": "stream",
     "text": [
      "getting the www.google.com data from the web\n",
      "done with the data from the web\n"
     ]
    },
    {
     "data": {
      "text/plain": [
       "'data forwww.google.com'"
      ]
     },
     "execution_count": 24,
     "metadata": {},
     "output_type": "execute_result"
    }
   ],
   "source": [
    "webscraper('www.google.com')"
   ]
  },
  {
   "cell_type": "code",
   "execution_count": 25,
   "metadata": {},
   "outputs": [
    {
     "name": "stdout",
     "output_type": "stream",
     "text": [
      "['www.amazom.com', 'www.youtube.com', 'www.microsoft.com', 'www.google.com']\n"
     ]
    }
   ],
   "source": [
    "list_urls= 'www.amazom.com www.youtube.com www.microsoft.com www.google.com'.split()\n",
    "print(list_urls)"
   ]
  },
  {
   "cell_type": "code",
   "execution_count": 26,
   "metadata": {},
   "outputs": [
    {
     "name": "stdout",
     "output_type": "stream",
     "text": [
      "getting the www.amazom.com data from the web\n",
      "done with the data from the web\n",
      "getting the www.youtube.com data from the web\n",
      "done with the data from the web\n",
      "getting the www.microsoft.com data from the web\n",
      "done with the data from the web\n",
      "getting the www.google.com data from the web\n",
      "done with the data from the web\n"
     ]
    }
   ],
   "source": [
    "for i in list_urls:\n",
    "    webscraper(i)"
   ]
  },
  {
   "cell_type": "code",
   "execution_count": 28,
   "metadata": {},
   "outputs": [
    {
     "name": "stdout",
     "output_type": "stream",
     "text": [
      "getting the www.amazom.com data from the web\n",
      "done with the data from the web\n",
      "getting the www.youtube.com data from the web\n",
      "done with the data from the web\n",
      "getting the www.microsoft.com data from the web\n",
      "done with the data from the web\n",
      "getting the www.google.com data from the web\n",
      "done with the data from the web\n"
     ]
    },
    {
     "data": {
      "text/plain": [
       "['data forwww.amazom.com',\n",
       " 'data forwww.youtube.com',\n",
       " 'data forwww.microsoft.com',\n",
       " 'data forwww.google.com']"
      ]
     },
     "execution_count": 28,
     "metadata": {},
     "output_type": "execute_result"
    }
   ],
   "source": [
    "# map(function,iterables)\n",
    "list(map(webscraper,list_urls))\n",
    "\n"
   ]
  },
  {
   "cell_type": "code",
   "execution_count": 31,
   "metadata": {},
   "outputs": [
    {
     "data": {
      "text/plain": [
       "[10, 20, 30, 40, 50, 60, 70, 80]"
      ]
     },
     "execution_count": 31,
     "metadata": {},
     "output_type": "execute_result"
    }
   ],
   "source": [
    "number= [1,2,3,4,5,6,7,8]\n",
    "\n",
    "def nu(x):\n",
    "    return x * 10\n",
    "\n",
    "lambda x: x * 10\n",
    "\n",
    "\n",
    "list(map(nu, number))"
   ]
  },
  {
   "cell_type": "code",
   "execution_count": 33,
   "metadata": {},
   "outputs": [
    {
     "data": {
      "text/plain": [
       "[(10, 20),\n",
       " (20, 40),\n",
       " (30, 60),\n",
       " (40, 80),\n",
       " (50, 100),\n",
       " (60, 120),\n",
       " (70, 140),\n",
       " (80, 160)]"
      ]
     },
     "execution_count": 33,
     "metadata": {},
     "output_type": "execute_result"
    }
   ],
   "source": [
    "list(map(lambda x: (x * 10,x*20), number))"
   ]
  },
  {
   "cell_type": "code",
   "execution_count": 47,
   "metadata": {},
   "outputs": [],
   "source": [
    "def exclu(x):\n",
    "    if x % 2==0:\n",
    "        return x * 10\n",
    "    else:\n",
    "        return None"
   ]
  },
  {
   "cell_type": "code",
   "execution_count": 48,
   "metadata": {},
   "outputs": [
    {
     "data": {
      "text/plain": [
       "[2, 4, 6, 8]"
      ]
     },
     "execution_count": 48,
     "metadata": {},
     "output_type": "execute_result"
    }
   ],
   "source": [
    "list(filter(exclu, number))  # true \n",
    "\n",
    "# for i in filter(exclu,number):\n",
    "#     print(i)"
   ]
  },
  {
   "cell_type": "code",
   "execution_count": 49,
   "metadata": {},
   "outputs": [
    {
     "data": {
      "text/plain": [
       "[None, 20, None, 40, None, 60, None, 80]"
      ]
     },
     "execution_count": 49,
     "metadata": {},
     "output_type": "execute_result"
    }
   ],
   "source": [
    "list(map(exclu, number))"
   ]
  },
  {
   "cell_type": "code",
   "execution_count": 60,
   "metadata": {},
   "outputs": [
    {
     "data": {
      "text/plain": [
       "[None, 20, None, 40, None, 60, None, 80]"
      ]
     },
     "execution_count": 60,
     "metadata": {},
     "output_type": "execute_result"
    }
   ],
   "source": [
    "#default return\n",
    "\n",
    "list(map(lambda x: (x * 10) if x%2==0 else None,number))"
   ]
  },
  {
   "cell_type": "code",
   "execution_count": 58,
   "metadata": {},
   "outputs": [
    {
     "name": "stdout",
     "output_type": "stream",
     "text": [
      "No\n"
     ]
    }
   ],
   "source": [
    "a = x * 10 if not True else None\n",
    "print(a)"
   ]
  },
  {
   "cell_type": "code",
   "execution_count": 86,
   "metadata": {},
   "outputs": [
    {
     "data": {
      "text/plain": [
       "['theing',\n",
       " 'quick',\n",
       " 'brown',\n",
       " 'fox',\n",
       " 'jumpeeing',\n",
       " 'over',\n",
       " 'theing',\n",
       " 'lazy',\n",
       " 'dog']"
      ]
     },
     "execution_count": 86,
     "metadata": {},
     "output_type": "execute_result"
    }
   ],
   "source": [
    "word= 'the quick brown fox jumpee over the lazy dog'.split()\n",
    "# 'theing .............'\n",
    "vow = 'a e i o u'.split()\n",
    "\n",
    "def vowel(x):\n",
    "    if x[-1] in vow:\n",
    "        return f'{x}ing'\n",
    "    else:\n",
    "        return x\n",
    "\n",
    "list(map(lambda x: f'{x}ing' if x[-1] in vow else x,word))\n",
    "list(map(vowel,word))"
   ]
  },
  {
   "cell_type": "code",
   "execution_count": 76,
   "metadata": {},
   "outputs": [
    {
     "data": {
      "text/plain": [
       "6"
      ]
     },
     "execution_count": 76,
     "metadata": {},
     "output_type": "execute_result"
    }
   ],
   "source": [
    "# regular Expression \n",
    "\n",
    "max(list(map(len,word)))"
   ]
  },
  {
   "cell_type": "code",
   "execution_count": 77,
   "metadata": {},
   "outputs": [],
   "source": [
    "import re"
   ]
  },
  {
   "cell_type": "code",
   "execution_count": 125,
   "metadata": {},
   "outputs": [
    {
     "data": {
      "text/plain": [
       "['+44893746466353535', '+4489374646635353']"
      ]
     },
     "execution_count": 125,
     "metadata": {},
     "output_type": "execute_result"
    }
   ],
   "source": [
    "word= 'the quick brown fox jumpeee over the lazy dog'\n",
    "\n",
    "data= 'wording$£$ sample222322 money89374 paper$%@%£^£$%£$^%@'\n",
    "\n",
    "phone = 'adsasdsdladsdjdj0939938337029sdsfkf+44893746466353535ddjks839384894930sfjds+448383837464674+4489374646635353'\n",
    "\n",
    "\n",
    "\n",
    "pattern= re.compile(r'(\\+44\\d+)+')\n",
    "\n",
    "pattern.findall(phone)\n",
    "\n",
    "\n",
    "\n"
   ]
  },
  {
   "cell_type": "code",
   "execution_count": 82,
   "metadata": {},
   "outputs": [
    {
     "name": "stdout",
     "output_type": "stream",
     "text": [
      "\\no\\thing\n"
     ]
    }
   ],
   "source": [
    "print(r'\\no\\thing')   #\\n raw string"
   ]
  },
  {
   "cell_type": "code",
   "execution_count": 81,
   "metadata": {},
   "outputs": [
    {
     "name": "stdout",
     "output_type": "stream",
     "text": [
      "\n",
      "o\thing\n"
     ]
    }
   ],
   "source": [
    "print('\\no\\thing') "
   ]
  },
  {
   "cell_type": "code",
   "execution_count": 95,
   "metadata": {},
   "outputs": [
    {
     "data": {
      "text/plain": [
       "'12113232'"
      ]
     },
     "execution_count": 95,
     "metadata": {},
     "output_type": "execute_result"
    }
   ],
   "source": [
    "'12113232'"
   ]
  },
  {
   "cell_type": "code",
   "execution_count": null,
   "metadata": {},
   "outputs": [],
   "source": []
  }
 ],
 "metadata": {
  "interpreter": {
   "hash": "397704579725e15f5c7cb49fe5f0341eb7531c82d19f2c29d197e8b64ab5776b"
  },
  "kernelspec": {
   "display_name": "Python 3",
   "language": "python",
   "name": "python3"
  },
  "language_info": {
   "codemirror_mode": {
    "name": "ipython",
    "version": 3
   },
   "file_extension": ".py",
   "mimetype": "text/x-python",
   "name": "python",
   "nbconvert_exporter": "python",
   "pygments_lexer": "ipython3",
   "version": "3.8.10"
  }
 },
 "nbformat": 4,
 "nbformat_minor": 4
}
