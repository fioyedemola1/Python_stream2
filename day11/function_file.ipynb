{
 "cells": [
  {
   "cell_type": "code",
   "execution_count": 1,
   "id": "5fcc9144-ec44-405f-8a48-dfd11b7c0a9e",
   "metadata": {},
   "outputs": [],
   "source": [
    "import  time\n",
    "\n",
    "def timer(func):\n",
    "    def wrapper(*args,**kwargs):\n",
    "        start = time.perf_counter()\n",
    "        ans = func(*args,*kwargs)\n",
    "        end= time.perf_counter()\n",
    "        timer = f'{end- start:.2f}'\n",
    "        return {ans: timer}\n",
    "    return wrapper\n"
   ]
  },
  {
   "cell_type": "code",
   "execution_count": null,
   "id": "f7973203-5141-4545-ba49-e18a58609642",
   "metadata": {},
   "outputs": [],
   "source": []
  }
 ],
 "metadata": {
  "kernelspec": {
   "display_name": "Python 3",
   "language": "python",
   "name": "python3"
  },
  "language_info": {
   "codemirror_mode": {
    "name": "ipython",
    "version": 3
   },
   "file_extension": ".py",
   "mimetype": "text/x-python",
   "name": "python",
   "nbconvert_exporter": "python",
   "pygments_lexer": "ipython3",
   "version": "3.8.10"
  }
 },
 "nbformat": 4,
 "nbformat_minor": 5
}
