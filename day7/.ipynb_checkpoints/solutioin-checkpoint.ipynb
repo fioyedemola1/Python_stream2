{
 "cells": [
  {
   "cell_type": "markdown",
   "source": [
    "Task:\n",
    "1. dynamically Load all a data location into a variable\n",
    "2. read the contents [missing.csv, portfolio.csv,prices.csv]\n",
    "3. output the content in a table format below\n",
    " Nb: ensure no duplicate stocks (sum exisiting) \n",
    "          header1     header2              header 3\n",
    "            -------        --------               --------\n",
    "            content      content              content\n",
    "            content       content             content\n",
    "             content      content              content  \n",
    " \n",
    " 4. create a new directory and save the new contents into a csv files\n",
    "                         hint :     use the os.mkdirs() \n",
    "5. Try and use both lazy iteration and  eager iteration to solve the above "
   ],
   "metadata": {}
  },
  {
   "cell_type": "code",
   "execution_count": 56,
   "source": [
    "import os\n",
    "from pprint import pprint\n",
    "\n",
    "curr_dir = os.getcwd() # current working directoru\n",
    "BASE_DIR = os.path.dirname(curr_dir)  # this gets the root directroy of the projects python_main\n",
    "data_loc = os.path.join(os.path.join(BASE_DIR,'resources'),'data')\n",
    "csvs = ['missing.csv', 'portfolio.csv','prices.csv']\n",
    "# -----------------------------------------------------------------------------\n",
    "file_path = [os.path.join(data_loc,x) for x in os.listdir(data_loc) if x in csvs]\n",
    "\n",
    "\n",
    "#                   OR\n",
    "\n",
    "file_path1 = []\n",
    "\n",
    "for i in os.listdir(data_loc): # os.listdir generates a list of directories within a specified path\n",
    "    if i in csvs: #checks if any of the item generated from the directory is the file that we need\n",
    "        generate_full_path = os.path.join(data_loc,i)\n",
    "        file_path1.append(generate_full_path)\n",
    "# -----------------------------------------------------------------------------\n",
    "\n",
    "pprint(file_path) #pretty print\n",
    "print('*'* 10)\n",
    "pprint(file_path1)\n",
    "print(file_path)"
   ],
   "outputs": [
    {
     "output_type": "stream",
     "name": "stdout",
     "text": [
      "['/Users/de_tai/Desktop/python_main/resources/data/missing.csv',\n",
      " '/Users/de_tai/Desktop/python_main/resources/data/portfolio.csv',\n",
      " '/Users/de_tai/Desktop/python_main/resources/data/prices.csv']\n",
      "**********\n",
      "['/Users/de_tai/Desktop/python_main/resources/data/missing.csv',\n",
      " '/Users/de_tai/Desktop/python_main/resources/data/portfolio.csv',\n",
      " '/Users/de_tai/Desktop/python_main/resources/data/prices.csv']\n",
      "['/Users/de_tai/Desktop/python_main/resources/data/missing.csv', '/Users/de_tai/Desktop/python_main/resources/data/portfolio.csv', '/Users/de_tai/Desktop/python_main/resources/data/prices.csv']\n"
     ]
    }
   ],
   "metadata": {}
  },
  {
   "cell_type": "markdown",
   "source": [
    "### Reading Files"
   ],
   "metadata": {}
  },
  {
   "cell_type": "code",
   "execution_count": 58,
   "source": [
    "\n",
    "# --------------------- version 1 --------------------------------------------------------\n",
    "data1 = {}\n",
    "\n",
    "for i in file_path:\n",
    "    with open(i, 'r') as reader:\n",
    "        file_name= i.split('/')[-1]\n",
    "        if file_name not in data1:\n",
    "            data1[file_name]= reader.readlines()\n",
    "\n",
    "# --------------------- version 2 --------------------------------------------------------\n",
    "\n",
    "from collections import defaultdict\n",
    "\n",
    "data = defaultdict(list)\n",
    "\n",
    "for i in file_path:\n",
    "    with open(i, 'r') as reader:\n",
    "        file_name= i.split('/')[-1]\n",
    "        data[file_name].append(reader.readlines())\n",
    "\n",
    "\n",
    "# --------------------- seperated version with headers--------------------------------------------------------\n",
    "\n",
    "new_data = defaultdict(list)\n",
    "\n",
    "for i in csvs:\n",
    "    iter_data = iter(data[i][0])\n",
    "    values = next(iter_data).replace('\\n','').split(',')\n",
    "    data_m= []\n",
    "    if all(l:=[x.isalpha() for x in values]):\n",
    "        header = values\n",
    "    else:\n",
    "        data_m+=values\n",
    "        print(data_m)\n",
    "        header=[]\n",
    "    for x in iter_data:\n",
    "        data_m.append(x.replace('\\n',''))\n",
    "    else:\n",
    "        new_data[i].append(\n",
    "            {'header': header,\n",
    "            'data': data_m,}\n",
    "        )"
   ],
   "outputs": [
    {
     "output_type": "stream",
     "name": "stdout",
     "text": [
      "['\"AA\"', '9.22']\n"
     ]
    }
   ],
   "metadata": {}
  },
  {
   "cell_type": "code",
   "execution_count": 61,
   "source": [
    "# pprint(data1)\n",
    "# pprint(data)\n",
    "pprint(new_data)"
   ],
   "outputs": [
    {
     "output_type": "stream",
     "name": "stdout",
     "text": [
      "defaultdict(<class 'list'>,\n",
      "            {'missing.csv': [['name,shares,price\\n',\n",
      "                              '\"AA\",100,32.20\\n',\n",
      "                              '\"IBM\",50,91.10\\n',\n",
      "                              '\"CAT\",150,83.44\\n',\n",
      "                              '\"MSFT\",,51.23\\n',\n",
      "                              '\"GE\",95,40.37\\n',\n",
      "                              '\"MSFT\",50,65.10\\n',\n",
      "                              '\"IBM\",,70.44\\n']],\n",
      "             'portfolio.csv': [['name,shares,price\\n',\n",
      "                                '\"AA\",100,32.20\\n',\n",
      "                                '\"IBM\",50,91.10\\n',\n",
      "                                '\"CAT\",150,83.44\\n',\n",
      "                                '\"MSFT\",200,51.23\\n',\n",
      "                                '\"GE\",95,40.37\\n',\n",
      "                                '\"MSFT\",50,65.10\\n',\n",
      "                                '\"IBM\",100,70.44\\n']],\n",
      "             'prices.csv': [['\"AA\",9.22\\n',\n",
      "                             '\"AXP\",24.85\\n',\n",
      "                             '\"BA\",44.85\\n',\n",
      "                             '\"BAC\",11.27\\n',\n",
      "                             '\"C\",3.72\\n',\n",
      "                             '\"CAT\",35.46\\n',\n",
      "                             '\"CVX\",66.67\\n',\n",
      "                             '\"DD\",28.47\\n',\n",
      "                             '\"DIS\",24.22\\n',\n",
      "                             '\"GE\",13.48\\n',\n",
      "                             '\"GM\",0.75\\n',\n",
      "                             '\"HD\",23.16\\n',\n",
      "                             '\"HPQ\",34.35\\n',\n",
      "                             '\"IBM\",106.28\\n',\n",
      "                             '\"INTC\",15.72\\n',\n",
      "                             '\"JNJ\",55.16\\n',\n",
      "                             '\"JPM\",36.90\\n',\n",
      "                             '\"KFT\",26.11\\n',\n",
      "                             '\"KO\",49.16\\n',\n",
      "                             '\"MCD\",58.99\\n',\n",
      "                             '\"MMM\",57.10\\n',\n",
      "                             '\"MRK\",27.58\\n',\n",
      "                             '\"MSFT\",20.89\\n',\n",
      "                             '\"PFE\",15.19\\n',\n",
      "                             '\"PG\",51.94\\n',\n",
      "                             '\"T\",24.79\\n',\n",
      "                             '\"UTX\",52.61\\n',\n",
      "                             '\"VZ\",29.26\\n',\n",
      "                             '\"WMT\",49.74\\n',\n",
      "                             '\"XOM\",69.35\\n',\n",
      "                             '\\n']]})\n"
     ]
    }
   ],
   "metadata": {}
  },
  {
   "cell_type": "code",
   "execution_count": 51,
   "source": [
    "# print data out put\n",
    "for path in csvs:\n",
    "    print('='*30)\n",
    "    for i in data1[path]:\n",
    "        line = i.replace('\\n','').split(',')\n",
    "        check = [ x.isalpha() for x in line ]\n",
    "        if len(line) > 2:\n",
    "            a,b,c = line\n",
    "        elif len(line) == 2:\n",
    "            a,b = line\n",
    "            c =''\n",
    "        else:\n",
    "            continue\n",
    "            \n",
    "    \n",
    "        if all(check):\n",
    "            print(f'{a:^10} {b:^10} {c:^10}')\n",
    "            print(f'{\"-\"*(len(a)+4):^10} {\"-\"*(len(b)+ 4):^10} {\"-\"*(len(c) + 4):^10}')\n",
    "        else:\n",
    "            print(f'{a:^10} {b:^10} {c:^10}')\n",
    "    else:\n",
    "        print('='*30)\n",
    "    \n",
    "        "
   ],
   "outputs": [
    {
     "output_type": "stream",
     "name": "stdout",
     "text": [
      "==============================\n",
      "   name      shares     price   \n",
      " --------  ---------- --------- \n",
      "   \"AA\"       100       32.20   \n",
      "  \"IBM\"        50       91.10   \n",
      "  \"CAT\"       150       83.44   \n",
      "  \"MSFT\"                51.23   \n",
      "   \"GE\"        95       40.37   \n",
      "  \"MSFT\"       50       65.10   \n",
      "  \"IBM\"                 70.44   \n",
      "==============================\n",
      "==============================\n",
      "   name      shares     price   \n",
      " --------  ---------- --------- \n",
      "   \"AA\"       100       32.20   \n",
      "  \"IBM\"        50       91.10   \n",
      "  \"CAT\"       150       83.44   \n",
      "  \"MSFT\"      200       51.23   \n",
      "   \"GE\"        95       40.37   \n",
      "  \"MSFT\"       50       65.10   \n",
      "  \"IBM\"       100       70.44   \n",
      "==============================\n",
      "==============================\n",
      "   \"AA\"       9.22              \n",
      "  \"AXP\"      24.85              \n",
      "   \"BA\"      44.85              \n",
      "  \"BAC\"      11.27              \n",
      "   \"C\"        3.72              \n",
      "  \"CAT\"      35.46              \n",
      "  \"CVX\"      66.67              \n",
      "   \"DD\"      28.47              \n",
      "  \"DIS\"      24.22              \n",
      "   \"GE\"      13.48              \n",
      "   \"GM\"       0.75              \n",
      "   \"HD\"      23.16              \n",
      "  \"HPQ\"      34.35              \n",
      "  \"IBM\"      106.28             \n",
      "  \"INTC\"     15.72              \n",
      "  \"JNJ\"      55.16              \n",
      "  \"JPM\"      36.90              \n",
      "  \"KFT\"      26.11              \n",
      "   \"KO\"      49.16              \n",
      "  \"MCD\"      58.99              \n",
      "  \"MMM\"      57.10              \n",
      "  \"MRK\"      27.58              \n",
      "  \"MSFT\"     20.89              \n",
      "  \"PFE\"      15.19              \n",
      "   \"PG\"      51.94              \n",
      "   \"T\"       24.79              \n",
      "  \"UTX\"      52.61              \n",
      "   \"VZ\"      29.26              \n",
      "  \"WMT\"      49.74              \n",
      "  \"XOM\"      69.35              \n",
      "==============================\n"
     ]
    }
   ],
   "metadata": {}
  },
  {
   "cell_type": "code",
   "execution_count": 52,
   "source": [
    "from pprint import pprint\n",
    "from collections import namedtuple\n",
    "\n",
    "stock = namedtuple('stock',['share','price'])\n",
    "another = defaultdict(list)\n",
    "\n",
    "some_data = new_data['missing.csv'][0]\n",
    "for i in some_data['data']:\n",
    "    a,*b = i.split(',')\n",
    "    if b:\n",
    "        if len(b)== 2:\n",
    "            another[a].append(stock(b[0],b[1]))\n",
    "        else:\n",
    "            continue\n",
    "else:\n",
    "    new_data['missing.csv'][0]['data']= dict(another)\n",
    "\n"
   ],
   "outputs": [],
   "metadata": {}
  },
  {
   "cell_type": "code",
   "execution_count": 53,
   "source": [
    "new_data['missing.csv']"
   ],
   "outputs": [
    {
     "output_type": "execute_result",
     "data": {
      "text/plain": [
       "[{'header': ['name', 'shares', 'price'],\n",
       "  'data': {'\"AA\"': [stock(share='100', price='32.20')],\n",
       "   '\"IBM\"': [stock(share='50', price='91.10'), stock(share='', price='70.44')],\n",
       "   '\"CAT\"': [stock(share='150', price='83.44')],\n",
       "   '\"MSFT\"': [stock(share='', price='51.23'),\n",
       "    stock(share='50', price='65.10')],\n",
       "   '\"GE\"': [stock(share='95', price='40.37')]}}]"
      ]
     },
     "metadata": {},
     "execution_count": 53
    }
   ],
   "metadata": {}
  },
  {
   "cell_type": "code",
   "execution_count": null,
   "source": [],
   "outputs": [],
   "metadata": {}
  }
 ],
 "metadata": {
  "orig_nbformat": 4,
  "language_info": {
   "name": "python",
   "version": "3.9.1",
   "mimetype": "text/x-python",
   "codemirror_mode": {
    "name": "ipython",
    "version": 3
   },
   "pygments_lexer": "ipython3",
   "nbconvert_exporter": "python",
   "file_extension": ".py"
  },
  "kernelspec": {
   "name": "python3",
   "display_name": "Python 3.9.1 64-bit"
  },
  "interpreter": {
   "hash": "397704579725e15f5c7cb49fe5f0341eb7531c82d19f2c29d197e8b64ab5776b"
  }
 },
 "nbformat": 4,
 "nbformat_minor": 2
}