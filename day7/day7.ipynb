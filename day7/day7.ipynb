{
 "cells": [
  {
   "cell_type": "code",
   "execution_count": 2,
   "source": [
    "#Palindrome\n",
    "output = []\n",
    "for n in range(1000):\n",
    "    if str(n) == str(n)[::-1]:\n",
    "         output.append(n)\n",
    "print(output)\n",
    "\n",
    "# list comprehension\n",
    "output_2= [n for n in range(1000) if str(n) == str(n)[::-1]]\n",
    "print(output_2)"
   ],
   "outputs": [
    {
     "output_type": "stream",
     "name": "stdout",
     "text": [
      "[0, 1, 2, 3, 4, 5, 6, 7, 8, 9, 11, 22, 33, 44, 55, 66, 77, 88, 99, 101, 111, 121, 131, 141, 151, 161, 171, 181, 191, 202, 212, 222, 232, 242, 252, 262, 272, 282, 292, 303, 313, 323, 333, 343, 353, 363, 373, 383, 393, 404, 414, 424, 434, 444, 454, 464, 474, 484, 494, 505, 515, 525, 535, 545, 555, 565, 575, 585, 595, 606, 616, 626, 636, 646, 656, 666, 676, 686, 696, 707, 717, 727, 737, 747, 757, 767, 777, 787, 797, 808, 818, 828, 838, 848, 858, 868, 878, 888, 898, 909, 919, 929, 939, 949, 959, 969, 979, 989, 999]\n"
     ]
    }
   ],
   "metadata": {}
  },
  {
   "cell_type": "code",
   "execution_count": 22,
   "source": [
    "# count the number of times it appears\n",
    "# case sensitive\n",
    "# sort first 3\n",
    "txt = 'In a village of La Mancha, the name of which I have no desire to call to mind, there lived \\\n",
    "        not long since one of those gentlemen that keep a lance in the lance-rack, an old buckler, a lean hack, \\\n",
    "        and a greyhound for coursing. An olla of rather more beef than mutton, a salad on most nights, MANCHA, \\\n",
    "            scraps on Saturdays, lentils on Fridays, and a pigeon or so extra on Sundays, made away with three-quarters of his income'\n",
    "\n",
    "\n",
    "\n",
    "txt_list = txt.lower().split()\n",
    "txt_list = [x. for x in txt_list]\n",
    "txt_freq = []\n",
    "for i in txt_list:\n",
    "    txt_count = txt_list.count(i)\n",
    "    txt_freq.append(txt_count)\n",
    "txt_dict = dict(zip(txt_list,txt_freq))\n",
    "value = [(txt_list,txt_freq) for (txt_list,txt_freq) in sorted(txt_dict.items(), key=lambda x:x[1], reverse=True)]\n",
    "print(value)\n",
    "\n",
    "\n",
    "# wordstring = '''In a village of La Mancha, the name of which I have no desire to call to\n",
    "# mind, there lived not long since one of those gentlemen that keep a lance\n",
    "# in the lance-rack, an old buckler, a lean hack, and a greyhound for\n",
    "# coursing. An olla of rather more beef than mutton, a salad on most\n",
    "# nights, scraps on Saturdays, lentils on Fridays, and a pigeon or so extra\n",
    "# on Sundays, made away with three-quarters of his income.'''\n",
    "\n",
    "\n",
    "# wordlist = wordstring.split()\n",
    "# print(wordlist)\n",
    "# wordfreq = []\n",
    "# for i in wordlist:\n",
    "# wordfreq.append(wordlist.count(i))\n",
    "# print(\"List\\n\" + str(wordlist) + \"\\n\")\n",
    "# print(\"Frequencies\\n\" + str(wordfreq) + \"\\n\")\n",
    "# fullpair = \"Pairs\\n\" + str(dict(zip(wordlist, wordfreq)))\n",
    "# print(fullpair)\n",
    "# #{k: v for k, v in sorted(fullpair.items(), key=lambda item : item[1])}\n",
    "# dict(sorted(fullpair.items(), key=lambda item: item[1]))\n",
    "\n"
   ],
   "outputs": [
    {
     "output_type": "stream",
     "name": "stdout",
     "text": [
      "[('a', 6), ('of', 5), ('on', 4), ('in', 2), ('mancha,', 2), ('the', 2), ('to', 2), ('an', 2), ('and', 2), ('village', 1), ('la', 1), ('name', 1), ('which', 1), ('i', 1), ('have', 1), ('no', 1), ('desire', 1), ('call', 1), ('mind,', 1), ('there', 1), ('lived', 1), ('not', 1), ('long', 1), ('since', 1), ('one', 1), ('those', 1), ('gentlemen', 1), ('that', 1), ('keep', 1), ('lance', 1), ('lance-rack,', 1), ('old', 1), ('buckler,', 1), ('lean', 1), ('hack,', 1), ('greyhound', 1), ('for', 1), ('coursing.', 1), ('olla', 1), ('rather', 1), ('more', 1), ('beef', 1), ('than', 1), ('mutton,', 1), ('salad', 1), ('most', 1), ('nights,', 1), ('scraps', 1), ('saturdays,', 1), ('lentils', 1), ('fridays,', 1), ('pigeon', 1), ('or', 1), ('so', 1), ('extra', 1), ('sundays,', 1), ('made', 1), ('away', 1), ('with', 1), ('three-quarters', 1), ('his', 1), ('income', 1)]\n"
     ]
    }
   ],
   "metadata": {}
  },
  {
   "cell_type": "code",
   "execution_count": 60,
   "source": [
    "txt = 'In a village of La Mancha, the name of which I have no desire to call to mind, there lived not long since one of those gentlemen that keep a lance in the lance-rack, an old buckler, a lean hack, and a greyhound for coursing. An olla of rather more beef than mutton, a salad on most nights, MANCHA, scraps on Saturdays, lentils on Fridays, and a pigeon or so extra on Sundays, made away with three-quarters of his income'\n",
    "\n",
    "\n",
    "word_txt = txt.lower()\n",
    "word = word_txt.split()\n",
    "unique = set(word)\n",
    "result = []\n",
    "for i in unique:\n",
    "    item = i.replace(',','')   #i.replace(',','').replace('.','')\n",
    "    item = item.replace('.','')\n",
    "    result.append(item)\n",
    "\n",
    "\n",
    "# comprehension\n",
    "value = [ x.replace(',','').replace('.','') for x in unique ]\n",
    "# print(value)\n",
    "\n",
    "\n",
    "\n",
    "\n",
    "dict_one = {}\n",
    "for x in unique:\n",
    "    dict_one[x]= word.count(x)\n",
    "# # dict comnpren\n",
    "# dict_value = {x:word_txt.count(i) for x in value}\n",
    "\n",
    "sorted_result = sorted(dict_one.items(),key= lambda x: x[1],reverse= True)\n",
    "# print(sorted_result[:3])\n",
    "\n",
    "new_result = {}\n",
    "\n",
    "for k,v in sorted_result:\n",
    "    if v in new_result:\n",
    "        new_result[v].append((k,v))\n",
    "    else:\n",
    "        new_result[v]= [(k,v)]\n",
    "\n",
    "from collections import defaultdict\n",
    "print(new_result[6])\n",
    "\n",
    "# new_result2 = defaultdict(list)\n",
    "# for k,v in sorted_result:\n",
    "#     new_result2.append((k,v))\n",
    "\n",
    "print(new_result2)\n"
   ],
   "outputs": [
    {
     "output_type": "stream",
     "name": "stdout",
     "text": [
      "[('a', 6)]\n",
      "defaultdict(<class 'list'>, {})\n"
     ]
    }
   ],
   "metadata": {}
  },
  {
   "cell_type": "markdown",
   "source": [
    "C:\\xxxxx\\xxxxxx\\xxxxxx\n",
    "/\n",
    "\n",
    "absolute \n",
    "relative\n",
    "\n",
    "                    desktop  -->  /Users/de_tai/desktop\n",
    "            +--------------------------------------------+\n",
    "            |my_project:     ----root folder    /my_project    abs: /Users/de_tai/desktop/my_project \n",
    "            |            data:   /data                         abs: /Users/de_tai/desktop//my_project/data\n",
    "            |                   robot.csv                      abs: /Users/de_tai/desktop//my_project/data/robot.csv\n",
    "            |                   sample.csv\n",
    "            |                   example.csv\n",
    "            |            scripts:                              abs: /Users/de_tai/desktop/my_project/scripts\n",
    "            |                   sample.py\n",
    "            |                   example.py                     abs: /Users/de_tai/desktop//my_project/scripts/example.py\n",
    "            |\n",
    "            |            utility.py                            abs: /Users/de_tai/desktop//my_project/utility.py\n",
    "            |\n",
    "            +--------------------------------------------+\n"
   ],
   "metadata": {}
  },
  {
   "cell_type": "code",
   "execution_count": 69,
   "source": [
    "import os\n",
    "\n",
    "curr = os.getcwd()\n",
    "\n",
    "BASE_DIR = os.path.dirname(curr)\n",
    "print(BASE_DIR)\n",
    "# data_loc = f'{BASE_DIR}/resources/data'\n",
    "data_loc = os.path.join(BASE_DIR,'resources')\n",
    "data_loc2 = os.path.join(data_loc,'data')\n",
    "print(data_loc2)\n",
    "data_loc3 = os.listdir(data_loc2)\n",
    "\n",
    "final= []\n",
    "for value in data_loc3:\n",
    "    joined = os.path.join(data_loc2,value)\n",
    "    final.append(joined)\n",
    "else:\n",
    "    print(final )\n"
   ],
   "outputs": [
    {
     "output_type": "stream",
     "name": "stdout",
     "text": [
      "/Users/de_tai/Desktop/python_main\n",
      "/Users/de_tai/Desktop/python_main/resources/data\n",
      "['/Users/de_tai/Desktop/python_main/resources/data/dowstocks.csv', '/Users/de_tai/Desktop/python_main/resources/data/missing.csv', '/Users/de_tai/Desktop/python_main/resources/data/portfoliodate.csv', '/Users/de_tai/Desktop/python_main/resources/data/portfolio.csv', '/Users/de_tai/Desktop/python_main/resources/data/prices.csv', '/Users/de_tai/Desktop/python_main/resources/data/portfolioblank.csv', '/Users/de_tai/Desktop/python_main/resources/data/portfolio2.csv']\n"
     ]
    }
   ],
   "metadata": {}
  },
  {
   "cell_type": "code",
   "execution_count": 88,
   "source": [
    "file = open('/Users/de_tai/Desktop/python_main/resources/data/missing.csv','r')\n",
    "# print(file.readline())\n",
    "print(file.read())\n",
    "# print(file.readline())\n",
    "file.close() "
   ],
   "outputs": [
    {
     "output_type": "stream",
     "name": "stdout",
     "text": [
      "name,shares,price\n",
      "\"AA\",100,32.20\n",
      "\"IBM\",50,91.10\n",
      "\"CAT\",150,83.44\n",
      "\"MSFT\",,51.23\n",
      "\"GE\",95,40.37\n",
      "\"MSFT\",50,65.10\n",
      "\"IBM\",,70.44\n",
      "\n"
     ]
    }
   ],
   "metadata": {}
  },
  {
   "cell_type": "code",
   "execution_count": 90,
   "source": [
    "with open(final[1],'r') as file:\n",
    "    print(file.read())\n",
    "\n",
    "\n"
   ],
   "outputs": [
    {
     "output_type": "stream",
     "name": "stdout",
     "text": [
      "name,shares,price\n",
      "\"AA\",100,32.20\n",
      "\"IBM\",50,91.10\n",
      "\"CAT\",150,83.44\n",
      "\"MSFT\",,51.23\n",
      "\"GE\",95,40.37\n",
      "\"MSFT\",50,65.10\n",
      "\"IBM\",,70.44\n",
      "\n"
     ]
    }
   ],
   "metadata": {}
  },
  {
   "cell_type": "code",
   "execution_count": 108,
   "source": [
    "class FileOpener:\n",
    "\n",
    "    def __enter__(self):\n",
    "        print(f'i am in')\n",
    "    def __exit__(self, type, value, traceback):\n",
    "        print(f'i am out')\n",
    "\n",
    "with FileOpener() as f:\n",
    "    print('writing a code here')\n"
   ],
   "outputs": [
    {
     "output_type": "stream",
     "name": "stdout",
     "text": [
      "i am in\n",
      "writing a code here\n",
      "i am out\n"
     ]
    }
   ],
   "metadata": {}
  },
  {
   "cell_type": "code",
   "execution_count": 118,
   "source": [
    "\n",
    "# r\n",
    "# r+\n",
    "# w \n",
    "# a\n",
    "# rb\n",
    "# wb\n",
    "\n",
    "\n",
    "# with open('/Users/de_tai/Desktop/python_main/sample.txt','r+') as writer:\n",
    "#     writer.write('i am happy')\n",
    "\n",
    "\n",
    "\n",
    "# with open('./sample.txt','w') as writer:\n",
    "#     writer.write('i am happy1')\n",
    "#     writer.write('i am happy2')\n",
    "\n",
    "\n",
    "# with open('./sample.txt','w') as writer:\n",
    "#     writer.write('i am happy3')\n",
    "#     writer.write('i am happy4')\n",
    "\n",
    "\n",
    "\n",
    "with open('./sample.txt','a') as writer:\n",
    "    writer.write('\\ni am happy90 with append')\n",
    "    writer.write('\\ni am happy4')"
   ],
   "outputs": [],
   "metadata": {}
  },
  {
   "cell_type": "code",
   "execution_count": null,
   "source": [
    "# Task:\n",
    "# 1. dynamically Load all a data location into a variable\n",
    "# 2. read the contents [missing.csv, portfolio.csv,prices.csv]\n",
    "# 3. output the content in a table format below\n",
    "#     Nb: ensure no duplicate stocks (sum exisiting) \n",
    "#           header1     header2     header 3\n",
    "#          -------     --------    --------\n",
    "#           content     content     content\n",
    "#           content     content     content\n",
    "#           content     content     content\n",
    "#           content     content     content\n",
    "#           content     content     content\n",
    "#           content     content     content\n",
    "#           content     content     content\n",
    "#           content     content     content\n",
    "\n",
    "#  4. create a new directory and save the new contents into a csv files\n",
    "# hint use the os.mkdirs() "
   ],
   "outputs": [],
   "metadata": {}
  }
 ],
 "metadata": {
  "orig_nbformat": 4,
  "language_info": {
   "name": "python",
   "version": "3.9.1",
   "mimetype": "text/x-python",
   "codemirror_mode": {
    "name": "ipython",
    "version": 3
   },
   "pygments_lexer": "ipython3",
   "nbconvert_exporter": "python",
   "file_extension": ".py"
  },
  "kernelspec": {
   "name": "python3",
   "display_name": "Python 3.9.1 64-bit"
  },
  "interpreter": {
   "hash": "397704579725e15f5c7cb49fe5f0341eb7531c82d19f2c29d197e8b64ab5776b"
  }
 },
 "nbformat": 4,
 "nbformat_minor": 2
}