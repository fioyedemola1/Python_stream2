{
 "cells": [
  {
   "cell_type": "code",
   "execution_count": 2,
   "source": [
    "#Palindrome Solution\n",
    "output = []\n",
    "for n in range(1000):\n",
    "    if str(n) == str(n)[::-1]:  #[::-1] reverses the List or reversed(str(n))\n",
    "         output.append(n)\n",
    "else:\n",
    "    print(output)\n",
    "\n",
    "# list comprehension\n",
    "output_2 = [n for n in range(1000) if str(n) == str(n)[::-1]]\n",
    "print(output_2)"
   ],
   "outputs": [
    {
     "output_type": "stream",
     "name": "stdout",
     "text": [
      "[0, 1, 2, 3, 4, 5, 6, 7, 8, 9, 11, 22, 33, 44, 55, 66, 77, 88, 99, 101, 111, 121, 131, 141, 151, 161, 171, 181, 191, 202, 212, 222, 232, 242, 252, 262, 272, 282, 292, 303, 313, 323, 333, 343, 353, 363, 373, 383, 393, 404, 414, 424, 434, 444, 454, 464, 474, 484, 494, 505, 515, 525, 535, 545, 555, 565, 575, 585, 595, 606, 616, 626, 636, 646, 656, 666, 676, 686, 696, 707, 717, 727, 737, 747, 757, 767, 777, 787, 797, 808, 818, 828, 838, 848, 858, 868, 878, 888, 898, 909, 919, 929, 939, 949, 959, 969, 979, 989, 999]\n"
     ]
    }
   ],
   "metadata": {}
  },
  {
   "cell_type": "code",
   "execution_count": 133,
   "source": [
    "# Task:\n",
    "# count the number of times each word appears\n",
    "# case sensitive\n",
    "# sort first 3\n",
    "txt = 'In a village of La Mancha, the name of which I have no desire to call to mind, there lived \\\n",
    "        not long since one of those gentlemen that keep a lance in the lance-rack, an old buckler, a lean hack, \\\n",
    "        and a greyhound for coursing. An olla of rather more beef than mutton, a salad on most nights, MANCHA, \\\n",
    "            scraps on Saturdays, lentils on Fridays, and a pigeon or so extra on Sundays, made away with three-quarters of his income'\n"
   ],
   "outputs": [],
   "metadata": {}
  },
  {
   "cell_type": "code",
   "execution_count": 137,
   "source": [
    "txt = 'In a village of La Mancha, the name of which I have no desire to call to mind, there lived not long since one of those gentlemen that keep a lance in the lance-rack, an old buckler, a lean hack, and a greyhound for coursing. An olla of rather more beef than mutton, a salad on most nights, MANCHA, scraps on Saturdays, lentils on Fridays, and a pigeon or so extra on Sundays, made away with three-quarters of his income'\n",
    "\n",
    "\n",
    "# ***************************using regular for loop **********************************************\n",
    "word_txt = txt.lower()\n",
    "word = word_txt.split()\n",
    "unique = set(word)\n",
    "result = []\n",
    "for i in unique:\n",
    "    item = i.replace(',','')   #i.replace(',','').replace('.','')\n",
    "    item = item.replace('.','')\n",
    "    result.append(item)\n",
    "\n",
    "# ******************************usin list comprehsnion *******************************************\n",
    "# transform all text to lower case\n",
    "# split items in list using split()\n",
    "#  replace commmas and full- stops\n",
    "word = [x.replace(',','').replace('.','') for x in word_txt.lower().split()]\n",
    "unique = set(word)\n",
    "\n",
    "# print(word)\n",
    "# print('*'*10)\n",
    "# print(value)\n",
    "\n",
    "\n",
    "\n",
    "\n",
    "# *************************************************************************\n",
    "# store resulting in a dictionary\n",
    "dict_one = {}\n",
    "for x in unique:\n",
    "    dict_one[x]= word.count(x)\n",
    "\n",
    "\n",
    "# dict comprehension\n",
    "dict_value = {x:word.count(x) for x in value}\n",
    "# print(dict_value)\n",
    "\n",
    "# *************************************************************************\n",
    "\n",
    "# *************************************************************************\n",
    "# get the top 3 most occuring words\n",
    "sorted_result = sorted(dict_one.items(),key= lambda x: x[1],reverse= True)\n",
    "# print(sorted_result[:3])\n",
    "# *************************************************************************\n",
    "\n",
    "\n",
    "\n",
    "# ****************************Grouping similar  words that have same count*********************************************\n",
    "\n",
    "new_result = {}\n",
    "for k,v in sorted_result:\n",
    "    if v in new_result:\n",
    "        new_result[v].append((k,v))\n",
    "    else:\n",
    "        new_result[v]= [(k,v)]\n",
    "# else:\n",
    "#     print(new_result)\n",
    "\n",
    "\n",
    "# using defaultdict to group similar values together\n",
    "from collections import defaultdict\n",
    "\n",
    "new_result2 = defaultdict(list)\n",
    "\n",
    "for k,v in sorted_result:\n",
    "    new_result2[v].append((k,v))\n",
    "else:\n",
    "    print(new_result2)\n",
    "print(new_result2[6])  # returns the grouped result of words that appear 6 times\n",
    "print(new_result2[2])  # returns the grouped result of items that appear twice\n",
    "# *************************************************************************"
   ],
   "outputs": [
    {
     "output_type": "stream",
     "name": "stdout",
     "text": [
      "defaultdict(<class 'list'>, {6: [('a', 6)], 5: [('of', 5)], 4: [('on', 4)], 2: [('an', 2), ('mancha', 2), ('to', 2), ('the', 2), ('and', 2), ('in', 2)], 1: [('there', 1), ('not', 1), ('most', 1), ('lance', 1), ('village', 1), ('with', 1), ('saturdays', 1), ('fridays', 1), ('his', 1), ('have', 1), ('name', 1), ('greyhound', 1), ('salad', 1), ('la', 1), ('buckler', 1), ('lance-rack', 1), ('no', 1), ('keep', 1), ('made', 1), ('three-quarters', 1), ('that', 1), ('one', 1), ('mutton', 1), ('coursing', 1), ('which', 1), ('away', 1), ('scraps', 1), ('extra', 1), ('long', 1), ('lean', 1), ('pigeon', 1), ('income', 1), ('olla', 1), ('rather', 1), ('or', 1), ('desire', 1), ('beef', 1), ('hack', 1), ('nights', 1), ('old', 1), ('lentils', 1), ('so', 1), ('since', 1), ('more', 1), ('mind', 1), ('those', 1), ('call', 1), ('gentlemen', 1), ('sundays', 1), ('than', 1), ('lived', 1), ('i', 1), ('for', 1)]})\n",
      "[('a', 6)]\n",
      "[('an', 2), ('mancha', 2), ('to', 2), ('the', 2), ('and', 2), ('in', 2)]\n"
     ]
    }
   ],
   "metadata": {}
  },
  {
   "cell_type": "markdown",
   "source": [
    "## Working with File path\n",
    "##### why do we need to understanding\n",
    "1. it makes it easier to run access files across systems\n",
    "2. Makes  your code dynamic\n",
    "\n",
    "File path or addresses where files are stored system. It is paramount that you understand and are able to \n",
    "* Generate and Navigate up and down your file path\n",
    "*  manipulate strings and path"
   ],
   "metadata": {}
  },
  {
   "cell_type": "markdown",
   "source": [
    "\n",
    "windows users:    C:\\users\\xxxxxx\\desktop\n",
    "mac/Linux users:      /Users/xxxxxx/desktop\n",
    "\n",
    "\n",
    "* absolute : requires the full path/ location\n",
    "\n",
    "* relative: subject to the location where the script is running\n",
    "\n",
    "                    desktop  -->  /Users/de_tai/desktop\n",
    "            +--------------------------------------------+\n",
    "            |my_project:     ----root folder    /my_project    abs: /Users/de_tai/desktop/my_project \n",
    "            |            data:   /data                         abs: /Users/de_tai/desktop//my_project/data\n",
    "            |                   robot.csv                      abs: /Users/de_tai/desktop//my_project/data/robot.csv\n",
    "            |                   sample.csv\n",
    "            |                   example.csv\n",
    "            |            scripts:                              abs: /Users/de_tai/desktop/my_project/scripts\n",
    "            |                   sample.py\n",
    "            |                   example.py                     abs: /Users/de_tai/desktop//my_project/scripts/example.py\n",
    "            |\n",
    "            |            utility.py                            abs: /Users/de_tai/desktop//my_project/utility.py\n",
    "            |\n",
    "            +--------------------------------------------+\n"
   ],
   "metadata": {}
  },
  {
   "cell_type": "code",
   "execution_count": 139,
   "source": [
    "import os\n",
    "# *************************************************************************\n",
    "\n",
    "curr = os.getcwd()  # get the current working directory\n",
    "\n",
    "BASE_DIR = os.path.dirname(curr)   # generates the root directory\n",
    "print(BASE_DIR)\n",
    "# data_loc = f'{BASE_DIR}/resources/data'\n",
    "data_loc = os.path.join(BASE_DIR,'resources')  \n",
    "data_loc2 = os.path.join(data_loc,'data')  # combining data_loc and data_loc2 in one line --->  os.path.join(os.path.join(BASE_DIR,'resources'),'data')\n",
    "print(data_loc2)\n",
    "data_loc3 = os.listdir(data_loc2)\n",
    "\n",
    "\n",
    "\n",
    "# ******************** using Regular for loop to  generate the full path/ location of or csv file *****************************************************\n",
    "final= []\n",
    "for value in data_loc3:\n",
    "    joined = os.path.join(data_loc2,value) # generate the full path for the location of our Data\n",
    "    final.append(joined)\n",
    "else:\n",
    "    print(final )\n",
    "# *************************using list comprehension to  generate the full path/ location of or csv file ************************************************\n",
    "\n",
    "final2 = [os.path.join(data_loc2,x)for x in data_loc3]\n",
    "print(final2)\n",
    "# *************************************************************************"
   ],
   "outputs": [
    {
     "output_type": "stream",
     "name": "stdout",
     "text": [
      "/Users/de_tai/Desktop/python_main\n",
      "/Users/de_tai/Desktop/python_main/resources/data\n",
      "['/Users/de_tai/Desktop/python_main/resources/data/dowstocks.csv', '/Users/de_tai/Desktop/python_main/resources/data/missing.csv', '/Users/de_tai/Desktop/python_main/resources/data/portfoliodate.csv', '/Users/de_tai/Desktop/python_main/resources/data/portfolio.csv', '/Users/de_tai/Desktop/python_main/resources/data/prices.csv', '/Users/de_tai/Desktop/python_main/resources/data/portfolioblank.csv', '/Users/de_tai/Desktop/python_main/resources/data/portfolio2.csv']\n",
      "['/Users/de_tai/Desktop/python_main/resources/data/dowstocks.csv', '/Users/de_tai/Desktop/python_main/resources/data/missing.csv', '/Users/de_tai/Desktop/python_main/resources/data/portfoliodate.csv', '/Users/de_tai/Desktop/python_main/resources/data/portfolio.csv', '/Users/de_tai/Desktop/python_main/resources/data/prices.csv', '/Users/de_tai/Desktop/python_main/resources/data/portfolioblank.csv', '/Users/de_tai/Desktop/python_main/resources/data/portfolio2.csv']\n"
     ]
    }
   ],
   "metadata": {}
  },
  {
   "cell_type": "code",
   "execution_count": 88,
   "source": [
    "# ******************************Reading File with the open()************************************************\n",
    "\n",
    "# readline ---> read first line\n",
    "# readlines ---> reads multiple lines . You can loop through\n",
    "# write ---> write  texts. You can loop/iterate through\n",
    "# writelines ---> write  texts par lines. \n",
    "\n",
    "# N.B  when using the open method, you are to ensure that method close() is called to\n",
    "# ensure that resources are realsed after the input /output operation has been concluded\n",
    "\n",
    "file = open('/Users/de_tai/Desktop/python_main/resources/data/missing.csv','r')\n",
    "print(file.read())\n",
    "# print(file.readline())\n",
    "# print(file.readline())\n",
    "file.close()    # ensure this is called\n",
    "# ******************************************************************************\n",
    "\n",
    "# ****************************  Using Context manager with **************************************************\n",
    "\n",
    "with open(final[1],'r') as file:\n",
    "    print(file.read())\n",
    "# ******************************************************************************"
   ],
   "outputs": [
    {
     "output_type": "stream",
     "name": "stdout",
     "text": [
      "name,shares,price\n",
      "\"AA\",100,32.20\n",
      "\"IBM\",50,91.10\n",
      "\"CAT\",150,83.44\n",
      "\"MSFT\",,51.23\n",
      "\"GE\",95,40.37\n",
      "\"MSFT\",50,65.10\n",
      "\"IBM\",,70.44\n",
      "\n"
     ]
    }
   ],
   "metadata": {}
  },
  {
   "cell_type": "code",
   "execution_count": 126,
   "source": [
    "# **************************Hiw does Context Manager work?****************************************************\n",
    "#  The open context manager has a dunder method __entry__ and __exit__ which ensures that files are opened and then closed onced the operation has been carried out\n",
    "# The below code is just an example of a sample File opener\n",
    "class FileOpener:\n",
    "    def __init__(self,location):\n",
    "        self.location = location\n",
    "        # entry point\n",
    "    def __enter__(self):\n",
    "        print(f'i am in {self.location}')\n",
    "\n",
    "        # exit point\n",
    "    def __exit__(self, type, value, traceback):\n",
    "        print(f'i am out {self.location}')\n",
    "\n",
    "with FileOpener(final[0]) as f:\n",
    "    print('writing a code here')\n"
   ],
   "outputs": [
    {
     "output_type": "stream",
     "name": "stdout",
     "text": [
      "i am in /Users/de_tai/Desktop/python_main/resources/data/dowstocks.csv\n",
      "writing a code here\n",
      "i am out /Users/de_tai/Desktop/python_main/resources/data/dowstocks.csv\n"
     ]
    }
   ],
   "metadata": {}
  },
  {
   "cell_type": "code",
   "execution_count": 123,
   "source": [
    "\n",
    "# *************************file Modes **************************************************\n",
    "\n",
    "# file modes for reading and writing files\n",
    "# r  ---> for reading files only\n",
    "# r+  --> reading and writing files. However, if file does not exist it throws an error\n",
    "# w  --> writes  file into an existing or create new file if file does not exist. It overwrites any existing file content\n",
    "# a  --> appends new content to file. does not overwrite\n",
    "# rb --> read binary files eg pictures\n",
    "# wb  --> write binary files\n",
    "\n",
    "# ***************************************************************************\n",
    "\n",
    "# This reads/ write a file . however if file does not exist it will throw an error\n",
    "with open('/Users/de_tai/Desktop/python_main/sample.txt','r+') as writer:\n",
    "    writer.write('i am happy')\n",
    "\n",
    "# ***************************************************************************\n",
    "\n",
    "\n",
    "# ***************************************************************************\n",
    "                                        # overwrites existing contents\n",
    "\n",
    "with open('./sample.txt','w') as writer:\n",
    "    writer.write('i am happy1')\n",
    "    writer.write('i am happy2')\n",
    "\n",
    "\n",
    "with open('./sample.txt','w') as writer:\n",
    "    writer.write('i am happy3')\n",
    "    writer.write('i am happy4')\n",
    "# ***************************************************************************\n",
    "\n",
    "\n",
    "# ***************************************************************************\n",
    "# Appending new data to existing file\n",
    "with open('./sample.txt','a') as writer:\n",
    "    writer.write('\\ni am happy90 with append')\n",
    "    writer.write('\\ni am happy4')\n",
    "# ***************************************************************************"
   ],
   "outputs": [
    {
     "output_type": "stream",
     "name": "stdout",
     "text": [
      "\n"
     ]
    }
   ],
   "metadata": {}
  },
  {
   "cell_type": "code",
   "execution_count": null,
   "source": [
    "# Task:\n",
    "# 1. dynamically Load all a data location into a variable\n",
    "# 2. read the contents [missing.csv, portfolio.csv,prices.csv]\n",
    "# 3. output the content in a table format below\n",
    "#     Nb: ensure no duplicate stocks (sum exisiting) \n",
    "#           header1     header2     header 3\n",
    "#          -------     --------    --------\n",
    "#           content     content     content\n",
    "#           content     content     content\n",
    "#           content     content     content\n",
    "#           content     content     content\n",
    "#           content     content     content\n",
    "#           content     content     content\n",
    "#           content     content     content\n",
    "#           content     content     content\n",
    "\n",
    "#  4. create a new directory and save the new contents into a csv files\n",
    "# hint use the os.mkdirs() "
   ],
   "outputs": [],
   "metadata": {}
  }
 ],
 "metadata": {
  "orig_nbformat": 4,
  "language_info": {
   "name": "python",
   "version": "3.9.1",
   "mimetype": "text/x-python",
   "codemirror_mode": {
    "name": "ipython",
    "version": 3
   },
   "pygments_lexer": "ipython3",
   "nbconvert_exporter": "python",
   "file_extension": ".py"
  },
  "kernelspec": {
   "name": "python3",
   "display_name": "Python 3.9.1 64-bit"
  },
  "interpreter": {
   "hash": "397704579725e15f5c7cb49fe5f0341eb7531c82d19f2c29d197e8b64ab5776b"
  }
 },
 "nbformat": 4,
 "nbformat_minor": 2
}