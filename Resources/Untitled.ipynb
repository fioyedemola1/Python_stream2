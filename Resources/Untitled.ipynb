{
 "cells": [
  {
   "cell_type": "code",
   "execution_count": 8,
   "id": "eab4ca06-295c-40c3-9103-abf74df61102",
   "metadata": {},
   "outputs": [],
   "source": [
    "DATA = {'days': [0.0 ,1.0 ,2.0 ,3.0 ,4.0 ,5.0 ,6.0 ,7.0 ,8.0],\n",
    "\n",
    "'user': [618 ,638 ,662 ,686 ,726 ,835 ,915 ,971 ,1004],\n",
    "\n",
    "'Conversion_Percentage': [2.942577 ,3.037806 ,3.152081 ,3.266356 ,3.456814 ,3.975812 ,4.356728 ,4.623369 ,4.780497]}"
   ]
  },
  {
   "cell_type": "code",
   "execution_count": 21,
   "id": "5b2fa503-186f-4c56-928f-d74f3ba90a0c",
   "metadata": {},
   "outputs": [],
   "source": [
    "import pandas as pd\n",
    "import numpy as np\n"
   ]
  },
  {
   "cell_type": "code",
   "execution_count": 119,
   "id": "361adebd-7929-46d9-9b93-438bccdd7cbb",
   "metadata": {},
   "outputs": [],
   "source": [
    "def conversion(x):\n",
    "    grp_cvr= 1.96 * np.std(df['Conversion_Percentage'])/math.sqrt(len(df['Conversion_Percentage']))\n",
    "    grp_ci= x  #adjust to fit your calculation\n",
    "    grp_ci95plus = grp_cvr + grp_ci\n",
    "    grp_ci95minus = grp_cvr - grp_ci    \n",
    "    return grp_ci,grp_cvr,grp_ci95plus,grp_ci95minus\n",
    "\n",
    "\n",
    "\n",
    "#columns and index mapping\n",
    "index2 = {0: 'A', 1: 'b', 2: 'C', 3: 'D', 4: 'E', 5: 'F', 6: 'G', 7: 'H', 8: 'I'}\n",
    "\n",
    "col= ['ci','cvr','ci95plus','ci95minus']\n",
    "\n",
    "new_columns=dict(zip(range(len(col)),col))\n",
    "\n",
    "\n",
    "\n",
    "\n",
    "df= pd.DataFrame(DATA)\n",
    "new =(df['Conversion_Percentage'].apply(conversion)\n",
    "             .apply(pd.Series))\n",
    "            \n",
    "\n",
    "index2 = {0: 'A', 1: 'b', 2: 'C', 3: 'D', 4: 'E', 5: 'F', 6: 'G', 7: 'H', 8: 'I'}\n",
    "new_columns=dict(zip(new.columns,['ci','cvr','ci95plus','ci95minus']))\n",
    "\n",
    "new.rename(columns=new_columns,inplace=True, index= index2)\n"
   ]
  }
 ],
 "metadata": {
  "kernelspec": {
   "display_name": "Python 3",
   "language": "python",
   "name": "python3"
  },
  "language_info": {
   "codemirror_mode": {
    "name": "ipython",
    "version": 3
   },
   "file_extension": ".py",
   "mimetype": "text/x-python",
   "name": "python",
   "nbconvert_exporter": "python",
   "pygments_lexer": "ipython3",
   "version": "3.8.10"
  }
 },
 "nbformat": 4,
 "nbformat_minor": 5
}
