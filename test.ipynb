{
 "cells": [
  {
   "cell_type": "code",
   "execution_count": 1,
   "source": [],
   "outputs": [],
   "metadata": {}
  },
  {
   "cell_type": "code",
   "execution_count": 6,
   "source": [
    "texts= ['(nytimes) \"news on war\" (wsj) \"news on business\" (nytimes) \"more news\"']\n",
    "\n",
    "data = pd.DataFrame(texts,columns=['text'])\n",
    "new= data['text'].str.extractall(r'((?:\\(\\w+\\).\"\\w+.\\w+ \\w+?\"))')\n",
    "\n",
    "\n",
    "new_1= new.droplevel(level=1)\n",
    "val = new_1[0].explode()[0].str.split().str[0]\n",
    "val2 = new_1[0].explode()[0].str.split().str[1:].apply(lambda x: ' '.join(x))\n",
    "\n",
    "cleaner  = pd.DataFrame()\n",
    "cleaner['one']= val\n",
    "cleaner['two']= val2\n",
    "\n",
    "cleaner =cleaner.groupby('one').aggregate(lambda tdf: tdf.unique().tolist()).reset_index().T\n",
    "cleaner.columns= ['NyTimes','WSJ']\n",
    "\n",
    "cleaner.reset_index(inplace=True)\n",
    "cleaner.drop(0,axis=0,inplace=True)\n",
    "cleaner.drop('index',axis=1,inplace=True)\n",
    "data[['NyTimes','WSJ']]= cleaner.values\n",
    "data.head()\n"
   ],
   "outputs": [
    {
     "output_type": "execute_result",
     "data": {
      "text/plain": [
       "                                                text  \\\n",
       "0  (nytimes) \"news on war\" (wsj) \"news on busines...   \n",
       "\n",
       "                        NyTimes                   WSJ  \n",
       "0  [\"news on war\", \"more news\"]  [\"news on business\"]  "
      ],
      "text/html": [
       "<div>\n",
       "<style scoped>\n",
       "    .dataframe tbody tr th:only-of-type {\n",
       "        vertical-align: middle;\n",
       "    }\n",
       "\n",
       "    .dataframe tbody tr th {\n",
       "        vertical-align: top;\n",
       "    }\n",
       "\n",
       "    .dataframe thead th {\n",
       "        text-align: right;\n",
       "    }\n",
       "</style>\n",
       "<table border=\"1\" class=\"dataframe\">\n",
       "  <thead>\n",
       "    <tr style=\"text-align: right;\">\n",
       "      <th></th>\n",
       "      <th>text</th>\n",
       "      <th>NyTimes</th>\n",
       "      <th>WSJ</th>\n",
       "    </tr>\n",
       "  </thead>\n",
       "  <tbody>\n",
       "    <tr>\n",
       "      <th>0</th>\n",
       "      <td>(nytimes) \"news on war\" (wsj) \"news on busines...</td>\n",
       "      <td>[\"news on war\", \"more news\"]</td>\n",
       "      <td>[\"news on business\"]</td>\n",
       "    </tr>\n",
       "  </tbody>\n",
       "</table>\n",
       "</div>"
      ]
     },
     "metadata": {},
     "execution_count": 6
    }
   ],
   "metadata": {}
  },
  {
   "cell_type": "code",
   "execution_count": 97,
   "source": [
    "# new.droplevel(level=1)[0].str.split(')').explode()\n",
    "new.droplevel(level=1)[0].explode().str.split()\n",
    "# new.droplevel(level=1)[0].apply(pd.Series)"
   ],
   "outputs": [
    {
     "output_type": "execute_result",
     "data": {
      "text/plain": [
       "0     [(nytimes), \"news, on, war\"]\n",
       "0    [(wsj), \"news, on, business\"]\n",
       "0        [(nytimes), \"more, news\"]\n",
       "Name: 0, dtype: object"
      ]
     },
     "metadata": {},
     "execution_count": 97
    }
   ],
   "metadata": {}
  },
  {
   "cell_type": "code",
   "execution_count": 3,
   "source": [
    "cleaner"
   ],
   "outputs": [
    {
     "output_type": "execute_result",
     "data": {
      "text/plain": [
       "                        NyTimes                   WSJ\n",
       "1  [\"news on war\", \"more news\"]  [\"news on business\"]"
      ],
      "text/html": [
       "<div>\n",
       "<style scoped>\n",
       "    .dataframe tbody tr th:only-of-type {\n",
       "        vertical-align: middle;\n",
       "    }\n",
       "\n",
       "    .dataframe tbody tr th {\n",
       "        vertical-align: top;\n",
       "    }\n",
       "\n",
       "    .dataframe thead th {\n",
       "        text-align: right;\n",
       "    }\n",
       "</style>\n",
       "<table border=\"1\" class=\"dataframe\">\n",
       "  <thead>\n",
       "    <tr style=\"text-align: right;\">\n",
       "      <th></th>\n",
       "      <th>NyTimes</th>\n",
       "      <th>WSJ</th>\n",
       "    </tr>\n",
       "  </thead>\n",
       "  <tbody>\n",
       "    <tr>\n",
       "      <th>1</th>\n",
       "      <td>[\"news on war\", \"more news\"]</td>\n",
       "      <td>[\"news on business\"]</td>\n",
       "    </tr>\n",
       "  </tbody>\n",
       "</table>\n",
       "</div>"
      ]
     },
     "metadata": {},
     "execution_count": 3
    }
   ],
   "metadata": {}
  },
  {
   "cell_type": "code",
   "execution_count": 44,
   "source": [
    "from pprint import pprint\n",
    "total = [['ford', 'x', 'z', 'A', ['steering wheel problems', 'gearbox problems', 'broken engine']], ['fiat', 'y', 'x', 'C', ['steering wheel problems']]]\n",
    "labels = ['make', 'model', 'version', 'type', 'infos']\n",
    "\n",
    "new= [dict(zip(labels,x)) for x in total ]\n",
    "pprint(new,width=40, depth=2)"
   ],
   "outputs": [
    {
     "output_type": "stream",
     "name": "stdout",
     "text": [
      "[{'infos': [...],\n",
      "  'make': 'ford',\n",
      "  'model': 'x',\n",
      "  'type': 'A',\n",
      "  'version': 'z'},\n",
      " {'infos': [...],\n",
      "  'make': 'fiat',\n",
      "  'model': 'y',\n",
      "  'type': 'C',\n",
      "  'version': 'x'}]\n"
     ]
    }
   ],
   "metadata": {}
  },
  {
   "cell_type": "code",
   "execution_count": 64,
   "source": [
    "def test(x):\n",
    "    yield"
   ],
   "outputs": [
    {
     "output_type": "stream",
     "name": "stdout",
     "text": [
      "Object `field` not found.\n"
     ]
    }
   ],
   "metadata": {}
  }
 ],
 "metadata": {
  "interpreter": {
   "hash": "397704579725e15f5c7cb49fe5f0341eb7531c82d19f2c29d197e8b64ab5776b"
  },
  "kernelspec": {
   "name": "python3",
   "display_name": "Python 3.9.1 64-bit"
  },
  "language_info": {
   "codemirror_mode": {
    "name": "ipython",
    "version": 3
   },
   "file_extension": ".py",
   "mimetype": "text/x-python",
   "name": "python",
   "nbconvert_exporter": "python",
   "pygments_lexer": "ipython3",
   "version": "3.9.1"
  }
 },
 "nbformat": 4,
 "nbformat_minor": 2
}