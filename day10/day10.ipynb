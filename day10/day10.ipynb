{
 "cells": [
  {
   "cell_type": "code",
   "execution_count": 4,
   "source": [
    "# explicit return and implicit\n",
    "\n",
    "# explicit\n",
    "def example():\n",
    "    return 'value'\n",
    "\n",
    "\n",
    "# implicit\n",
    "def example1():\n",
    "    print('value')  # print function out and dbuggin\n",
    "    return None"
   ],
   "outputs": [],
   "metadata": {}
  },
  {
   "cell_type": "code",
   "execution_count": 5,
   "source": [
    "a = example1()\n",
    "b = example()\n",
    "\n",
    "print(a, b)"
   ],
   "outputs": [
    {
     "output_type": "stream",
     "name": "stdout",
     "text": [
      "value\n",
      "None value\n"
     ]
    }
   ],
   "metadata": {}
  },
  {
   "cell_type": "code",
   "execution_count": 16,
   "source": [
    "# ans= 0\n",
    "\n",
    "def addition(a,b):\n",
    "    # global ans  #bad practice\n",
    "    ans = a + b\n",
    "    return ans\n",
    "\n",
    "\n",
    "ans = addition(10,20)"
   ],
   "outputs": [],
   "metadata": {}
  },
  {
   "cell_type": "code",
   "execution_count": 17,
   "source": [
    "print(ans)"
   ],
   "outputs": [
    {
     "output_type": "stream",
     "name": "stdout",
     "text": [
      "30\n"
     ]
    }
   ],
   "metadata": {}
  },
  {
   "cell_type": "code",
   "execution_count": 20,
   "source": [
    "def saver(path):\n",
    "    with open(path,'a') as f:\n",
    "        f.write('this is just an example')"
   ],
   "outputs": [],
   "metadata": {}
  },
  {
   "cell_type": "code",
   "execution_count": 22,
   "source": [
    "value = saver('./sample.txt')\n",
    "print(value)"
   ],
   "outputs": [
    {
     "output_type": "stream",
     "name": "stdout",
     "text": [
      "None\n"
     ]
    }
   ],
   "metadata": {}
  },
  {
   "cell_type": "code",
   "execution_count": 23,
   "source": [
    "\n",
    "# ensure that wrong inputs does nto break your code \n",
    "\n",
    " \n",
    "#  write a function that takes list of values and return the maximum num\n",
    "#  write a function that takes list of values and return the minumum num\n",
    "#  write a function that takes 2 parameters, 1 list of numbers , a number. it would generate the index of the number\n",
    "#  [1,2,3,4,5,5,6], 2--->1\n",
    "#  a function that in a sentence  and then converts every word that ends with a vowel to ing ---> the quick sample ; theing quick sampleing\n",
    "#  write a function that convers reverse the case of each letter passsed into it :  ThE QUIck broWn foX --> tHe quiCK BROwn FOx\n"
   ],
   "outputs": [],
   "metadata": {}
  },
  {
   "cell_type": "code",
   "execution_count": 34,
   "source": [
    "def maximum(value: int,*args): #*args **kwargs\n",
    "    initial_value = int(value[0])  # state to store value  1,2,3,4,5\n",
    "    try:\n",
    "        for i in value:\n",
    "            if i > initial_value:\n",
    "                initial_value = i\n",
    "        return initial_value\n",
    "    except TypeError:\n",
    "        return 'Wrong!'"
   ],
   "outputs": [],
   "metadata": {}
  },
  {
   "cell_type": "code",
   "execution_count": 38,
   "source": [
    "list_item = [10000,2,3,5,5,6,9000]\n",
    "maximum(list_item,23232312,3423)"
   ],
   "outputs": [
    {
     "output_type": "execute_result",
     "data": {
      "text/plain": [
       "10000"
      ]
     },
     "metadata": {},
     "execution_count": 38
    }
   ],
   "metadata": {}
  },
  {
   "cell_type": "code",
   "execution_count": 39,
   "source": [
    "def minimum(value: int,*args): #*args **kwargs\n",
    "    initial_value = int(value[0])  # state to store value  1,2,3,4,5\n",
    "    try:\n",
    "        for i in value:\n",
    "            if i < initial_value:\n",
    "                initial_value = i\n",
    "        return initial_value\n",
    "    except TypeError:\n",
    "        return 'Wrong!'"
   ],
   "outputs": [],
   "metadata": {}
  },
  {
   "cell_type": "code",
   "execution_count": 40,
   "source": [
    "minimum(list_item)"
   ],
   "outputs": [
    {
     "output_type": "execute_result",
     "data": {
      "text/plain": [
       "2"
      ]
     },
     "metadata": {},
     "execution_count": 40
    }
   ],
   "metadata": {}
  },
  {
   "cell_type": "code",
   "execution_count": 79,
   "source": [
    "from typing import List \n",
    "items = [1,2,3,4,'apple', 'banana', 5,6]\n",
    "number = 2\n",
    "\n",
    "def generate_index(items: List, num: int):\n",
    "    if num in items:  # check if exist in the list\n",
    "        for indx, item in enumerate(items):  # enumerate\n",
    "            if item == num:\n",
    "                return indx\n",
    "    else:\n",
    "        return 'Not in the list'\n",
    "    \n",
    "\n",
    "# def generate_index(items: List, num: int):\n",
    "#     if num in items:  # check if exist in the list\n",
    "#         length = len(items)\n",
    "#         for i in range(length):\n",
    "#             print(items[i])\n",
    " \n",
    "    "
   ],
   "outputs": [],
   "metadata": {}
  },
  {
   "cell_type": "code",
   "execution_count": 90,
   "source": [
    "items = [1,2,3,4,'apple', 'banana', 5,6]\n",
    "\n",
    "generate_index(num=2, items=items) # converting to keyword\n",
    "\n",
    "\n",
    "\n"
   ],
   "outputs": [
    {
     "output_type": "execute_result",
     "data": {
      "text/plain": [
       "1"
      ]
     },
     "metadata": {},
     "execution_count": 90
    }
   ],
   "metadata": {}
  },
  {
   "cell_type": "code",
   "execution_count": 47,
   "source": [
    "if True:\n",
    "    print('okay')"
   ],
   "outputs": [
    {
     "output_type": "stream",
     "name": "stdout",
     "text": [
      "okay\n"
     ]
    }
   ],
   "metadata": {}
  },
  {
   "cell_type": "code",
   "execution_count": 78,
   "source": [
    "value = [45,2,45,45,5,5,33336]\n",
    "#        0,1,2,3,4,5,6\n",
    "value.index(45)\n",
    "# for x,y in enumerate(value):\n",
    "#     print(f'x: {x} y:{y}')"
   ],
   "outputs": [
    {
     "output_type": "execute_result",
     "data": {
      "text/plain": [
       "0"
      ]
     },
     "metadata": {},
     "execution_count": 78
    }
   ],
   "metadata": {}
  },
  {
   "cell_type": "code",
   "execution_count": 93,
   "source": [
    "print('anythng', sep='|', end='lol')\n",
    "print('anythng', end='|', sep='lol')"
   ],
   "outputs": [
    {
     "output_type": "stream",
     "name": "stdout",
     "text": [
      "anythnglolanythng|"
     ]
    }
   ],
   "metadata": {}
  },
  {
   "cell_type": "code",
   "execution_count": 94,
   "source": [
    "vowels = 'a e i o u'.split()\n",
    "print(vowels)\n"
   ],
   "outputs": [
    {
     "output_type": "stream",
     "name": "stdout",
     "text": [
      "['a', 'e', 'i', 'o', 'u']\n"
     ]
    }
   ],
   "metadata": {}
  },
  {
   "cell_type": "code",
   "execution_count": 123,
   "source": [
    "#  a function that in a sentence  and then converts every word that ends with a vowel to ing ---> the quick sample ; theing quick sampleing\n",
    "\n",
    "text = r'contrary to popular belief, Lorem Ipsum is not simply random text. It has roots in a piece of classical Latin literature from 45 BC, making it over 2000 years old. Richard McClintock, a Latin professor at Hampden-Sydney College in Virginia, looked up one of the more obscure Latin words, consectetur, from a Lorem Ipsum passage, and going through the cites of the word in classical literature, discovered the undoubtable source.'\n",
    "print(text)\n"
   ],
   "outputs": [
    {
     "output_type": "stream",
     "name": "stdout",
     "text": [
      "contrary to popular belief, Lorem Ipsum is not simply random text. It has roots in a piece of classical Latin literature from 45 BC, making it over 2000 years old. Richard McClintock, a Latin professor at Hampden-Sydney College in Virginia, looked up one of the more obscure Latin words, consectetur, from a Lorem Ipsum passage, and going through the cites of the word in classical literature, discovered the undoubtable source.\n"
     ]
    }
   ],
   "metadata": {}
  },
  {
   "cell_type": "code",
   "execution_count": 133,
   "source": [
    "def sentence_checker(sentence):\n",
    "    sentenc_result = []\n",
    "    for  i in sentence.split():\n",
    "        if i[-1] in vowels: #tip string method or index last\n",
    "            variable = f'{i}ing'\n",
    "            sentenc_result.append(variable)\n",
    "        else:\n",
    "            sentenc_result.append(i)\n",
    "            \n",
    "    return ' '.join(sentenc_result)\n"
   ],
   "outputs": [],
   "metadata": {}
  },
  {
   "cell_type": "code",
   "execution_count": 134,
   "source": [
    "sample = sentence_checker(text)\n",
    "print(sample)"
   ],
   "outputs": [
    {
     "output_type": "stream",
     "name": "stdout",
     "text": [
      "contrary toing popular belief, Lorem Ipsum is not simply random text. It has roots in aing pieceing of classical Latin literatureing from 45 BC, making it over 2000 years old. Richard McClintock, aing Latin professor at Hampden-Sydney Collegeing in Virginia, looked up oneing of theing moreing obscureing Latin words, consectetur, from aing Lorem Ipsum passage, and going through theing cites of theing word in classical literature, discovered theing undoubtableing source.\n"
     ]
    }
   ],
   "metadata": {}
  },
  {
   "cell_type": "code",
   "execution_count": 105,
   "source": [
    "'sample'[-1]"
   ],
   "outputs": [
    {
     "output_type": "execute_result",
     "data": {
      "text/plain": [
       "'e'"
      ]
     },
     "metadata": {},
     "execution_count": 105
    }
   ],
   "metadata": {}
  },
  {
   "cell_type": "code",
   "execution_count": 132,
   "source": [
    "sample = 'the quick brown fox'.split()\n",
    "print(sample)\n",
    "\n",
    "'-|-'.join(sample)"
   ],
   "outputs": [
    {
     "output_type": "stream",
     "name": "stdout",
     "text": [
      "['the', 'quick', 'brown', 'fox']\n"
     ]
    },
    {
     "output_type": "execute_result",
     "data": {
      "text/plain": [
       "'the-|-quick-|-brown-|-fox'"
      ]
     },
     "metadata": {},
     "execution_count": 132
    }
   ],
   "metadata": {}
  },
  {
   "cell_type": "code",
   "execution_count": 135,
   "source": [
    "# sorting function\n",
    "\n",
    "\n",
    "a =[101,2,45,65,323,44,334,454,343,343,3434,34,1212]\n",
    "sorted(a)"
   ],
   "outputs": [
    {
     "output_type": "execute_result",
     "data": {
      "text/plain": [
       "[2, 34, 44, 45, 65, 101, 323, 334, 343, 343, 454, 1212, 3434]"
      ]
     },
     "metadata": {},
     "execution_count": 135
    }
   ],
   "metadata": {}
  },
  {
   "cell_type": "code",
   "execution_count": null,
   "source": [
    "\n",
    "\n",
    "#FirstMethod\n",
    "def txt_converter (txt) :\n",
    "    newstring = ''\n",
    "    for i in txt: #loops through the text to check\n",
    "        if i.isupper(): #checks for upper case in each letter as it loops through eachstring\n",
    "            i = i.lower()\n",
    "        else:  #no need to checkfor lowercase in each letter as it loops through each string\n",
    "            i = i.upper()\n",
    "        newstring+= ''.join(i)\n",
    "    return newstring\n",
    "text = 'ThE QUIck broWn foX'\n",
    "sample = txt_converter(text)\n",
    "print(sample)\n",
    "\n",
    "\n",
    "\n",
    "\n",
    "    # ReducedMethodOFMethodtWO\n",
    "def txt_converter(txt):\n",
    "    new_string = ''\n",
    "    for i in txt:  # loops through the text to check\n",
    "        if i.isupper():  # checks for upper case in each letter as it loops through eachstring\n",
    "           new_string += i.lower()\n",
    "        else:  # no need to checkfor lowercase in each letter as it loops through each string\n",
    "            new_string += i.upper()\n",
    "    return new_string\n",
    "text = 'ThE QUIck broWn foX'\n",
    "sample = txt_converter(text)\n",
    "print(sample)\n",
    "# Alternative_Method uisng the inuilt function of swapcase. Though it just a cheat move lol\n",
    "def txt_converter(txt):\n",
    "    txt_result = []\n",
    "    for i in txt:\n",
    "        new_string = txt.swapcase()\n",
    "        txt_result.append(new_string)\n",
    "    return txt_result\n",
    "txt = 'THe boy is COMING TOmoroow to SEE THE WALl built by his DAD. E file e je ko COOK Die' #toCHeck if_it_works_for_non_english_characters\n",
    "sample = txt_converter(txt)\n",
    "print(sample)\n",
    "\n"
   ],
   "outputs": [],
   "metadata": {}
  }
 ],
 "metadata": {
  "orig_nbformat": 4,
  "language_info": {
   "name": "python",
   "version": "3.9.1",
   "mimetype": "text/x-python",
   "codemirror_mode": {
    "name": "ipython",
    "version": 3
   },
   "pygments_lexer": "ipython3",
   "nbconvert_exporter": "python",
   "file_extension": ".py"
  },
  "kernelspec": {
   "name": "python3",
   "display_name": "Python 3.9.1 64-bit"
  },
  "interpreter": {
   "hash": "397704579725e15f5c7cb49fe5f0341eb7531c82d19f2c29d197e8b64ab5776b"
  }
 },
 "nbformat": 4,
 "nbformat_minor": 2
}