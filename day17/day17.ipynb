{
 "cells": [
  {
   "cell_type": "code",
   "execution_count": 2,
   "id": "d9a260df-ff02-4dbe-a1f2-11ad5957b69f",
   "metadata": {},
   "outputs": [
    {
     "name": "stdout",
     "output_type": "stream",
     "text": [
      "Requirement already satisfied: beautifulsoup4 in /Users/de_tai/opt/anaconda3/lib/python3.8/site-packages (4.9.3)\n",
      "Requirement already satisfied: soupsieve>1.2 in /Users/de_tai/opt/anaconda3/lib/python3.8/site-packages (from beautifulsoup4) (2.2.1)\n",
      "Requirement already satisfied: requests in /Users/de_tai/opt/anaconda3/lib/python3.8/site-packages (2.25.1)\n",
      "Requirement already satisfied: certifi>=2017.4.17 in /Users/de_tai/opt/anaconda3/lib/python3.8/site-packages (from requests) (2021.5.30)\n",
      "Requirement already satisfied: chardet<5,>=3.0.2 in /Users/de_tai/opt/anaconda3/lib/python3.8/site-packages (from requests) (4.0.0)\n",
      "Requirement already satisfied: urllib3<1.27,>=1.21.1 in /Users/de_tai/opt/anaconda3/lib/python3.8/site-packages (from requests) (1.26.6)\n",
      "Requirement already satisfied: idna<3,>=2.5 in /Users/de_tai/opt/anaconda3/lib/python3.8/site-packages (from requests) (2.10)\n"
     ]
    }
   ],
   "source": [
    "!pip install beautifulsoup4\n",
    "!pip install requests\n"
   ]
  },
  {
   "cell_type": "code",
   "execution_count": 22,
   "id": "867c1ae5-d61c-47cd-a1e7-dd8458b4790c",
   "metadata": {},
   "outputs": [],
   "source": [
    "import requests\n",
    "from bs4 import BeautifulSoup\n",
    "from html.parser import HTMLParser"
   ]
  },
  {
   "cell_type": "code",
   "execution_count": 165,
   "id": "2719a468-c83a-417a-a620-32d6ae6726ce",
   "metadata": {},
   "outputs": [],
   "source": [
    "url= 'https://stackoverflow.com/tags/python'\n",
    "\n",
    "def scraper(name):\n",
    "    url= f'https://stackoverflow.com/tags/{name}'\n",
    "    response = requests.get(url)\n",
    "\n",
    "# if response.status_code ==200:\n",
    "#     print('successful!')\n",
    "# else:\n",
    "#     print('Error')\n",
    "\n",
    "    if response.ok:\n",
    "\n",
    "        html_text= response.text\n",
    "        soup = BeautifulSoup(html_text,'html.parser')\n",
    "    #     print(soup.prettify())\n",
    "        html_result = soup.select('.mln24')[:5]\n",
    "        content = []\n",
    "\n",
    "\n",
    "        for i in range(0,5):\n",
    "            content.append({ f'question{name}_{i}': html_result[0].select('.question-hyperlink')[i].getText(),\n",
    "                        f'votes{name}_{i}': html_result[0].select('.vote-count-post')[i].getText()})\n",
    "          \n",
    "        return content\n",
    "\n",
    "        ...\n",
    "    else:\n",
    "        print('Error')\n",
    "    \n"
   ]
  },
  {
   "cell_type": "code",
   "execution_count": 166,
   "id": "0c74a780-dd23-4fac-91dc-7212cbc3ed23",
   "metadata": {},
   "outputs": [
    {
     "data": {
      "text/plain": [
       "[{'questionpython_0': 'Problem with moviepy loop and speedx with error: Accessing time t= seconds, with clip duration= seconds',\n",
       "  'votespython_0': '0'},\n",
       " {'questionpython_1': 'Python code to determine largest sublist of non-overlapping tuples in list of tuples',\n",
       "  'votespython_1': '0'},\n",
       " {'questionpython_2': 'Pyomo erroring for maximisation problem only (CBC)',\n",
       "  'votespython_2': '1'},\n",
       " {'questionpython_3': 'Telegram bot flood prevention', 'votespython_3': '1'},\n",
       " {'questionpython_4': 'No Output: Bar Graph Using Matplotlib',\n",
       "  'votespython_4': '0'}]"
      ]
     },
     "execution_count": 166,
     "metadata": {},
     "output_type": "execute_result"
    }
   ],
   "source": [
    "# select \n",
    "#css commands --> attributes,the class and ID\n",
    "# html_result = soup.select('#questions')\n",
    "\n",
    "len(html_result)\n",
    "scraper('python')"
   ]
  },
  {
   "cell_type": "code",
   "execution_count": 167,
   "id": "92761fc3-5771-4367-bb70-6124efce5beb",
   "metadata": {},
   "outputs": [],
   "source": [
    "items = ['python', 'javascript', 'ruby', 'java','php' ]\n",
    "\n",
    "# for item in items:\n",
    "#     print(scraper(item))\n",
    "    \n",
    "    \n",
    "scrapped = list(map(scraper,items))"
   ]
  },
  {
   "cell_type": "code",
   "execution_count": 215,
   "id": "f35ea694-67d8-4ad4-84ac-822e94fb6700",
   "metadata": {},
   "outputs": [],
   "source": [
    "dict_one = {}\n",
    "for i in a:\n",
    "    dict_one.update(i.items())\n",
    "\n",
    "\n"
   ]
  },
  {
   "cell_type": "code",
   "execution_count": 216,
   "id": "82284413-16bc-44d7-adde-2cfe1b6cb069",
   "metadata": {},
   "outputs": [
    {
     "name": "stdout",
     "output_type": "stream",
     "text": [
      "[{'questionpython_0': 'No Output: Bar Graph Using Matplotlib', 'votespython_0': '0', 'questionpython_1': 'Pyinstaller hidden import not found for unused library', 'votespython_1': '0', 'questionpython_2': 'Sum of Nodes in Binary Trees in Python', 'votespython_2': '0', 'questionpython_3': 'How to save rreturned values from function called in thread outside loop', 'votespython_3': '0', 'questionpython_4': \"What S= ' ‘ +S + ' ' means? Why space needs to concatenate to both end?\", 'votespython_4': '-1', 'questionjavascript_0': 'Multiple scroll progress in react', 'votesjavascript_0': '0', 'questionjavascript_1': 'React useState not rendering as expected [duplicate]', 'votesjavascript_1': '0', 'questionjavascript_2': 'Is there any way to optimize this code that gathers data from a paginated API?', 'votesjavascript_2': '0', 'questionjavascript_3': 'write javascript code inside react return', 'votesjavascript_3': '-1', 'questionjavascript_4': \"I'm having issues with making a scoreboard with discord.js\", 'votesjavascript_4': '0', 'questionruby_0': 'serving static files on sinatra', 'votesruby_0': '0', 'questionruby_1': 'Errors with Arel query', 'votesruby_1': '0', 'questionruby_2': 'How to temporarily redefine a method in Ruby?', 'votesruby_2': '0', 'questionruby_3': 'Rails api how to handle service object exceptions in controller', 'votesruby_3': '0', 'questionruby_4': 'Exception handling for undefined local variables', 'votesruby_4': '-2', 'questionjava_0': \"datasnapshot doesn't get value from firebase\", 'votesjava_0': '0', 'questionjava_1': 'How to make a reverse image search in yandex, google, tineye by using java or kotlin (Android)?', 'votesjava_1': '0', 'questionjava_2': 'The forked VM terminated without saying properly goodbye. VM crash or System.exit called Issue', 'votesjava_2': '0', 'questionjava_3': 'Google Cloud fails to deploy app with message \"No deployable artifacts were found. Unable to proceed.\"', 'votesjava_3': '0', 'questionjava_4': 'I\\'m getting \"PKIX path building failed: sun.security.provider.certpath.SunCertPathBuilderException: \" error', 'votesjava_4': '0', 'questionphp_0': 'Display custom product badge when a product is back in stock WooCommerce', 'votesphp_0': '0', 'questionphp_1': 'prevent entering a page if php uthentication is escaped', 'votesphp_1': '0', 'questionphp_2': 'Insert value to input field taken from div element', 'votesphp_2': '1', 'questionphp_3': 'PHP/MSQL Queries are showing results with mamp however not when uploaded [closed]', 'votesphp_3': '-3', 'questionphp_4': 'PHP: Possible to dynamically generate Google map markers with white border and custom color?', 'votesphp_4': '-1'}]\n"
     ]
    }
   ],
   "source": [
    "list_one= [dict_one]\n",
    "print(list_one)"
   ]
  },
  {
   "cell_type": "code",
   "execution_count": 169,
   "id": "cfc3465f-4dd5-4a3b-a7c4-4f94e4498ed9",
   "metadata": {},
   "outputs": [
    {
     "name": "stdout",
     "output_type": "stream",
     "text": [
      "5\n"
     ]
    }
   ],
   "source": [
    "print(len(scrapped))\n",
    "# del content\n",
    "\n",
    "#python\n",
    "#php\n",
    "#javascript"
   ]
  },
  {
   "cell_type": "code",
   "execution_count": 77,
   "id": "e4c8e0cd-cce0-4ead-b247-2c84f369d1ba",
   "metadata": {},
   "outputs": [
    {
     "data": {
      "text/plain": [
       "'Python OR function doens\\'t return result for if choice != \"y\" or choice != \"yes\":'"
      ]
     },
     "execution_count": 77,
     "metadata": {},
     "output_type": "execute_result"
    }
   ],
   "source": [
    "html_result[0].select('.question-hyperlink')[0].getText()"
   ]
  },
  {
   "cell_type": "code",
   "execution_count": 172,
   "id": "7f7dbc31-8094-4fbb-a31f-b91d7f6be483",
   "metadata": {},
   "outputs": [],
   "source": [
    "df_sample =[]\n",
    "for i in scrapped:\n",
    "    for x in i:\n",
    "        df_sample.append(x)\n",
    "    break\n",
    "# import pandas as pd\n",
    "\n",
    "\n"
   ]
  },
  {
   "cell_type": "code",
   "execution_count": 192,
   "id": "c5c8f577-85ee-4c91-8e7b-9248e7684222",
   "metadata": {},
   "outputs": [],
   "source": [
    "f = [{'questionpython_0': 'No Output: Bar Graph Using Matplotlib',\n",
    "  'votespython_0': '0',\n",
    " 'questionpython_1': 'Pyinstaller hidden import not found for unused library',\n",
    "  'votespython_1': '0',\n",
    " 'questionpython_2': 'Sum of Nodes in Binary Trees in Python',\n",
    "  'votespython_2': '0'}]\n",
    "def value(x):\n",
    "    yield from x\n"
   ]
  },
  {
   "cell_type": "code",
   "execution_count": 161,
   "id": "864e4f8d-6953-41e4-a85c-ec3a49f3eafb",
   "metadata": {},
   "outputs": [
    {
     "data": {
      "text/plain": [
       "[{'questionpython_0': 'No Output: Bar Graph Using Matplotlib',\n",
       "  'votespython_0': '0'},\n",
       " {'questionpython_1': 'Pyinstaller hidden import not found for unused library',\n",
       "  'votespython_1': '0'},\n",
       " {'questionpython_2': 'Sum of Nodes in Binary Trees in Python',\n",
       "  'votespython_2': '0'}]"
      ]
     },
     "execution_count": 161,
     "metadata": {},
     "output_type": "execute_result"
    }
   ],
   "source": [
    "list(value(f))"
   ]
  },
  {
   "cell_type": "code",
   "execution_count": 148,
   "id": "3d7cea9f-2ba2-464f-9c4f-d53d25fc15a4",
   "metadata": {},
   "outputs": [
    {
     "name": "stdout",
     "output_type": "stream",
     "text": [
      "25\n"
     ]
    }
   ],
   "source": [
    "a = [y for x in scrapped for y in x]\n",
    "print(len(a))"
   ]
  },
  {
   "cell_type": "code",
   "execution_count": 217,
   "id": "e97c2960-8dbb-4eb2-a067-02b5f125dd7c",
   "metadata": {},
   "outputs": [],
   "source": [
    "df = pd.DataFrame(list_one)"
   ]
  },
  {
   "cell_type": "code",
   "execution_count": 222,
   "id": "262a0650-1132-4d81-88e2-eb3794809434",
   "metadata": {},
   "outputs": [],
   "source": [
    "df_new = df.T.reset_index()\n"
   ]
  },
  {
   "cell_type": "code",
   "execution_count": 232,
   "id": "d50cad1c-4048-4f8a-a998-d0dead0c376f",
   "metadata": {},
   "outputs": [],
   "source": [
    "df_new[['old','old2']]= df_new.shift().dropna()"
   ]
  },
  {
   "cell_type": "code",
   "execution_count": 242,
   "id": "5bbfdda5-3136-47cb-a023-f423e9b33dad",
   "metadata": {},
   "outputs": [
    {
     "data": {
      "text/html": [
       "<div>\n",
       "<style scoped>\n",
       "    .dataframe tbody tr th:only-of-type {\n",
       "        vertical-align: middle;\n",
       "    }\n",
       "\n",
       "    .dataframe tbody tr th {\n",
       "        vertical-align: top;\n",
       "    }\n",
       "\n",
       "    .dataframe thead th {\n",
       "        text-align: right;\n",
       "    }\n",
       "</style>\n",
       "<table border=\"1\" class=\"dataframe\">\n",
       "  <thead>\n",
       "    <tr style=\"text-align: right;\">\n",
       "      <th></th>\n",
       "      <th>index</th>\n",
       "      <th>0</th>\n",
       "      <th>old</th>\n",
       "      <th>old2</th>\n",
       "    </tr>\n",
       "  </thead>\n",
       "  <tbody>\n",
       "    <tr>\n",
       "      <th>1</th>\n",
       "      <td>votespython_0</td>\n",
       "      <td>0</td>\n",
       "      <td>questionpython_0</td>\n",
       "      <td>No Output: Bar Graph Using Matplotlib</td>\n",
       "    </tr>\n",
       "    <tr>\n",
       "      <th>3</th>\n",
       "      <td>votespython_1</td>\n",
       "      <td>0</td>\n",
       "      <td>questionpython_1</td>\n",
       "      <td>Pyinstaller hidden import not found for unused...</td>\n",
       "    </tr>\n",
       "    <tr>\n",
       "      <th>5</th>\n",
       "      <td>votespython_2</td>\n",
       "      <td>0</td>\n",
       "      <td>questionpython_2</td>\n",
       "      <td>Sum of Nodes in Binary Trees in Python</td>\n",
       "    </tr>\n",
       "    <tr>\n",
       "      <th>7</th>\n",
       "      <td>votespython_3</td>\n",
       "      <td>0</td>\n",
       "      <td>questionpython_3</td>\n",
       "      <td>How to save rreturned values from function cal...</td>\n",
       "    </tr>\n",
       "    <tr>\n",
       "      <th>9</th>\n",
       "      <td>votespython_4</td>\n",
       "      <td>-1</td>\n",
       "      <td>questionpython_4</td>\n",
       "      <td>What S= ' ‘ +S + ' ' means? Why space needs to...</td>\n",
       "    </tr>\n",
       "    <tr>\n",
       "      <th>11</th>\n",
       "      <td>votesjavascript_0</td>\n",
       "      <td>0</td>\n",
       "      <td>questionjavascript_0</td>\n",
       "      <td>Multiple scroll progress in react</td>\n",
       "    </tr>\n",
       "    <tr>\n",
       "      <th>13</th>\n",
       "      <td>votesjavascript_1</td>\n",
       "      <td>0</td>\n",
       "      <td>questionjavascript_1</td>\n",
       "      <td>React useState not rendering as expected [dupl...</td>\n",
       "    </tr>\n",
       "    <tr>\n",
       "      <th>15</th>\n",
       "      <td>votesjavascript_2</td>\n",
       "      <td>0</td>\n",
       "      <td>questionjavascript_2</td>\n",
       "      <td>Is there any way to optimize this code that ga...</td>\n",
       "    </tr>\n",
       "    <tr>\n",
       "      <th>17</th>\n",
       "      <td>votesjavascript_3</td>\n",
       "      <td>-1</td>\n",
       "      <td>questionjavascript_3</td>\n",
       "      <td>write javascript code inside react return</td>\n",
       "    </tr>\n",
       "    <tr>\n",
       "      <th>19</th>\n",
       "      <td>votesjavascript_4</td>\n",
       "      <td>0</td>\n",
       "      <td>questionjavascript_4</td>\n",
       "      <td>I'm having issues with making a scoreboard wit...</td>\n",
       "    </tr>\n",
       "    <tr>\n",
       "      <th>21</th>\n",
       "      <td>votesruby_0</td>\n",
       "      <td>0</td>\n",
       "      <td>questionruby_0</td>\n",
       "      <td>serving static files on sinatra</td>\n",
       "    </tr>\n",
       "    <tr>\n",
       "      <th>23</th>\n",
       "      <td>votesruby_1</td>\n",
       "      <td>0</td>\n",
       "      <td>questionruby_1</td>\n",
       "      <td>Errors with Arel query</td>\n",
       "    </tr>\n",
       "    <tr>\n",
       "      <th>25</th>\n",
       "      <td>votesruby_2</td>\n",
       "      <td>0</td>\n",
       "      <td>questionruby_2</td>\n",
       "      <td>How to temporarily redefine a method in Ruby?</td>\n",
       "    </tr>\n",
       "    <tr>\n",
       "      <th>27</th>\n",
       "      <td>votesruby_3</td>\n",
       "      <td>0</td>\n",
       "      <td>questionruby_3</td>\n",
       "      <td>Rails api how to handle service object excepti...</td>\n",
       "    </tr>\n",
       "    <tr>\n",
       "      <th>29</th>\n",
       "      <td>votesruby_4</td>\n",
       "      <td>-2</td>\n",
       "      <td>questionruby_4</td>\n",
       "      <td>Exception handling for undefined local variables</td>\n",
       "    </tr>\n",
       "    <tr>\n",
       "      <th>31</th>\n",
       "      <td>votesjava_0</td>\n",
       "      <td>0</td>\n",
       "      <td>questionjava_0</td>\n",
       "      <td>datasnapshot doesn't get value from firebase</td>\n",
       "    </tr>\n",
       "    <tr>\n",
       "      <th>33</th>\n",
       "      <td>votesjava_1</td>\n",
       "      <td>0</td>\n",
       "      <td>questionjava_1</td>\n",
       "      <td>How to make a reverse image search in yandex, ...</td>\n",
       "    </tr>\n",
       "    <tr>\n",
       "      <th>35</th>\n",
       "      <td>votesjava_2</td>\n",
       "      <td>0</td>\n",
       "      <td>questionjava_2</td>\n",
       "      <td>The forked VM terminated without saying proper...</td>\n",
       "    </tr>\n",
       "    <tr>\n",
       "      <th>37</th>\n",
       "      <td>votesjava_3</td>\n",
       "      <td>0</td>\n",
       "      <td>questionjava_3</td>\n",
       "      <td>Google Cloud fails to deploy app with message ...</td>\n",
       "    </tr>\n",
       "    <tr>\n",
       "      <th>39</th>\n",
       "      <td>votesjava_4</td>\n",
       "      <td>0</td>\n",
       "      <td>questionjava_4</td>\n",
       "      <td>I'm getting \"PKIX path building failed: sun.se...</td>\n",
       "    </tr>\n",
       "    <tr>\n",
       "      <th>41</th>\n",
       "      <td>votesphp_0</td>\n",
       "      <td>0</td>\n",
       "      <td>questionphp_0</td>\n",
       "      <td>Display custom product badge when a product is...</td>\n",
       "    </tr>\n",
       "    <tr>\n",
       "      <th>43</th>\n",
       "      <td>votesphp_1</td>\n",
       "      <td>0</td>\n",
       "      <td>questionphp_1</td>\n",
       "      <td>prevent entering a page if php uthentication i...</td>\n",
       "    </tr>\n",
       "    <tr>\n",
       "      <th>45</th>\n",
       "      <td>votesphp_2</td>\n",
       "      <td>1</td>\n",
       "      <td>questionphp_2</td>\n",
       "      <td>Insert value to input field taken from div ele...</td>\n",
       "    </tr>\n",
       "    <tr>\n",
       "      <th>47</th>\n",
       "      <td>votesphp_3</td>\n",
       "      <td>-3</td>\n",
       "      <td>questionphp_3</td>\n",
       "      <td>PHP/MSQL Queries are showing results with mamp...</td>\n",
       "    </tr>\n",
       "    <tr>\n",
       "      <th>49</th>\n",
       "      <td>votesphp_4</td>\n",
       "      <td>-1</td>\n",
       "      <td>questionphp_4</td>\n",
       "      <td>PHP: Possible to dynamically generate Google m...</td>\n",
       "    </tr>\n",
       "  </tbody>\n",
       "</table>\n",
       "</div>"
      ],
      "text/plain": [
       "                index   0                   old  \\\n",
       "1       votespython_0   0      questionpython_0   \n",
       "3       votespython_1   0      questionpython_1   \n",
       "5       votespython_2   0      questionpython_2   \n",
       "7       votespython_3   0      questionpython_3   \n",
       "9       votespython_4  -1      questionpython_4   \n",
       "11  votesjavascript_0   0  questionjavascript_0   \n",
       "13  votesjavascript_1   0  questionjavascript_1   \n",
       "15  votesjavascript_2   0  questionjavascript_2   \n",
       "17  votesjavascript_3  -1  questionjavascript_3   \n",
       "19  votesjavascript_4   0  questionjavascript_4   \n",
       "21        votesruby_0   0        questionruby_0   \n",
       "23        votesruby_1   0        questionruby_1   \n",
       "25        votesruby_2   0        questionruby_2   \n",
       "27        votesruby_3   0        questionruby_3   \n",
       "29        votesruby_4  -2        questionruby_4   \n",
       "31        votesjava_0   0        questionjava_0   \n",
       "33        votesjava_1   0        questionjava_1   \n",
       "35        votesjava_2   0        questionjava_2   \n",
       "37        votesjava_3   0        questionjava_3   \n",
       "39        votesjava_4   0        questionjava_4   \n",
       "41         votesphp_0   0         questionphp_0   \n",
       "43         votesphp_1   0         questionphp_1   \n",
       "45         votesphp_2   1         questionphp_2   \n",
       "47         votesphp_3  -3         questionphp_3   \n",
       "49         votesphp_4  -1         questionphp_4   \n",
       "\n",
       "                                                 old2  \n",
       "1               No Output: Bar Graph Using Matplotlib  \n",
       "3   Pyinstaller hidden import not found for unused...  \n",
       "5              Sum of Nodes in Binary Trees in Python  \n",
       "7   How to save rreturned values from function cal...  \n",
       "9   What S= ' ‘ +S + ' ' means? Why space needs to...  \n",
       "11                  Multiple scroll progress in react  \n",
       "13  React useState not rendering as expected [dupl...  \n",
       "15  Is there any way to optimize this code that ga...  \n",
       "17          write javascript code inside react return  \n",
       "19  I'm having issues with making a scoreboard wit...  \n",
       "21                    serving static files on sinatra  \n",
       "23                             Errors with Arel query  \n",
       "25      How to temporarily redefine a method in Ruby?  \n",
       "27  Rails api how to handle service object excepti...  \n",
       "29   Exception handling for undefined local variables  \n",
       "31       datasnapshot doesn't get value from firebase  \n",
       "33  How to make a reverse image search in yandex, ...  \n",
       "35  The forked VM terminated without saying proper...  \n",
       "37  Google Cloud fails to deploy app with message ...  \n",
       "39  I'm getting \"PKIX path building failed: sun.se...  \n",
       "41  Display custom product badge when a product is...  \n",
       "43  prevent entering a page if php uthentication i...  \n",
       "45  Insert value to input field taken from div ele...  \n",
       "47  PHP/MSQL Queries are showing results with mamp...  \n",
       "49  PHP: Possible to dynamically generate Google m...  "
      ]
     },
     "execution_count": 242,
     "metadata": {},
     "output_type": "execute_result"
    }
   ],
   "source": [
    "df_new.iloc[1::2]"
   ]
  },
  {
   "cell_type": "code",
   "execution_count": 239,
   "id": "e1571083-ac08-436e-9020-fe6115a7aa4f",
   "metadata": {},
   "outputs": [
    {
     "ename": "TypeError",
     "evalue": "'RangeIndex' object is not callable",
     "output_type": "error",
     "traceback": [
      "\u001b[0;31m---------------------------------------------------------------------------\u001b[0m",
      "\u001b[0;31mTypeError\u001b[0m                                 Traceback (most recent call last)",
      "\u001b[0;32m<ipython-input-239-92fd5bd639a0>\u001b[0m in \u001b[0;36m<module>\u001b[0;34m\u001b[0m\n\u001b[1;32m      3\u001b[0m     \u001b[0;32mreturn\u001b[0m \u001b[0mx\u001b[0m\u001b[0;34m.\u001b[0m\u001b[0mindex\u001b[0m\u001b[0;34m\u001b[0m\u001b[0;34m\u001b[0m\u001b[0m\n\u001b[1;32m      4\u001b[0m \u001b[0;34m\u001b[0m\u001b[0m\n\u001b[0;32m----> 5\u001b[0;31m \u001b[0mdf_new\u001b[0m\u001b[0;34m[\u001b[0m\u001b[0;34m'index'\u001b[0m\u001b[0;34m]\u001b[0m\u001b[0;34m.\u001b[0m\u001b[0mindex\u001b[0m\u001b[0;34m(\u001b[0m\u001b[0;34m)\u001b[0m\u001b[0;34m\u001b[0m\u001b[0;34m\u001b[0m\u001b[0m\n\u001b[0m",
      "\u001b[0;31mTypeError\u001b[0m: 'RangeIndex' object is not callable"
     ]
    }
   ],
   "source": [
    "def even(x):\n",
    "    \n",
    "    return x.index\n",
    "\n",
    "df_new['index'].index"
   ]
  },
  {
   "cell_type": "code",
   "execution_count": null,
   "id": "3c59331b-90ee-4251-910c-2a0fe518ce2d",
   "metadata": {},
   "outputs": [],
   "source": []
  }
 ],
 "metadata": {
  "kernelspec": {
   "display_name": "Python 3",
   "language": "python",
   "name": "python3"
  },
  "language_info": {
   "codemirror_mode": {
    "name": "ipython",
    "version": 3
   },
   "file_extension": ".py",
   "mimetype": "text/x-python",
   "name": "python",
   "nbconvert_exporter": "python",
   "pygments_lexer": "ipython3",
   "version": "3.8.10"
  }
 },
 "nbformat": 4,
 "nbformat_minor": 5
}
