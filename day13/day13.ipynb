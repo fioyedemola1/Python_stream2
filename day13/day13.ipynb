{
 "cells": [
  {
   "cell_type": "code",
   "execution_count": 5,
   "id": "8e62e69a-c778-43eb-8888-149362b9845e",
   "metadata": {},
   "outputs": [
    {
     "name": "stdout",
     "output_type": "stream",
     "text": [
      "4\n"
     ]
    },
    {
     "data": {
      "text/plain": [
       "'a long string'"
      ]
     },
     "execution_count": 5,
     "metadata": {},
     "output_type": "execute_result"
    }
   ],
   "source": [
    "# Do not Repeat Yourself\n",
    "\n",
    "# List\n",
    "# Dict\n",
    "# Set\n",
    "# tuple\n",
    "# variable\n",
    "\n",
    "\n",
    "# 1 +1\n",
    "# 2 + 2\n",
    "\n",
    "a = 2  #variable of differet data type\n",
    "print(a +a)\n",
    "\n",
    "a= 1\n",
    "b = 2\n",
    "c= 'name'\n",
    "d= 'a long string'\n",
    "\n",
    "my_list = [1,2,'name','a long string']  # ordered\n",
    "\n",
    "my_list[3]\n",
    "\n"
   ]
  },
  {
   "cell_type": "code",
   "execution_count": 11,
   "id": "4f219326-c296-4035-8619-f062d473e2f6",
   "metadata": {},
   "outputs": [
    {
     "name": "stdout",
     "output_type": "stream",
     "text": [
      "2\n",
      "9\n",
      "12\n"
     ]
    }
   ],
   "source": [
    "long_string= [1,2,3,4,5,6,6,7,4,3,4,4,3,34,45,45,5,4,34,45,56,56,34,54]\n",
    "\n",
    "# for i in long_string:\n",
    "#     if i == 3:\n",
    "#         print(long_string.index(i))\n",
    "        \n",
    "for indx, val in enumerate(long_string):\n",
    "    if val == 3:\n",
    "        print(indx)"
   ]
  },
  {
   "cell_type": "code",
   "execution_count": 16,
   "id": "30f149aa-b599-44c2-965a-a232bf333314",
   "metadata": {},
   "outputs": [
    {
     "name": "stdout",
     "output_type": "stream",
     "text": [
      "{1: 1, 2: 2, 3: 3, 4: 4, 5: 5, 6: 6, 7: 7, 34: 34, 45: 45, 54: 54, 56: 56}\n"
     ]
    },
    {
     "data": {
      "text/plain": [
       "3"
      ]
     },
     "execution_count": 16,
     "metadata": {},
     "output_type": "execute_result"
    }
   ],
   "source": [
    "my_dict =dict(zip(long_string,long_string))\n",
    "\n",
    "# dictionary for duplicate keys\n",
    "# helps quick searches for value\n",
    "\n",
    "from pprint import pprint\n",
    "\n",
    "pprint(my_dict)\n",
    "\n",
    "my_dict.get(3)\n"
   ]
  },
  {
   "cell_type": "code",
   "execution_count": 19,
   "id": "a55f0692-6fcc-41de-a9ae-dfe254887fcd",
   "metadata": {},
   "outputs": [
    {
     "name": "stdout",
     "output_type": "stream",
     "text": [
      "{1, 2, 3, 4, 5, 6, 7, 34, 45, 54, 56}\n"
     ]
    }
   ],
   "source": [
    "my_set = set(long_string)\n",
    "print(my_set)"
   ]
  },
  {
   "cell_type": "code",
   "execution_count": 77,
   "id": "6c65b674-7283-4ac2-816b-1b0e3be675c3",
   "metadata": {},
   "outputs": [],
   "source": [
    "from collections import deque, defaultdict, Counter, namedtuple"
   ]
  },
  {
   "cell_type": "code",
   "execution_count": 25,
   "id": "181eb019-1d47-47a6-aa45-2623131602e2",
   "metadata": {},
   "outputs": [
    {
     "name": "stdout",
     "output_type": "stream",
     "text": [
      "deque([])\n",
      "[]\n"
     ]
    }
   ],
   "source": [
    "# list operation faster\n",
    "#  flexibility\n",
    "\n",
    "\n",
    "my_deck = deque()\n",
    "\n",
    "my_list2 = []\n",
    "\n",
    "print(my_deck)\n",
    "print(my_list2)"
   ]
  },
  {
   "cell_type": "code",
   "execution_count": 28,
   "id": "d2242408-fb34-4970-aa9c-a2dab51bc434",
   "metadata": {},
   "outputs": [
    {
     "name": "stdout",
     "output_type": "stream",
     "text": [
      "['__add__', '__class__', '__contains__', '__delattr__', '__delitem__', '__dir__', '__doc__', '__eq__', '__format__', '__ge__', '__getattribute__', '__getitem__', '__gt__', '__hash__', '__iadd__', '__imul__', '__init__', '__init_subclass__', '__iter__', '__le__', '__len__', '__lt__', '__mul__', '__ne__', '__new__', '__reduce__', '__reduce_ex__', '__repr__', '__reversed__', '__rmul__', '__setattr__', '__setitem__', '__sizeof__', '__str__', '__subclasshook__', 'append', 'clear', 'copy', 'count', 'extend', 'index', 'insert', 'pop', 'remove', 'reverse', 'sort']\n",
      "8888888888888888888\n",
      "['__add__', '__bool__', '__class__', '__contains__', '__copy__', '__delattr__', '__delitem__', '__dir__', '__doc__', '__eq__', '__format__', '__ge__', '__getattribute__', '__getitem__', '__gt__', '__hash__', '__iadd__', '__imul__', '__init__', '__init_subclass__', '__iter__', '__le__', '__len__', '__lt__', '__mul__', '__ne__', '__new__', '__reduce__', '__reduce_ex__', '__repr__', '__reversed__', '__rmul__', '__setattr__', '__setitem__', '__sizeof__', '__str__', '__subclasshook__', 'append', 'appendleft', 'clear', 'copy', 'count', 'extend', 'extendleft', 'index', 'insert', 'maxlen', 'pop', 'popleft', 'remove', 'reverse', 'rotate']\n"
     ]
    }
   ],
   "source": [
    "print(dir(my_list2))\n",
    "print('8' * 19)\n",
    "print(dir(my_deck))"
   ]
  },
  {
   "cell_type": "code",
   "execution_count": 38,
   "id": "6fb720f8-ab3a-4dd0-ad6a-eb526126b8cf",
   "metadata": {},
   "outputs": [],
   "source": [
    "my_list2.append(3)\n",
    "my_deck.append(3)\n",
    "my_deck.appendleft('i am appended left')"
   ]
  },
  {
   "cell_type": "code",
   "execution_count": 40,
   "id": "b24b1f9d-cec5-4348-8aa8-bcda2fb1ba3e",
   "metadata": {},
   "outputs": [],
   "source": [
    "my_list2.extend(my_list)\n",
    "my_deck.extend(my_list)"
   ]
  },
  {
   "cell_type": "code",
   "execution_count": 41,
   "id": "42115bde-2521-4c25-87a6-f5d772f2550e",
   "metadata": {},
   "outputs": [
    {
     "name": "stdout",
     "output_type": "stream",
     "text": [
      "deque(['i am appended left', 'i am appended left', 1, 1, 1, 3, 1, 2, 'name', 'a long string'])\n",
      "[1, 1, 1, 1, 3, 1, 2, 'name', 'a long string']\n"
     ]
    }
   ],
   "source": [
    "print(my_deck)\n",
    "print(my_list2)"
   ]
  },
  {
   "cell_type": "code",
   "execution_count": 43,
   "id": "aa140513-d4e6-42bb-959e-365784c0f3ed",
   "metadata": {},
   "outputs": [
    {
     "name": "stdout",
     "output_type": "stream",
     "text": [
      "deque([1, 1, 1, 3, 1, 2, 'name', 'a long string', 'i am appended left', 'i am appended left'])\n"
     ]
    }
   ],
   "source": [
    "my_deck.rotate(-1)\n",
    "print(my_deck)"
   ]
  },
  {
   "cell_type": "code",
   "execution_count": 44,
   "id": "2fe7bd27-b9bc-4c50-afc0-9bd3cbfa6318",
   "metadata": {},
   "outputs": [
    {
     "data": {
      "text/plain": [
       "['a long string', 'name', 2, 1, 3, 1, 1, 1, 1]"
      ]
     },
     "execution_count": 44,
     "metadata": {},
     "output_type": "execute_result"
    }
   ],
   "source": [
    "my_list2[::-1]"
   ]
  },
  {
   "cell_type": "code",
   "execution_count": 50,
   "id": "05ba1e18-4296-4c92-92ec-0758137289d0",
   "metadata": {},
   "outputs": [],
   "source": [
    "new_dict = defaultdict(int) # {key: val}\n",
    "empty={}"
   ]
  },
  {
   "cell_type": "code",
   "execution_count": 65,
   "id": "2b7412af-b2e0-49dc-bac1-98f64a25f62c",
   "metadata": {},
   "outputs": [],
   "source": [
    "for i in long_string:\n",
    "    new_dict[i] += 1\n",
    "    \n",
    "    \n",
    "# for i in long_string:\n",
    "#     if i in empty:\n",
    "#         print(empty.get(i))\n",
    "#         empty[i]= empty.get(i)+ 1\n",
    "#     else:\n",
    "#         empty[i]= 1"
   ]
  },
  {
   "cell_type": "code",
   "execution_count": 63,
   "id": "8a767960-2313-4a1b-87ef-def2ee907f56",
   "metadata": {},
   "outputs": [
    {
     "name": "stdout",
     "output_type": "stream",
     "text": [
      "{1: 4, 2: 5, 3: 14, 4: 23, 5: 12, 6: 13, 7: 10, 34: 45, 45: 56, 56: 63, 54: 57}\n"
     ]
    },
    {
     "data": {
      "text/plain": [
       "defaultdict(int,\n",
       "            {1: 4,\n",
       "             2: 4,\n",
       "             3: 12,\n",
       "             4: 20,\n",
       "             5: 8,\n",
       "             6: 8,\n",
       "             7: 4,\n",
       "             34: 12,\n",
       "             45: 12,\n",
       "             56: 8,\n",
       "             54: 4})"
      ]
     },
     "execution_count": 63,
     "metadata": {},
     "output_type": "execute_result"
    }
   ],
   "source": [
    "print(empty)\n",
    "new_dict"
   ]
  },
  {
   "cell_type": "code",
   "execution_count": 55,
   "id": "e9b73909-dab4-48c9-8950-ba87746e7cd9",
   "metadata": {},
   "outputs": [
    {
     "name": "stdout",
     "output_type": "stream",
     "text": [
      "{'key': 'this value'}\n"
     ]
    }
   ],
   "source": [
    "some= {}\n",
    "\n",
    "some['key'] = 'this value'\n",
    "print(some)"
   ]
  },
  {
   "cell_type": "code",
   "execution_count": 67,
   "id": "1b75e91b-7644-4940-8fd0-8b1faf7ee4a8",
   "metadata": {},
   "outputs": [],
   "source": [
    "val_counted = Counter(long_string)"
   ]
  },
  {
   "cell_type": "code",
   "execution_count": 68,
   "id": "4c71c0ef-54e9-4dd2-acfb-05b2546790a9",
   "metadata": {},
   "outputs": [
    {
     "data": {
      "text/plain": [
       "Counter({1: 1, 2: 1, 3: 3, 4: 5, 5: 2, 6: 2, 7: 1, 34: 3, 45: 3, 56: 2, 54: 1})"
      ]
     },
     "execution_count": 68,
     "metadata": {},
     "output_type": "execute_result"
    }
   ],
   "source": [
    "val_counted"
   ]
  },
  {
   "cell_type": "code",
   "execution_count": 71,
   "id": "d255ddf9-d032-4cc4-a2f6-22ba6b14dbbd",
   "metadata": {},
   "outputs": [
    {
     "ename": "TypeError",
     "evalue": "'tuple' object does not support item assignment",
     "output_type": "error",
     "traceback": [
      "\u001b[0;31m---------------------------------------------------------------------------\u001b[0m",
      "\u001b[0;31mTypeError\u001b[0m                                 Traceback (most recent call last)",
      "\u001b[0;32m<ipython-input-71-81b594dfa949>\u001b[0m in \u001b[0;36m<module>\u001b[0;34m\u001b[0m\n\u001b[1;32m      2\u001b[0m \u001b[0mtup\u001b[0m\u001b[0;34m[\u001b[0m\u001b[0;36m0\u001b[0m\u001b[0;34m]\u001b[0m\u001b[0;34m\u001b[0m\u001b[0;34m\u001b[0m\u001b[0m\n\u001b[1;32m      3\u001b[0m \u001b[0;34m\u001b[0m\u001b[0m\n\u001b[0;32m----> 4\u001b[0;31m \u001b[0mtup\u001b[0m\u001b[0;34m[\u001b[0m\u001b[0;36m0\u001b[0m\u001b[0;34m]\u001b[0m\u001b[0;34m=\u001b[0m \u001b[0;34m'yes'\u001b[0m\u001b[0;34m\u001b[0m\u001b[0;34m\u001b[0m\u001b[0m\n\u001b[0m",
      "\u001b[0;31mTypeError\u001b[0m: 'tuple' object does not support item assignment"
     ]
    }
   ],
   "source": [
    "tup= ('ade', 1,2,3,4)\n",
    "tup[0]\n",
    "\n",
    "tup[0]= 'yes'"
   ]
  },
  {
   "cell_type": "code",
   "execution_count": 74,
   "id": "53d643b0-e852-4573-8e7d-2f7558641328",
   "metadata": {},
   "outputs": [
    {
     "name": "stdout",
     "output_type": "stream",
     "text": [
      "(1, 2, 3, 4, 5, 6, 6, 7, 4, 3, 4, 4, 3, 34, 45, 45, 5, 4, 34, 45, 56, 56, 34, 54)\n"
     ]
    }
   ],
   "source": [
    "tup2 = tuple(long_string)\n",
    "print(tup2)"
   ]
  },
  {
   "cell_type": "code",
   "execution_count": 78,
   "id": "5331d737-9e08-4210-a36e-32af882322b4",
   "metadata": {},
   "outputs": [],
   "source": [
    "emp1 = ('ade','sam',42,'New_york', 10)\n",
    "Employee = namedtuple('Employee',['firstname','lastname','age','location','salary']) #format or template"
   ]
  },
  {
   "cell_type": "code",
   "execution_count": 80,
   "id": "a686f3c1-df78-423e-a52b-8384bf8bd110",
   "metadata": {},
   "outputs": [],
   "source": [
    "empl1_1 = Employee(*emp1) # Employee('ade','sam',42,'New_york', 10)"
   ]
  },
  {
   "cell_type": "code",
   "execution_count": 84,
   "id": "6ffa3408-8bcb-45e5-8c08-f3497051808c",
   "metadata": {},
   "outputs": [
    {
     "data": {
      "text/plain": [
       "10"
      ]
     },
     "execution_count": 84,
     "metadata": {},
     "output_type": "execute_result"
    }
   ],
   "source": [
    "empl1_1.salary #change values access"
   ]
  },
  {
   "cell_type": "code",
   "execution_count": 93,
   "id": "13ff6ca4-369f-440f-9584-6b88bcebd3df",
   "metadata": {},
   "outputs": [],
   "source": [
    "class Employee2:\n",
    "    def __init__(self,firstname,lastname):\n",
    "        self.firstname = firstname\n",
    "        self.lastname = lastname        \n",
    "    def email(self):\n",
    "        return f'{self.firstname}_{self.lastname}@company.com'"
   ]
  },
  {
   "cell_type": "code",
   "execution_count": 94,
   "id": "ca875d99-66e1-4897-80e6-15ef2f7c86d7",
   "metadata": {},
   "outputs": [
    {
     "data": {
      "text/plain": [
       "'John_Doe@company.com'"
      ]
     },
     "execution_count": 94,
     "metadata": {},
     "output_type": "execute_result"
    }
   ],
   "source": [
    "emp2 = Employee2('John', 'Doe')\n",
    "emp2.email()"
   ]
  },
  {
   "cell_type": "code",
   "execution_count": 97,
   "id": "7b8c72c1-002e-473c-b21b-4cf277b0f42d",
   "metadata": {},
   "outputs": [],
   "source": [
    "from dataclasses import dataclass\n",
    "\n",
    "@dataclass  #<----\n",
    "class Empl_3:\n",
    "    \n",
    "    firstname: str\n",
    "    lastname: str\n",
    "    age: int\n",
    "    \n",
    "    def email(self):\n",
    "        return f'{self.firstname}_{self.lastname}@company.com'"
   ]
  },
  {
   "cell_type": "code",
   "execution_count": 99,
   "id": "6ee9472c-a8cf-4329-a783-4abf9a8a22fb",
   "metadata": {},
   "outputs": [
    {
     "data": {
      "text/plain": [
       "'John'"
      ]
     },
     "execution_count": 99,
     "metadata": {},
     "output_type": "execute_result"
    }
   ],
   "source": [
    "empl3 = Empl_3('John', 'Doe',42)\n",
    "empl3.email()\n",
    "empl3.firstname"
   ]
  },
  {
   "cell_type": "code",
   "execution_count": 101,
   "id": "54d0c0f7-af93-47a2-879c-50b8bd18fea8",
   "metadata": {},
   "outputs": [],
   "source": [
    "from typing import NamedTuple\n",
    "\n",
    "class Empl4(NamedTuple):\n",
    "    firstname: str\n",
    "    lastname: str\n",
    "    age: int\n",
    "    \n",
    "    def email(self):\n",
    "        return f'{self.firstname}_{self.lastname}@company.com'\n"
   ]
  },
  {
   "cell_type": "code",
   "execution_count": 103,
   "id": "e42c712a-3c36-471f-b876-4d6edc9dbc36",
   "metadata": {},
   "outputs": [
    {
     "data": {
      "text/plain": [
       "'John_Doe@company.com'"
      ]
     },
     "execution_count": 103,
     "metadata": {},
     "output_type": "execute_result"
    }
   ],
   "source": [
    "empl4= Empl4('John', 'Doe',42)\n",
    "empl4.email()"
   ]
  },
  {
   "cell_type": "code",
   "execution_count": 104,
   "id": "7fe4e1a7-7bb1-470a-ae0b-0b85f0bb2391",
   "metadata": {},
   "outputs": [
    {
     "name": "stdout",
     "output_type": "stream",
     "text": [
      "Empl_3(firstname='John', lastname='Doe', age=42)\n",
      "Empl4(firstname='John', lastname='Doe', age=42)\n"
     ]
    }
   ],
   "source": [
    "pprint(empl3) # dictionary\n",
    "pprint(empl4)# tuple you reassign"
   ]
  },
  {
   "cell_type": "markdown",
   "id": "3d5bd96c-b08f-4997-9856-e9cc38b1439f",
   "metadata": {},
   "source": [
    "##  Data Analysis"
   ]
  },
  {
   "cell_type": "markdown",
   "id": "9492d3bb-26eb-4ea0-91e5-fe9f9f79ee90",
   "metadata": {},
   "source": [
    " historcal --> howfar off from initial projections  --> projections(prediction model)\n",
    " \n",
    " \n",
    " +--------\n",
    " source.                     ------> jupyter notebook ------>  report/ predcition model\n",
    " api-xml and json                   data cleaning\n",
    " database                            exploration\n",
    " csv,json hdfs, etc                  (analysis) ---> powerbi/ visualtion tool\n",
    "                          "
   ]
  },
  {
   "cell_type": "code",
   "execution_count": 109,
   "id": "463e2841-b671-4695-91c3-c50151c17dcd",
   "metadata": {},
   "outputs": [
    {
     "name": "stdout",
     "output_type": "stream",
     "text": [
      "https://restcountries.eu/rest/v2/name/kenya\n"
     ]
    }
   ],
   "source": [
    "name = 'kenya'\n",
    "\n",
    "\n",
    "url = f'https://restcountries.eu/rest/v2/name/{name}'\n",
    "\n",
    "print(url)\n"
   ]
  },
  {
   "cell_type": "code",
   "execution_count": 110,
   "id": "7cf48c45-8bf0-42b5-aea4-e763c8236994",
   "metadata": {},
   "outputs": [
    {
     "name": "stdout",
     "output_type": "stream",
     "text": [
      "Requirement already satisfied: requests in /Users/de_tai/opt/anaconda3/lib/python3.8/site-packages (2.25.1)\n",
      "Requirement already satisfied: chardet<5,>=3.0.2 in /Users/de_tai/opt/anaconda3/lib/python3.8/site-packages (from requests) (4.0.0)\n",
      "Requirement already satisfied: certifi>=2017.4.17 in /Users/de_tai/opt/anaconda3/lib/python3.8/site-packages (from requests) (2021.5.30)\n",
      "Requirement already satisfied: urllib3<1.27,>=1.21.1 in /Users/de_tai/opt/anaconda3/lib/python3.8/site-packages (from requests) (1.26.6)\n",
      "Requirement already satisfied: idna<3,>=2.5 in /Users/de_tai/opt/anaconda3/lib/python3.8/site-packages (from requests) (2.10)\n"
     ]
    }
   ],
   "source": [
    "!pip install requests\n",
    "import requests"
   ]
  },
  {
   "cell_type": "code",
   "execution_count": 154,
   "id": "c66f4e91-471c-454c-801d-4f08654db5d4",
   "metadata": {},
   "outputs": [
    {
     "data": {
      "text/plain": [
       "'Africa'"
      ]
     },
     "execution_count": 154,
     "metadata": {},
     "output_type": "execute_result"
    }
   ],
   "source": [
    "response = requests.get(url)\n",
    "country = json.loads(response.text)\n",
    "type(country)\n",
    "country[0].get('region')\n",
    "# print(country)"
   ]
  },
  {
   "cell_type": "code",
   "execution_count": 139,
   "id": "dddc95c1-3524-415f-93db-7798c1a69463",
   "metadata": {},
   "outputs": [],
   "source": [
    "\n",
    "# pprint(country.get('name'))\n",
    "# import json\n",
    "# json.load(country)\n",
    "\n",
    "\n"
   ]
  },
  {
   "cell_type": "code",
   "execution_count": 163,
   "id": "50d26dcf-f6e7-489e-91bd-4876a93da04c",
   "metadata": {},
   "outputs": [],
   "source": [
    "def get_country_info(url):\n",
    "    response = requests.get(url)\n",
    "    country = json.loads(response.text)[0]\n",
    "    name, population,region = country['name'], country['population'], country['region']\n",
    "    country_name = namedtuple('country_name', 'name population region')\n",
    "    return country_name(name, population, region)"
   ]
  },
  {
   "cell_type": "code",
   "execution_count": 170,
   "id": "14526548-afa3-48f1-9c36-fbcebe001022",
   "metadata": {},
   "outputs": [],
   "source": [
    "country_name = namedtuple('country_name', 'name population region')\n",
    "\n",
    "@dataclass\n",
    "class Country_info:\n",
    "    name: str\n",
    "    population: int\n",
    "    region: str"
   ]
  },
  {
   "cell_type": "code",
   "execution_count": 164,
   "id": "ae9192fc-cefc-4ff8-ae37-8fdf2e45aa41",
   "metadata": {},
   "outputs": [],
   "source": [
    "country_1 = get_country_info(url)"
   ]
  },
  {
   "cell_type": "code",
   "execution_count": 166,
   "id": "4304eb76-a6ea-4f35-9945-eb0c41b83cd7",
   "metadata": {},
   "outputs": [
    {
     "data": {
      "text/plain": [
       "47251000"
      ]
     },
     "execution_count": 166,
     "metadata": {},
     "output_type": "execute_result"
    }
   ],
   "source": [
    "country_1.population  # namedtuple, dataclasses, dictionary"
   ]
  },
  {
   "cell_type": "code",
   "execution_count": 169,
   "id": "e9bce278-4a97-4572-adaa-db36a224a73a",
   "metadata": {},
   "outputs": [
    {
     "name": "stdout",
     "output_type": "stream",
     "text": [
      "Kenya 47251000 Africa\n"
     ]
    }
   ],
   "source": [
    "print(*country_1)"
   ]
  },
  {
   "cell_type": "code",
   "execution_count": 174,
   "id": "815a75bd-a001-49f9-bb68-a2d32e7c9009",
   "metadata": {},
   "outputs": [
    {
     "data": {
      "text/plain": [
       "47251000"
      ]
     },
     "execution_count": 174,
     "metadata": {},
     "output_type": "execute_result"
    }
   ],
   "source": [
    "cont= Country_info(*country_1)\n",
    "cont.population"
   ]
  },
  {
   "cell_type": "code",
   "execution_count": 176,
   "id": "0b712d15-f2ac-40c7-8f66-0a2ae743da6e",
   "metadata": {},
   "outputs": [
    {
     "name": "stdout",
     "output_type": "stream",
     "text": [
      "2\n",
      "4\n",
      "6\n",
      "8\n",
      "10\n"
     ]
    },
    {
     "data": {
      "text/plain": [
       "[2, 4, 6, 8, 10]"
      ]
     },
     "execution_count": 176,
     "metadata": {},
     "output_type": "execute_result"
    }
   ],
   "source": [
    "'kenya Nigeria brazil japan china germany finland egypt ghana togo'\n",
    "\n",
    "# map function\n",
    "\n",
    "a = [1,2,3,4,5]\n",
    "def mul(x):\n",
    "    return x *2\n",
    "\n",
    "\n",
    "# for i in a:\n",
    "#     print(mul(i))\n",
    "    \n",
    "list(map(mul,a))"
   ]
  },
  {
   "cell_type": "markdown",
   "id": "5dea5782-9caf-4985-9d10-1fcae02d4399",
   "metadata": {
    "tags": []
   },
   "source": [
    "## Numpy --> Numerical Python"
   ]
  },
  {
   "cell_type": "code",
   "execution_count": 199,
   "id": "ea3401f6-b090-42d3-94ec-47ae73411432",
   "metadata": {},
   "outputs": [
    {
     "name": "stdout",
     "output_type": "stream",
     "text": [
      "Requirement already satisfied: numpy in /Users/de_tai/opt/anaconda3/lib/python3.8/site-packages (1.20.3)\n"
     ]
    }
   ],
   "source": [
    "# C extension -- pandas \n",
    "\n",
    "# size\n",
    "\n",
    "!pip install numpy"
   ]
  },
  {
   "cell_type": "code",
   "execution_count": 200,
   "id": "a9ba8c57-18a0-4990-a052-8bc0a91eb963",
   "metadata": {},
   "outputs": [],
   "source": [
    "import numpy as np"
   ]
  },
  {
   "cell_type": "code",
   "execution_count": 207,
   "id": "f99fbaa2-fe09-4642-8ca7-45292705d3c7",
   "metadata": {},
   "outputs": [],
   "source": [
    "my_list = [x for x in range(10)]\n",
    "my_arr= np.array(np.arange(10))\n"
   ]
  },
  {
   "cell_type": "code",
   "execution_count": 202,
   "id": "ee451e4f-6fa2-4012-8655-d85b7f3d7ec6",
   "metadata": {},
   "outputs": [],
   "source": [
    "import sys\n",
    "a =sys.getsizeof(my_list)\n",
    "b=sys.getsizeof(my_arr)"
   ]
  },
  {
   "cell_type": "code",
   "execution_count": 203,
   "id": "8c9f4c8f-68ee-473e-a6c4-8514b58921fe",
   "metadata": {},
   "outputs": [
    {
     "data": {
      "text/plain": [
       "59724360"
      ]
     },
     "execution_count": 203,
     "metadata": {},
     "output_type": "execute_result"
    }
   ],
   "source": [
    "a-b"
   ]
  },
  {
   "cell_type": "code",
   "execution_count": 209,
   "id": "1bde7e01-0e64-45fc-971f-8acd8bb12188",
   "metadata": {},
   "outputs": [
    {
     "data": {
      "text/plain": [
       "array([0, 1, 2, 3, 4, 5, 6, 7, 8, 9])"
      ]
     },
     "execution_count": 209,
     "metadata": {},
     "output_type": "execute_result"
    }
   ],
   "source": [
    "# my_nump = np.array([1,2,3,4,5,6])\n",
    "\n",
    "my_list\n",
    "my_arr"
   ]
  },
  {
   "cell_type": "code",
   "execution_count": 206,
   "id": "3fe4428b-6ef8-49ca-80d1-e6e8eb6d3023",
   "metadata": {},
   "outputs": [
    {
     "data": {
      "text/plain": [
       "numpy.ndarray"
      ]
     },
     "execution_count": 206,
     "metadata": {},
     "output_type": "execute_result"
    }
   ],
   "source": [
    "type(my_nump)"
   ]
  },
  {
   "cell_type": "code",
   "execution_count": 210,
   "id": "b2c3fac8-d836-495a-91e8-fb5db2f4d63e",
   "metadata": {},
   "outputs": [
    {
     "data": {
      "text/plain": [
       "[0, 2, 4, 6, 8, 10, 12, 14, 16, 18]"
      ]
     },
     "execution_count": 210,
     "metadata": {},
     "output_type": "execute_result"
    }
   ],
   "source": [
    "def mul(x):\n",
    "    return x *2\n",
    "    \n",
    "list(map(mul,my_list))"
   ]
  },
  {
   "cell_type": "code",
   "execution_count": 211,
   "id": "7c0860f8-7326-4d03-b8d0-a506b7647493",
   "metadata": {},
   "outputs": [
    {
     "data": {
      "text/plain": [
       "array([ 0,  2,  4,  6,  8, 10, 12, 14, 16, 18])"
      ]
     },
     "execution_count": 211,
     "metadata": {},
     "output_type": "execute_result"
    }
   ],
   "source": [
    "#broadcasting\n",
    "my_arr * 2"
   ]
  },
  {
   "cell_type": "code",
   "execution_count": 212,
   "id": "6f5ec7d2-efcc-4607-9f21-368b62c82731",
   "metadata": {},
   "outputs": [
    {
     "data": {
      "text/plain": [
       "1"
      ]
     },
     "execution_count": 212,
     "metadata": {},
     "output_type": "execute_result"
    }
   ],
   "source": [
    "my_arr.ndim"
   ]
  },
  {
   "cell_type": "code",
   "execution_count": 217,
   "id": "c55d38f6-eaca-43d6-9665-819ed01971e4",
   "metadata": {},
   "outputs": [],
   "source": [
    "arr1 = [1,2,3,4,5,6]\n",
    "arr2 =[7,8,9,10,11,12]\n",
    "\n",
    "two_dim = np.array([arr1,arr2,arr2])"
   ]
  },
  {
   "cell_type": "code",
   "execution_count": 218,
   "id": "2f09b12c-6518-4968-8845-d12caa34c951",
   "metadata": {},
   "outputs": [],
   "source": [
    "from pprint import pprint"
   ]
  },
  {
   "cell_type": "code",
   "execution_count": 219,
   "id": "f0765c34-516d-45e9-95a5-2818c4a27d69",
   "metadata": {},
   "outputs": [
    {
     "name": "stdout",
     "output_type": "stream",
     "text": [
      "array([[ 1,  2,  3,  4,  5,  6],\n",
      "       [ 7,  8,  9, 10, 11, 12],\n",
      "       [ 7,  8,  9, 10, 11, 12]])\n"
     ]
    }
   ],
   "source": [
    "pprint(two_dim)"
   ]
  },
  {
   "cell_type": "code",
   "execution_count": 220,
   "id": "e0be273d-5985-4d88-8438-0c440a31b534",
   "metadata": {},
   "outputs": [
    {
     "data": {
      "text/plain": [
       "2"
      ]
     },
     "execution_count": 220,
     "metadata": {},
     "output_type": "execute_result"
    }
   ],
   "source": [
    "two_dim.ndim"
   ]
  },
  {
   "cell_type": "code",
   "execution_count": 221,
   "id": "2faacec4-a676-42c8-8886-b22727c51a55",
   "metadata": {},
   "outputs": [
    {
     "data": {
      "text/plain": [
       "(3, 6)"
      ]
     },
     "execution_count": 221,
     "metadata": {},
     "output_type": "execute_result"
    }
   ],
   "source": [
    "two_dim.shape  # row columns"
   ]
  },
  {
   "cell_type": "code",
   "execution_count": 222,
   "id": "e12c204c-b25b-44d6-b778-c50a45c42738",
   "metadata": {},
   "outputs": [
    {
     "name": "stdout",
     "output_type": "stream",
     "text": [
      "['T', '__abs__', '__add__', '__and__', '__array__', '__array_finalize__', '__array_function__', '__array_interface__', '__array_prepare__', '__array_priority__', '__array_struct__', '__array_ufunc__', '__array_wrap__', '__bool__', '__class__', '__complex__', '__contains__', '__copy__', '__deepcopy__', '__delattr__', '__delitem__', '__dir__', '__divmod__', '__doc__', '__eq__', '__float__', '__floordiv__', '__format__', '__ge__', '__getattribute__', '__getitem__', '__gt__', '__hash__', '__iadd__', '__iand__', '__ifloordiv__', '__ilshift__', '__imatmul__', '__imod__', '__imul__', '__index__', '__init__', '__init_subclass__', '__int__', '__invert__', '__ior__', '__ipow__', '__irshift__', '__isub__', '__iter__', '__itruediv__', '__ixor__', '__le__', '__len__', '__lshift__', '__lt__', '__matmul__', '__mod__', '__mul__', '__ne__', '__neg__', '__new__', '__or__', '__pos__', '__pow__', '__radd__', '__rand__', '__rdivmod__', '__reduce__', '__reduce_ex__', '__repr__', '__rfloordiv__', '__rlshift__', '__rmatmul__', '__rmod__', '__rmul__', '__ror__', '__rpow__', '__rrshift__', '__rshift__', '__rsub__', '__rtruediv__', '__rxor__', '__setattr__', '__setitem__', '__setstate__', '__sizeof__', '__str__', '__sub__', '__subclasshook__', '__truediv__', '__xor__', 'all', 'any', 'argmax', 'argmin', 'argpartition', 'argsort', 'astype', 'base', 'byteswap', 'choose', 'clip', 'compress', 'conj', 'conjugate', 'copy', 'ctypes', 'cumprod', 'cumsum', 'data', 'diagonal', 'dot', 'dtype', 'dump', 'dumps', 'fill', 'flags', 'flat', 'flatten', 'getfield', 'imag', 'item', 'itemset', 'itemsize', 'max', 'mean', 'min', 'nbytes', 'ndim', 'newbyteorder', 'nonzero', 'partition', 'prod', 'ptp', 'put', 'ravel', 'real', 'repeat', 'reshape', 'resize', 'round', 'searchsorted', 'setfield', 'setflags', 'shape', 'size', 'sort', 'squeeze', 'std', 'strides', 'sum', 'swapaxes', 'take', 'tobytes', 'tofile', 'tolist', 'tostring', 'trace', 'transpose', 'var', 'view']\n"
     ]
    }
   ],
   "source": [
    "print(dir(two_dim))"
   ]
  },
  {
   "cell_type": "code",
   "execution_count": 223,
   "id": "ae3d9dfb-32da-4edd-9157-22cdf148f0a3",
   "metadata": {},
   "outputs": [
    {
     "data": {
      "text/plain": [
       "dtype('int64')"
      ]
     },
     "execution_count": 223,
     "metadata": {},
     "output_type": "execute_result"
    }
   ],
   "source": [
    "two_dim.dtype"
   ]
  },
  {
   "cell_type": "code",
   "execution_count": 224,
   "id": "373b9765-7a8e-4dc5-b9be-7212d2fdc92a",
   "metadata": {},
   "outputs": [
    {
     "data": {
      "text/plain": [
       "array([[ 8,  9, 10, 11, 12],\n",
       "       [ 8,  9, 10, 11, 12]])"
      ]
     },
     "execution_count": 224,
     "metadata": {},
     "output_type": "execute_result"
    }
   ],
   "source": [
    "two_dim[1:,1:]"
   ]
  },
  {
   "cell_type": "code",
   "execution_count": 226,
   "id": "05a50a42-5345-43a6-85d8-960b99fde65f",
   "metadata": {},
   "outputs": [
    {
     "data": {
      "text/plain": [
       "array([[ 7,  8,  9, 10],\n",
       "       [ 7,  8,  9, 10]])"
      ]
     },
     "execution_count": 226,
     "metadata": {},
     "output_type": "execute_result"
    }
   ],
   "source": [
    "two_dim[1:,:4]"
   ]
  },
  {
   "cell_type": "code",
   "execution_count": 234,
   "id": "ced94838-ba26-46ff-8fcc-d8c35e83f637",
   "metadata": {},
   "outputs": [
    {
     "data": {
      "text/plain": [
       "4"
      ]
     },
     "execution_count": 234,
     "metadata": {},
     "output_type": "execute_result"
    }
   ],
   "source": [
    "two_dim[0,3] #[start:stop]"
   ]
  },
  {
   "cell_type": "code",
   "execution_count": 230,
   "id": "bc03f733-6118-44ca-9d7e-1ca30ac06bea",
   "metadata": {},
   "outputs": [
    {
     "data": {
      "text/plain": [
       "array([[ 1,  2,  3,  4,  5,  6],\n",
       "       [ 7,  8,  9, 10, 11, 12],\n",
       "       [ 7,  8,  9, 10, 11, 12]])"
      ]
     },
     "execution_count": 230,
     "metadata": {},
     "output_type": "execute_result"
    }
   ],
   "source": [
    "two_dim"
   ]
  },
  {
   "cell_type": "code",
   "execution_count": 241,
   "id": "283fc1d0-1b13-416a-9417-5e6fc2448aed",
   "metadata": {},
   "outputs": [],
   "source": [
    "data= {'loc':233}\n",
    "samp={'sam':200,'mose':90}\n",
    "data.update(**samp)"
   ]
  },
  {
   "cell_type": "code",
   "execution_count": 242,
   "id": "2319e767-1d20-4fa0-9743-dabe3e3b7404",
   "metadata": {},
   "outputs": [
    {
     "data": {
      "text/plain": [
       "{'loc': 233, 'sam': 200, 'mose': 90}"
      ]
     },
     "execution_count": 242,
     "metadata": {},
     "output_type": "execute_result"
    }
   ],
   "source": [
    "data"
   ]
  },
  {
   "cell_type": "code",
   "execution_count": null,
   "id": "36677420-9f13-485c-9dd3-f93d0525751f",
   "metadata": {},
   "outputs": [],
   "source": []
  }
 ],
 "metadata": {
  "kernelspec": {
   "display_name": "Python 3",
   "language": "python",
   "name": "python3"
  },
  "language_info": {
   "codemirror_mode": {
    "name": "ipython",
    "version": 3
   },
   "file_extension": ".py",
   "mimetype": "text/x-python",
   "name": "python",
   "nbconvert_exporter": "python",
   "pygments_lexer": "ipython3",
   "version": "3.8.10"
  }
 },
 "nbformat": 4,
 "nbformat_minor": 5
}
