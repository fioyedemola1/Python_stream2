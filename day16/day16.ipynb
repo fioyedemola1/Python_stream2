{
 "cells": [
  {
   "cell_type": "code",
   "execution_count": 16,
   "id": "b829891c-eaa8-4f3f-9d42-f63b52c0a651",
   "metadata": {},
   "outputs": [],
   "source": [
    "# !cat file.txt > file2.txt\n",
    "# !pip install ..."
   ]
  },
  {
   "cell_type": "code",
   "execution_count": 19,
   "id": "06306212-080a-499a-8a82-f6eb38363667",
   "metadata": {},
   "outputs": [],
   "source": [
    "import numpy as np\n",
    "import pandas as pd"
   ]
  },
  {
   "cell_type": "code",
   "execution_count": 20,
   "id": "f65dd8db-39c6-4779-afc4-f1dfcf9d308f",
   "metadata": {},
   "outputs": [],
   "source": [
    "df = pd.read_csv('data/portfolio.csv')"
   ]
  },
  {
   "cell_type": "code",
   "execution_count": 22,
   "id": "05324ce6-3fa7-4aec-b27a-8c91b23e5e8b",
   "metadata": {},
   "outputs": [
    {
     "data": {
      "text/html": [
       "<div>\n",
       "<style scoped>\n",
       "    .dataframe tbody tr th:only-of-type {\n",
       "        vertical-align: middle;\n",
       "    }\n",
       "\n",
       "    .dataframe tbody tr th {\n",
       "        vertical-align: top;\n",
       "    }\n",
       "\n",
       "    .dataframe thead th {\n",
       "        text-align: right;\n",
       "    }\n",
       "</style>\n",
       "<table border=\"1\" class=\"dataframe\">\n",
       "  <thead>\n",
       "    <tr style=\"text-align: right;\">\n",
       "      <th></th>\n",
       "      <th>name</th>\n",
       "      <th>shares</th>\n",
       "      <th>price</th>\n",
       "    </tr>\n",
       "  </thead>\n",
       "  <tbody>\n",
       "    <tr>\n",
       "      <th>0</th>\n",
       "      <td>AA</td>\n",
       "      <td>100</td>\n",
       "      <td>32.20</td>\n",
       "    </tr>\n",
       "    <tr>\n",
       "      <th>1</th>\n",
       "      <td>IBM</td>\n",
       "      <td>50</td>\n",
       "      <td>91.10</td>\n",
       "    </tr>\n",
       "    <tr>\n",
       "      <th>2</th>\n",
       "      <td>CAT</td>\n",
       "      <td>150</td>\n",
       "      <td>83.44</td>\n",
       "    </tr>\n",
       "    <tr>\n",
       "      <th>3</th>\n",
       "      <td>MSFT</td>\n",
       "      <td>200</td>\n",
       "      <td>51.23</td>\n",
       "    </tr>\n",
       "    <tr>\n",
       "      <th>4</th>\n",
       "      <td>GE</td>\n",
       "      <td>95</td>\n",
       "      <td>40.37</td>\n",
       "    </tr>\n",
       "  </tbody>\n",
       "</table>\n",
       "</div>"
      ],
      "text/plain": [
       "   name  shares  price\n",
       "0    AA     100  32.20\n",
       "1   IBM      50  91.10\n",
       "2   CAT     150  83.44\n",
       "3  MSFT     200  51.23\n",
       "4    GE      95  40.37"
      ]
     },
     "execution_count": 22,
     "metadata": {},
     "output_type": "execute_result"
    }
   ],
   "source": [
    "df.head()"
   ]
  },
  {
   "cell_type": "code",
   "execution_count": 24,
   "id": "c6c4aad5-b437-4299-b413-652b5ae4e0b4",
   "metadata": {},
   "outputs": [
    {
     "data": {
      "text/html": [
       "<div>\n",
       "<style scoped>\n",
       "    .dataframe tbody tr th:only-of-type {\n",
       "        vertical-align: middle;\n",
       "    }\n",
       "\n",
       "    .dataframe tbody tr th {\n",
       "        vertical-align: top;\n",
       "    }\n",
       "\n",
       "    .dataframe thead th {\n",
       "        text-align: right;\n",
       "    }\n",
       "</style>\n",
       "<table border=\"1\" class=\"dataframe\">\n",
       "  <thead>\n",
       "    <tr style=\"text-align: right;\">\n",
       "      <th></th>\n",
       "      <th>name</th>\n",
       "      <th>shares</th>\n",
       "      <th>price</th>\n",
       "    </tr>\n",
       "  </thead>\n",
       "  <tbody>\n",
       "    <tr>\n",
       "      <th>5</th>\n",
       "      <td>MSFT</td>\n",
       "      <td>50</td>\n",
       "      <td>65.10</td>\n",
       "    </tr>\n",
       "    <tr>\n",
       "      <th>6</th>\n",
       "      <td>IBM</td>\n",
       "      <td>100</td>\n",
       "      <td>70.44</td>\n",
       "    </tr>\n",
       "  </tbody>\n",
       "</table>\n",
       "</div>"
      ],
      "text/plain": [
       "   name  shares  price\n",
       "5  MSFT      50  65.10\n",
       "6   IBM     100  70.44"
      ]
     },
     "execution_count": 24,
     "metadata": {},
     "output_type": "execute_result"
    }
   ],
   "source": [
    "df.tail(2)"
   ]
  },
  {
   "cell_type": "code",
   "execution_count": 25,
   "id": "7d6cfa03-c9f3-4478-b5f6-0543612c0a0e",
   "metadata": {},
   "outputs": [
    {
     "name": "stdout",
     "output_type": "stream",
     "text": [
      "<class 'pandas.core.frame.DataFrame'>\n",
      "RangeIndex: 7 entries, 0 to 6\n",
      "Data columns (total 3 columns):\n",
      " #   Column  Non-Null Count  Dtype  \n",
      "---  ------  --------------  -----  \n",
      " 0   name    7 non-null      object \n",
      " 1   shares  7 non-null      int64  \n",
      " 2   price   7 non-null      float64\n",
      "dtypes: float64(1), int64(1), object(1)\n",
      "memory usage: 296.0+ bytes\n"
     ]
    }
   ],
   "source": [
    "df.info()"
   ]
  },
  {
   "cell_type": "code",
   "execution_count": 43,
   "id": "2d7416ef-3ad4-42cd-8a41-3dda90d1cbbc",
   "metadata": {},
   "outputs": [
    {
     "data": {
      "text/html": [
       "<div>\n",
       "<style scoped>\n",
       "    .dataframe tbody tr th:only-of-type {\n",
       "        vertical-align: middle;\n",
       "    }\n",
       "\n",
       "    .dataframe tbody tr th {\n",
       "        vertical-align: top;\n",
       "    }\n",
       "\n",
       "    .dataframe thead th {\n",
       "        text-align: right;\n",
       "    }\n",
       "</style>\n",
       "<table border=\"1\" class=\"dataframe\">\n",
       "  <thead>\n",
       "    <tr style=\"text-align: right;\">\n",
       "      <th></th>\n",
       "      <th>name</th>\n",
       "      <th>shares</th>\n",
       "      <th>price</th>\n",
       "      <th>price2</th>\n",
       "    </tr>\n",
       "  </thead>\n",
       "  <tbody>\n",
       "    <tr>\n",
       "      <th>0</th>\n",
       "      <td>AA</td>\n",
       "      <td>100</td>\n",
       "      <td>32.20</td>\n",
       "      <td>65.10</td>\n",
       "    </tr>\n",
       "    <tr>\n",
       "      <th>1</th>\n",
       "      <td>IBM</td>\n",
       "      <td>50</td>\n",
       "      <td>91.10</td>\n",
       "      <td>70.44</td>\n",
       "    </tr>\n",
       "    <tr>\n",
       "      <th>2</th>\n",
       "      <td>CAT</td>\n",
       "      <td>150</td>\n",
       "      <td>83.44</td>\n",
       "      <td>32.20</td>\n",
       "    </tr>\n",
       "    <tr>\n",
       "      <th>3</th>\n",
       "      <td>MSFT</td>\n",
       "      <td>200</td>\n",
       "      <td>51.23</td>\n",
       "      <td>91.10</td>\n",
       "    </tr>\n",
       "    <tr>\n",
       "      <th>4</th>\n",
       "      <td>GE</td>\n",
       "      <td>95</td>\n",
       "      <td>40.37</td>\n",
       "      <td>83.44</td>\n",
       "    </tr>\n",
       "    <tr>\n",
       "      <th>5</th>\n",
       "      <td>MSFT</td>\n",
       "      <td>50</td>\n",
       "      <td>65.10</td>\n",
       "      <td>51.23</td>\n",
       "    </tr>\n",
       "    <tr>\n",
       "      <th>6</th>\n",
       "      <td>IBM</td>\n",
       "      <td>100</td>\n",
       "      <td>70.44</td>\n",
       "      <td>40.37</td>\n",
       "    </tr>\n",
       "  </tbody>\n",
       "</table>\n",
       "</div>"
      ],
      "text/plain": [
       "   name  shares  price  price2\n",
       "0    AA     100  32.20   65.10\n",
       "1   IBM      50  91.10   70.44\n",
       "2   CAT     150  83.44   32.20\n",
       "3  MSFT     200  51.23   91.10\n",
       "4    GE      95  40.37   83.44\n",
       "5  MSFT      50  65.10   51.23\n",
       "6   IBM     100  70.44   40.37"
      ]
     },
     "execution_count": 43,
     "metadata": {},
     "output_type": "execute_result"
    }
   ],
   "source": [
    "# df.name    #<-- Series\n",
    "# df['name']    #<-- Series object\n",
    "df[['name']]  #<--  dataframe\n",
    "arr =df[['price']].values  #<-- #numpy array\n",
    "df['price2']=np.roll(arr,2)\n",
    "df"
   ]
  },
  {
   "cell_type": "code",
   "execution_count": 47,
   "id": "b9976bd8-75d6-4946-be2d-8d1e50b316ed",
   "metadata": {},
   "outputs": [
    {
     "data": {
      "text/plain": [
       "0      AA\n",
       "1     IBM\n",
       "2     CAT\n",
       "3    MSFT\n",
       "4      GE\n",
       "5    MSFT\n",
       "6     IBM\n",
       "dtype: object"
      ]
     },
     "execution_count": 47,
     "metadata": {},
     "output_type": "execute_result"
    }
   ],
   "source": [
    "# map  \n",
    "df.apply(lambda x: x['name'].upper(), axis= 'columns') # str "
   ]
  },
  {
   "cell_type": "code",
   "execution_count": 63,
   "id": "02b100cf-60b2-49d6-8118-40617aa442dc",
   "metadata": {},
   "outputs": [],
   "source": [
    "a= df['name'].values.astype(str)\n",
    "\n",
    "df['name']= np.char.lower(a)"
   ]
  },
  {
   "cell_type": "code",
   "execution_count": 71,
   "id": "b5fd0d59-59c4-42ee-988b-12de820c1ed1",
   "metadata": {},
   "outputs": [],
   "source": [
    "# df.set_index(df.name,inplace=True)\n",
    "df.index= df.name"
   ]
  },
  {
   "cell_type": "code",
   "execution_count": 74,
   "id": "36d762e8-bf73-4e93-b0c4-7230eec496b6",
   "metadata": {},
   "outputs": [],
   "source": [
    "df.drop('name', inplace=True, axis = 1)"
   ]
  },
  {
   "cell_type": "code",
   "execution_count": 80,
   "id": "af09549b-2076-43c5-9cbf-60b4bfda9522",
   "metadata": {},
   "outputs": [
    {
     "ename": "ValueError",
     "evalue": "cannot insert level_0, already exists",
     "output_type": "error",
     "traceback": [
      "\u001b[0;31m---------------------------------------------------------------------------\u001b[0m",
      "\u001b[0;31mValueError\u001b[0m                                Traceback (most recent call last)",
      "\u001b[0;32m<ipython-input-80-a18233cecf64>\u001b[0m in \u001b[0;36m<module>\u001b[0;34m\u001b[0m\n\u001b[0;32m----> 1\u001b[0;31m \u001b[0mdf\u001b[0m\u001b[0;34m.\u001b[0m\u001b[0mreset_index\u001b[0m\u001b[0;34m(\u001b[0m\u001b[0minplace\u001b[0m\u001b[0;34m=\u001b[0m \u001b[0;32mTrue\u001b[0m\u001b[0;34m)\u001b[0m\u001b[0;34m\u001b[0m\u001b[0;34m\u001b[0m\u001b[0m\n\u001b[0m\u001b[1;32m      2\u001b[0m \u001b[0mdf\u001b[0m\u001b[0;34m.\u001b[0m\u001b[0mdrop\u001b[0m\u001b[0;34m(\u001b[0m\u001b[0;34m'price2'\u001b[0m\u001b[0;34m,\u001b[0m \u001b[0minplace\u001b[0m \u001b[0;34m=\u001b[0m \u001b[0;32mTrue\u001b[0m\u001b[0;34m,\u001b[0m \u001b[0maxis\u001b[0m\u001b[0;34m=\u001b[0m\u001b[0;36m1\u001b[0m\u001b[0;34m)\u001b[0m\u001b[0;34m\u001b[0m\u001b[0;34m\u001b[0m\u001b[0m\n",
      "\u001b[0;32m~/opt/anaconda3/lib/python3.8/site-packages/pandas/util/_decorators.py\u001b[0m in \u001b[0;36mwrapper\u001b[0;34m(*args, **kwargs)\u001b[0m\n\u001b[1;32m    309\u001b[0m                     \u001b[0mstacklevel\u001b[0m\u001b[0;34m=\u001b[0m\u001b[0mstacklevel\u001b[0m\u001b[0;34m,\u001b[0m\u001b[0;34m\u001b[0m\u001b[0;34m\u001b[0m\u001b[0m\n\u001b[1;32m    310\u001b[0m                 )\n\u001b[0;32m--> 311\u001b[0;31m             \u001b[0;32mreturn\u001b[0m \u001b[0mfunc\u001b[0m\u001b[0;34m(\u001b[0m\u001b[0;34m*\u001b[0m\u001b[0margs\u001b[0m\u001b[0;34m,\u001b[0m \u001b[0;34m**\u001b[0m\u001b[0mkwargs\u001b[0m\u001b[0;34m)\u001b[0m\u001b[0;34m\u001b[0m\u001b[0;34m\u001b[0m\u001b[0m\n\u001b[0m\u001b[1;32m    312\u001b[0m \u001b[0;34m\u001b[0m\u001b[0m\n\u001b[1;32m    313\u001b[0m         \u001b[0;32mreturn\u001b[0m \u001b[0mwrapper\u001b[0m\u001b[0;34m\u001b[0m\u001b[0;34m\u001b[0m\u001b[0m\n",
      "\u001b[0;32m~/opt/anaconda3/lib/python3.8/site-packages/pandas/core/frame.py\u001b[0m in \u001b[0;36mreset_index\u001b[0;34m(self, level, drop, inplace, col_level, col_fill)\u001b[0m\n\u001b[1;32m   5792\u001b[0m                     )\n\u001b[1;32m   5793\u001b[0m \u001b[0;34m\u001b[0m\u001b[0m\n\u001b[0;32m-> 5794\u001b[0;31m                 \u001b[0mnew_obj\u001b[0m\u001b[0;34m.\u001b[0m\u001b[0minsert\u001b[0m\u001b[0;34m(\u001b[0m\u001b[0;36m0\u001b[0m\u001b[0;34m,\u001b[0m \u001b[0mname\u001b[0m\u001b[0;34m,\u001b[0m \u001b[0mlevel_values\u001b[0m\u001b[0;34m)\u001b[0m\u001b[0;34m\u001b[0m\u001b[0;34m\u001b[0m\u001b[0m\n\u001b[0m\u001b[1;32m   5795\u001b[0m \u001b[0;34m\u001b[0m\u001b[0m\n\u001b[1;32m   5796\u001b[0m         \u001b[0mnew_obj\u001b[0m\u001b[0;34m.\u001b[0m\u001b[0mindex\u001b[0m \u001b[0;34m=\u001b[0m \u001b[0mnew_index\u001b[0m\u001b[0;34m\u001b[0m\u001b[0;34m\u001b[0m\u001b[0m\n",
      "\u001b[0;32m~/opt/anaconda3/lib/python3.8/site-packages/pandas/core/frame.py\u001b[0m in \u001b[0;36minsert\u001b[0;34m(self, loc, column, value, allow_duplicates)\u001b[0m\n\u001b[1;32m   4407\u001b[0m         \u001b[0;32mif\u001b[0m \u001b[0;32mnot\u001b[0m \u001b[0mallow_duplicates\u001b[0m \u001b[0;32mand\u001b[0m \u001b[0mcolumn\u001b[0m \u001b[0;32min\u001b[0m \u001b[0mself\u001b[0m\u001b[0;34m.\u001b[0m\u001b[0mcolumns\u001b[0m\u001b[0;34m:\u001b[0m\u001b[0;34m\u001b[0m\u001b[0;34m\u001b[0m\u001b[0m\n\u001b[1;32m   4408\u001b[0m             \u001b[0;31m# Should this be a different kind of error??\u001b[0m\u001b[0;34m\u001b[0m\u001b[0;34m\u001b[0m\u001b[0;34m\u001b[0m\u001b[0m\n\u001b[0;32m-> 4409\u001b[0;31m             \u001b[0;32mraise\u001b[0m \u001b[0mValueError\u001b[0m\u001b[0;34m(\u001b[0m\u001b[0;34mf\"cannot insert {column}, already exists\"\u001b[0m\u001b[0;34m)\u001b[0m\u001b[0;34m\u001b[0m\u001b[0;34m\u001b[0m\u001b[0m\n\u001b[0m\u001b[1;32m   4410\u001b[0m         \u001b[0;32mif\u001b[0m \u001b[0;32mnot\u001b[0m \u001b[0misinstance\u001b[0m\u001b[0;34m(\u001b[0m\u001b[0mloc\u001b[0m\u001b[0;34m,\u001b[0m \u001b[0mint\u001b[0m\u001b[0;34m)\u001b[0m\u001b[0;34m:\u001b[0m\u001b[0;34m\u001b[0m\u001b[0;34m\u001b[0m\u001b[0m\n\u001b[1;32m   4411\u001b[0m             \u001b[0;32mraise\u001b[0m \u001b[0mTypeError\u001b[0m\u001b[0;34m(\u001b[0m\u001b[0;34m\"loc must be int\"\u001b[0m\u001b[0;34m)\u001b[0m\u001b[0;34m\u001b[0m\u001b[0;34m\u001b[0m\u001b[0m\n",
      "\u001b[0;31mValueError\u001b[0m: cannot insert level_0, already exists"
     ]
    }
   ],
   "source": [
    "df.reset_index(inplace= True)\n",
    "df.drop('price2', inplace = True, )"
   ]
  },
  {
   "cell_type": "code",
   "execution_count": 82,
   "id": "06ea4ed2-6c1a-43ab-b9b3-ba36df7fc76c",
   "metadata": {},
   "outputs": [],
   "source": [
    "df.drop(['level_0','index'], inplace = True, axis= 1)"
   ]
  },
  {
   "cell_type": "code",
   "execution_count": 90,
   "id": "e4a8b464-afb0-4acb-a3b4-1ce0c71de57f",
   "metadata": {},
   "outputs": [],
   "source": [
    "total = df.shares * df.price\n",
    "df.insert(0,'New_total',total)"
   ]
  },
  {
   "cell_type": "code",
   "execution_count": 99,
   "id": "406fc781-34e8-4541-a05c-cf4242af77e9",
   "metadata": {},
   "outputs": [],
   "source": [
    "df['prv_month']= df['total'].shift(periods=1).fillna(value=0)"
   ]
  },
  {
   "cell_type": "code",
   "execution_count": 100,
   "id": "6745fbd4-213e-4e79-8af4-dd33a5d1bec9",
   "metadata": {},
   "outputs": [
    {
     "data": {
      "text/html": [
       "<div>\n",
       "<style scoped>\n",
       "    .dataframe tbody tr th:only-of-type {\n",
       "        vertical-align: middle;\n",
       "    }\n",
       "\n",
       "    .dataframe tbody tr th {\n",
       "        vertical-align: top;\n",
       "    }\n",
       "\n",
       "    .dataframe thead th {\n",
       "        text-align: right;\n",
       "    }\n",
       "</style>\n",
       "<table border=\"1\" class=\"dataframe\">\n",
       "  <thead>\n",
       "    <tr style=\"text-align: right;\">\n",
       "      <th></th>\n",
       "      <th>New_total</th>\n",
       "      <th>name</th>\n",
       "      <th>shares</th>\n",
       "      <th>price</th>\n",
       "      <th>total</th>\n",
       "      <th>prv_month</th>\n",
       "    </tr>\n",
       "  </thead>\n",
       "  <tbody>\n",
       "    <tr>\n",
       "      <th>0</th>\n",
       "      <td>3220.00</td>\n",
       "      <td>aa</td>\n",
       "      <td>100</td>\n",
       "      <td>32.20</td>\n",
       "      <td>3220.00</td>\n",
       "      <td>0.00</td>\n",
       "    </tr>\n",
       "    <tr>\n",
       "      <th>1</th>\n",
       "      <td>4555.00</td>\n",
       "      <td>ibm</td>\n",
       "      <td>50</td>\n",
       "      <td>91.10</td>\n",
       "      <td>4555.00</td>\n",
       "      <td>3220.00</td>\n",
       "    </tr>\n",
       "    <tr>\n",
       "      <th>2</th>\n",
       "      <td>12516.00</td>\n",
       "      <td>cat</td>\n",
       "      <td>150</td>\n",
       "      <td>83.44</td>\n",
       "      <td>12516.00</td>\n",
       "      <td>4555.00</td>\n",
       "    </tr>\n",
       "    <tr>\n",
       "      <th>3</th>\n",
       "      <td>10246.00</td>\n",
       "      <td>msft</td>\n",
       "      <td>200</td>\n",
       "      <td>51.23</td>\n",
       "      <td>10246.00</td>\n",
       "      <td>12516.00</td>\n",
       "    </tr>\n",
       "    <tr>\n",
       "      <th>4</th>\n",
       "      <td>3835.15</td>\n",
       "      <td>ge</td>\n",
       "      <td>95</td>\n",
       "      <td>40.37</td>\n",
       "      <td>3835.15</td>\n",
       "      <td>10246.00</td>\n",
       "    </tr>\n",
       "    <tr>\n",
       "      <th>5</th>\n",
       "      <td>3255.00</td>\n",
       "      <td>msft</td>\n",
       "      <td>50</td>\n",
       "      <td>65.10</td>\n",
       "      <td>3255.00</td>\n",
       "      <td>3835.15</td>\n",
       "    </tr>\n",
       "    <tr>\n",
       "      <th>6</th>\n",
       "      <td>7044.00</td>\n",
       "      <td>ibm</td>\n",
       "      <td>100</td>\n",
       "      <td>70.44</td>\n",
       "      <td>7044.00</td>\n",
       "      <td>3255.00</td>\n",
       "    </tr>\n",
       "  </tbody>\n",
       "</table>\n",
       "</div>"
      ],
      "text/plain": [
       "   New_total  name  shares  price     total  prv_month\n",
       "0    3220.00    aa     100  32.20   3220.00       0.00\n",
       "1    4555.00   ibm      50  91.10   4555.00    3220.00\n",
       "2   12516.00   cat     150  83.44  12516.00    4555.00\n",
       "3   10246.00  msft     200  51.23  10246.00   12516.00\n",
       "4    3835.15    ge      95  40.37   3835.15   10246.00\n",
       "5    3255.00  msft      50  65.10   3255.00    3835.15\n",
       "6    7044.00   ibm     100  70.44   7044.00    3255.00"
      ]
     },
     "execution_count": 100,
     "metadata": {},
     "output_type": "execute_result"
    }
   ],
   "source": [
    "df"
   ]
  },
  {
   "cell_type": "code",
   "execution_count": 101,
   "id": "a17fb64f-3d72-4f5e-bd86-51545a6dd890",
   "metadata": {},
   "outputs": [],
   "source": [
    "df['profit/loss'] = df.total - df.prv_month"
   ]
  },
  {
   "cell_type": "code",
   "execution_count": 105,
   "id": "4dfcb899-39ed-41ab-8a90-eecccb0f6d6e",
   "metadata": {},
   "outputs": [
    {
     "data": {
      "text/html": [
       "<div>\n",
       "<style scoped>\n",
       "    .dataframe tbody tr th:only-of-type {\n",
       "        vertical-align: middle;\n",
       "    }\n",
       "\n",
       "    .dataframe tbody tr th {\n",
       "        vertical-align: top;\n",
       "    }\n",
       "\n",
       "    .dataframe thead th {\n",
       "        text-align: right;\n",
       "    }\n",
       "</style>\n",
       "<table border=\"1\" class=\"dataframe\">\n",
       "  <thead>\n",
       "    <tr style=\"text-align: right;\">\n",
       "      <th></th>\n",
       "      <th>New_total</th>\n",
       "      <th>name</th>\n",
       "      <th>shares</th>\n",
       "      <th>price</th>\n",
       "      <th>total</th>\n",
       "      <th>profit/loss</th>\n",
       "    </tr>\n",
       "  </thead>\n",
       "  <tbody>\n",
       "    <tr>\n",
       "      <th>0</th>\n",
       "      <td>3220.00</td>\n",
       "      <td>aa</td>\n",
       "      <td>100</td>\n",
       "      <td>32.20</td>\n",
       "      <td>3220.00</td>\n",
       "      <td>3220.00</td>\n",
       "    </tr>\n",
       "    <tr>\n",
       "      <th>1</th>\n",
       "      <td>4555.00</td>\n",
       "      <td>ibm</td>\n",
       "      <td>50</td>\n",
       "      <td>91.10</td>\n",
       "      <td>4555.00</td>\n",
       "      <td>1335.00</td>\n",
       "    </tr>\n",
       "    <tr>\n",
       "      <th>2</th>\n",
       "      <td>12516.00</td>\n",
       "      <td>cat</td>\n",
       "      <td>150</td>\n",
       "      <td>83.44</td>\n",
       "      <td>12516.00</td>\n",
       "      <td>7961.00</td>\n",
       "    </tr>\n",
       "    <tr>\n",
       "      <th>3</th>\n",
       "      <td>10246.00</td>\n",
       "      <td>msft</td>\n",
       "      <td>200</td>\n",
       "      <td>51.23</td>\n",
       "      <td>10246.00</td>\n",
       "      <td>-2270.00</td>\n",
       "    </tr>\n",
       "    <tr>\n",
       "      <th>4</th>\n",
       "      <td>3835.15</td>\n",
       "      <td>ge</td>\n",
       "      <td>95</td>\n",
       "      <td>40.37</td>\n",
       "      <td>3835.15</td>\n",
       "      <td>-6410.85</td>\n",
       "    </tr>\n",
       "    <tr>\n",
       "      <th>5</th>\n",
       "      <td>3255.00</td>\n",
       "      <td>msft</td>\n",
       "      <td>50</td>\n",
       "      <td>65.10</td>\n",
       "      <td>3255.00</td>\n",
       "      <td>-580.15</td>\n",
       "    </tr>\n",
       "    <tr>\n",
       "      <th>6</th>\n",
       "      <td>7044.00</td>\n",
       "      <td>ibm</td>\n",
       "      <td>100</td>\n",
       "      <td>70.44</td>\n",
       "      <td>7044.00</td>\n",
       "      <td>3789.00</td>\n",
       "    </tr>\n",
       "  </tbody>\n",
       "</table>\n",
       "</div>"
      ],
      "text/plain": [
       "   New_total  name  shares  price     total  profit/loss\n",
       "0    3220.00    aa     100  32.20   3220.00      3220.00\n",
       "1    4555.00   ibm      50  91.10   4555.00      1335.00\n",
       "2   12516.00   cat     150  83.44  12516.00      7961.00\n",
       "3   10246.00  msft     200  51.23  10246.00     -2270.00\n",
       "4    3835.15    ge      95  40.37   3835.15     -6410.85\n",
       "5    3255.00  msft      50  65.10   3255.00      -580.15\n",
       "6    7044.00   ibm     100  70.44   7044.00      3789.00"
      ]
     },
     "execution_count": 105,
     "metadata": {},
     "output_type": "execute_result"
    }
   ],
   "source": [
    "# df.drop('prv_month', axis= 1, inplace=True)\n",
    "df"
   ]
  },
  {
   "cell_type": "code",
   "execution_count": 177,
   "id": "ff7a518c-5e46-48aa-89ce-1f46cc960822",
   "metadata": {},
   "outputs": [],
   "source": [
    "# def ccy(x):\n",
    "#     val = x.values[0]\n",
    "#     if val < 0:\n",
    "#         return f'$({abs(val):.2f})'\n",
    "#     else:\n",
    "#         return f'${val:.2f}'\n",
    "    \n",
    "def ccy(x):\n",
    "    val = x.values[0]\n",
    "    new_val = f'&&{val:.2f}' if val > 0 else f'&({abs(val):.2f})'\n",
    "    return new_val\n",
    "    \n",
    "df2 = df.groupby('name')['profit/loss'].agg(['mean','max','min',ccy])\n",
    "\n",
    " "
   ]
  },
  {
   "cell_type": "code",
   "execution_count": 175,
   "id": "66db7850-07ad-4835-9513-ad725a7effa6",
   "metadata": {},
   "outputs": [
    {
     "ename": "ValueError",
     "evalue": "could not convert string to float: '(222)'",
     "output_type": "error",
     "traceback": [
      "\u001b[0;31m---------------------------------------------------------------------------\u001b[0m",
      "\u001b[0;31mValueError\u001b[0m                                Traceback (most recent call last)",
      "\u001b[0;32m<ipython-input-175-ffcc50777b69>\u001b[0m in \u001b[0;36m<module>\u001b[0;34m\u001b[0m\n\u001b[0;32m----> 1\u001b[0;31m \u001b[0mfloat\u001b[0m\u001b[0;34m(\u001b[0m\u001b[0;34m'(222)'\u001b[0m\u001b[0;34m)\u001b[0m\u001b[0;34m\u001b[0m\u001b[0;34m\u001b[0m\u001b[0m\n\u001b[0m",
      "\u001b[0;31mValueError\u001b[0m: could not convert string to float: '(222)'"
     ]
    }
   ],
   "source": [
    "float('(222)')"
   ]
  },
  {
   "cell_type": "code",
   "execution_count": 145,
   "id": "7e8632e6-f89a-46f6-ad34-a834ac1e3fe7",
   "metadata": {},
   "outputs": [
    {
     "data": {
      "text/plain": [
       "name\n",
       "aa                                            &&3220.00\n",
       "cat                                  &&3220.00&&7961.00\n",
       "ge                         &&3220.00&&7961.00&(6410.85)\n",
       "ibm               &&3220.00&&7961.00&(6410.85)&&1335.00\n",
       "msft    &&3220.00&&7961.00&(6410.85)&&1335.00&(2270.00)\n",
       "Name: ccy, dtype: object"
      ]
     },
     "execution_count": 145,
     "metadata": {},
     "output_type": "execute_result"
    }
   ],
   "source": [
    "df2.ccy.cumsum()"
   ]
  },
  {
   "cell_type": "code",
   "execution_count": 161,
   "id": "f3256d14-1035-48e0-a302-738da00707b0",
   "metadata": {},
   "outputs": [],
   "source": [
    "df2['ccy']= df2['ccy'].str.replace('&','').replace('()','')"
   ]
  },
  {
   "cell_type": "code",
   "execution_count": 158,
   "id": "a3ea1773-b8c6-4228-a40a-e58ec7c1deeb",
   "metadata": {},
   "outputs": [
    {
     "ename": "ValueError",
     "evalue": "Unable to parse string \"(6410.85)\" at position 2",
     "output_type": "error",
     "traceback": [
      "\u001b[0;31m---------------------------------------------------------------------------\u001b[0m",
      "\u001b[0;31mValueError\u001b[0m                                Traceback (most recent call last)",
      "\u001b[0;32m~/opt/anaconda3/lib/python3.8/site-packages/pandas/_libs/lib.pyx\u001b[0m in \u001b[0;36mpandas._libs.lib.maybe_convert_numeric\u001b[0;34m()\u001b[0m\n",
      "\u001b[0;31mValueError\u001b[0m: Unable to parse string \"(6410.85)\"",
      "\nDuring handling of the above exception, another exception occurred:\n",
      "\u001b[0;31mValueError\u001b[0m                                Traceback (most recent call last)",
      "\u001b[0;32m<ipython-input-158-618b53d769e9>\u001b[0m in \u001b[0;36m<module>\u001b[0;34m\u001b[0m\n\u001b[0;32m----> 1\u001b[0;31m \u001b[0mpd\u001b[0m\u001b[0;34m.\u001b[0m\u001b[0mto_numeric\u001b[0m\u001b[0;34m(\u001b[0m\u001b[0mdf2\u001b[0m\u001b[0;34m[\u001b[0m\u001b[0;34m'ccy'\u001b[0m\u001b[0;34m]\u001b[0m\u001b[0;34m)\u001b[0m\u001b[0;34m\u001b[0m\u001b[0;34m\u001b[0m\u001b[0m\n\u001b[0m",
      "\u001b[0;32m~/opt/anaconda3/lib/python3.8/site-packages/pandas/core/tools/numeric.py\u001b[0m in \u001b[0;36mto_numeric\u001b[0;34m(arg, errors, downcast)\u001b[0m\n\u001b[1;32m    181\u001b[0m         \u001b[0mcoerce_numeric\u001b[0m \u001b[0;34m=\u001b[0m \u001b[0merrors\u001b[0m \u001b[0;32mnot\u001b[0m \u001b[0;32min\u001b[0m \u001b[0;34m(\u001b[0m\u001b[0;34m\"ignore\"\u001b[0m\u001b[0;34m,\u001b[0m \u001b[0;34m\"raise\"\u001b[0m\u001b[0;34m)\u001b[0m\u001b[0;34m\u001b[0m\u001b[0;34m\u001b[0m\u001b[0m\n\u001b[1;32m    182\u001b[0m         \u001b[0;32mtry\u001b[0m\u001b[0;34m:\u001b[0m\u001b[0;34m\u001b[0m\u001b[0;34m\u001b[0m\u001b[0m\n\u001b[0;32m--> 183\u001b[0;31m             values, _ = lib.maybe_convert_numeric(\n\u001b[0m\u001b[1;32m    184\u001b[0m                 \u001b[0mvalues\u001b[0m\u001b[0;34m,\u001b[0m \u001b[0mset\u001b[0m\u001b[0;34m(\u001b[0m\u001b[0;34m)\u001b[0m\u001b[0;34m,\u001b[0m \u001b[0mcoerce_numeric\u001b[0m\u001b[0;34m=\u001b[0m\u001b[0mcoerce_numeric\u001b[0m\u001b[0;34m\u001b[0m\u001b[0;34m\u001b[0m\u001b[0m\n\u001b[1;32m    185\u001b[0m             )\n",
      "\u001b[0;32m~/opt/anaconda3/lib/python3.8/site-packages/pandas/_libs/lib.pyx\u001b[0m in \u001b[0;36mpandas._libs.lib.maybe_convert_numeric\u001b[0;34m()\u001b[0m\n",
      "\u001b[0;31mValueError\u001b[0m: Unable to parse string \"(6410.85)\" at position 2"
     ]
    }
   ],
   "source": [
    "pd.to_numeric(df2['ccy'])"
   ]
  },
  {
   "cell_type": "code",
   "execution_count": 151,
   "id": "26113666-d32a-4416-98c9-1350b93667c5",
   "metadata": {},
   "outputs": [
    {
     "data": {
      "text/plain": [
       "name\n",
       "aa                                      3220.00\n",
       "cat                              3220.007961.00\n",
       "ge                      3220.007961.00(6410.85)\n",
       "ibm              3220.007961.00(6410.85)1335.00\n",
       "msft    3220.007961.00(6410.85)1335.00(2270.00)\n",
       "Name: ccy, dtype: object"
      ]
     },
     "execution_count": 151,
     "metadata": {},
     "output_type": "execute_result"
    }
   ],
   "source": [
    "df2.ccy.cumsum()"
   ]
  },
  {
   "cell_type": "code",
   "execution_count": 152,
   "id": "a8e004de-78a7-4136-b22b-b8cb913d6419",
   "metadata": {},
   "outputs": [
    {
     "data": {
      "text/plain": [
       "dtype('O')"
      ]
     },
     "execution_count": 152,
     "metadata": {},
     "output_type": "execute_result"
    }
   ],
   "source": [
    "df2.ccy.dtype"
   ]
  },
  {
   "cell_type": "code",
   "execution_count": 176,
   "id": "773a3abe-8522-401d-9500-e464ee46b880",
   "metadata": {},
   "outputs": [],
   "source": [
    "df2['ccy']= df2['ccy'].str.extract(r'(\\d+)')\n",
    "df2['ccy']= df2['ccy'].astype(float)"
   ]
  },
  {
   "cell_type": "code",
   "execution_count": 183,
   "id": "66a6c2ee-69a2-4c55-855f-66450a5a1230",
   "metadata": {},
   "outputs": [
    {
     "data": {
      "text/html": [
       "<div>\n",
       "<style scoped>\n",
       "    .dataframe tbody tr th:only-of-type {\n",
       "        vertical-align: middle;\n",
       "    }\n",
       "\n",
       "    .dataframe tbody tr th {\n",
       "        vertical-align: top;\n",
       "    }\n",
       "\n",
       "    .dataframe thead th {\n",
       "        text-align: right;\n",
       "    }\n",
       "</style>\n",
       "<table border=\"1\" class=\"dataframe\">\n",
       "  <thead>\n",
       "    <tr style=\"text-align: right;\">\n",
       "      <th></th>\n",
       "      <th>ccy</th>\n",
       "    </tr>\n",
       "    <tr>\n",
       "      <th>name</th>\n",
       "      <th></th>\n",
       "    </tr>\n",
       "  </thead>\n",
       "  <tbody>\n",
       "    <tr>\n",
       "      <th>aa</th>\n",
       "      <td>&amp;&amp;3220.00</td>\n",
       "    </tr>\n",
       "    <tr>\n",
       "      <th>cat</th>\n",
       "      <td>&amp;&amp;7961.00</td>\n",
       "    </tr>\n",
       "    <tr>\n",
       "      <th>ge</th>\n",
       "      <td>&amp;(6410.85)</td>\n",
       "    </tr>\n",
       "    <tr>\n",
       "      <th>ibm</th>\n",
       "      <td>&amp;&amp;1335.00</td>\n",
       "    </tr>\n",
       "    <tr>\n",
       "      <th>msft</th>\n",
       "      <td>&amp;(2270.00)</td>\n",
       "    </tr>\n",
       "  </tbody>\n",
       "</table>\n",
       "</div>"
      ],
      "text/plain": [
       "             ccy\n",
       "name            \n",
       "aa     &&3220.00\n",
       "cat    &&7961.00\n",
       "ge    &(6410.85)\n",
       "ibm    &&1335.00\n",
       "msft  &(2270.00)"
      ]
     },
     "execution_count": 183,
     "metadata": {},
     "output_type": "execute_result"
    }
   ],
   "source": [
    "\n",
    "# df2[['ccy']].replace(r'\\W+',value='')"
   ]
  },
  {
   "cell_type": "code",
   "execution_count": 190,
   "id": "2260310d-ed87-4529-bba5-a8bcbf7dc1df",
   "metadata": {},
   "outputs": [
    {
     "name": "stdout",
     "output_type": "stream",
     "text": [
      "('mean', name\n",
      "aa      3220.000\n",
      "cat     7961.000\n",
      "ge     -6410.850\n",
      "ibm     2562.000\n",
      "msft   -1425.075\n",
      "Name: mean, dtype: float64)\n",
      "('max', name\n",
      "aa      3220.00\n",
      "cat     7961.00\n",
      "ge     -6410.85\n",
      "ibm     3789.00\n",
      "msft    -580.15\n",
      "Name: max, dtype: float64)\n",
      "('min', name\n",
      "aa      3220.00\n",
      "cat     7961.00\n",
      "ge     -6410.85\n",
      "ibm     1335.00\n",
      "msft   -2270.00\n",
      "Name: min, dtype: float64)\n",
      "('ccy', name\n",
      "aa       &&3220.00\n",
      "cat      &&7961.00\n",
      "ge      &(6410.85)\n",
      "ibm      &&1335.00\n",
      "msft    &(2270.00)\n",
      "Name: ccy, dtype: object)\n"
     ]
    }
   ],
   "source": [
    "# for i in df2.items():\n",
    "#     print(i)\n",
    "\n",
    "    \n",
    "for i in df2.iteritems():\n",
    "    print(i)"
   ]
  },
  {
   "cell_type": "code",
   "execution_count": 194,
   "id": "9ed32791-93be-4aa9-8529-d7c40c24650b",
   "metadata": {},
   "outputs": [
    {
     "name": "stdout",
     "output_type": "stream",
     "text": [
      "112\n",
      "767\n"
     ]
    }
   ],
   "source": [
    "import sys\n",
    "val =df2.iteritems()\n",
    "\n",
    "print(sys.getsizeof(val))\n",
    "print(sys.getsizeof(df2))"
   ]
  },
  {
   "cell_type": "code",
   "execution_count": 198,
   "id": "2df96e4f-70c9-40e4-8c9b-c6c680492755",
   "metadata": {},
   "outputs": [
    {
     "name": "stdout",
     "output_type": "stream",
     "text": [
      "mean       3220.0\n",
      "max        3220.0\n",
      "min        3220.0\n",
      "ccy     &&3220.00\n",
      "Name: aa, dtype: object\n"
     ]
    }
   ],
   "source": [
    "for i in df2.iterrows():\n",
    "    print(i[1])\n",
    "    break"
   ]
  },
  {
   "cell_type": "code",
   "execution_count": 199,
   "id": "aa3f4aa0-c98d-49f1-a32f-ac6cb385e609",
   "metadata": {},
   "outputs": [
    {
     "data": {
      "text/html": [
       "<div>\n",
       "<style scoped>\n",
       "    .dataframe tbody tr th:only-of-type {\n",
       "        vertical-align: middle;\n",
       "    }\n",
       "\n",
       "    .dataframe tbody tr th {\n",
       "        vertical-align: top;\n",
       "    }\n",
       "\n",
       "    .dataframe thead th {\n",
       "        text-align: right;\n",
       "    }\n",
       "</style>\n",
       "<table border=\"1\" class=\"dataframe\">\n",
       "  <thead>\n",
       "    <tr style=\"text-align: right;\">\n",
       "      <th></th>\n",
       "      <th>mean</th>\n",
       "      <th>max</th>\n",
       "      <th>min</th>\n",
       "      <th>ccy</th>\n",
       "    </tr>\n",
       "    <tr>\n",
       "      <th>name</th>\n",
       "      <th></th>\n",
       "      <th></th>\n",
       "      <th></th>\n",
       "      <th></th>\n",
       "    </tr>\n",
       "  </thead>\n",
       "  <tbody>\n",
       "    <tr>\n",
       "      <th>aa</th>\n",
       "      <td>3220.000</td>\n",
       "      <td>3220.00</td>\n",
       "      <td>3220.00</td>\n",
       "      <td>&amp;&amp;3220.00</td>\n",
       "    </tr>\n",
       "    <tr>\n",
       "      <th>cat</th>\n",
       "      <td>7961.000</td>\n",
       "      <td>7961.00</td>\n",
       "      <td>7961.00</td>\n",
       "      <td>&amp;&amp;7961.00</td>\n",
       "    </tr>\n",
       "    <tr>\n",
       "      <th>ge</th>\n",
       "      <td>-6410.850</td>\n",
       "      <td>-6410.85</td>\n",
       "      <td>-6410.85</td>\n",
       "      <td>&amp;(6410.85)</td>\n",
       "    </tr>\n",
       "    <tr>\n",
       "      <th>ibm</th>\n",
       "      <td>2562.000</td>\n",
       "      <td>3789.00</td>\n",
       "      <td>1335.00</td>\n",
       "      <td>&amp;&amp;1335.00</td>\n",
       "    </tr>\n",
       "    <tr>\n",
       "      <th>msft</th>\n",
       "      <td>-1425.075</td>\n",
       "      <td>-580.15</td>\n",
       "      <td>-2270.00</td>\n",
       "      <td>&amp;(2270.00)</td>\n",
       "    </tr>\n",
       "  </tbody>\n",
       "</table>\n",
       "</div>"
      ],
      "text/plain": [
       "          mean      max      min         ccy\n",
       "name                                        \n",
       "aa    3220.000  3220.00  3220.00   &&3220.00\n",
       "cat   7961.000  7961.00  7961.00   &&7961.00\n",
       "ge   -6410.850 -6410.85 -6410.85  &(6410.85)\n",
       "ibm   2562.000  3789.00  1335.00   &&1335.00\n",
       "msft -1425.075  -580.15 -2270.00  &(2270.00)"
      ]
     },
     "execution_count": 199,
     "metadata": {},
     "output_type": "execute_result"
    }
   ],
   "source": [
    "df2"
   ]
  },
  {
   "cell_type": "code",
   "execution_count": 212,
   "id": "ad77d2bc-c003-46fe-baf6-f8328700c5d5",
   "metadata": {},
   "outputs": [
    {
     "data": {
      "text/html": [
       "<div>\n",
       "<style scoped>\n",
       "    .dataframe tbody tr th:only-of-type {\n",
       "        vertical-align: middle;\n",
       "    }\n",
       "\n",
       "    .dataframe tbody tr th {\n",
       "        vertical-align: top;\n",
       "    }\n",
       "\n",
       "    .dataframe thead th {\n",
       "        text-align: right;\n",
       "    }\n",
       "</style>\n",
       "<table border=\"1\" class=\"dataframe\">\n",
       "  <thead>\n",
       "    <tr style=\"text-align: right;\">\n",
       "      <th></th>\n",
       "      <th>ccy</th>\n",
       "      <th>max</th>\n",
       "      <th>mean</th>\n",
       "    </tr>\n",
       "    <tr>\n",
       "      <th>name</th>\n",
       "      <th></th>\n",
       "      <th></th>\n",
       "      <th></th>\n",
       "    </tr>\n",
       "  </thead>\n",
       "  <tbody>\n",
       "    <tr>\n",
       "      <th>aa</th>\n",
       "      <td>&amp;&amp;3220.00</td>\n",
       "      <td>3220.00</td>\n",
       "      <td>3220.000</td>\n",
       "    </tr>\n",
       "    <tr>\n",
       "      <th>ge</th>\n",
       "      <td>&amp;(6410.85)</td>\n",
       "      <td>-6410.85</td>\n",
       "      <td>-6410.850</td>\n",
       "    </tr>\n",
       "    <tr>\n",
       "      <th>msft</th>\n",
       "      <td>&amp;(2270.00)</td>\n",
       "      <td>-580.15</td>\n",
       "      <td>-1425.075</td>\n",
       "    </tr>\n",
       "  </tbody>\n",
       "</table>\n",
       "</div>"
      ],
      "text/plain": [
       "             ccy      max      mean\n",
       "name                               \n",
       "aa     &&3220.00  3220.00  3220.000\n",
       "ge    &(6410.85) -6410.85 -6410.850\n",
       "msft  &(2270.00)  -580.15 -1425.075"
      ]
     },
     "execution_count": 212,
     "metadata": {},
     "output_type": "execute_result"
    }
   ],
   "source": [
    "df2.loc[['aa','ge','msft'],['ccy','max','mean']] #row and the column the names\n",
    "# df.iloc"
   ]
  },
  {
   "cell_type": "code",
   "execution_count": 225,
   "id": "542077a2-d8d0-45da-93ce-6ed78591336f",
   "metadata": {},
   "outputs": [
    {
     "data": {
      "text/html": [
       "<div>\n",
       "<style scoped>\n",
       "    .dataframe tbody tr th:only-of-type {\n",
       "        vertical-align: middle;\n",
       "    }\n",
       "\n",
       "    .dataframe tbody tr th {\n",
       "        vertical-align: top;\n",
       "    }\n",
       "\n",
       "    .dataframe thead th {\n",
       "        text-align: right;\n",
       "    }\n",
       "</style>\n",
       "<table border=\"1\" class=\"dataframe\">\n",
       "  <thead>\n",
       "    <tr style=\"text-align: right;\">\n",
       "      <th></th>\n",
       "      <th>index</th>\n",
       "      <th>max</th>\n",
       "      <th>mean</th>\n",
       "    </tr>\n",
       "  </thead>\n",
       "  <tbody>\n",
       "    <tr>\n",
       "      <th>2</th>\n",
       "      <td>2</td>\n",
       "      <td>-6410.85</td>\n",
       "      <td>-6410.850</td>\n",
       "    </tr>\n",
       "    <tr>\n",
       "      <th>3</th>\n",
       "      <td>3</td>\n",
       "      <td>3789.00</td>\n",
       "      <td>2562.000</td>\n",
       "    </tr>\n",
       "    <tr>\n",
       "      <th>4</th>\n",
       "      <td>4</td>\n",
       "      <td>-580.15</td>\n",
       "      <td>-1425.075</td>\n",
       "    </tr>\n",
       "  </tbody>\n",
       "</table>\n",
       "</div>"
      ],
      "text/plain": [
       "   index      max      mean\n",
       "2      2 -6410.85 -6410.850\n",
       "3      3  3789.00  2562.000\n",
       "4      4  -580.15 -1425.075"
      ]
     },
     "execution_count": 225,
     "metadata": {},
     "output_type": "execute_result"
    }
   ],
   "source": [
    "df2= df2.loc[:,'max':]\n",
    "df2.reset_index(inplace=True)\n",
    "\n",
    "df2.loc[2:,:]\n",
    "df2.loc[2:]\n",
    "\n"
   ]
  },
  {
   "cell_type": "code",
   "execution_count": 218,
   "id": "a4d09253-e1bd-459b-984b-20842825769a",
   "metadata": {},
   "outputs": [
    {
     "data": {
      "text/html": [
       "<div>\n",
       "<style scoped>\n",
       "    .dataframe tbody tr th:only-of-type {\n",
       "        vertical-align: middle;\n",
       "    }\n",
       "\n",
       "    .dataframe tbody tr th {\n",
       "        vertical-align: top;\n",
       "    }\n",
       "\n",
       "    .dataframe thead th {\n",
       "        text-align: right;\n",
       "    }\n",
       "</style>\n",
       "<table border=\"1\" class=\"dataframe\">\n",
       "  <thead>\n",
       "    <tr style=\"text-align: right;\">\n",
       "      <th></th>\n",
       "      <th>max</th>\n",
       "      <th>mean</th>\n",
       "    </tr>\n",
       "    <tr>\n",
       "      <th>name</th>\n",
       "      <th></th>\n",
       "      <th></th>\n",
       "    </tr>\n",
       "  </thead>\n",
       "  <tbody>\n",
       "    <tr>\n",
       "      <th>aa</th>\n",
       "      <td>3220.0</td>\n",
       "      <td>3220.0</td>\n",
       "    </tr>\n",
       "    <tr>\n",
       "      <th>cat</th>\n",
       "      <td>7961.0</td>\n",
       "      <td>7961.0</td>\n",
       "    </tr>\n",
       "  </tbody>\n",
       "</table>\n",
       "</div>"
      ],
      "text/plain": [
       "         max    mean\n",
       "name                \n",
       "aa    3220.0  3220.0\n",
       "cat   7961.0  7961.0"
      ]
     },
     "execution_count": 218,
     "metadata": {},
     "output_type": "execute_result"
    }
   ],
   "source": [
    "df2.iloc[0:2,1:]"
   ]
  },
  {
   "cell_type": "code",
   "execution_count": null,
   "id": "e33147ce-d602-4f62-bcc8-7d93cf714eeb",
   "metadata": {},
   "outputs": [],
   "source": [
    "<tag attributes> content </tag>\n",
    "\n",
    "<div> </div>\n",
    "<span>\n",
    "<a>\n",
    "<h1-6>\n",
    "<input>\n",
    "<img>\n",
    "<video>\n",
    "<form>\n",
    "\n",
    "class\n",
    "id\n",
    "href== url links are stored\n"
   ]
  },
  {
   "cell_type": "code",
   "execution_count": null,
   "id": "8d7eba70-c340-415c-9ebd-28ae11da4cc4",
   "metadata": {},
   "outputs": [],
   "source": [
    "<div class='something' id='two'>\n",
    " description\n",
    "</div>\n",
    "<div class='something' id= 'one'>\n",
    "price amount\n",
    "</div>\n",
    "<div class='something'>\n",
    "picture\n",
    "</div>\n",
    "<div class='something'>\n",
    "...\n",
    "</div>\n",
    "\n",
    "\n",
    "\n",
    "\n",
    "\n",
    "<style>\n",
    ".something{\n",
    "    color: red\n",
    "}\n",
    "\n",
    "'#' one{\n",
    "    color: blue\n",
    "}\n",
    "\n",
    "\n",
    "</style>\n"
   ]
  },
  {
   "cell_type": "code",
   "execution_count": 232,
   "id": "7ab69759-f5b8-47f9-8648-f636157cdca2",
   "metadata": {},
   "outputs": [
    {
     "ename": "ValueError",
     "evalue": "operands could not be broadcast together with shape (4,) (2,)",
     "output_type": "error",
     "traceback": [
      "\u001b[0;31m---------------------------------------------------------------------------\u001b[0m",
      "\u001b[0;31mValueError\u001b[0m                                Traceback (most recent call last)",
      "\u001b[0;32m<ipython-input-232-ce8566979694>\u001b[0m in \u001b[0;36m<module>\u001b[0;34m\u001b[0m\n\u001b[1;32m      1\u001b[0m \u001b[0marr\u001b[0m \u001b[0;34m=\u001b[0m\u001b[0mnp\u001b[0m\u001b[0;34m.\u001b[0m\u001b[0marray\u001b[0m\u001b[0;34m(\u001b[0m\u001b[0;34m[\u001b[0m\u001b[0;36m1\u001b[0m\u001b[0;34m,\u001b[0m\u001b[0;36m2\u001b[0m\u001b[0;34m,\u001b[0m\u001b[0;36m3\u001b[0m\u001b[0;34m,\u001b[0m\u001b[0;36m4\u001b[0m\u001b[0;34m]\u001b[0m\u001b[0;34m)\u001b[0m\u001b[0;34m\u001b[0m\u001b[0;34m\u001b[0m\u001b[0m\n\u001b[0;32m----> 2\u001b[0;31m \u001b[0mnp\u001b[0m\u001b[0;34m.\u001b[0m\u001b[0mrepeat\u001b[0m\u001b[0;34m(\u001b[0m\u001b[0marr\u001b[0m\u001b[0;34m,\u001b[0m\u001b[0;34m[\u001b[0m\u001b[0;36m1\u001b[0m\u001b[0;34m,\u001b[0m\u001b[0;36m0\u001b[0m\u001b[0;34m]\u001b[0m\u001b[0;34m)\u001b[0m\u001b[0;34m\u001b[0m\u001b[0;34m\u001b[0m\u001b[0m\n\u001b[0m",
      "\u001b[0;32m<__array_function__ internals>\u001b[0m in \u001b[0;36mrepeat\u001b[0;34m(*args, **kwargs)\u001b[0m\n",
      "\u001b[0;32m~/opt/anaconda3/lib/python3.8/site-packages/numpy/core/fromnumeric.py\u001b[0m in \u001b[0;36mrepeat\u001b[0;34m(a, repeats, axis)\u001b[0m\n\u001b[1;32m    478\u001b[0m \u001b[0;34m\u001b[0m\u001b[0m\n\u001b[1;32m    479\u001b[0m     \"\"\"\n\u001b[0;32m--> 480\u001b[0;31m     \u001b[0;32mreturn\u001b[0m \u001b[0m_wrapfunc\u001b[0m\u001b[0;34m(\u001b[0m\u001b[0ma\u001b[0m\u001b[0;34m,\u001b[0m \u001b[0;34m'repeat'\u001b[0m\u001b[0;34m,\u001b[0m \u001b[0mrepeats\u001b[0m\u001b[0;34m,\u001b[0m \u001b[0maxis\u001b[0m\u001b[0;34m=\u001b[0m\u001b[0maxis\u001b[0m\u001b[0;34m)\u001b[0m\u001b[0;34m\u001b[0m\u001b[0;34m\u001b[0m\u001b[0m\n\u001b[0m\u001b[1;32m    481\u001b[0m \u001b[0;34m\u001b[0m\u001b[0m\n\u001b[1;32m    482\u001b[0m \u001b[0;34m\u001b[0m\u001b[0m\n",
      "\u001b[0;32m~/opt/anaconda3/lib/python3.8/site-packages/numpy/core/fromnumeric.py\u001b[0m in \u001b[0;36m_wrapfunc\u001b[0;34m(obj, method, *args, **kwds)\u001b[0m\n\u001b[1;32m     56\u001b[0m \u001b[0;34m\u001b[0m\u001b[0m\n\u001b[1;32m     57\u001b[0m     \u001b[0;32mtry\u001b[0m\u001b[0;34m:\u001b[0m\u001b[0;34m\u001b[0m\u001b[0;34m\u001b[0m\u001b[0m\n\u001b[0;32m---> 58\u001b[0;31m         \u001b[0;32mreturn\u001b[0m \u001b[0mbound\u001b[0m\u001b[0;34m(\u001b[0m\u001b[0;34m*\u001b[0m\u001b[0margs\u001b[0m\u001b[0;34m,\u001b[0m \u001b[0;34m**\u001b[0m\u001b[0mkwds\u001b[0m\u001b[0;34m)\u001b[0m\u001b[0;34m\u001b[0m\u001b[0;34m\u001b[0m\u001b[0m\n\u001b[0m\u001b[1;32m     59\u001b[0m     \u001b[0;32mexcept\u001b[0m \u001b[0mTypeError\u001b[0m\u001b[0;34m:\u001b[0m\u001b[0;34m\u001b[0m\u001b[0;34m\u001b[0m\u001b[0m\n\u001b[1;32m     60\u001b[0m         \u001b[0;31m# A TypeError occurs if the object does have such a method in its\u001b[0m\u001b[0;34m\u001b[0m\u001b[0;34m\u001b[0m\u001b[0;34m\u001b[0m\u001b[0m\n",
      "\u001b[0;31mValueError\u001b[0m: operands could not be broadcast together with shape (4,) (2,)"
     ]
    }
   ],
   "source": [
    "arr =np.array([1,2,3,4])\n",
    "np.repeat(arr,[1,0])"
   ]
  },
  {
   "cell_type": "code",
   "execution_count": null,
   "id": "ef69aa44-4757-4dbc-a389-0db2d0b6141b",
   "metadata": {},
   "outputs": [],
   "source": []
  }
 ],
 "metadata": {
  "kernelspec": {
   "display_name": "Python 3",
   "language": "python",
   "name": "python3"
  },
  "language_info": {
   "codemirror_mode": {
    "name": "ipython",
    "version": 3
   },
   "file_extension": ".py",
   "mimetype": "text/x-python",
   "name": "python",
   "nbconvert_exporter": "python",
   "pygments_lexer": "ipython3",
   "version": "3.8.10"
  }
 },
 "nbformat": 4,
 "nbformat_minor": 5
}
